{
 "cells": [
  {
   "cell_type": "markdown",
   "id": "0161426b-24e5-48ad-b67a-cda34422eeed",
   "metadata": {},
   "source": [
    "Figure 2."
   ]
  },
  {
   "cell_type": "markdown",
   "id": "512e6ac0-8e00-4f91-adcc-a0e98a7a18ef",
   "metadata": {},
   "source": [
    "## Import"
   ]
  },
  {
   "cell_type": "code",
   "execution_count": 17,
   "id": "53815b85-4e77-40ea-9df8-1d7a02250c5d",
   "metadata": {},
   "outputs": [
    {
     "name": "stdout",
     "output_type": "stream",
     "text": [
      "The autoreload extension is already loaded. To reload it, use:\n",
      "  %reload_ext autoreload\n"
     ]
    },
    {
     "data": {
      "text/plain": [
       "<Figure size 640x480 with 0 Axes>"
      ]
     },
     "metadata": {},
     "output_type": "display_data"
    }
   ],
   "source": [
    "%load_ext autoreload\n",
    "%autoreload 2\n",
    "%run nnn/ipynb_init.py\n",
    "%matplotlib inline\n",
    "\n",
    "from nnn.uv import *\n",
    "import re"
   ]
  },
  {
   "cell_type": "markdown",
   "id": "de914708-3130-4e1e-81c1-56ddb9b0a74d",
   "metadata": {
    "tags": []
   },
   "source": [
    "## Prepare UV melting data\n",
    "\n",
    "Aggregate to SEQID level and salt adjust to array salt level\n",
    "\n",
    "`uv_df` - aggregated to cuvette level\n"
   ]
  },
  {
   "cell_type": "code",
   "execution_count": 48,
   "id": "08e64c08-f494-4a3c-848b-625a8d575433",
   "metadata": {},
   "outputs": [],
   "source": [
    "# copy pasted from command center for convenience\n",
    "# only one peak found by AnalyzePeaks\n",
    "hplc_clean_seqid = [\"WC68_stem_3p\", \"WC68_stem_5p\", \"WC1025_split_5p\", \\\n",
    "\"WC1025_split_3p\", \"WC1375_stem_5p\", \"WC1375_stem_3p\", \"DMM004_5p\", \\\n",
    "\"DMM004_3p\", \"DMM005_5p\", \"DMM005_3p\", \"DMM006_5p\", \"DMM007_5p\", \\\n",
    "\"DMM007_3p\", \"BC0\", \"BC1\", \"BC6\", \"BC7\", \"BC8\", \"BC9\", \"BC10\", \\\n",
    "\"BC11\", \"MMCNNN2328\", \"MMCNNN2331\", \"MMCNNN2334\", \"MMCNNN2335\", \\\n",
    "\"MMCNNN2336\", \"MMCNNN2337\", \"MMTM1325\", \"MMTM176\", \"MMTM178\", \\\n",
    "\"MMTM179\", \"MMTM181\", \"MMTM185\", \"MMTM189\", \"MMTM1917\", \"MMTM29\", \\\n",
    "\"MMTM397\", \"MMTM509\", \"MMTM877\", \"DMM003_3p_rc\", \"DMM004_3p_rc\", \\\n",
    "\"DMM005_3p_rc\", \"DMM006_3p_rc\", \"DMM007_3p_rc\", \"TETNN1003\", \\\n",
    "\"TETNN999\", \"TETNN963\", \"TETNN979\", \"TETNNN1696\", \"TETNNN2082\", \\\n",
    "\"TETNNN1570\", \"HP002\", \"HP003\", \"HP004\", \"HP005\", \"HP007\", \"HP008\", \\\n",
    "\"HP010\", \"HP011\", \"HP012\", \"HP014\", \"HP015\", \"HP016\", \"HP017\", \\\n",
    "\"HP018\", \"HP019\", \"HP021\", \"HP022\", \"HP023\", \"HP024\"]\n",
    "\n",
    "arr = pd.read_csv('./data/models/raw/arr_v1_n=27732.csv', index_col=0)\n",
    "uv_oligos = pd.read_csv('./data/uv_melt/ECLTables/ECLOligos230502.csv').set_index('OligoID')\n",
    "\n",
    "agg_result_file='./data/uv_melt/uvmelt_agg_230502.csv'\n",
    "uv_df = pd.read_csv(agg_result_file, index_col=0)\n",
    "uv_df = uv_df[uv_df.SEQID.isin(hplc_clean_seqid)]\n",
    "uv_df = uv_df.query('is_hairpin').sort_values(by=['conc_uM', 'n_curve', 'curve_date'])\n",
    "\n",
    "pname_uv = ['dG_37_uv', 'dH_uv', 'Tm_uv']\n",
    "agg_list = [uv_df.groupby(['SEQID', 'Na_mM'])[p].apply(np.nanmedian) for p in pname_uv]\n",
    "agg_df = pd.DataFrame(agg_list[0]).reset_index()\n",
    "\n",
    "for i,p in enumerate(pname_uv):\n",
    "    agg_df[p] = agg_list[i].values\n",
    "\n",
    "agg_df = agg_df.set_index('SEQID').join(arr).join(uv_oligos['sequence'])\n",
    "\n",
    "def adjust_uv_param(i, agg_df):    \n",
    "    row = agg_df.iloc[i,:]\n",
    "    if row.Na_mM > 25:\n",
    "        adjusted_dict = util.get_Na_adjusted_param(\n",
    "            Na=0.083, from_Na=(row.Na_mM + 50)/1000,\n",
    "            dH=row.dH_uv, Tm=row.Tm_uv, seq=row.RefSeq)\n",
    "        for p in ['dG_37', 'dH', 'Tm']:\n",
    "            row[p+'_uv'] = adjusted_dict[p]\n",
    "    return row\n",
    "        \n",
    "for i in range(len(agg_df)):\n",
    "    agg_df.iloc[i,:] = adjust_uv_param(i, agg_df)\n",
    "\n",
    "agg_df.drop(columns=['Na_mM'], inplace=True)\n",
    "# agg_df.rename(columns=dict(sequence='RefSeq'), inplace=True)"
   ]
  },
  {
   "cell_type": "code",
   "execution_count": 3,
   "id": "67c81344-143a-425a-9365-ac6c1215dc10",
   "metadata": {},
   "outputs": [],
   "source": [
    "agg_df.to_csv('./data/models/processed/uv_hairpin_arr_salt_hplc_filtered.csv')"
   ]
  },
  {
   "cell_type": "code",
   "execution_count": 4,
   "id": "f1102132-eaf4-467b-9bd2-8b9060233ebe",
   "metadata": {},
   "outputs": [],
   "source": [
    "agg_result_file='./data/uv_melt/uvmelt_agg_230502.csv'\n",
    "uv_df = pd.read_csv(agg_result_file, index_col=0)\n",
    "\n",
    "pname_uv = ['dG_37_uv', 'dH_uv', 'Tm_uv']\n",
    "agg_list = [uv_df.groupby(['SEQID', 'Na_mM', 'is_hairpin'])[p].apply(np.nanmedian) for p in pname_uv]\n",
    "agg_df = pd.DataFrame(agg_list[0]).reset_index()\n",
    "\n",
    "for i,p in enumerate(pname_uv):\n",
    "    agg_df[p] = agg_list[i].values\n",
    "\n",
    "agg_df = agg_df.set_index('SEQID').join(arr)\n",
    "        \n",
    "for i in range(len(agg_df)):\n",
    "    agg_df.iloc[i,:] = adjust_uv_param(i, agg_df)\n",
    "\n",
    "agg_df.drop(columns=['Na_mM'], inplace=True)\n",
    "\n",
    "agg_df.to_csv('./data/models/processed/uv_arr_salt_not_hplc_filtered.csv')"
   ]
  },
  {
   "cell_type": "markdown",
   "id": "6e608e4f-163c-4595-9651-c7548f3e724e",
   "metadata": {},
   "source": [
    "### Data accounting"
   ]
  },
  {
   "cell_type": "code",
   "execution_count": 19,
   "id": "6bb624c6-b9a2-4d5a-988f-836928442746",
   "metadata": {},
   "outputs": [],
   "source": [
    "def get_char(mystr):\n",
    "    return ''.join(re.split(\"[^a-zA-Z]*\", mystr))"
   ]
  },
  {
   "cell_type": "code",
   "execution_count": 10,
   "id": "a6347243-22f7-4fef-b7d2-adc5df177c99",
   "metadata": {},
   "outputs": [],
   "source": [
    "uv_df = pd.read_csv(agg_result_file, index_col=0)\n",
    "\n",
    "# uv_df = uv_df.query('is_hairpin').sort_values(by=['conc_uM', 'n_curve', 'curve_date'])"
   ]
  },
  {
   "cell_type": "code",
   "execution_count": 43,
   "id": "54928b6d-f373-4cc1-96d0-9723acd91d1e",
   "metadata": {},
   "outputs": [
    {
     "name": "stdout",
     "output_type": "stream",
     "text": [
      "70 sequences measured, of which:\n",
      "\t12 new hairpins, 58 in Array Melt dataset\n"
     ]
    },
    {
     "data": {
      "text/html": [
       "<div>\n",
       "<style scoped>\n",
       "    .dataframe tbody tr th:only-of-type {\n",
       "        vertical-align: middle;\n",
       "    }\n",
       "\n",
       "    .dataframe tbody tr th {\n",
       "        vertical-align: top;\n",
       "    }\n",
       "\n",
       "    .dataframe thead th {\n",
       "        text-align: right;\n",
       "    }\n",
       "</style>\n",
       "<table border=\"1\" class=\"dataframe\">\n",
       "  <thead>\n",
       "    <tr style=\"text-align: right;\">\n",
       "      <th></th>\n",
       "      <th>1</th>\n",
       "    </tr>\n",
       "    <tr>\n",
       "      <th>0</th>\n",
       "      <th></th>\n",
       "    </tr>\n",
       "  </thead>\n",
       "  <tbody>\n",
       "    <tr>\n",
       "      <th>BC</th>\n",
       "      <td>1</td>\n",
       "    </tr>\n",
       "    <tr>\n",
       "      <th>BNNN</th>\n",
       "      <td>3</td>\n",
       "    </tr>\n",
       "    <tr>\n",
       "      <th>HP</th>\n",
       "      <td>12</td>\n",
       "    </tr>\n",
       "    <tr>\n",
       "      <th>MMCNN</th>\n",
       "      <td>10</td>\n",
       "    </tr>\n",
       "    <tr>\n",
       "      <th>MMCNNN</th>\n",
       "      <td>2</td>\n",
       "    </tr>\n",
       "    <tr>\n",
       "      <th>MMTM</th>\n",
       "      <td>2</td>\n",
       "    </tr>\n",
       "    <tr>\n",
       "      <th>TETNN</th>\n",
       "      <td>2</td>\n",
       "    </tr>\n",
       "    <tr>\n",
       "      <th>TETNNN</th>\n",
       "      <td>16</td>\n",
       "    </tr>\n",
       "    <tr>\n",
       "      <th>TRINNN</th>\n",
       "      <td>8</td>\n",
       "    </tr>\n",
       "    <tr>\n",
       "      <th>WC</th>\n",
       "      <td>42</td>\n",
       "    </tr>\n",
       "  </tbody>\n",
       "</table>\n",
       "</div>"
      ],
      "text/plain": [
       "         1\n",
       "0         \n",
       "BC       1\n",
       "BNNN     3\n",
       "HP      12\n",
       "MMCNN   10\n",
       "MMCNNN   2\n",
       "MMTM     2\n",
       "TETNN    2\n",
       "TETNNN  16\n",
       "TRINNN   8\n",
       "WC      42"
      ]
     },
     "execution_count": 43,
     "metadata": {},
     "output_type": "execute_result"
    }
   ],
   "source": [
    "n_measured_seq = len(np.unique(uv_df.SEQID))\n",
    "print('%d sequences measured, of which:'%n_measured_seq)\n",
    "\n",
    "# Count sequences in each category\n",
    "cat_count_df = pd.DataFrame(np.unique(uv_df.SEQID.apply(get_char), return_counts=True)).T.set_index(0)\n",
    "n_hp = cat_count_df.loc['HP', 1]\n",
    "print(f'\\t{n_hp} new hairpins, {n_measured_seq - n_hp} in Array Melt dataset')\n",
    "cat_count_df"
   ]
  },
  {
   "cell_type": "code",
   "execution_count": 46,
   "id": "cc442d50-7ea0-495f-ae0b-1aa49571da0c",
   "metadata": {},
   "outputs": [
    {
     "name": "stdout",
     "output_type": "stream",
     "text": [
      "14 sequences measured, of which:\n",
      "\t8 new hairpins, 6 in Array Melt dataset\n"
     ]
    },
    {
     "data": {
      "text/html": [
       "<div>\n",
       "<style scoped>\n",
       "    .dataframe tbody tr th:only-of-type {\n",
       "        vertical-align: middle;\n",
       "    }\n",
       "\n",
       "    .dataframe tbody tr th {\n",
       "        vertical-align: top;\n",
       "    }\n",
       "\n",
       "    .dataframe thead th {\n",
       "        text-align: right;\n",
       "    }\n",
       "</style>\n",
       "<table border=\"1\" class=\"dataframe\">\n",
       "  <thead>\n",
       "    <tr style=\"text-align: right;\">\n",
       "      <th></th>\n",
       "      <th>1</th>\n",
       "    </tr>\n",
       "    <tr>\n",
       "      <th>0</th>\n",
       "      <th></th>\n",
       "    </tr>\n",
       "  </thead>\n",
       "  <tbody>\n",
       "    <tr>\n",
       "      <th>BC</th>\n",
       "      <td>1</td>\n",
       "    </tr>\n",
       "    <tr>\n",
       "      <th>HP</th>\n",
       "      <td>8</td>\n",
       "    </tr>\n",
       "    <tr>\n",
       "      <th>MMCNNN</th>\n",
       "      <td>2</td>\n",
       "    </tr>\n",
       "    <tr>\n",
       "      <th>MMTM</th>\n",
       "      <td>1</td>\n",
       "    </tr>\n",
       "    <tr>\n",
       "      <th>TETNNN</th>\n",
       "      <td>2</td>\n",
       "    </tr>\n",
       "  </tbody>\n",
       "</table>\n",
       "</div>"
      ],
      "text/plain": [
       "        1\n",
       "0        \n",
       "BC      1\n",
       "HP      8\n",
       "MMCNNN  2\n",
       "MMTM    1\n",
       "TETNNN  2"
      ]
     },
     "execution_count": 46,
     "metadata": {},
     "output_type": "execute_result"
    }
   ],
   "source": [
    "uv_df = uv_df[uv_df.SEQID.isin(hplc_clean_seqid)]\n",
    "\n",
    "n_measured_seq = len(np.unique(uv_df.SEQID))\n",
    "print('%d sequences measured, of which:'%n_measured_seq)\n",
    "\n",
    "# Count sequences in each category\n",
    "cat_count_df = pd.DataFrame(np.unique(uv_df.SEQID.apply(get_char), return_counts=True)).T.set_index(0)\n",
    "n_hp = cat_count_df.loc['HP', 1]\n",
    "print(f'\\t{n_hp} new hairpins, {n_measured_seq - n_hp} in Array Melt dataset')\n",
    "cat_count_df"
   ]
  },
  {
   "cell_type": "markdown",
   "id": "c8d657f1-a0ef-4b57-983d-4dd1aee0e6c1",
   "metadata": {},
   "source": [
    "## Plot direct comparison"
   ]
  },
  {
   "cell_type": "code",
   "execution_count": 49,
   "id": "93f09007-4920-4472-b123-9d199e5b17ac",
   "metadata": {},
   "outputs": [
    {
     "data": {
      "image/png": "[encoded data removed]",
      "text/plain": [
       "<Figure size 501.969x137.795 with 3 Axes>"
      ]
     },
     "metadata": {},
     "output_type": "display_data"
    },
    {
     "data": {
      "image/png": "[encoded data removed]",
      "text/plain": [
       "<Figure size 501.969x137.795 with 3 Axes>"
      ]
     },
     "metadata": {},
     "output_type": "display_data"
    },
    {
     "data": {
      "image/png": "[encoded data removed]",
      "text/plain": [
       "<Figure size 501.969x137.795 with 3 Axes>"
      ]
     },
     "metadata": {},
     "output_type": "display_data"
    }
   ],
   "source": [
    "# for export\n",
    "series = 'All'\n",
    "plot_query = 'n_curve > 0'\n",
    "df_q = agg_df.dropna(subset=['Tm', 'dG_37'])#.query(plot_query)\n",
    "df_q[['dG_37_uv_std', 'Tm_uv_std', 'dH_uv_std']] = 0\n",
    "\n",
    "def mae_norm(x, xerr, y):\n",
    "    epsilon = 1e-2\n",
    "    aerr = np.abs(x - y)\n",
    "    return np.mean(aerr / (xerr + epsilon))\n",
    "\n",
    "def plot_uv_comparison(df_q, param, lim, array_suffix=''):\n",
    "    unit_dict = dict(dH='kcal/mol', dS='kcal/mol', dG_37='kcal/mol', Tm='°C')\n",
    "    color_dict = dict(dH='c', Tm='cornflowerblue', dG_37='teal', dS='steelblue')\n",
    "    param_name_dict = dict(dH=r'$dH°$', dS=r'$dS°$', dG_37=r'$dG°_{37}$', Tm=r'$T_m$')\n",
    "    unit = unit_dict[param]\n",
    "    param_name = param_name_dict[param]\n",
    "    \n",
    "    kwargs = dict(fmt = '.', alpha=1, marker='o', markersize=3, capsize=2)\n",
    "    \n",
    "    fig, ax = plt.subplots(1, 3, figsize=(3*4.25*cm, 3.5*cm))\n",
    "    x = df_q[param + '_uv']\n",
    "    y = df_q[param+array_suffix]\n",
    "    xerr = df_q[param+'_uv_std'].values\n",
    "    ax[0].plot(lim, lim, '--', c='gray')\n",
    "    ax[0].errorbar(x, y,\n",
    "                   xerr=xerr, yerr=df_q[param+'_se'],\n",
    "                   color=color_dict[param], **kwargs)\n",
    "    ax[0].set_xlim(lim)\n",
    "    ax[0].set_ylim(lim)\n",
    "    ax[0].set_xlabel(f'UV melting {param} ({unit})', fontsize=tick_font_size)\n",
    "    ax[0].set_ylabel(f'array measurement {param} ({unit})', fontsize=tick_font_size)\n",
    "    # ax[0].set_title('Array Melt Measurement\\ncorr = %.4f, MAE = %.4f' %\n",
    "    #                 (pearsonr(x, y)[0], mae_norm(x, xerr, y)))\n",
    "    \n",
    "    x = df_q[param+'_uv'].values\n",
    "    y = df_q[param+'_NUPACK_salt_corrected'].values\n",
    "    ax[1].errorbar(x, y,\n",
    "                   xerr=df_q[param+'_uv_std'],\n",
    "                   color='k', **kwargs)\n",
    "    ax[1].plot(lim, lim, '--', c='gray')\n",
    "    ax[1].set_xlim(lim)\n",
    "    ax[1].set_ylim(lim)\n",
    "    ax[1].set_xlabel(f'UV melting {param} ({unit})', fontsize=tick_font_size)\n",
    "    ax[1].set_ylabel(f'NUPACK prediction {param} ({unit})', fontsize=tick_font_size)\n",
    "    # ax[1].set_title('NUPACK prediction\\ncorr = %.4f, MAE = %4f' %\n",
    "    #                 (pearsonr(x, y)[0], mae_norm(x, xerr, y)))\n",
    "\n",
    "    x = df_q[param+array_suffix].values\n",
    "    y = df_q[param+'_NUPACK_salt_corrected'].values\n",
    "    kwargs['marker'] = 's'\n",
    "    kwargs['markersize'] = 5\n",
    "    kwargs['alpha'] = 0.8\n",
    "    ax[2].errorbar(x, y,\n",
    "               xerr=df_q[param+'_uv_std'],\n",
    "               color=color_dict[param], **kwargs)\n",
    "    ax[2].plot(lim, lim, '--', c='gray')\n",
    "    ax[2].set_xlim(lim)\n",
    "    ax[2].set_ylim(lim)\n",
    "    ax[2].set_xlabel(f'UV melting {param} ({unit})', fontsize=tick_font_size)\n",
    "    ax[2].set_ylabel(f'NUPACK prediction {param} ({unit})', fontsize=tick_font_size)\n",
    "    # ax[2].set_title('Array Melt vs NUPACK prediction\\ncorr = %.4f, MAE = %.4f' %\n",
    "    #                 (pearsonr(x, y)[0], mae(x, y)))\n",
    "    for i in range(3):\n",
    "        ax[i].set_yticklabels(ax[i].get_yticklabels(), fontsize=tick_font_size)\n",
    "        ax[i].set_xticklabels(ax[i].get_xticklabels(), fontsize=tick_font_size)\n",
    "\n",
    "    plt.suptitle(param)\n",
    "    sns.despine()\n",
    "    # plt.show()\n",
    "    \n",
    "plot_uv_comparison(df_q, 'dG_37', lim = (-5.5, 1))\n",
    "# util.save_fig(f'./fig/Fig2/Fig2b/{series}_dG_37.pdf')\n",
    "plot_uv_comparison(df_q, 'dH', lim = (-60, -10))\n",
    "# util.save_fig(f'./fig/Fig2/Fig2b/{series}_dH.pdf')\n",
    "plot_uv_comparison(df_q, 'Tm', lim = (30, 90))\n",
    "# util.save_fig(f'./fig/Fig2/Fig2b/{series}_Tm.pdf')\n",
    "# plot_uv_comparison(df_q, 'dS', lim = (-.18, -.01))\n",
    "# util.save_fig(f'./fig/Fig2/Fig2b/{series}_dS.pdf')"
   ]
  },
  {
   "cell_type": "markdown",
   "id": "7a62de96-65b8-47fa-b0a9-cad5efcca476",
   "metadata": {},
   "source": [
    "## Fig. S2b: WC68 over concentration range"
   ]
  },
  {
   "cell_type": "code",
   "execution_count": 7,
   "id": "368e8aba-64a5-4c16-860d-30980c8b5af1",
   "metadata": {},
   "outputs": [
    {
     "data": {
      "image/png": "[encoded data removed]",
      "text/plain": [
       "<Figure size 167.323x137.795 with 1 Axes>"
      ]
     },
     "metadata": {},
     "output_type": "display_data"
    }
   ],
   "source": [
    "result_df = pd.read_csv('./data/uv_melt/uvmelt_230502_2.csv', index_col=0).query('pass_qc')\n",
    "\n",
    "fig, ax = plt.subplots(figsize=(4.25*cm, 3.5*cm))\n",
    "df = result_df.query('SEQID == \"WC68\" & (curve_name == \"CoolingCurve\" | curve_name == \"SecondaryCoolingCurve\")')\n",
    "sns.swarmplot(data=df, y='Tm', x='conc_uM', #hue='curve_name', \n",
    "              color='cornflowerblue', alpha=.7, marker='D', size=4, ax=ax)\n",
    "# ax.get_legend().remove()\n",
    "sns.boxplot(data=df, y='Tm', x='conc_uM', color='white', linewidth=.5, ax=ax)\n",
    "\n",
    "ax.set_xlabel('DNA concentration ($\\mu M$)', fontsize=label_font_size)\n",
    "ax.set_ylabel('UV melting $Tm$ (°C)', fontsize=label_font_size)\n",
    "plt.ylim([50,90])\n",
    "# ax.set_xticklabels(ax.get_xticklabels(), fontsize=tick_font_size)\n",
    "ax.yaxis.set_major_locator(MultipleLocator(10))\n",
    "ax.yaxis.set_minor_locator(MultipleLocator(2.5))\n",
    "ax.tick_params(axis='both', which='major', labelsize=tick_font_size)\n",
    "\n",
    "sns.despine()\n",
    "util.save_fig('./fig/Fig2/FigS2b_WC68_conc.pdf')"
   ]
  },
  {
   "cell_type": "code",
   "execution_count": null,
   "id": "9ef1aa48-a856-4e0e-9200-57a3d0601525",
   "metadata": {},
   "outputs": [],
   "source": []
  }
 ],
 "metadata": {
  "kernelspec": {
   "display_name": "Python 3 (ipykernel)",
   "language": "python",
   "name": "python3"
  },
  "language_info": {
   "codemirror_mode": {
    "name": "ipython",
    "version": 3
   },
   "file_extension": ".py",
   "mimetype": "text/x-python",
   "name": "python",
   "nbconvert_exporter": "python",
   "pygments_lexer": "ipython3",
   "version": "3.8.16"
  }
 },
 "nbformat": 4,
 "nbformat_minor": 5
}
