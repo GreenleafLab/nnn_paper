{
 "cells": [
  {
   "cell_type": "markdown",
   "id": "99bfd0a5-d7b3-4223-b617-4fb5926f02eb",
   "metadata": {},
   "source": [
    "# 00. Imports"
   ]
  },
  {
   "cell_type": "code",
   "execution_count": 1,
   "id": "59e4c435-22de-466a-bf1b-f41d3e5a6eea",
   "metadata": {},
   "outputs": [],
   "source": [
    "%load_ext autoreload\n",
    "%autoreload 2\n",
    "%run nnn/ipynb_init.py\n",
    "%matplotlib inline\n",
    "import nupack\n",
    "from sklearn.model_selection import train_test_split"
   ]
  },
  {
   "cell_type": "markdown",
   "id": "e2cf7c4e-d993-4191-a6b0-b73d536eadc8",
   "metadata": {
    "tags": []
   },
   "source": [
    "# 01. Data preparation"
   ]
  },
  {
   "cell_type": "markdown",
   "id": "b95cd353-38a1-4575-8149-446fb65a2ec9",
   "metadata": {
    "tags": []
   },
   "source": [
    "## 01.1 Basic filtering\n",
    "\n",
    "QC filtering and removing control constructs that do not have hairpin melting behaviors.\n",
    "\n",
    "Clean up data for model training."
   ]
  },
  {
   "cell_type": "markdown",
   "id": "4c96d7b2-bf36-47e4-86ca-9c5fc12c3be5",
   "metadata": {
    "tags": []
   },
   "source": [
    "### 01.1.1 Making **arr_v1**\n",
    "\n",
    "With (relaxed) 2-state filter & variant-level Tm filter.\n",
    "\n",
    "**Input:**\n",
    "\n",
    "- `./data/nnnlib2b_replicates.tsv`\n",
    "\n",
    "- `./data/annotation/NNNlib2b_annotation_2024_duplicates_dropped.tsv`\n",
    "\n"
   ]
  },
  {
   "cell_type": "code",
   "execution_count": 2,
   "id": "10ca3335-d617-4c22-8469-082754d37eb8",
   "metadata": {
    "tags": []
   },
   "outputs": [
    {
     "name": "stdout",
     "output_type": "stream",
     "text": [
      "\n",
      "Reading Array Melt replicate data...\n",
      "\n",
      "86.43% variants passed the filter n_clusters > 5 & dG_37_se < 2 & Tm_se < 25 & dH_se < 25 & RMSE < 0.5\n",
      "78.88% variants passed the filter n_clusters > 5 & dG_37_se < 2 & Tm_se < 25 & dH_se < 25 & RMSE < 0.5\n",
      "64.31% variants passed the filter n_clusters > 5 & dG_37_se < 2 & Tm_se < 25 & dH_se < 25 & RMSE < 0.5\n",
      "71.46% variants passed the filter n_clusters > 5 & dG_37_se < 2 & Tm_se < 25 & dH_se < 25 & RMSE < 0.5\n",
      "\n",
      "\n",
      "Filtering two state variants...\n",
      "\n",
      "86.43% variants passed the filter n_clusters > 5 & dG_37_se < 2 & Tm_se < 25 & dH_se < 25 & RMSE < 0.5\n",
      "78.88% variants passed the filter n_clusters > 5 & dG_37_se < 2 & Tm_se < 25 & dH_se < 25 & RMSE < 0.5\n",
      "64.31% variants passed the filter n_clusters > 5 & dG_37_se < 2 & Tm_se < 25 & dH_se < 25 & RMSE < 0.5\n",
      "71.46% variants passed the filter n_clusters > 5 & dG_37_se < 2 & Tm_se < 25 & dH_se < 25 & RMSE < 0.5\n",
      "\n",
      "30091/31000 (97.07%) variants passed the two state criteria.\n",
      "\n",
      "\n",
      "Removing extra control series...\n",
      "\n",
      "29865 variants left.\n",
      "\n",
      "\n",
      "Filtering Tm in range...\n",
      "\n",
      "27731/29865 (92.85%) variants met the Tm in range criterion.\n"
     ]
    }
   ],
   "source": [
    "annotation_file = './data/annotation/NNNlib2b_annotation_2024_duplicates_dropped.tsv'\n",
    "annotation = fileio.read_annotation(annotation_file, sodium=0.075)\n",
    "replicate_df = pd.read_table('./data/nnnlib2b_replicates.tsv')\n",
    "\n",
    "print('\\nReading Array Melt replicate data...\\n')\n",
    "arraydata = ArrayData(replicate_df=replicate_df.iloc[:4,:],\n",
    "                    annotation_file=annotation_file)\n",
    "\n",
    "print('\\n\\nFiltering two state variants...\\n')\n",
    "myfilter = \"dH_err_rel < 0.5 & Tm_err_abs < 10 & redchi < 2 & n_inlier > 8\"\n",
    "pass_df = arraydata.filter_two_state(min_rep_pass=1, force_recalculate=False, overwrite_dH=False, \n",
    "                                     inplace=True, myfilter=myfilter, plot_fig=False)\n",
    "\n",
    "print('\\n\\nRemoving extra control series...\\n')\n",
    "arr = arraydata.data.join(arraydata.annotation)\n",
    "excluded_construct_type = ['pseudoknot_pt_muts', 'PolyNTControls', 'RepeatControls', 'StemDangle_3p', 'StemDangle_53p', 'StemDangle_5p', 'PUMcontrols']\n",
    "arr = arr[arr.reset_index().ConstructType.apply(lambda s: s not in excluded_construct_type).values]\n",
    "# Remove pseudoknots without annotation\n",
    "arr = arr.dropna(subset=['ConstructType', 'RefSeq','TargetStruct'])\n",
    "print('%d variants left.' % arr.shape[0])\n",
    "\n",
    "print('\\n\\nFiltering Tm in range...\\n')\n",
    "variant_filter = 'Tm < 60 & Tm > 0'\n",
    "arr_in_range = arr.query(variant_filter)\n",
    "print('%d/%d (%.2f%%) variants met the Tm in range criterion.' % \n",
    "        (len(arr_in_range), len(arr), len(arr_in_range)/len(arr)*100))\n",
    "arr = arr_in_range\n",
    "\n",
    "arr.to_csv(os.path.join('./data/models/raw', 'arr_v1_n=%d.csv' % arr.shape[0]))"
   ]
  },
  {
   "cell_type": "markdown",
   "id": "1315b425-f5c1-4896-8633-bb7e10f39fc2",
   "metadata": {},
   "source": [
    "### 01.1.2 Show variant counts"
   ]
  },
  {
   "cell_type": "markdown",
   "id": "e4d395fa-d004-408d-b48c-6a55b77c1394",
   "metadata": {},
   "source": [
    "- Show variant class accounting information:"
   ]
  },
  {
   "cell_type": "code",
   "execution_count": 3,
   "id": "e40d2e41-e36b-4e64-801a-0786078aac85",
   "metadata": {},
   "outputs": [
    {
     "data": {
      "text/html": [
       "<div>\n",
       "<style scoped>\n",
       "    .dataframe tbody tr th:only-of-type {\n",
       "        vertical-align: middle;\n",
       "    }\n",
       "\n",
       "    .dataframe tbody tr th {\n",
       "        vertical-align: top;\n",
       "    }\n",
       "\n",
       "    .dataframe thead th {\n",
       "        text-align: right;\n",
       "    }\n",
       "</style>\n",
       "<table border=\"1\" class=\"dataframe\">\n",
       "  <thead>\n",
       "    <tr style=\"text-align: right;\">\n",
       "      <th></th>\n",
       "      <th>designed</th>\n",
       "      <th>fitted</th>\n",
       "      <th>passed2state</th>\n",
       "    </tr>\n",
       "  </thead>\n",
       "  <tbody>\n",
       "    <tr>\n",
       "      <th>Bulges</th>\n",
       "      <td>11520</td>\n",
       "      <td>9474</td>\n",
       "      <td>9408</td>\n",
       "    </tr>\n",
       "    <tr>\n",
       "      <th>Control</th>\n",
       "      <td>595</td>\n",
       "      <td>127</td>\n",
       "      <td>112</td>\n",
       "    </tr>\n",
       "    <tr>\n",
       "      <th>External</th>\n",
       "      <td>31</td>\n",
       "      <td>20</td>\n",
       "      <td>20</td>\n",
       "    </tr>\n",
       "    <tr>\n",
       "      <th>MisMatches</th>\n",
       "      <td>18240</td>\n",
       "      <td>11366</td>\n",
       "      <td>11086</td>\n",
       "    </tr>\n",
       "    <tr>\n",
       "      <th>TETRAloop</th>\n",
       "      <td>6144</td>\n",
       "      <td>5749</td>\n",
       "      <td>5465</td>\n",
       "    </tr>\n",
       "    <tr>\n",
       "      <th>TRIloop</th>\n",
       "      <td>1536</td>\n",
       "      <td>1454</td>\n",
       "      <td>1402</td>\n",
       "    </tr>\n",
       "    <tr>\n",
       "      <th>VARloop</th>\n",
       "      <td>172</td>\n",
       "      <td>7</td>\n",
       "      <td>5</td>\n",
       "    </tr>\n",
       "    <tr>\n",
       "      <th>WatsonCrick</th>\n",
       "      <td>3072</td>\n",
       "      <td>2680</td>\n",
       "      <td>2479</td>\n",
       "    </tr>\n",
       "  </tbody>\n",
       "</table>\n",
       "</div>"
      ],
      "text/plain": [
       "            designed fitted passed2state\n",
       "Bulges         11520   9474         9408\n",
       "Control          595    127          112\n",
       "External          31     20           20\n",
       "MisMatches     18240  11366        11086\n",
       "TETRAloop       6144   5749         5465\n",
       "TRIloop         1536   1454         1402\n",
       "VARloop          172      7            5\n",
       "WatsonCrick     3072   2680         2479"
      ]
     },
     "execution_count": 3,
     "metadata": {},
     "output_type": "execute_result"
    }
   ],
   "source": [
    "arraydata.accounting_df.T"
   ]
  },
  {
   "cell_type": "markdown",
   "id": "9a27f25e-e582-443b-9ef4-8b678acd9e30",
   "metadata": {},
   "source": [
    "- Show number of variants in each subclass (construct type)"
   ]
  },
  {
   "cell_type": "code",
   "execution_count": 4,
   "id": "6a3331a7-0d20-4b9d-9547-ad7ac1479287",
   "metadata": {},
   "outputs": [
    {
     "data": {
      "text/plain": [
       "{'3mer': 1890,\n",
       " 'AC_mismatch_varpos': 2649,\n",
       " 'BaeControls': 17,\n",
       " 'Centered': 2691,\n",
       " 'GT_mismatch_varpos': 3495,\n",
       " 'NN': 975,\n",
       " 'NNN': 4884,\n",
       " 'NNN_3primebulge': 4260,\n",
       " 'NNN_5prime_bulge': 4233,\n",
       " 'NN_3primebulge': 304,\n",
       " 'NN_5primebulge': 300,\n",
       " 'VARloop': 5,\n",
       " 'WBcontrols': 1,\n",
       " 'WC_5ntstem': 760,\n",
       " 'WC_6ntstem': 682,\n",
       " 'WC_7ntstem': 585}"
      ]
     },
     "execution_count": 4,
     "metadata": {},
     "output_type": "execute_result"
    }
   ],
   "source": [
    "ctype, counts = np.unique(arr_in_range.ConstructType, return_counts=True)\n",
    "dict(zip(ctype, counts))"
   ]
  },
  {
   "cell_type": "markdown",
   "id": "c3733b43-7f33-46de-b86f-28120c6ee3f4",
   "metadata": {
    "tags": []
   },
   "source": [
    "## 01.2 Adjust offset\n",
    "\n",
    "Use UV melting data to adjust systematic offset."
   ]
  },
  {
   "cell_type": "code",
   "execution_count": 5,
   "id": "e7a8dc3a-7d2c-4b0c-a5f0-b395f13ffd33",
   "metadata": {},
   "outputs": [],
   "source": [
    "# Reload data from the previous 01.1 basic filtering step\n",
    "arr = pd.read_csv('./data/models/raw/arr_v1_n=27732.csv', index_col=0)"
   ]
  },
  {
   "cell_type": "code",
   "execution_count": 6,
   "id": "af0ca66b-899d-4bd6-b09c-f97847fa56f7",
   "metadata": {
    "tags": []
   },
   "outputs": [
    {
     "name": "stdout",
     "output_type": "stream",
     "text": [
      "\n",
      "297 / 387 single curves passed QC\n",
      "\n",
      "\n"
     ]
    },
    {
     "data": {
      "text/plain": [
       "(-4.0, 0.0)"
      ]
     },
     "execution_count": 6,
     "metadata": {},
     "output_type": "execute_result"
    },
    {
     "data": {
      "image/png": "[encoded data removed]",
      "text/plain": [
       "<Figure size 200x200 with 1 Axes>"
      ]
     },
     "metadata": {},
     "output_type": "display_data"
    },
    {
     "data": {
      "image/png": "[encoded data removed]",
      "text/plain": [
       "<Figure size 400x200 with 2 Axes>"
      ]
     },
     "metadata": {},
     "output_type": "display_data"
    },
    {
     "data": {
      "image/png": "[encoded data removed]",
      "text/plain": [
       "<Figure size 400x400 with 1 Axes>"
      ]
     },
     "metadata": {},
     "output_type": "display_data"
    },
    {
     "data": {
      "image/png": "[encoded data removed]",
      "text/plain": [
       "<Figure size 400x400 with 1 Axes>"
      ]
     },
     "metadata": {},
     "output_type": "display_data"
    }
   ],
   "source": [
    "\"\"\"\n",
    "Get the offset from UV melting data\n",
    "\"\"\"\n",
    "# copy pasted from ECL command center for convenience\n",
    "# only one peak found by HPLC AnalyzePeaks\n",
    "hplc_clean_seqid = [\"WC68_stem_3p\", \"WC68_stem_5p\", \"WC1025_split_5p\", \\\n",
    "\"WC1025_split_3p\", \"WC1375_stem_5p\", \"WC1375_stem_3p\", \"DMM004_5p\", \\\n",
    "\"DMM004_3p\", \"DMM005_5p\", \"DMM005_3p\", \"DMM006_5p\", \"DMM007_5p\", \\\n",
    "\"DMM007_3p\", \"BC0\", \"BC1\", \"BC6\", \"BC7\", \"BC8\", \"BC9\", \"BC10\", \\\n",
    "\"BC11\", \"MMCNNN2328\", \"MMCNNN2331\", \"MMCNNN2334\", \"MMCNNN2335\", \\\n",
    "\"MMCNNN2336\", \"MMCNNN2337\", \"MMTM1325\", \"MMTM176\", \"MMTM178\", \\\n",
    "\"MMTM179\", \"MMTM181\", \"MMTM185\", \"MMTM189\", \"MMTM1917\", \"MMTM29\", \\\n",
    "\"MMTM397\", \"MMTM509\", \"MMTM877\", \"DMM003_3p_rc\", \"DMM004_3p_rc\", \\\n",
    "\"DMM005_3p_rc\", \"DMM006_3p_rc\", \"DMM007_3p_rc\", \"TETNN1003\", \\\n",
    "\"TETNN999\", \"TETNN963\", \"TETNN979\", \"TETNNN1696\", \"TETNNN2082\", \\\n",
    "\"TETNNN1570\", \"HP002\", \"HP003\", \"HP004\", \"HP005\", \"HP007\", \"HP008\", \\\n",
    "\"HP010\", \"HP011\", \"HP012\", \"HP014\", \"HP015\", \"HP016\", \"HP017\", \\\n",
    "\"HP018\", \"HP019\", \"HP021\", \"HP022\", \"HP023\", \"HP024\"]\n",
    "\n",
    "sample_sheet_file = './data/uv_melt/ECLTables/ECLSampleSheet.csv'\n",
    "datadir=\"./data/uv_melt/ECLExportAuto\"\n",
    "result_file='./data/uv_melt/uvmelt_single.csv'\n",
    "agg_result_file='./data/uv_melt/uvmelt_agg.csv'\n",
    "\n",
    "result_df = pd.read_csv(result_file, index_col=0)\n",
    "result_agg_df = uv.agg_fit_result(uvmelt_result_file=result_file,\n",
    "                               agg_result_file=agg_result_file,\n",
    "                               single_curve_qc_criteria='rmse < 0.002 & dH_std < 10 & Tm_std < 5 & dH < 0 & dH > -100 & Tm > 0 & Tm < 120',\n",
    "                               Tm_std_thresh=10, dH_std_thresh=15,\n",
    "                               sample_sheet_file=sample_sheet_file, \n",
    "                               clean=True, only_use_cooling=False)\n",
    "\n",
    "result_agg_df = result_agg_df[result_agg_df.SEQID.isin(hplc_clean_seqid)]\n",
    "\n",
    "# Only use data measured in the same melting buffer as Array Melt\n",
    "# Note that Na_mM = 25 in UV melting data files means the concentration of NaCl is 25 mM,\n",
    "# not including the Na+ from Na-HEPES\n",
    "vf = result_agg_df.query('is_hairpin & Na_mM == 25').sort_values(by=['conc_uM', 'n_curve', 'curve_date']).drop_duplicates(keep='last').merge(arr, how='left', on='SEQID')\n",
    "\n",
    "df_q = vf.dropna(subset=['Tm', 'dG_37'])\n",
    "df_q.dG_37_uv_std = 0\n",
    "\n",
    "dTm = np.median(df_q.Tm_uv - df_q.Tm)\n",
    "df_q['Tm_adj'] = df_q.Tm + dTm\n",
    "df_q['dG_37_adj'] = util.get_dG(dH=df_q.dH, Tm=df_q.Tm_adj, celsius=37)\n",
    "\n",
    "plt.figure(figsize=(4,4))\n",
    "plt.plot(df_q.Tm_uv, df_q.Tm_adj, '.')\n",
    "lim = [40,80]\n",
    "plt.xlim(lim)\n",
    "plt.ylim(lim)\n",
    "\n",
    "plt.figure(figsize=(4,4))\n",
    "plt.plot(df_q.dG_37_uv, df_q.dG_37_adj, '.')\n",
    "lim = [-4,0]\n",
    "plt.xlim(lim)\n",
    "plt.ylim(lim)"
   ]
  },
  {
   "cell_type": "code",
   "execution_count": 7,
   "id": "31c5fef4-55c6-4244-9682-a8a1cd196700",
   "metadata": {},
   "outputs": [
    {
     "name": "stdout",
     "output_type": "stream",
     "text": [
      "Saved to `./data/models/processed/arr_v1_adjusted_n=27732.csv`\n",
      "\n",
      "\n",
      "The offset ∆Tm = 8.64 °C\n",
      "Median of ∆G changed from -0.20 -> -0.86 kcal/mol,\n",
      "and ∆∆G = -0.66 kcal/mol.\n"
     ]
    }
   ],
   "source": [
    "def adjust_offset(dH, Tm, dTm):\n",
    "    Tm_adj = Tm + dTm\n",
    "    dG_37_adj = util.get_dG(dH=dH, Tm=Tm_adj, celsius=37)\n",
    "    dS_adj = dH / (Tm_adj + 273.15)\n",
    "    return dict(dH=dH, dS=dS_adj, Tm=Tm_adj, dG_37=dG_37_adj)\n",
    "\n",
    "cols = ['dH_se', 'Tm_se', 'dG_37_se', 'dS_se', 'RefSeq', 'TargetStruct', 'Series']\n",
    "arr_adj = pd.DataFrame(adjust_offset(arr.dH, arr.Tm, dTm))\n",
    "arr_adj[cols] = arr[cols]\n",
    "\n",
    "fn = os.path.join('./data/models/processed', 'arr_v1_adjusted_n=%d.csv' % arr_adj.shape[0])\n",
    "arr_adj.to_csv(fn)\n",
    "print('Saved to `%s`\\n\\n' % fn)\n",
    "print('The offset ∆Tm = %.2f °C' % dTm)\n",
    "\n",
    "dG_median = util.get_dG(dH=np.median(arr.dH), Tm=np.median(arr.Tm), celsius=37)\n",
    "dG_adj_median = util.get_dG(dH=np.median(arr.dH), Tm=np.median(arr.Tm) + dTm, celsius=37)\n",
    "print('Median of ∆G changed from %.2f -> %.2f kcal/mol,\\nand ∆∆G = %.2f kcal/mol.' % (dG_median, dG_adj_median, dG_adj_median - dG_median))"
   ]
  },
  {
   "cell_type": "markdown",
   "id": "0b4fb6f2-a618-46a8-bf24-032684a1b8a2",
   "metadata": {
    "tags": []
   },
   "source": [
    "## 01.3 Salt correct to 1M sodium\n",
    "\n",
    "Correct Array Melt data to 1M sodium for model training, especially the NUPACK-compatible *dna24* model,\n",
    "as the model parameters are in 1M.\n",
    "\n",
    "Data files:\n",
    "    `arr_adj` -> `arr_1M`"
   ]
  },
  {
   "cell_type": "code",
   "execution_count": 8,
   "id": "b4f85247-f61a-47b9-9786-c76849a7d84b",
   "metadata": {},
   "outputs": [
    {
     "name": "stdout",
     "output_type": "stream",
     "text": [
      "Saved to `./data/models/processed/arr_v1_1M_75mM_n=27732.csv`\n",
      "CPU times: user 5.52 s, sys: 51.8 ms, total: 5.57 s\n",
      "Wall time: 5.54 s\n"
     ]
    }
   ],
   "source": [
    "%%time\n",
    "param_names = ['dH','dS','Tm', 'dG_37']\n",
    "arr_1M = pd.DataFrame(index=arr_adj.index, columns=param_names)\n",
    "\n",
    "for i, row in arr_adj.iterrows():\n",
    "    param_name_dict = util.get_Na_adjusted_param(Na=1.0, from_Na=0.075, dH=row.dH, Tm=row.Tm, seq=row.RefSeq)\n",
    "    arr_1M.loc[i,:] = param_name_dict\n",
    "\n",
    "arr_1M[cols] = arr[cols]\n",
    "\n",
    "fn = './data/models/processed/arr_v1_1M_75mM_n=%d.csv'%arr_1M.shape[0]\n",
    "arr_1M.to_csv(fn)\n",
    "print('Saved to `%s`' % fn)"
   ]
  },
  {
   "cell_type": "markdown",
   "id": "fccbee7c-2de6-4d49-8d7b-79abc72eddf3",
   "metadata": {
    "tags": []
   },
   "source": [
    "## 01.4 Update train-val-test split"
   ]
  },
  {
   "cell_type": "code",
   "execution_count": 9,
   "id": "a95d0ebf-26cd-4115-98a9-834da518a1b4",
   "metadata": {},
   "outputs": [],
   "source": [
    "agg_result_file='./data/uv_melt/uvmelt_agg.csv'\n",
    "uv_df = pd.read_csv(agg_result_file, index_col=1)\n",
    "arr_1M = pd.read_csv('./data/models/processed/arr_v1_1M_n=27730.csv', index_col=0)\n",
    "arr_p_unfold = pd.read_csv('./data/models/raw/arr_p_unfold_n=31000.csv', index_col=0)\n"
   ]
  },
  {
   "cell_type": "code",
   "execution_count": 10,
   "id": "7b7c9a09-5a32-4397-8346-697a98f5b972",
   "metadata": {},
   "outputs": [
    {
     "name": "stdout",
     "output_type": "stream",
     "text": [
      "#variants in each group:\n",
      "train val  test\n",
      "25025 1318 1387\n",
      "\n",
      "\n",
      "Saved to `data_split.json`\n"
     ]
    }
   ],
   "source": [
    "from sklearn.model_selection import train_test_split\n",
    "\n",
    "ind2split = arr_1M.index#list(set(arr_1M.index) - set(uv_df.index))\n",
    "series2split = arr_1M.loc[ind2split, 'Series']\n",
    "\n",
    "# Split indices (without the UV-measured variants)\n",
    "train_val_ind, test_ind = train_test_split(ind2split, test_size=.05,\n",
    "                                       random_state=42, stratify=series2split)\n",
    "train_ind, val_ind = train_test_split(arr_1M.loc[train_val_ind,:].index, test_size=.05,\n",
    "                                      random_state=43, stratify=arr_1M.loc[train_val_ind,:].Series)\n",
    "\n",
    "n_train, n_val, n_test = len(train_ind), len(val_ind), len(test_ind)\n",
    "print('#variants in each group:')\n",
    "print('train','val ','test')\n",
    "print(n_train, n_val, n_test)\n",
    "\n",
    "split_dict = dict(train_ind=train_ind.tolist(),\n",
    "                  val_ind=val_ind.tolist(),\n",
    "                  test_ind=test_ind.tolist())\n",
    "with open('./data/models/raw/data_split.json', 'w') as fh:\n",
    "    json.dump(split_dict, fh, indent=4)\n",
    "print('\\n\\nSaved to `data_split.json`')"
   ]
  },
  {
   "cell_type": "markdown",
   "id": "64992417-68c4-4c32-a5a9-1a442e04f006",
   "metadata": {},
   "source": [
    "## 01.5 External data preparation"
   ]
  },
  {
   "cell_type": "markdown",
   "id": "3e5404f8-f045-4f29-92a6-ce30a06967fc",
   "metadata": {},
   "source": [
    "### 01.5.1 Orthogonal ECL UV meltinng hairpins\n",
    "\n",
    "These hairpins were orthogonally designed and not in the Array Melt library."
   ]
  },
  {
   "cell_type": "code",
   "execution_count": 11,
   "id": "6379b8e6-75ce-4e4b-9d4b-3041bd8702f7",
   "metadata": {},
   "outputs": [],
   "source": [
    "\"\"\"\n",
    "ECL UV melting data cleaning\n",
    "Reduced to HP only as the reset are already in the array dataset.\n",
    "\"\"\"\n",
    "from nnn import train_nn as tnn\n",
    "\n",
    "mydata = tnn.MyData()\n",
    "mydata.load_everything()"
   ]
  },
  {
   "cell_type": "code",
   "execution_count": 12,
   "id": "1e4b240a-d0e2-432c-95ec-a4a711ac3787",
   "metadata": {},
   "outputs": [
    {
     "name": "stdout",
     "output_type": "stream",
     "text": [
      "Saved to `./data/models/raw/uv_n=19.csv`\n",
      "val  test\n",
      "10 9\n"
     ]
    }
   ],
   "source": [
    "uv_agg_df = fileio.clean_uv_df(mydata.uv_df, mydata.ecl_oligo_df, mydata.annotation)\n",
    "uv_agg_df = uv_agg_df.reset_index(names=['SEQID'])\n",
    "uv_agg_df = uv_agg_df.loc[uv_agg_df.SEQID.apply(lambda x: x.startswith('HP'))]\n",
    "uv_agg_df = uv_agg_df.set_index('SEQID')\n",
    "fn = './data/models/raw/uv_n=%d.csv'%len(uv_agg_df)\n",
    "uv_agg_df.to_csv(fn)\n",
    "print('Saved to `%s`' % fn)\n",
    "\n",
    "val_ind, test_ind = train_test_split(np.unique(uv_agg_df.index), test_size=.5,\n",
    "                                       random_state=42)\n",
    "\n",
    "print('val ','test')\n",
    "print(len(uv_agg_df.loc[val_ind]), len(uv_agg_df.loc[test_ind]))\n",
    "\n",
    "split_dict = dict(\n",
    "    train_ind=[],\n",
    "    val_ind=val_ind.tolist(),\n",
    "    test_ind=test_ind.tolist())\n",
    "fileio.write_json(split_dict, './data/models/raw/data_split_uv.json')"
   ]
  },
  {
   "cell_type": "markdown",
   "id": "4a928791-8db5-4643-a386-cf10354567c5",
   "metadata": {},
   "source": [
    "### 01.5.2 SantaLucia mismatch parameters"
   ]
  },
  {
   "cell_type": "code",
   "execution_count": 13,
   "id": "c6970487-0001-4957-a2ff-0a786c94567a",
   "metadata": {},
   "outputs": [],
   "source": [
    "# Format SantaLucia mismatch parameters\n",
    "sl_mm = pd.read_csv('./data/literature/SantaLucia_single_mismatch.csv', index_col=0)\n",
    "sl_mm['isWC'] = sl_mm.dG_37.apply(lambda x: x == 'WC')\n",
    "sl_wc = pd.read_csv('./data/literature/SantaLucia_full.tsv', sep='\\t', index_col=0)\n",
    "\n",
    "def add_wc(row):\n",
    "    if row.dG_37 == 'WC':\n",
    "        return float(sl_wc.loc[row.name, 'dG_37'])\n",
    "    else:\n",
    "        return float(row.dG_37)\n",
    "    \n",
    "sl_mm['dG_37'] = sl_mm.apply(add_wc, axis=1)\n",
    "sl_mm.to_csv('./data/literature/SantaLucia_mm_wc.csv')"
   ]
  },
  {
   "cell_type": "markdown",
   "id": "1bb283c0-1448-45ff-8e1b-11a23c87a45b",
   "metadata": {},
   "source": [
    "### 01.5.3 Oliveira et al. (ov)"
   ]
  },
  {
   "cell_type": "code",
   "execution_count": 14,
   "id": "9f1e6d6d-ffeb-461b-b73d-8b0081cea7ae",
   "metadata": {},
   "outputs": [
    {
     "name": "stdout",
     "output_type": "stream",
     "text": [
      "val  test\n",
      "1387 1388\n"
     ]
    }
   ],
   "source": [
    "\"\"\"\n",
    "Oliveira data split (OV)\n",
    "\"\"\"\n",
    "center_df = fileio.read_Oliveira_df('./data/literature/Oliveira_2020_mismatches.csv')\n",
    "\n",
    "val_ind, test_ind = train_test_split(center_df.index, test_size=.5,\n",
    "                                       random_state=42)\n",
    "\n",
    "n_val, n_test = len(val_ind), len(test_ind)\n",
    "print('val ','test')\n",
    "print(n_val, n_test)\n",
    "\n",
    "split_dict = dict(train_ind=[],\n",
    "                  val_ind=val_ind.tolist(),\n",
    "                  test_ind=test_ind.tolist())\n",
    "\n",
    "with open('./data/models/raw/data_split_Oliveira.json', 'w') as fh:\n",
    "    json.dump(split_dict, fh, indent=4)"
   ]
  },
  {
   "cell_type": "markdown",
   "id": "12f2bf29-f83c-4953-abaa-8b4a56b4c7a3",
   "metadata": {},
   "source": [
    "### 01.5.4 Literature UV melting duplexes (lit_uv)"
   ]
  },
  {
   "cell_type": "code",
   "execution_count": 15,
   "id": "e24ebb25-b0de-48b1-a9f8-57f0b25f1cd4",
   "metadata": {},
   "outputs": [
    {
     "name": "stdout",
     "output_type": "stream",
     "text": [
      "train val  test\n",
      "0 174 174\n"
     ]
    }
   ],
   "source": [
    "\"\"\"\n",
    "348oligos data split (DP) (lit_uv)\n",
    "train:val:test = 0:1:1\n",
    "\"\"\"\n",
    "uv_df = pd.read_csv('./data/literature/compiled_DNA_Tm_348oligos.csv', index_col=0)\n",
    "\n",
    "val_ind, test_ind = train_test_split(uv_df.index, test_size=.5,\n",
    "                                       random_state=42)\n",
    "train_ind = []\n",
    "n_train, n_val, n_test = len(train_ind), len(val_ind), len(test_ind)\n",
    "print('train', 'val ','test')\n",
    "print(n_train, n_val, n_test)\n",
    "\n",
    "split_dict = dict(\n",
    "    train_ind=train_ind,\n",
    "    val_ind=val_ind.tolist(),\n",
    "    test_ind=test_ind.tolist())\n",
    "\n",
    "with open('./data/models/raw/data_split_348oligos.json', 'w') as fh:\n",
    "    json.dump(split_dict, fh, indent=4)"
   ]
  },
  {
   "cell_type": "markdown",
   "id": "d335ed31",
   "metadata": {
    "tags": []
   },
   "source": [
    "# 02. Dataset combination"
   ]
  },
  {
   "cell_type": "code",
   "execution_count": 16,
   "id": "ab95d4a5-48d8-42ca-90b1-bd65e8aa1209",
   "metadata": {},
   "outputs": [
    {
     "name": "stdout",
     "output_type": "stream",
     "text": [
      "#variants in train, val, test\n",
      "[25025, 2888, 2958]\n"
     ]
    }
   ],
   "source": [
    "val_df, combined_split_dict = fileio.read_val_df('all')\n",
    "val_df.to_csv('./data/models/raw/combined_dataset.csv')\n",
    "fileio.write_json(combined_split_dict, './data/models/raw/combined_data_split.json')\n",
    "print('#variants in train, val, test')\n",
    "print([len(inds) for inds in combined_split_dict.values()])"
   ]
  },
  {
   "cell_type": "code",
   "execution_count": 17,
   "id": "b0e420f5-b1ad-4422-93eb-e434be6f3bee",
   "metadata": {},
   "outputs": [],
   "source": [
    "# Test the combined data file\n",
    "df = fileio.load_val_df('./data/models/raw/combined_dataset.csv')\n",
    "\n",
    "### SOME TESTS ###\n",
    "# An index test\n",
    "# Make sure it has variants from all datasets\n",
    "for test_id in ['DP347', 'WC999', 'varloop257621', 'OV2679']:\n",
    "    ind = np.searchsorted(df.index, [test_id])\n",
    "    assert df.iloc[ind[0],:].name == test_id\n",
    "    \n",
    "### Save back ###\n",
    "df.fillna(0, inplace=True)\n",
    "df.to_csv('./data/models/raw/combined_dataset.csv')"
   ]
  }
 ],
 "metadata": {
  "kernelspec": {
   "display_name": "Python 3 (ipykernel)",
   "language": "python",
   "name": "python3"
  },
  "language_info": {
   "codemirror_mode": {
    "name": "ipython",
    "version": 3
   },
   "file_extension": ".py",
   "mimetype": "text/x-python",
   "name": "python",
   "nbconvert_exporter": "python",
   "pygments_lexer": "ipython3",
   "version": "3.8.16"
  }
 },
 "nbformat": 4,
 "nbformat_minor": 5
}
