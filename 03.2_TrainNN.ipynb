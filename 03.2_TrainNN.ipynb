{
 "cells": [
  {
   "cell_type": "code",
   "execution_count": 1,
   "metadata": {},
   "outputs": [],
   "source": [
    "%load_ext autoreload\n",
    "%autoreload 2\n",
    "\n",
    "import pandas as pd\n",
    "import matplotlib.pyplot as plt\n",
    "import matplotlib\n",
    "from matplotlib.ticker import (MultipleLocator, FormatStrFormatter,\n",
    "                               AutoMinorLocator)\n",
    "import seaborn as sns\n",
    "import json, os, pickle\n",
    "from collections import defaultdict\n",
    "import nupack\n",
    "import sklearn\n",
    "from scipy import stats\n",
    "\n",
    "\n",
    "from tqdm import tqdm\n",
    "import itertools\n",
    "\n",
    "from nnn import util, fileio, mupack, plotting, modeling\n",
    "import nnn.motif_fit as mf\n",
    "import wandb\n",
    "\n",
    "# suppress warnings \n",
    "import warnings\n",
    "warnings.filterwarnings(\"ignore\")\n",
    "\n",
    "from nnn import train_nn as tnn"
   ]
  },
  {
   "cell_type": "code",
   "execution_count": 144,
   "metadata": {},
   "outputs": [],
   "source": [
    "fixed_pclass = ['hairpin_size', 'interior_size', 'bulge_size', 'hairpin_triloop', 'hairpin_tetraloop', 'terminal_mismatch', 'stack']\n",
    "config = dict(\n",
    "    use_train_set_ratio = 1.,\n",
    "    fit_method = 'svd',\n",
    "    feature_method = 'get_nupack_feature_list',\n",
    "    fit_intercept=False, \n",
    "    symmetry=False,\n",
    "    fix_some_coef=True,\n",
    "    fixed_pclass = fixed_pclass,\n",
    "    test_mode = 'val', # {'val', 'test'}\n",
    "    use_model_from = 'json', # {'lr_dict', 'json'}\n",
    "    )"
   ]
  },
  {
   "cell_type": "code",
   "execution_count": null,
   "metadata": {},
   "outputs": [],
   "source": [
    "wandb.login(key='81481cd721612506032d1d79f49e08c699dca4e5')"
   ]
  },
  {
   "cell_type": "code",
   "execution_count": 4,
   "metadata": {},
   "outputs": [
    {
     "data": {
      "text/html": [
       "Tracking run with wandb version 0.15.12"
      ],
      "text/plain": [
       "<IPython.core.display.HTML object>"
      ]
     },
     "metadata": {},
     "output_type": "display_data"
    },
    {
     "data": {
      "text/html": [
       "Run data is saved locally in <code>/Users/yuxi/workspace/nnn_paper/wandb/run-20231030_152624-a61r3g6e</code>"
      ],
      "text/plain": [
       "<IPython.core.display.HTML object>"
      ]
     },
     "metadata": {},
     "output_type": "display_data"
    },
    {
     "data": {
      "text/html": [
       "Syncing run <strong><a href='https://wandb.ai/keyuxi/NN/runs/a61r3g6e' target=\"_blank\">dreadful-spider-33</a></strong> to <a href='https://wandb.ai/keyuxi/NN' target=\"_blank\">Weights & Biases</a> (<a href='https://wandb.me/run' target=\"_blank\">docs</a>)<br/>"
      ],
      "text/plain": [
       "<IPython.core.display.HTML object>"
      ]
     },
     "metadata": {},
     "output_type": "display_data"
    },
    {
     "data": {
      "text/html": [
       " View project at <a href='https://wandb.ai/keyuxi/NN' target=\"_blank\">https://wandb.ai/keyuxi/NN</a>"
      ],
      "text/plain": [
       "<IPython.core.display.HTML object>"
      ]
     },
     "metadata": {},
     "output_type": "display_data"
    },
    {
     "data": {
      "text/html": [
       " View run at <a href='https://wandb.ai/keyuxi/NN/runs/a61r3g6e' target=\"_blank\">https://wandb.ai/keyuxi/NN/runs/a61r3g6e</a>"
      ],
      "text/plain": [
       "<IPython.core.display.HTML object>"
      ]
     },
     "metadata": {},
     "output_type": "display_data"
    },
    {
     "data": {
      "text/html": [
       "Waiting for W&B process to finish... <strong style=\"color:green\">(success).</strong>"
      ],
      "text/plain": [
       "<IPython.core.display.HTML object>"
      ]
     },
     "metadata": {},
     "output_type": "display_data"
    },
    {
     "data": {
      "text/html": [
       " View run <strong style=\"color:#cdcd00\">dreadful-spider-33</strong> at: <a href='https://wandb.ai/keyuxi/NN/runs/a61r3g6e' target=\"_blank\">https://wandb.ai/keyuxi/NN/runs/a61r3g6e</a><br/>Synced 5 W&B file(s), 0 media file(s), 0 artifact file(s) and 0 other file(s)"
      ],
      "text/plain": [
       "<IPython.core.display.HTML object>"
      ]
     },
     "metadata": {},
     "output_type": "display_data"
    },
    {
     "data": {
      "text/html": [
       "Find logs at: <code>./wandb/run-20231030_152624-a61r3g6e/logs</code>"
      ],
      "text/plain": [
       "<IPython.core.display.HTML object>"
      ]
     },
     "metadata": {},
     "output_type": "display_data"
    }
   ],
   "source": [
    "with wandb.init(project=\"NN\", config=config):\n",
    "    # access all HPs through wandb.config, so logging matches execution!\n",
    "    wandb_config = wandb.config"
   ]
  },
  {
   "cell_type": "code",
   "execution_count": 8,
   "metadata": {},
   "outputs": [],
   "source": [
    "fileio.write_json(dict(wandb_config), './models/test.json')"
   ]
  },
  {
   "cell_type": "code",
   "execution_count": 2,
   "metadata": {},
   "outputs": [],
   "source": [
    "fixed_pclass = []#['hairpin_size', 'interior_size', 'bulge_size', 'hairpin_triloop', 'hairpin_tetraloop', 'terminal_mismatch', 'stack']\n",
    "config = dict(\n",
    "    use_train_set_ratio = .1,\n",
    "    fit_method = 'svd',\n",
    "    feature_method = 'get_feature_list',\n",
    "    fit_intercept=False, \n",
    "    symmetry=False,\n",
    "    sep_base_stack=True,\n",
    "    fix_some_coef=True,\n",
    "    fixed_pclass = fixed_pclass,\n",
    "    test_mode = 'val', # {'val', 'test'}\n",
    "    use_model_from = 'lr_dict', # {'lr_dict', 'json'}\n",
    "    )"
   ]
  },
  {
   "cell_type": "code",
   "execution_count": 9,
   "metadata": {
    "scrolled": true
   },
   "outputs": [
    {
     "data": {
      "text/html": [
       "Tracking run with wandb version 0.15.12"
      ],
      "text/plain": [
       "<IPython.core.display.HTML object>"
      ]
     },
     "metadata": {},
     "output_type": "display_data"
    },
    {
     "data": {
      "text/html": [
       "Run data is saved locally in <code>/Users/yuxi/workspace/nnn_paper/wandb/run-20231030_152712-uqp1af7j</code>"
      ],
      "text/plain": [
       "<IPython.core.display.HTML object>"
      ]
     },
     "metadata": {},
     "output_type": "display_data"
    },
    {
     "data": {
      "text/html": [
       "Syncing run <strong><a href='https://wandb.ai/keyuxi/NN/runs/uqp1af7j' target=\"_blank\">unearthly-possession-34</a></strong> to <a href='https://wandb.ai/keyuxi/NN' target=\"_blank\">Weights & Biases</a> (<a href='https://wandb.me/run' target=\"_blank\">docs</a>)<br/>"
      ],
      "text/plain": [
       "<IPython.core.display.HTML object>"
      ]
     },
     "metadata": {},
     "output_type": "display_data"
    },
    {
     "data": {
      "text/html": [
       " View project at <a href='https://wandb.ai/keyuxi/NN' target=\"_blank\">https://wandb.ai/keyuxi/NN</a>"
      ],
      "text/plain": [
       "<IPython.core.display.HTML object>"
      ]
     },
     "metadata": {},
     "output_type": "display_data"
    },
    {
     "data": {
      "text/html": [
       " View run at <a href='https://wandb.ai/keyuxi/NN/runs/uqp1af7j' target=\"_blank\">https://wandb.ai/keyuxi/NN/runs/uqp1af7j</a>"
      ],
      "text/plain": [
       "<IPython.core.display.HTML object>"
      ]
     },
     "metadata": {},
     "output_type": "display_data"
    },
    {
     "name": "stdout",
     "output_type": "stream",
     "text": [
      "feats (27732, 1338) Index(['A+A+T+T_(+(+)+)', 'A+C+G+T_(+(+)+)', 'A+G+C+T_(+(+)+)'], dtype='object')\n",
      "fixed_feature_names: []\n",
      "Empty DataFrame\n",
      "Columns: [dH]\n",
      "Index: []\n",
      "[]\n",
      "Warning: Rank of matrix A_unknown, 985, is smaller than the number of features 1338!\n",
      "Empty DataFrame\n",
      "Columns: [dG]\n",
      "Index: []\n",
      "[]\n",
      "Warning: Rank of matrix A_unknown, 998, is smaller than the number of features 1338!\n"
     ]
    },
    {
     "data": {
      "text/html": [
       "Waiting for W&B process to finish... <strong style=\"color:green\">(success).</strong>"
      ],
      "text/plain": [
       "<IPython.core.display.HTML object>"
      ]
     },
     "metadata": {},
     "output_type": "display_data"
    },
    {
     "data": {
      "text/html": [
       "<style>\n",
       "    table.wandb td:nth-child(1) { padding: 0 10px; text-align: left ; width: auto;} td:nth-child(2) {text-align: left ; width: 100%}\n",
       "    .wandb-row { display: flex; flex-direction: row; flex-wrap: wrap; justify-content: flex-start; width: 100% }\n",
       "    .wandb-col { display: flex; flex-direction: column; flex-basis: 100%; flex: 1; padding: 10px; }\n",
       "    </style>\n",
       "<div class=\"wandb-row\"><div class=\"wandb-col\"><h3>Run history:</h3><br/><table class=\"wandb\"><tr><td>n_feat</td><td>▁</td></tr><tr><td>n_fixed_feat</td><td>▁</td></tr><tr><td>train_dG_mae</td><td>▁</td></tr><tr><td>train_dG_rsqr</td><td>▁</td></tr><tr><td>train_dH_mae</td><td>▁</td></tr><tr><td>train_dH_rsqr</td><td>▁</td></tr><tr><td>val_Tm_adjusted_mae-all</td><td>▁</td></tr><tr><td>val_Tm_adjusted_mae-arr</td><td>▁</td></tr><tr><td>val_Tm_adjusted_mae-lit_uv</td><td>▁</td></tr><tr><td>val_Tm_adjusted_mae-ov</td><td>▁</td></tr><tr><td>val_Tm_adjusted_rmse-all</td><td>▁</td></tr><tr><td>val_Tm_adjusted_rmse-arr</td><td>▁</td></tr><tr><td>val_Tm_adjusted_rmse-lit_uv</td><td>▁</td></tr><tr><td>val_Tm_adjusted_rmse-ov</td><td>▁</td></tr><tr><td>val_Tm_bias-all</td><td>▁</td></tr><tr><td>val_Tm_bias-arr</td><td>▁</td></tr><tr><td>val_Tm_bias-lit_uv</td><td>▁</td></tr><tr><td>val_Tm_bias-ov</td><td>▁</td></tr><tr><td>val_Tm_corr-all</td><td>▁</td></tr><tr><td>val_Tm_corr-arr</td><td>▁</td></tr><tr><td>val_Tm_corr-lit_uv</td><td>▁</td></tr><tr><td>val_Tm_corr-ov</td><td>▁</td></tr><tr><td>val_Tm_mae-all</td><td>▁</td></tr><tr><td>val_Tm_mae-arr</td><td>▁</td></tr><tr><td>val_Tm_mae-lit_uv</td><td>▁</td></tr><tr><td>val_Tm_mae-ov</td><td>▁</td></tr><tr><td>val_Tm_rmse-all</td><td>▁</td></tr><tr><td>val_Tm_rmse-arr</td><td>▁</td></tr><tr><td>val_Tm_rmse-lit_uv</td><td>▁</td></tr><tr><td>val_Tm_rmse-ov</td><td>▁</td></tr><tr><td>val_dG_adjusted_mae-arr</td><td>▁</td></tr><tr><td>val_dG_adjusted_rmse-arr</td><td>▁</td></tr><tr><td>val_dG_bias-arr</td><td>▁</td></tr><tr><td>val_dG_corr-arr</td><td>▁</td></tr><tr><td>val_dG_mae-arr</td><td>▁</td></tr><tr><td>val_dG_rmse-arr</td><td>▁</td></tr><tr><td>val_dH_adjusted_mae-arr</td><td>▁</td></tr><tr><td>val_dH_adjusted_rmse-arr</td><td>▁</td></tr><tr><td>val_dH_bias-arr</td><td>▁</td></tr><tr><td>val_dH_corr-arr</td><td>▁</td></tr><tr><td>val_dH_mae-arr</td><td>▁</td></tr><tr><td>val_dH_rmse-arr</td><td>▁</td></tr></table><br/></div><div class=\"wandb-col\"><h3>Run summary:</h3><br/><table class=\"wandb\"><tr><td>n_feat</td><td>1338</td></tr><tr><td>n_fixed_feat</td><td>0</td></tr><tr><td>train_dG_mae</td><td>0.31783</td></tr><tr><td>train_dG_rsqr</td><td>0.8608</td></tr><tr><td>train_dH_mae</td><td>3.68744</td></tr><tr><td>train_dH_rsqr</td><td>0.72175</td></tr><tr><td>val_Tm_adjusted_mae-all</td><td>115.52605</td></tr><tr><td>val_Tm_adjusted_mae-arr</td><td>12.66455</td></tr><tr><td>val_Tm_adjusted_mae-lit_uv</td><td>9.54959</td></tr><tr><td>val_Tm_adjusted_mae-ov</td><td>2.82836</td></tr><tr><td>val_Tm_adjusted_rmse-all</td><td>116.92675</td></tr><tr><td>val_Tm_adjusted_rmse-arr</td><td>28.31064</td></tr><tr><td>val_Tm_adjusted_rmse-lit_uv</td><td>10.79507</td></tr><tr><td>val_Tm_adjusted_rmse-ov</td><td>3.51555</td></tr><tr><td>val_Tm_bias-all</td><td>132.54839</td></tr><tr><td>val_Tm_bias-arr</td><td>7.44576</td></tr><tr><td>val_Tm_bias-lit_uv</td><td>246.81493</td></tr><tr><td>val_Tm_bias-ov</td><td>237.7321</td></tr><tr><td>val_Tm_corr-all</td><td>0.34329</td></tr><tr><td>val_Tm_corr-arr</td><td>0.17202</td></tr><tr><td>val_Tm_corr-lit_uv</td><td>0.92662</td></tr><tr><td>val_Tm_corr-ov</td><td>0.6428</td></tr><tr><td>val_Tm_mae-all</td><td>134.43213</td></tr><tr><td>val_Tm_mae-arr</td><td>11.54842</td></tr><tr><td>val_Tm_mae-lit_uv</td><td>246.81493</td></tr><tr><td>val_Tm_mae-ov</td><td>237.7321</td></tr><tr><td>val_Tm_rmse-all</td><td>176.75107</td></tr><tr><td>val_Tm_rmse-arr</td><td>29.27339</td></tr><tr><td>val_Tm_rmse-lit_uv</td><td>247.05089</td></tr><tr><td>val_Tm_rmse-ov</td><td>237.75809</td></tr><tr><td>val_dG_adjusted_mae-arr</td><td>0.63422</td></tr><tr><td>val_dG_adjusted_rmse-arr</td><td>0.86777</td></tr><tr><td>val_dG_bias-arr</td><td>-0.21267</td></tr><tr><td>val_dG_corr-arr</td><td>0.67473</td></tr><tr><td>val_dG_mae-arr</td><td>0.62407</td></tr><tr><td>val_dG_rmse-arr</td><td>0.89345</td></tr><tr><td>val_dH_adjusted_mae-arr</td><td>6.2819</td></tr><tr><td>val_dH_adjusted_rmse-arr</td><td>8.2551</td></tr><tr><td>val_dH_bias-arr</td><td>0.22783</td></tr><tr><td>val_dH_corr-arr</td><td>0.69068</td></tr><tr><td>val_dH_mae-arr</td><td>6.27461</td></tr><tr><td>val_dH_rmse-arr</td><td>8.25824</td></tr></table><br/></div></div>"
      ],
      "text/plain": [
       "<IPython.core.display.HTML object>"
      ]
     },
     "metadata": {},
     "output_type": "display_data"
    },
    {
     "data": {
      "text/html": [
       " View run <strong style=\"color:#cdcd00\">unearthly-possession-34</strong> at: <a href='https://wandb.ai/keyuxi/NN/runs/uqp1af7j' target=\"_blank\">https://wandb.ai/keyuxi/NN/runs/uqp1af7j</a><br/>Synced 6 W&B file(s), 0 media file(s), 0 artifact file(s) and 0 other file(s)"
      ],
      "text/plain": [
       "<IPython.core.display.HTML object>"
      ]
     },
     "metadata": {},
     "output_type": "display_data"
    },
    {
     "data": {
      "text/html": [
       "Find logs at: <code>./wandb/run-20231030_152712-uqp1af7j/logs</code>"
      ],
      "text/plain": [
       "<IPython.core.display.HTML object>"
      ]
     },
     "metadata": {},
     "output_type": "display_data"
    },
    {
     "data": {
      "text/plain": [
       "{'dH': LinearRegressionSVD(param='dH'), 'dG': LinearRegressionSVD()}"
      ]
     },
     "execution_count": 9,
     "metadata": {},
     "output_type": "execute_result"
    },
    {
     "data": {
      "image/png": "[encoded data removed]",
      "text/plain": [
       "<Figure size 800x400 with 2 Axes>"
      ]
     },
     "metadata": {},
     "output_type": "display_data"
    }
   ],
   "source": [
    "tnn.model_pipeline(config)"
   ]
  },
  {
   "cell_type": "code",
   "execution_count": 12,
   "metadata": {},
   "outputs": [],
   "source": [
    "import numpy as np"
   ]
  },
  {
   "cell_type": "code",
   "execution_count": 15,
   "metadata": {
    "scrolled": true
   },
   "outputs": [
    {
     "data": {
      "text/html": [
       "Tracking run with wandb version 0.15.12"
      ],
      "text/plain": [
       "<IPython.core.display.HTML object>"
      ]
     },
     "metadata": {},
     "output_type": "display_data"
    },
    {
     "data": {
      "text/html": [
       "Run data is saved locally in <code>/Users/yuxi/workspace/nnn_paper/wandb/run-20231030_153057-668nnvbw</code>"
      ],
      "text/plain": [
       "<IPython.core.display.HTML object>"
      ]
     },
     "metadata": {},
     "output_type": "display_data"
    },
    {
     "data": {
      "text/html": [
       "Syncing run <strong><a href='https://wandb.ai/keyuxi/NN/runs/668nnvbw' target=\"_blank\">frightful-goosebump-35</a></strong> to <a href='https://wandb.ai/keyuxi/NN' target=\"_blank\">Weights & Biases</a> (<a href='https://wandb.me/run' target=\"_blank\">docs</a>)<br/>"
      ],
      "text/plain": [
       "<IPython.core.display.HTML object>"
      ]
     },
     "metadata": {},
     "output_type": "display_data"
    },
    {
     "data": {
      "text/html": [
       " View project at <a href='https://wandb.ai/keyuxi/NN' target=\"_blank\">https://wandb.ai/keyuxi/NN</a>"
      ],
      "text/plain": [
       "<IPython.core.display.HTML object>"
      ]
     },
     "metadata": {},
     "output_type": "display_data"
    },
    {
     "data": {
      "text/html": [
       " View run at <a href='https://wandb.ai/keyuxi/NN/runs/668nnvbw' target=\"_blank\">https://wandb.ai/keyuxi/NN/runs/668nnvbw</a>"
      ],
      "text/plain": [
       "<IPython.core.display.HTML object>"
      ]
     },
     "metadata": {},
     "output_type": "display_data"
    },
    {
     "name": "stdout",
     "output_type": "stream",
     "text": [
      "feats (27732, 1338) Index(['A+A+T+T_(+(+)+)', 'A+C+G+T_(+(+)+)', 'A+G+C+T_(+(+)+)'], dtype='object')\n",
      "fixed_feature_names: []\n",
      "Empty DataFrame\n",
      "Columns: [dH]\n",
      "Index: []\n",
      "[]\n",
      "Warning: Rank of matrix A_unknown, 1009, is smaller than the number of features 1338!\n",
      "Empty DataFrame\n",
      "Columns: [dG]\n",
      "Index: []\n",
      "[]\n",
      "Warning: Rank of matrix A_unknown, 1003, is smaller than the number of features 1338!\n"
     ]
    },
    {
     "data": {
      "text/html": [
       "Waiting for W&B process to finish... <strong style=\"color:green\">(success).</strong>"
      ],
      "text/plain": [
       "<IPython.core.display.HTML object>"
      ]
     },
     "metadata": {},
     "output_type": "display_data"
    },
    {
     "data": {
      "text/html": [
       "<style>\n",
       "    table.wandb td:nth-child(1) { padding: 0 10px; text-align: left ; width: auto;} td:nth-child(2) {text-align: left ; width: 100%}\n",
       "    .wandb-row { display: flex; flex-direction: row; flex-wrap: wrap; justify-content: flex-start; width: 100% }\n",
       "    .wandb-col { display: flex; flex-direction: column; flex-basis: 100%; flex: 1; padding: 10px; }\n",
       "    </style>\n",
       "<div class=\"wandb-row\"><div class=\"wandb-col\"><h3>Run history:</h3><br/><table class=\"wandb\"><tr><td>n_feat</td><td>▁</td></tr><tr><td>n_fixed_feat</td><td>▁</td></tr><tr><td>train_dG_mae</td><td>▁</td></tr><tr><td>train_dG_rsqr</td><td>▁</td></tr><tr><td>train_dH_mae</td><td>▁</td></tr><tr><td>train_dH_rsqr</td><td>▁</td></tr><tr><td>val_Tm_adjusted_mae-all</td><td>▁</td></tr><tr><td>val_Tm_adjusted_mae-arr</td><td>▁</td></tr><tr><td>val_Tm_adjusted_mae-lit_uv</td><td>▁</td></tr><tr><td>val_Tm_adjusted_mae-ov</td><td>▁</td></tr><tr><td>val_Tm_adjusted_rmse-all</td><td>▁</td></tr><tr><td>val_Tm_adjusted_rmse-arr</td><td>▁</td></tr><tr><td>val_Tm_adjusted_rmse-lit_uv</td><td>▁</td></tr><tr><td>val_Tm_adjusted_rmse-ov</td><td>▁</td></tr><tr><td>val_Tm_bias-all</td><td>▁</td></tr><tr><td>val_Tm_bias-arr</td><td>▁</td></tr><tr><td>val_Tm_bias-lit_uv</td><td>▁</td></tr><tr><td>val_Tm_bias-ov</td><td>▁</td></tr><tr><td>val_Tm_corr-all</td><td>▁</td></tr><tr><td>val_Tm_corr-arr</td><td>▁</td></tr><tr><td>val_Tm_corr-lit_uv</td><td>▁</td></tr><tr><td>val_Tm_corr-ov</td><td>▁</td></tr><tr><td>val_Tm_mae-all</td><td>▁</td></tr><tr><td>val_Tm_mae-arr</td><td>▁</td></tr><tr><td>val_Tm_mae-lit_uv</td><td>▁</td></tr><tr><td>val_Tm_mae-ov</td><td>▁</td></tr><tr><td>val_Tm_rmse-all</td><td>▁</td></tr><tr><td>val_Tm_rmse-arr</td><td>▁</td></tr><tr><td>val_Tm_rmse-lit_uv</td><td>▁</td></tr><tr><td>val_Tm_rmse-ov</td><td>▁</td></tr><tr><td>val_dG_adjusted_mae-arr</td><td>▁</td></tr><tr><td>val_dG_adjusted_rmse-arr</td><td>▁</td></tr><tr><td>val_dG_bias-arr</td><td>▁</td></tr><tr><td>val_dG_corr-arr</td><td>▁</td></tr><tr><td>val_dG_mae-arr</td><td>▁</td></tr><tr><td>val_dG_rmse-arr</td><td>▁</td></tr><tr><td>val_dH_adjusted_mae-arr</td><td>▁</td></tr><tr><td>val_dH_adjusted_rmse-arr</td><td>▁</td></tr><tr><td>val_dH_bias-arr</td><td>▁</td></tr><tr><td>val_dH_corr-arr</td><td>▁</td></tr><tr><td>val_dH_mae-arr</td><td>▁</td></tr><tr><td>val_dH_rmse-arr</td><td>▁</td></tr></table><br/></div><div class=\"wandb-col\"><h3>Run summary:</h3><br/><table class=\"wandb\"><tr><td>n_feat</td><td>1338</td></tr><tr><td>n_fixed_feat</td><td>0</td></tr><tr><td>train_dG_mae</td><td>0.30678</td></tr><tr><td>train_dG_rsqr</td><td>0.87162</td></tr><tr><td>train_dH_mae</td><td>3.49159</td></tr><tr><td>train_dH_rsqr</td><td>0.75605</td></tr><tr><td>val_Tm_adjusted_mae-all</td><td>115.26997</td></tr><tr><td>val_Tm_adjusted_mae-arr</td><td>12.55898</td></tr><tr><td>val_Tm_adjusted_mae-lit_uv</td><td>9.56256</td></tr><tr><td>val_Tm_adjusted_mae-ov</td><td>3.29231</td></tr><tr><td>val_Tm_adjusted_rmse-all</td><td>116.86075</td></tr><tr><td>val_Tm_adjusted_rmse-arr</td><td>26.30527</td></tr><tr><td>val_Tm_adjusted_rmse-lit_uv</td><td>10.86987</td></tr><tr><td>val_Tm_adjusted_rmse-ov</td><td>4.05973</td></tr><tr><td>val_Tm_bias-all</td><td>131.30686</td></tr><tr><td>val_Tm_bias-arr</td><td>6.04499</td></tr><tr><td>val_Tm_bias-lit_uv</td><td>244.68075</td></tr><tr><td>val_Tm_bias-ov</td><td>236.7558</td></tr><tr><td>val_Tm_corr-all</td><td>0.35503</td></tr><tr><td>val_Tm_corr-arr</td><td>0.28859</td></tr><tr><td>val_Tm_corr-lit_uv</td><td>0.9274</td></tr><tr><td>val_Tm_corr-ov</td><td>0.50662</td></tr><tr><td>val_Tm_mae-all</td><td>133.95864</td></tr><tr><td>val_Tm_mae-arr</td><td>11.82044</td></tr><tr><td>val_Tm_mae-lit_uv</td><td>244.68075</td></tr><tr><td>val_Tm_mae-ov</td><td>236.7558</td></tr><tr><td>val_Tm_rmse-all</td><td>175.77805</td></tr><tr><td>val_Tm_rmse-arr</td><td>26.99091</td></tr><tr><td>val_Tm_rmse-lit_uv</td><td>244.92207</td></tr><tr><td>val_Tm_rmse-ov</td><td>236.7906</td></tr><tr><td>val_dG_adjusted_mae-arr</td><td>0.65277</td></tr><tr><td>val_dG_adjusted_rmse-arr</td><td>0.89916</td></tr><tr><td>val_dG_bias-arr</td><td>-0.18832</td></tr><tr><td>val_dG_corr-arr</td><td>0.65832</td></tr><tr><td>val_dG_mae-arr</td><td>0.64659</td></tr><tr><td>val_dG_rmse-arr</td><td>0.91867</td></tr><tr><td>val_dH_adjusted_mae-arr</td><td>6.21213</td></tr><tr><td>val_dH_adjusted_rmse-arr</td><td>8.09601</td></tr><tr><td>val_dH_bias-arr</td><td>-0.20792</td></tr><tr><td>val_dH_corr-arr</td><td>0.70547</td></tr><tr><td>val_dH_mae-arr</td><td>6.21932</td></tr><tr><td>val_dH_rmse-arr</td><td>8.09868</td></tr></table><br/></div></div>"
      ],
      "text/plain": [
       "<IPython.core.display.HTML object>"
      ]
     },
     "metadata": {},
     "output_type": "display_data"
    },
    {
     "data": {
      "text/html": [
       " View run <strong style=\"color:#cdcd00\">frightful-goosebump-35</strong> at: <a href='https://wandb.ai/keyuxi/NN/runs/668nnvbw' target=\"_blank\">https://wandb.ai/keyuxi/NN/runs/668nnvbw</a><br/>Synced 6 W&B file(s), 0 media file(s), 0 artifact file(s) and 0 other file(s)"
      ],
      "text/plain": [
       "<IPython.core.display.HTML object>"
      ]
     },
     "metadata": {},
     "output_type": "display_data"
    },
    {
     "data": {
      "text/html": [
       "Find logs at: <code>./wandb/run-20231030_153057-668nnvbw/logs</code>"
      ],
      "text/plain": [
       "<IPython.core.display.HTML object>"
      ]
     },
     "metadata": {},
     "output_type": "display_data"
    },
    {
     "data": {
      "text/html": [
       "Tracking run with wandb version 0.15.12"
      ],
      "text/plain": [
       "<IPython.core.display.HTML object>"
      ]
     },
     "metadata": {},
     "output_type": "display_data"
    },
    {
     "data": {
      "text/html": [
       "Run data is saved locally in <code>/Users/yuxi/workspace/nnn_paper/wandb/run-20231030_153140-dpozbvl1</code>"
      ],
      "text/plain": [
       "<IPython.core.display.HTML object>"
      ]
     },
     "metadata": {},
     "output_type": "display_data"
    },
    {
     "data": {
      "text/html": [
       "Syncing run <strong><a href='https://wandb.ai/keyuxi/NN/runs/dpozbvl1' target=\"_blank\">dire-mask-36</a></strong> to <a href='https://wandb.ai/keyuxi/NN' target=\"_blank\">Weights & Biases</a> (<a href='https://wandb.me/run' target=\"_blank\">docs</a>)<br/>"
      ],
      "text/plain": [
       "<IPython.core.display.HTML object>"
      ]
     },
     "metadata": {},
     "output_type": "display_data"
    },
    {
     "data": {
      "text/html": [
       " View project at <a href='https://wandb.ai/keyuxi/NN' target=\"_blank\">https://wandb.ai/keyuxi/NN</a>"
      ],
      "text/plain": [
       "<IPython.core.display.HTML object>"
      ]
     },
     "metadata": {},
     "output_type": "display_data"
    },
    {
     "data": {
      "text/html": [
       " View run at <a href='https://wandb.ai/keyuxi/NN/runs/dpozbvl1' target=\"_blank\">https://wandb.ai/keyuxi/NN/runs/dpozbvl1</a>"
      ],
      "text/plain": [
       "<IPython.core.display.HTML object>"
      ]
     },
     "metadata": {},
     "output_type": "display_data"
    },
    {
     "name": "stdout",
     "output_type": "stream",
     "text": [
      "feats (27732, 1338) Index(['A+A+T+T_(+(+)+)', 'A+C+G+T_(+(+)+)', 'A+G+C+T_(+(+)+)'], dtype='object')\n",
      "fixed_feature_names: []\n",
      "Empty DataFrame\n",
      "Columns: [dH]\n",
      "Index: []\n",
      "[]\n",
      "Warning: Rank of matrix A_unknown, 1295, is smaller than the number of features 1338!\n",
      "Empty DataFrame\n",
      "Columns: [dG]\n",
      "Index: []\n",
      "[]\n",
      "Warning: Rank of matrix A_unknown, 1304, is smaller than the number of features 1338!\n"
     ]
    },
    {
     "data": {
      "text/html": [
       "Waiting for W&B process to finish... <strong style=\"color:green\">(success).</strong>"
      ],
      "text/plain": [
       "<IPython.core.display.HTML object>"
      ]
     },
     "metadata": {},
     "output_type": "display_data"
    },
    {
     "data": {
      "text/html": [
       "<style>\n",
       "    table.wandb td:nth-child(1) { padding: 0 10px; text-align: left ; width: auto;} td:nth-child(2) {text-align: left ; width: 100%}\n",
       "    .wandb-row { display: flex; flex-direction: row; flex-wrap: wrap; justify-content: flex-start; width: 100% }\n",
       "    .wandb-col { display: flex; flex-direction: column; flex-basis: 100%; flex: 1; padding: 10px; }\n",
       "    </style>\n",
       "<div class=\"wandb-row\"><div class=\"wandb-col\"><h3>Run history:</h3><br/><table class=\"wandb\"><tr><td>n_feat</td><td>▁</td></tr><tr><td>n_fixed_feat</td><td>▁</td></tr><tr><td>train_dG_mae</td><td>▁</td></tr><tr><td>train_dG_rsqr</td><td>▁</td></tr><tr><td>train_dH_mae</td><td>▁</td></tr><tr><td>train_dH_rsqr</td><td>▁</td></tr><tr><td>val_Tm_adjusted_mae-all</td><td>▁</td></tr><tr><td>val_Tm_adjusted_mae-arr</td><td>▁</td></tr><tr><td>val_Tm_adjusted_mae-lit_uv</td><td>▁</td></tr><tr><td>val_Tm_adjusted_mae-ov</td><td>▁</td></tr><tr><td>val_Tm_adjusted_rmse-all</td><td>▁</td></tr><tr><td>val_Tm_adjusted_rmse-arr</td><td>▁</td></tr><tr><td>val_Tm_adjusted_rmse-lit_uv</td><td>▁</td></tr><tr><td>val_Tm_adjusted_rmse-ov</td><td>▁</td></tr><tr><td>val_Tm_bias-all</td><td>▁</td></tr><tr><td>val_Tm_bias-arr</td><td>▁</td></tr><tr><td>val_Tm_bias-lit_uv</td><td>▁</td></tr><tr><td>val_Tm_bias-ov</td><td>▁</td></tr><tr><td>val_Tm_corr-all</td><td>▁</td></tr><tr><td>val_Tm_corr-arr</td><td>▁</td></tr><tr><td>val_Tm_corr-lit_uv</td><td>▁</td></tr><tr><td>val_Tm_corr-ov</td><td>▁</td></tr><tr><td>val_Tm_mae-all</td><td>▁</td></tr><tr><td>val_Tm_mae-arr</td><td>▁</td></tr><tr><td>val_Tm_mae-lit_uv</td><td>▁</td></tr><tr><td>val_Tm_mae-ov</td><td>▁</td></tr><tr><td>val_Tm_rmse-all</td><td>▁</td></tr><tr><td>val_Tm_rmse-arr</td><td>▁</td></tr><tr><td>val_Tm_rmse-lit_uv</td><td>▁</td></tr><tr><td>val_Tm_rmse-ov</td><td>▁</td></tr><tr><td>val_dG_adjusted_mae-arr</td><td>▁</td></tr><tr><td>val_dG_adjusted_rmse-arr</td><td>▁</td></tr><tr><td>val_dG_bias-arr</td><td>▁</td></tr><tr><td>val_dG_corr-arr</td><td>▁</td></tr><tr><td>val_dG_mae-arr</td><td>▁</td></tr><tr><td>val_dG_rmse-arr</td><td>▁</td></tr><tr><td>val_dH_adjusted_mae-arr</td><td>▁</td></tr><tr><td>val_dH_adjusted_rmse-arr</td><td>▁</td></tr><tr><td>val_dH_bias-arr</td><td>▁</td></tr><tr><td>val_dH_corr-arr</td><td>▁</td></tr><tr><td>val_dH_mae-arr</td><td>▁</td></tr><tr><td>val_dH_rmse-arr</td><td>▁</td></tr></table><br/></div><div class=\"wandb-col\"><h3>Run summary:</h3><br/><table class=\"wandb\"><tr><td>n_feat</td><td>1338</td></tr><tr><td>n_fixed_feat</td><td>0</td></tr><tr><td>train_dG_mae</td><td>0.39489</td></tr><tr><td>train_dG_rsqr</td><td>0.83183</td></tr><tr><td>train_dH_mae</td><td>4.49128</td></tr><tr><td>train_dH_rsqr</td><td>0.66931</td></tr><tr><td>val_Tm_adjusted_mae-all</td><td>116.56888</td></tr><tr><td>val_Tm_adjusted_mae-arr</td><td>6.85737</td></tr><tr><td>val_Tm_adjusted_mae-lit_uv</td><td>9.62829</td></tr><tr><td>val_Tm_adjusted_mae-ov</td><td>2.94292</td></tr><tr><td>val_Tm_adjusted_rmse-all</td><td>117.28903</td></tr><tr><td>val_Tm_adjusted_rmse-arr</td><td>13.87894</td></tr><tr><td>val_Tm_adjusted_rmse-lit_uv</td><td>10.93701</td></tr><tr><td>val_Tm_adjusted_rmse-ov</td><td>3.60788</td></tr><tr><td>val_Tm_bias-all</td><td>130.31781</td></tr><tr><td>val_Tm_bias-arr</td><td>3.51094</td></tr><tr><td>val_Tm_bias-lit_uv</td><td>245.51664</td></tr><tr><td>val_Tm_bias-ov</td><td>237.0134</td></tr><tr><td>val_Tm_corr-all</td><td>0.36735</td></tr><tr><td>val_Tm_corr-arr</td><td>0.58334</td></tr><tr><td>val_Tm_corr-lit_uv</td><td>0.93279</td></tr><tr><td>val_Tm_corr-ov</td><td>0.62448</td></tr><tr><td>val_Tm_mae-all</td><td>131.92259</td></tr><tr><td>val_Tm_mae-arr</td><td>7.00607</td></tr><tr><td>val_Tm_mae-lit_uv</td><td>245.51664</td></tr><tr><td>val_Tm_mae-ov</td><td>237.0134</td></tr><tr><td>val_Tm_rmse-all</td><td>175.32669</td></tr><tr><td>val_Tm_rmse-arr</td><td>14.31613</td></tr><tr><td>val_Tm_rmse-lit_uv</td><td>245.76013</td></tr><tr><td>val_Tm_rmse-ov</td><td>237.04086</td></tr><tr><td>val_dG_adjusted_mae-arr</td><td>0.39528</td></tr><tr><td>val_dG_adjusted_rmse-arr</td><td>0.53872</td></tr><tr><td>val_dG_bias-arr</td><td>-0.0514</td></tr><tr><td>val_dG_corr-arr</td><td>0.86778</td></tr><tr><td>val_dG_mae-arr</td><td>0.39869</td></tr><tr><td>val_dG_rmse-arr</td><td>0.54117</td></tr><tr><td>val_dH_adjusted_mae-arr</td><td>5.20602</td></tr><tr><td>val_dH_adjusted_rmse-arr</td><td>6.97011</td></tr><tr><td>val_dH_bias-arr</td><td>1.47826</td></tr><tr><td>val_dH_corr-arr</td><td>0.78746</td></tr><tr><td>val_dH_mae-arr</td><td>5.22905</td></tr><tr><td>val_dH_rmse-arr</td><td>7.12514</td></tr></table><br/></div></div>"
      ],
      "text/plain": [
       "<IPython.core.display.HTML object>"
      ]
     },
     "metadata": {},
     "output_type": "display_data"
    },
    {
     "data": {
      "text/html": [
       " View run <strong style=\"color:#cdcd00\">dire-mask-36</strong> at: <a href='https://wandb.ai/keyuxi/NN/runs/dpozbvl1' target=\"_blank\">https://wandb.ai/keyuxi/NN/runs/dpozbvl1</a><br/>Synced 6 W&B file(s), 0 media file(s), 0 artifact file(s) and 0 other file(s)"
      ],
      "text/plain": [
       "<IPython.core.display.HTML object>"
      ]
     },
     "metadata": {},
     "output_type": "display_data"
    },
    {
     "data": {
      "text/html": [
       "Find logs at: <code>./wandb/run-20231030_153140-dpozbvl1/logs</code>"
      ],
      "text/plain": [
       "<IPython.core.display.HTML object>"
      ]
     },
     "metadata": {},
     "output_type": "display_data"
    },
    {
     "data": {
      "text/html": [
       "Tracking run with wandb version 0.15.12"
      ],
      "text/plain": [
       "<IPython.core.display.HTML object>"
      ]
     },
     "metadata": {},
     "output_type": "display_data"
    },
    {
     "data": {
      "text/html": [
       "Run data is saved locally in <code>/Users/yuxi/workspace/nnn_paper/wandb/run-20231030_153233-tkw7s5t5</code>"
      ],
      "text/plain": [
       "<IPython.core.display.HTML object>"
      ]
     },
     "metadata": {},
     "output_type": "display_data"
    },
    {
     "data": {
      "text/html": [
       "Syncing run <strong><a href='https://wandb.ai/keyuxi/NN/runs/tkw7s5t5' target=\"_blank\">enchanted-whisper-37</a></strong> to <a href='https://wandb.ai/keyuxi/NN' target=\"_blank\">Weights & Biases</a> (<a href='https://wandb.me/run' target=\"_blank\">docs</a>)<br/>"
      ],
      "text/plain": [
       "<IPython.core.display.HTML object>"
      ]
     },
     "metadata": {},
     "output_type": "display_data"
    },
    {
     "data": {
      "text/html": [
       " View project at <a href='https://wandb.ai/keyuxi/NN' target=\"_blank\">https://wandb.ai/keyuxi/NN</a>"
      ],
      "text/plain": [
       "<IPython.core.display.HTML object>"
      ]
     },
     "metadata": {},
     "output_type": "display_data"
    },
    {
     "data": {
      "text/html": [
       " View run at <a href='https://wandb.ai/keyuxi/NN/runs/tkw7s5t5' target=\"_blank\">https://wandb.ai/keyuxi/NN/runs/tkw7s5t5</a>"
      ],
      "text/plain": [
       "<IPython.core.display.HTML object>"
      ]
     },
     "metadata": {},
     "output_type": "display_data"
    },
    {
     "name": "stdout",
     "output_type": "stream",
     "text": [
      "feats (27732, 1338) Index(['A+A+T+T_(+(+)+)', 'A+C+G+T_(+(+)+)', 'A+G+C+T_(+(+)+)'], dtype='object')\n",
      "fixed_feature_names: []\n",
      "Empty DataFrame\n",
      "Columns: [dH]\n",
      "Index: []\n",
      "[]\n",
      "Warning: Rank of matrix A_unknown, 1328, is smaller than the number of features 1338!\n",
      "Empty DataFrame\n",
      "Columns: [dG]\n",
      "Index: []\n",
      "[]\n",
      "Warning: Rank of matrix A_unknown, 1328, is smaller than the number of features 1338!\n"
     ]
    },
    {
     "data": {
      "text/html": [
       "Waiting for W&B process to finish... <strong style=\"color:green\">(success).</strong>"
      ],
      "text/plain": [
       "<IPython.core.display.HTML object>"
      ]
     },
     "metadata": {},
     "output_type": "display_data"
    },
    {
     "data": {
      "text/html": [
       "<style>\n",
       "    table.wandb td:nth-child(1) { padding: 0 10px; text-align: left ; width: auto;} td:nth-child(2) {text-align: left ; width: 100%}\n",
       "    .wandb-row { display: flex; flex-direction: row; flex-wrap: wrap; justify-content: flex-start; width: 100% }\n",
       "    .wandb-col { display: flex; flex-direction: column; flex-basis: 100%; flex: 1; padding: 10px; }\n",
       "    </style>\n",
       "<div class=\"wandb-row\"><div class=\"wandb-col\"><h3>Run history:</h3><br/><table class=\"wandb\"><tr><td>n_feat</td><td>▁</td></tr><tr><td>n_fixed_feat</td><td>▁</td></tr><tr><td>train_dG_mae</td><td>▁</td></tr><tr><td>train_dG_rsqr</td><td>▁</td></tr><tr><td>train_dH_mae</td><td>▁</td></tr><tr><td>train_dH_rsqr</td><td>▁</td></tr><tr><td>val_Tm_adjusted_mae-all</td><td>▁</td></tr><tr><td>val_Tm_adjusted_mae-arr</td><td>▁</td></tr><tr><td>val_Tm_adjusted_mae-lit_uv</td><td>▁</td></tr><tr><td>val_Tm_adjusted_mae-ov</td><td>▁</td></tr><tr><td>val_Tm_adjusted_rmse-all</td><td>▁</td></tr><tr><td>val_Tm_adjusted_rmse-arr</td><td>▁</td></tr><tr><td>val_Tm_adjusted_rmse-lit_uv</td><td>▁</td></tr><tr><td>val_Tm_adjusted_rmse-ov</td><td>▁</td></tr><tr><td>val_Tm_bias-all</td><td>▁</td></tr><tr><td>val_Tm_bias-arr</td><td>▁</td></tr><tr><td>val_Tm_bias-lit_uv</td><td>▁</td></tr><tr><td>val_Tm_bias-ov</td><td>▁</td></tr><tr><td>val_Tm_corr-all</td><td>▁</td></tr><tr><td>val_Tm_corr-arr</td><td>▁</td></tr><tr><td>val_Tm_corr-lit_uv</td><td>▁</td></tr><tr><td>val_Tm_corr-ov</td><td>▁</td></tr><tr><td>val_Tm_mae-all</td><td>▁</td></tr><tr><td>val_Tm_mae-arr</td><td>▁</td></tr><tr><td>val_Tm_mae-lit_uv</td><td>▁</td></tr><tr><td>val_Tm_mae-ov</td><td>▁</td></tr><tr><td>val_Tm_rmse-all</td><td>▁</td></tr><tr><td>val_Tm_rmse-arr</td><td>▁</td></tr><tr><td>val_Tm_rmse-lit_uv</td><td>▁</td></tr><tr><td>val_Tm_rmse-ov</td><td>▁</td></tr><tr><td>val_dG_adjusted_mae-arr</td><td>▁</td></tr><tr><td>val_dG_adjusted_rmse-arr</td><td>▁</td></tr><tr><td>val_dG_bias-arr</td><td>▁</td></tr><tr><td>val_dG_corr-arr</td><td>▁</td></tr><tr><td>val_dG_mae-arr</td><td>▁</td></tr><tr><td>val_dG_rmse-arr</td><td>▁</td></tr><tr><td>val_dH_adjusted_mae-arr</td><td>▁</td></tr><tr><td>val_dH_adjusted_rmse-arr</td><td>▁</td></tr><tr><td>val_dH_bias-arr</td><td>▁</td></tr><tr><td>val_dH_corr-arr</td><td>▁</td></tr><tr><td>val_dH_mae-arr</td><td>▁</td></tr><tr><td>val_dH_rmse-arr</td><td>▁</td></tr></table><br/></div><div class=\"wandb-col\"><h3>Run summary:</h3><br/><table class=\"wandb\"><tr><td>n_feat</td><td>1338</td></tr><tr><td>n_fixed_feat</td><td>0</td></tr><tr><td>train_dG_mae</td><td>0.42321</td></tr><tr><td>train_dG_rsqr</td><td>0.81568</td></tr><tr><td>train_dH_mae</td><td>4.69258</td></tr><tr><td>train_dH_rsqr</td><td>0.64814</td></tr><tr><td>val_Tm_adjusted_mae-all</td><td>116.83341</td></tr><tr><td>val_Tm_adjusted_mae-arr</td><td>5.70168</td></tr><tr><td>val_Tm_adjusted_mae-lit_uv</td><td>9.602</td></tr><tr><td>val_Tm_adjusted_mae-ov</td><td>3.03406</td></tr><tr><td>val_Tm_adjusted_rmse-all</td><td>117.45715</td></tr><tr><td>val_Tm_adjusted_rmse-arr</td><td>8.97258</td></tr><tr><td>val_Tm_adjusted_rmse-lit_uv</td><td>10.90303</td></tr><tr><td>val_Tm_adjusted_rmse-ov</td><td>3.70906</td></tr><tr><td>val_Tm_bias-all</td><td>130.20034</td></tr><tr><td>val_Tm_bias-arr</td><td>2.97187</td></tr><tr><td>val_Tm_bias-lit_uv</td><td>245.47459</td></tr><tr><td>val_Tm_bias-ov</td><td>237.28959</td></tr><tr><td>val_Tm_corr-all</td><td>0.36814</td></tr><tr><td>val_Tm_corr-arr</td><td>0.75035</td></tr><tr><td>val_Tm_corr-lit_uv</td><td>0.93039</td></tr><tr><td>val_Tm_corr-ov</td><td>0.59917</td></tr><tr><td>val_Tm_mae-all</td><td>131.63026</td></tr><tr><td>val_Tm_mae-arr</td><td>6.08616</td></tr><tr><td>val_Tm_mae-lit_uv</td><td>245.47459</td></tr><tr><td>val_Tm_mae-ov</td><td>237.28959</td></tr><tr><td>val_Tm_rmse-all</td><td>175.35197</td></tr><tr><td>val_Tm_rmse-arr</td><td>9.45194</td></tr><tr><td>val_Tm_rmse-lit_uv</td><td>245.71661</td></tr><tr><td>val_Tm_rmse-ov</td><td>237.31858</td></tr><tr><td>val_dG_adjusted_mae-arr</td><td>0.37017</td></tr><tr><td>val_dG_adjusted_rmse-arr</td><td>0.4884</td></tr><tr><td>val_dG_bias-arr</td><td>-0.04608</td></tr><tr><td>val_dG_corr-arr</td><td>0.89079</td></tr><tr><td>val_dG_mae-arr</td><td>0.37378</td></tr><tr><td>val_dG_rmse-arr</td><td>0.49057</td></tr><tr><td>val_dH_adjusted_mae-arr</td><td>5.10662</td></tr><tr><td>val_dH_adjusted_rmse-arr</td><td>6.78781</td></tr><tr><td>val_dH_bias-arr</td><td>1.68933</td></tr><tr><td>val_dH_corr-arr</td><td>0.79849</td></tr><tr><td>val_dH_mae-arr</td><td>5.12449</td></tr><tr><td>val_dH_rmse-arr</td><td>6.99487</td></tr></table><br/></div></div>"
      ],
      "text/plain": [
       "<IPython.core.display.HTML object>"
      ]
     },
     "metadata": {},
     "output_type": "display_data"
    },
    {
     "data": {
      "text/html": [
       " View run <strong style=\"color:#cdcd00\">enchanted-whisper-37</strong> at: <a href='https://wandb.ai/keyuxi/NN/runs/tkw7s5t5' target=\"_blank\">https://wandb.ai/keyuxi/NN/runs/tkw7s5t5</a><br/>Synced 6 W&B file(s), 0 media file(s), 0 artifact file(s) and 0 other file(s)"
      ],
      "text/plain": [
       "<IPython.core.display.HTML object>"
      ]
     },
     "metadata": {},
     "output_type": "display_data"
    },
    {
     "data": {
      "text/html": [
       "Find logs at: <code>./wandb/run-20231030_153233-tkw7s5t5/logs</code>"
      ],
      "text/plain": [
       "<IPython.core.display.HTML object>"
      ]
     },
     "metadata": {},
     "output_type": "display_data"
    },
    {
     "data": {
      "text/html": [
       "Tracking run with wandb version 0.15.12"
      ],
      "text/plain": [
       "<IPython.core.display.HTML object>"
      ]
     },
     "metadata": {},
     "output_type": "display_data"
    },
    {
     "data": {
      "text/html": [
       "Run data is saved locally in <code>/Users/yuxi/workspace/nnn_paper/wandb/run-20231030_153331-u5hom1rf</code>"
      ],
      "text/plain": [
       "<IPython.core.display.HTML object>"
      ]
     },
     "metadata": {},
     "output_type": "display_data"
    },
    {
     "data": {
      "text/html": [
       "Syncing run <strong><a href='https://wandb.ai/keyuxi/NN/runs/u5hom1rf' target=\"_blank\">moonlit-orb-38</a></strong> to <a href='https://wandb.ai/keyuxi/NN' target=\"_blank\">Weights & Biases</a> (<a href='https://wandb.me/run' target=\"_blank\">docs</a>)<br/>"
      ],
      "text/plain": [
       "<IPython.core.display.HTML object>"
      ]
     },
     "metadata": {},
     "output_type": "display_data"
    },
    {
     "data": {
      "text/html": [
       " View project at <a href='https://wandb.ai/keyuxi/NN' target=\"_blank\">https://wandb.ai/keyuxi/NN</a>"
      ],
      "text/plain": [
       "<IPython.core.display.HTML object>"
      ]
     },
     "metadata": {},
     "output_type": "display_data"
    },
    {
     "data": {
      "text/html": [
       " View run at <a href='https://wandb.ai/keyuxi/NN/runs/u5hom1rf' target=\"_blank\">https://wandb.ai/keyuxi/NN/runs/u5hom1rf</a>"
      ],
      "text/plain": [
       "<IPython.core.display.HTML object>"
      ]
     },
     "metadata": {},
     "output_type": "display_data"
    },
    {
     "name": "stdout",
     "output_type": "stream",
     "text": [
      "feats (27732, 1338) Index(['A+A+T+T_(+(+)+)', 'A+C+G+T_(+(+)+)', 'A+G+C+T_(+(+)+)'], dtype='object')\n",
      "fixed_feature_names: []\n",
      "Empty DataFrame\n",
      "Columns: [dH]\n",
      "Index: []\n",
      "[]\n",
      "Warning: Rank of matrix A_unknown, 1330, is smaller than the number of features 1338!\n",
      "Empty DataFrame\n",
      "Columns: [dG]\n",
      "Index: []\n",
      "[]\n",
      "Warning: Rank of matrix A_unknown, 1331, is smaller than the number of features 1338!\n"
     ]
    },
    {
     "data": {
      "text/html": [
       "Waiting for W&B process to finish... <strong style=\"color:green\">(success).</strong>"
      ],
      "text/plain": [
       "<IPython.core.display.HTML object>"
      ]
     },
     "metadata": {},
     "output_type": "display_data"
    },
    {
     "data": {
      "text/html": [
       "<style>\n",
       "    table.wandb td:nth-child(1) { padding: 0 10px; text-align: left ; width: auto;} td:nth-child(2) {text-align: left ; width: 100%}\n",
       "    .wandb-row { display: flex; flex-direction: row; flex-wrap: wrap; justify-content: flex-start; width: 100% }\n",
       "    .wandb-col { display: flex; flex-direction: column; flex-basis: 100%; flex: 1; padding: 10px; }\n",
       "    </style>\n",
       "<div class=\"wandb-row\"><div class=\"wandb-col\"><h3>Run history:</h3><br/><table class=\"wandb\"><tr><td>n_feat</td><td>▁</td></tr><tr><td>n_fixed_feat</td><td>▁</td></tr><tr><td>train_dG_mae</td><td>▁</td></tr><tr><td>train_dG_rsqr</td><td>▁</td></tr><tr><td>train_dH_mae</td><td>▁</td></tr><tr><td>train_dH_rsqr</td><td>▁</td></tr><tr><td>val_Tm_adjusted_mae-all</td><td>▁</td></tr><tr><td>val_Tm_adjusted_mae-arr</td><td>▁</td></tr><tr><td>val_Tm_adjusted_mae-lit_uv</td><td>▁</td></tr><tr><td>val_Tm_adjusted_mae-ov</td><td>▁</td></tr><tr><td>val_Tm_adjusted_rmse-all</td><td>▁</td></tr><tr><td>val_Tm_adjusted_rmse-arr</td><td>▁</td></tr><tr><td>val_Tm_adjusted_rmse-lit_uv</td><td>▁</td></tr><tr><td>val_Tm_adjusted_rmse-ov</td><td>▁</td></tr><tr><td>val_Tm_bias-all</td><td>▁</td></tr><tr><td>val_Tm_bias-arr</td><td>▁</td></tr><tr><td>val_Tm_bias-lit_uv</td><td>▁</td></tr><tr><td>val_Tm_bias-ov</td><td>▁</td></tr><tr><td>val_Tm_corr-all</td><td>▁</td></tr><tr><td>val_Tm_corr-arr</td><td>▁</td></tr><tr><td>val_Tm_corr-lit_uv</td><td>▁</td></tr><tr><td>val_Tm_corr-ov</td><td>▁</td></tr><tr><td>val_Tm_mae-all</td><td>▁</td></tr><tr><td>val_Tm_mae-arr</td><td>▁</td></tr><tr><td>val_Tm_mae-lit_uv</td><td>▁</td></tr><tr><td>val_Tm_mae-ov</td><td>▁</td></tr><tr><td>val_Tm_rmse-all</td><td>▁</td></tr><tr><td>val_Tm_rmse-arr</td><td>▁</td></tr><tr><td>val_Tm_rmse-lit_uv</td><td>▁</td></tr><tr><td>val_Tm_rmse-ov</td><td>▁</td></tr><tr><td>val_dG_adjusted_mae-arr</td><td>▁</td></tr><tr><td>val_dG_adjusted_rmse-arr</td><td>▁</td></tr><tr><td>val_dG_bias-arr</td><td>▁</td></tr><tr><td>val_dG_corr-arr</td><td>▁</td></tr><tr><td>val_dG_mae-arr</td><td>▁</td></tr><tr><td>val_dG_rmse-arr</td><td>▁</td></tr><tr><td>val_dH_adjusted_mae-arr</td><td>▁</td></tr><tr><td>val_dH_adjusted_rmse-arr</td><td>▁</td></tr><tr><td>val_dH_bias-arr</td><td>▁</td></tr><tr><td>val_dH_corr-arr</td><td>▁</td></tr><tr><td>val_dH_mae-arr</td><td>▁</td></tr><tr><td>val_dH_rmse-arr</td><td>▁</td></tr></table><br/></div><div class=\"wandb-col\"><h3>Run summary:</h3><br/><table class=\"wandb\"><tr><td>n_feat</td><td>1338</td></tr><tr><td>n_fixed_feat</td><td>0</td></tr><tr><td>train_dG_mae</td><td>0.41976</td></tr><tr><td>train_dG_rsqr</td><td>0.81956</td></tr><tr><td>train_dH_mae</td><td>4.81661</td></tr><tr><td>train_dH_rsqr</td><td>0.63822</td></tr><tr><td>val_Tm_adjusted_mae-all</td><td>117.03469</td></tr><tr><td>val_Tm_adjusted_mae-arr</td><td>5.41521</td></tr><tr><td>val_Tm_adjusted_mae-lit_uv</td><td>9.75385</td></tr><tr><td>val_Tm_adjusted_mae-ov</td><td>2.82059</td></tr><tr><td>val_Tm_adjusted_rmse-all</td><td>117.68107</td></tr><tr><td>val_Tm_adjusted_rmse-arr</td><td>9.91424</td></tr><tr><td>val_Tm_adjusted_rmse-lit_uv</td><td>11.09271</td></tr><tr><td>val_Tm_adjusted_rmse-ov</td><td>3.48593</td></tr><tr><td>val_Tm_bias-all</td><td>130.50267</td></tr><tr><td>val_Tm_bias-arr</td><td>3.0688</td></tr><tr><td>val_Tm_bias-lit_uv</td><td>246.52901</td></tr><tr><td>val_Tm_bias-ov</td><td>237.69318</td></tr><tr><td>val_Tm_corr-all</td><td>0.37036</td></tr><tr><td>val_Tm_corr-arr</td><td>0.72755</td></tr><tr><td>val_Tm_corr-lit_uv</td><td>0.93502</td></tr><tr><td>val_Tm_corr-ov</td><td>0.64917</td></tr><tr><td>val_Tm_mae-all</td><td>131.75171</td></tr><tr><td>val_Tm_mae-arr</td><td>5.78915</td></tr><tr><td>val_Tm_mae-lit_uv</td><td>246.52901</td></tr><tr><td>val_Tm_mae-ov</td><td>237.69318</td></tr><tr><td>val_Tm_rmse-all</td><td>175.72644</td></tr><tr><td>val_Tm_rmse-arr</td><td>10.37833</td></tr><tr><td>val_Tm_rmse-lit_uv</td><td>246.77845</td></tr><tr><td>val_Tm_rmse-ov</td><td>237.71874</td></tr><tr><td>val_dG_adjusted_mae-arr</td><td>0.34927</td></tr><tr><td>val_dG_adjusted_rmse-arr</td><td>0.463</td></tr><tr><td>val_dG_bias-arr</td><td>-0.04387</td></tr><tr><td>val_dG_corr-arr</td><td>0.90236</td></tr><tr><td>val_dG_mae-arr</td><td>0.35357</td></tr><tr><td>val_dG_rmse-arr</td><td>0.46507</td></tr><tr><td>val_dH_adjusted_mae-arr</td><td>5.0321</td></tr><tr><td>val_dH_adjusted_rmse-arr</td><td>6.73551</td></tr><tr><td>val_dH_bias-arr</td><td>1.83648</td></tr><tr><td>val_dH_corr-arr</td><td>0.80215</td></tr><tr><td>val_dH_mae-arr</td><td>5.07418</td></tr><tr><td>val_dH_rmse-arr</td><td>6.98139</td></tr></table><br/></div></div>"
      ],
      "text/plain": [
       "<IPython.core.display.HTML object>"
      ]
     },
     "metadata": {},
     "output_type": "display_data"
    },
    {
     "data": {
      "text/html": [
       " View run <strong style=\"color:#cdcd00\">moonlit-orb-38</strong> at: <a href='https://wandb.ai/keyuxi/NN/runs/u5hom1rf' target=\"_blank\">https://wandb.ai/keyuxi/NN/runs/u5hom1rf</a><br/>Synced 6 W&B file(s), 0 media file(s), 0 artifact file(s) and 0 other file(s)"
      ],
      "text/plain": [
       "<IPython.core.display.HTML object>"
      ]
     },
     "metadata": {},
     "output_type": "display_data"
    },
    {
     "data": {
      "text/html": [
       "Find logs at: <code>./wandb/run-20231030_153331-u5hom1rf/logs</code>"
      ],
      "text/plain": [
       "<IPython.core.display.HTML object>"
      ]
     },
     "metadata": {},
     "output_type": "display_data"
    },
    {
     "data": {
      "text/html": [
       "Tracking run with wandb version 0.15.12"
      ],
      "text/plain": [
       "<IPython.core.display.HTML object>"
      ]
     },
     "metadata": {},
     "output_type": "display_data"
    },
    {
     "data": {
      "text/html": [
       "Run data is saved locally in <code>/Users/yuxi/workspace/nnn_paper/wandb/run-20231030_153444-qboh9scg</code>"
      ],
      "text/plain": [
       "<IPython.core.display.HTML object>"
      ]
     },
     "metadata": {},
     "output_type": "display_data"
    },
    {
     "data": {
      "text/html": [
       "Syncing run <strong><a href='https://wandb.ai/keyuxi/NN/runs/qboh9scg' target=\"_blank\">moonlit-mausoleum-39</a></strong> to <a href='https://wandb.ai/keyuxi/NN' target=\"_blank\">Weights & Biases</a> (<a href='https://wandb.me/run' target=\"_blank\">docs</a>)<br/>"
      ],
      "text/plain": [
       "<IPython.core.display.HTML object>"
      ]
     },
     "metadata": {},
     "output_type": "display_data"
    },
    {
     "data": {
      "text/html": [
       " View project at <a href='https://wandb.ai/keyuxi/NN' target=\"_blank\">https://wandb.ai/keyuxi/NN</a>"
      ],
      "text/plain": [
       "<IPython.core.display.HTML object>"
      ]
     },
     "metadata": {},
     "output_type": "display_data"
    },
    {
     "data": {
      "text/html": [
       " View run at <a href='https://wandb.ai/keyuxi/NN/runs/qboh9scg' target=\"_blank\">https://wandb.ai/keyuxi/NN/runs/qboh9scg</a>"
      ],
      "text/plain": [
       "<IPython.core.display.HTML object>"
      ]
     },
     "metadata": {},
     "output_type": "display_data"
    },
    {
     "name": "stdout",
     "output_type": "stream",
     "text": [
      "feats (27732, 1338) Index(['A+A+T+T_(+(+)+)', 'A+C+G+T_(+(+)+)', 'A+G+C+T_(+(+)+)'], dtype='object')\n",
      "fixed_feature_names: []\n",
      "Empty DataFrame\n",
      "Columns: [dH]\n",
      "Index: []\n",
      "[]\n",
      "Warning: Rank of matrix A_unknown, 1331, is smaller than the number of features 1338!\n",
      "Empty DataFrame\n",
      "Columns: [dG]\n",
      "Index: []\n",
      "[]\n",
      "Warning: Rank of matrix A_unknown, 1331, is smaller than the number of features 1338!\n"
     ]
    },
    {
     "data": {
      "text/html": [
       "Waiting for W&B process to finish... <strong style=\"color:green\">(success).</strong>"
      ],
      "text/plain": [
       "<IPython.core.display.HTML object>"
      ]
     },
     "metadata": {},
     "output_type": "display_data"
    },
    {
     "data": {
      "text/html": [
       "<style>\n",
       "    table.wandb td:nth-child(1) { padding: 0 10px; text-align: left ; width: auto;} td:nth-child(2) {text-align: left ; width: 100%}\n",
       "    .wandb-row { display: flex; flex-direction: row; flex-wrap: wrap; justify-content: flex-start; width: 100% }\n",
       "    .wandb-col { display: flex; flex-direction: column; flex-basis: 100%; flex: 1; padding: 10px; }\n",
       "    </style>\n",
       "<div class=\"wandb-row\"><div class=\"wandb-col\"><h3>Run history:</h3><br/><table class=\"wandb\"><tr><td>n_feat</td><td>▁</td></tr><tr><td>n_fixed_feat</td><td>▁</td></tr><tr><td>train_dG_mae</td><td>▁</td></tr><tr><td>train_dG_rsqr</td><td>▁</td></tr><tr><td>train_dH_mae</td><td>▁</td></tr><tr><td>train_dH_rsqr</td><td>▁</td></tr><tr><td>val_Tm_adjusted_mae-all</td><td>▁</td></tr><tr><td>val_Tm_adjusted_mae-arr</td><td>▁</td></tr><tr><td>val_Tm_adjusted_mae-lit_uv</td><td>▁</td></tr><tr><td>val_Tm_adjusted_mae-ov</td><td>▁</td></tr><tr><td>val_Tm_adjusted_rmse-all</td><td>▁</td></tr><tr><td>val_Tm_adjusted_rmse-arr</td><td>▁</td></tr><tr><td>val_Tm_adjusted_rmse-lit_uv</td><td>▁</td></tr><tr><td>val_Tm_adjusted_rmse-ov</td><td>▁</td></tr><tr><td>val_Tm_bias-all</td><td>▁</td></tr><tr><td>val_Tm_bias-arr</td><td>▁</td></tr><tr><td>val_Tm_bias-lit_uv</td><td>▁</td></tr><tr><td>val_Tm_bias-ov</td><td>▁</td></tr><tr><td>val_Tm_corr-all</td><td>▁</td></tr><tr><td>val_Tm_corr-arr</td><td>▁</td></tr><tr><td>val_Tm_corr-lit_uv</td><td>▁</td></tr><tr><td>val_Tm_corr-ov</td><td>▁</td></tr><tr><td>val_Tm_mae-all</td><td>▁</td></tr><tr><td>val_Tm_mae-arr</td><td>▁</td></tr><tr><td>val_Tm_mae-lit_uv</td><td>▁</td></tr><tr><td>val_Tm_mae-ov</td><td>▁</td></tr><tr><td>val_Tm_rmse-all</td><td>▁</td></tr><tr><td>val_Tm_rmse-arr</td><td>▁</td></tr><tr><td>val_Tm_rmse-lit_uv</td><td>▁</td></tr><tr><td>val_Tm_rmse-ov</td><td>▁</td></tr><tr><td>val_dG_adjusted_mae-arr</td><td>▁</td></tr><tr><td>val_dG_adjusted_rmse-arr</td><td>▁</td></tr><tr><td>val_dG_bias-arr</td><td>▁</td></tr><tr><td>val_dG_corr-arr</td><td>▁</td></tr><tr><td>val_dG_mae-arr</td><td>▁</td></tr><tr><td>val_dG_rmse-arr</td><td>▁</td></tr><tr><td>val_dH_adjusted_mae-arr</td><td>▁</td></tr><tr><td>val_dH_adjusted_rmse-arr</td><td>▁</td></tr><tr><td>val_dH_bias-arr</td><td>▁</td></tr><tr><td>val_dH_corr-arr</td><td>▁</td></tr><tr><td>val_dH_mae-arr</td><td>▁</td></tr><tr><td>val_dH_rmse-arr</td><td>▁</td></tr></table><br/></div><div class=\"wandb-col\"><h3>Run summary:</h3><br/><table class=\"wandb\"><tr><td>n_feat</td><td>1338</td></tr><tr><td>n_fixed_feat</td><td>0</td></tr><tr><td>train_dG_mae</td><td>0.42332</td></tr><tr><td>train_dG_rsqr</td><td>0.8171</td></tr><tr><td>train_dH_mae</td><td>4.85675</td></tr><tr><td>train_dH_rsqr</td><td>0.63161</td></tr><tr><td>val_Tm_adjusted_mae-all</td><td>117.06042</td></tr><tr><td>val_Tm_adjusted_mae-arr</td><td>5.21406</td></tr><tr><td>val_Tm_adjusted_mae-lit_uv</td><td>9.81861</td></tr><tr><td>val_Tm_adjusted_mae-ov</td><td>2.87319</td></tr><tr><td>val_Tm_adjusted_rmse-all</td><td>117.68793</td></tr><tr><td>val_Tm_adjusted_rmse-arr</td><td>9.04422</td></tr><tr><td>val_Tm_adjusted_rmse-lit_uv</td><td>11.17638</td></tr><tr><td>val_Tm_adjusted_rmse-ov</td><td>3.53788</td></tr><tr><td>val_Tm_bias-all</td><td>130.58962</td></tr><tr><td>val_Tm_bias-arr</td><td>3.11394</td></tr><tr><td>val_Tm_bias-lit_uv</td><td>246.51222</td></tr><tr><td>val_Tm_bias-ov</td><td>237.83325</td></tr><tr><td>val_Tm_corr-all</td><td>0.37047</td></tr><tr><td>val_Tm_corr-arr</td><td>0.75898</td></tr><tr><td>val_Tm_corr-lit_uv</td><td>0.93633</td></tr><tr><td>val_Tm_corr-ov</td><td>0.63838</td></tr><tr><td>val_Tm_mae-all</td><td>131.74461</td></tr><tr><td>val_Tm_mae-arr</td><td>5.62944</td></tr><tr><td>val_Tm_mae-lit_uv</td><td>246.51222</td></tr><tr><td>val_Tm_mae-ov</td><td>237.83325</td></tr><tr><td>val_Tm_rmse-all</td><td>175.79562</td></tr><tr><td>val_Tm_rmse-arr</td><td>9.56528</td></tr><tr><td>val_Tm_rmse-lit_uv</td><td>246.76544</td></tr><tr><td>val_Tm_rmse-ov</td><td>237.85956</td></tr><tr><td>val_dG_adjusted_mae-arr</td><td>0.34474</td></tr><tr><td>val_dG_adjusted_rmse-arr</td><td>0.45811</td></tr><tr><td>val_dG_bias-arr</td><td>-0.04493</td></tr><tr><td>val_dG_corr-arr</td><td>0.90455</td></tr><tr><td>val_dG_mae-arr</td><td>0.34933</td></tr><tr><td>val_dG_rmse-arr</td><td>0.46031</td></tr><tr><td>val_dH_adjusted_mae-arr</td><td>5.01605</td></tr><tr><td>val_dH_adjusted_rmse-arr</td><td>6.70476</td></tr><tr><td>val_dH_bias-arr</td><td>1.84456</td></tr><tr><td>val_dH_corr-arr</td><td>0.80403</td></tr><tr><td>val_dH_mae-arr</td><td>5.04914</td></tr><tr><td>val_dH_rmse-arr</td><td>6.95386</td></tr></table><br/></div></div>"
      ],
      "text/plain": [
       "<IPython.core.display.HTML object>"
      ]
     },
     "metadata": {},
     "output_type": "display_data"
    },
    {
     "data": {
      "text/html": [
       " View run <strong style=\"color:#cdcd00\">moonlit-mausoleum-39</strong> at: <a href='https://wandb.ai/keyuxi/NN/runs/qboh9scg' target=\"_blank\">https://wandb.ai/keyuxi/NN/runs/qboh9scg</a><br/>Synced 6 W&B file(s), 0 media file(s), 0 artifact file(s) and 0 other file(s)"
      ],
      "text/plain": [
       "<IPython.core.display.HTML object>"
      ]
     },
     "metadata": {},
     "output_type": "display_data"
    },
    {
     "data": {
      "text/html": [
       "Find logs at: <code>./wandb/run-20231030_153444-qboh9scg/logs</code>"
      ],
      "text/plain": [
       "<IPython.core.display.HTML object>"
      ]
     },
     "metadata": {},
     "output_type": "display_data"
    },
    {
     "data": {
      "text/html": [
       "Tracking run with wandb version 0.15.12"
      ],
      "text/plain": [
       "<IPython.core.display.HTML object>"
      ]
     },
     "metadata": {},
     "output_type": "display_data"
    },
    {
     "data": {
      "text/html": [
       "Run data is saved locally in <code>/Users/yuxi/workspace/nnn_paper/wandb/run-20231030_153611-e2s80w7s</code>"
      ],
      "text/plain": [
       "<IPython.core.display.HTML object>"
      ]
     },
     "metadata": {},
     "output_type": "display_data"
    },
    {
     "data": {
      "text/html": [
       "Syncing run <strong><a href='https://wandb.ai/keyuxi/NN/runs/e2s80w7s' target=\"_blank\">enchanted-vampire-40</a></strong> to <a href='https://wandb.ai/keyuxi/NN' target=\"_blank\">Weights & Biases</a> (<a href='https://wandb.me/run' target=\"_blank\">docs</a>)<br/>"
      ],
      "text/plain": [
       "<IPython.core.display.HTML object>"
      ]
     },
     "metadata": {},
     "output_type": "display_data"
    },
    {
     "data": {
      "text/html": [
       " View project at <a href='https://wandb.ai/keyuxi/NN' target=\"_blank\">https://wandb.ai/keyuxi/NN</a>"
      ],
      "text/plain": [
       "<IPython.core.display.HTML object>"
      ]
     },
     "metadata": {},
     "output_type": "display_data"
    },
    {
     "data": {
      "text/html": [
       " View run at <a href='https://wandb.ai/keyuxi/NN/runs/e2s80w7s' target=\"_blank\">https://wandb.ai/keyuxi/NN/runs/e2s80w7s</a>"
      ],
      "text/plain": [
       "<IPython.core.display.HTML object>"
      ]
     },
     "metadata": {},
     "output_type": "display_data"
    },
    {
     "name": "stdout",
     "output_type": "stream",
     "text": [
      "feats (27732, 1338) Index(['A+A+T+T_(+(+)+)', 'A+C+G+T_(+(+)+)', 'A+G+C+T_(+(+)+)'], dtype='object')\n",
      "fixed_feature_names: []\n",
      "Empty DataFrame\n",
      "Columns: [dH]\n",
      "Index: []\n",
      "[]\n",
      "Warning: Rank of matrix A_unknown, 1331, is smaller than the number of features 1338!\n",
      "Empty DataFrame\n",
      "Columns: [dG]\n",
      "Index: []\n",
      "[]\n",
      "Warning: Rank of matrix A_unknown, 1331, is smaller than the number of features 1338!\n"
     ]
    },
    {
     "data": {
      "text/html": [
       "Waiting for W&B process to finish... <strong style=\"color:green\">(success).</strong>"
      ],
      "text/plain": [
       "<IPython.core.display.HTML object>"
      ]
     },
     "metadata": {},
     "output_type": "display_data"
    },
    {
     "data": {
      "text/html": [
       "<style>\n",
       "    table.wandb td:nth-child(1) { padding: 0 10px; text-align: left ; width: auto;} td:nth-child(2) {text-align: left ; width: 100%}\n",
       "    .wandb-row { display: flex; flex-direction: row; flex-wrap: wrap; justify-content: flex-start; width: 100% }\n",
       "    .wandb-col { display: flex; flex-direction: column; flex-basis: 100%; flex: 1; padding: 10px; }\n",
       "    </style>\n",
       "<div class=\"wandb-row\"><div class=\"wandb-col\"><h3>Run history:</h3><br/><table class=\"wandb\"><tr><td>n_feat</td><td>▁</td></tr><tr><td>n_fixed_feat</td><td>▁</td></tr><tr><td>train_dG_mae</td><td>▁</td></tr><tr><td>train_dG_rsqr</td><td>▁</td></tr><tr><td>train_dH_mae</td><td>▁</td></tr><tr><td>train_dH_rsqr</td><td>▁</td></tr><tr><td>val_Tm_adjusted_mae-all</td><td>▁</td></tr><tr><td>val_Tm_adjusted_mae-arr</td><td>▁</td></tr><tr><td>val_Tm_adjusted_mae-lit_uv</td><td>▁</td></tr><tr><td>val_Tm_adjusted_mae-ov</td><td>▁</td></tr><tr><td>val_Tm_adjusted_rmse-all</td><td>▁</td></tr><tr><td>val_Tm_adjusted_rmse-arr</td><td>▁</td></tr><tr><td>val_Tm_adjusted_rmse-lit_uv</td><td>▁</td></tr><tr><td>val_Tm_adjusted_rmse-ov</td><td>▁</td></tr><tr><td>val_Tm_bias-all</td><td>▁</td></tr><tr><td>val_Tm_bias-arr</td><td>▁</td></tr><tr><td>val_Tm_bias-lit_uv</td><td>▁</td></tr><tr><td>val_Tm_bias-ov</td><td>▁</td></tr><tr><td>val_Tm_corr-all</td><td>▁</td></tr><tr><td>val_Tm_corr-arr</td><td>▁</td></tr><tr><td>val_Tm_corr-lit_uv</td><td>▁</td></tr><tr><td>val_Tm_corr-ov</td><td>▁</td></tr><tr><td>val_Tm_mae-all</td><td>▁</td></tr><tr><td>val_Tm_mae-arr</td><td>▁</td></tr><tr><td>val_Tm_mae-lit_uv</td><td>▁</td></tr><tr><td>val_Tm_mae-ov</td><td>▁</td></tr><tr><td>val_Tm_rmse-all</td><td>▁</td></tr><tr><td>val_Tm_rmse-arr</td><td>▁</td></tr><tr><td>val_Tm_rmse-lit_uv</td><td>▁</td></tr><tr><td>val_Tm_rmse-ov</td><td>▁</td></tr><tr><td>val_dG_adjusted_mae-arr</td><td>▁</td></tr><tr><td>val_dG_adjusted_rmse-arr</td><td>▁</td></tr><tr><td>val_dG_bias-arr</td><td>▁</td></tr><tr><td>val_dG_corr-arr</td><td>▁</td></tr><tr><td>val_dG_mae-arr</td><td>▁</td></tr><tr><td>val_dG_rmse-arr</td><td>▁</td></tr><tr><td>val_dH_adjusted_mae-arr</td><td>▁</td></tr><tr><td>val_dH_adjusted_rmse-arr</td><td>▁</td></tr><tr><td>val_dH_bias-arr</td><td>▁</td></tr><tr><td>val_dH_corr-arr</td><td>▁</td></tr><tr><td>val_dH_mae-arr</td><td>▁</td></tr><tr><td>val_dH_rmse-arr</td><td>▁</td></tr></table><br/></div><div class=\"wandb-col\"><h3>Run summary:</h3><br/><table class=\"wandb\"><tr><td>n_feat</td><td>1338</td></tr><tr><td>n_fixed_feat</td><td>0</td></tr><tr><td>train_dG_mae</td><td>0.4258</td></tr><tr><td>train_dG_rsqr</td><td>0.81618</td></tr><tr><td>train_dH_mae</td><td>4.84887</td></tr><tr><td>train_dH_rsqr</td><td>0.63416</td></tr><tr><td>val_Tm_adjusted_mae-all</td><td>116.81931</td></tr><tr><td>val_Tm_adjusted_mae-arr</td><td>5.10717</td></tr><tr><td>val_Tm_adjusted_mae-lit_uv</td><td>9.74946</td></tr><tr><td>val_Tm_adjusted_mae-ov</td><td>2.86129</td></tr><tr><td>val_Tm_adjusted_rmse-all</td><td>117.43494</td></tr><tr><td>val_Tm_adjusted_rmse-arr</td><td>8.74262</td></tr><tr><td>val_Tm_adjusted_rmse-lit_uv</td><td>11.09348</td></tr><tr><td>val_Tm_adjusted_rmse-ov</td><td>3.52259</td></tr><tr><td>val_Tm_bias-all</td><td>130.33472</td></tr><tr><td>val_Tm_bias-arr</td><td>3.12159</td></tr><tr><td>val_Tm_bias-lit_uv</td><td>245.94959</td></tr><tr><td>val_Tm_bias-ov</td><td>237.36618</td></tr><tr><td>val_Tm_corr-all</td><td>0.37021</td></tr><tr><td>val_Tm_corr-arr</td><td>0.76786</td></tr><tr><td>val_Tm_corr-lit_uv</td><td>0.93506</td></tr><tr><td>val_Tm_corr-ov</td><td>0.6405</td></tr><tr><td>val_Tm_mae-all</td><td>131.44315</td></tr><tr><td>val_Tm_mae-arr</td><td>5.5357</td></tr><tr><td>val_Tm_mae-lit_uv</td><td>245.94959</td></tr><tr><td>val_Tm_mae-ov</td><td>237.36618</td></tr><tr><td>val_Tm_rmse-all</td><td>175.43689</td></tr><tr><td>val_Tm_rmse-arr</td><td>9.2832</td></tr><tr><td>val_Tm_rmse-lit_uv</td><td>246.19965</td></tr><tr><td>val_Tm_rmse-ov</td><td>237.39232</td></tr><tr><td>val_dG_adjusted_mae-arr</td><td>0.34202</td></tr><tr><td>val_dG_adjusted_rmse-arr</td><td>0.45457</td></tr><tr><td>val_dG_bias-arr</td><td>-0.04505</td></tr><tr><td>val_dG_corr-arr</td><td>0.90614</td></tr><tr><td>val_dG_mae-arr</td><td>0.34642</td></tr><tr><td>val_dG_rmse-arr</td><td>0.4568</td></tr><tr><td>val_dH_adjusted_mae-arr</td><td>4.98618</td></tr><tr><td>val_dH_adjusted_rmse-arr</td><td>6.67131</td></tr><tr><td>val_dH_bias-arr</td><td>1.86705</td></tr><tr><td>val_dH_corr-arr</td><td>0.8061</td></tr><tr><td>val_dH_mae-arr</td><td>5.02008</td></tr><tr><td>val_dH_rmse-arr</td><td>6.92765</td></tr></table><br/></div></div>"
      ],
      "text/plain": [
       "<IPython.core.display.HTML object>"
      ]
     },
     "metadata": {},
     "output_type": "display_data"
    },
    {
     "data": {
      "text/html": [
       " View run <strong style=\"color:#cdcd00\">enchanted-vampire-40</strong> at: <a href='https://wandb.ai/keyuxi/NN/runs/e2s80w7s' target=\"_blank\">https://wandb.ai/keyuxi/NN/runs/e2s80w7s</a><br/>Synced 6 W&B file(s), 0 media file(s), 0 artifact file(s) and 0 other file(s)"
      ],
      "text/plain": [
       "<IPython.core.display.HTML object>"
      ]
     },
     "metadata": {},
     "output_type": "display_data"
    },
    {
     "data": {
      "text/html": [
       "Find logs at: <code>./wandb/run-20231030_153611-e2s80w7s/logs</code>"
      ],
      "text/plain": [
       "<IPython.core.display.HTML object>"
      ]
     },
     "metadata": {},
     "output_type": "display_data"
    },
    {
     "data": {
      "image/png": "[encoded data removed]",
      "text/plain": [
       "<Figure size 800x400 with 2 Axes>"
      ]
     },
     "metadata": {},
     "output_type": "display_data"
    },
    {
     "data": {
      "image/png": "[encoded data removed]",
      "text/plain": [
       "<Figure size 800x400 with 2 Axes>"
      ]
     },
     "metadata": {},
     "output_type": "display_data"
    },
    {
     "data": {
      "image/png": "[encoded data removed]",
      "text/plain": [
       "<Figure size 800x400 with 2 Axes>"
      ]
     },
     "metadata": {},
     "output_type": "display_data"
    },
    {
     "data": {
      "image/png": "[encoded data removed]",
      "text/plain": [
       "<Figure size 800x400 with 2 Axes>"
      ]
     },
     "metadata": {},
     "output_type": "display_data"
    },
    {
     "data": {
      "image/png": "[encoded data removed]",
      "text/plain": [
       "<Figure size 800x400 with 2 Axes>"
      ]
     },
     "metadata": {},
     "output_type": "display_data"
    },
    {
     "data": {
      "image/png": "[encoded data removed]",
      "text/plain": [
       "<Figure size 800x400 with 2 Axes>"
      ]
     },
     "metadata": {},
     "output_type": "display_data"
    }
   ],
   "source": [
    "for ratio in np.arange(0.1, 1.2, .2):\n",
    "    config.update(dict(use_train_set_ratio=ratio))\n",
    "    tnn.model_pipeline(config)"
   ]
  },
  {
   "cell_type": "markdown",
   "metadata": {},
   "source": [
    "## Tests"
   ]
  },
  {
   "cell_type": "code",
   "execution_count": 70,
   "metadata": {},
   "outputs": [],
   "source": [
    "mydata = tnn.MyData(config)\n",
    "mydata.load_everything()"
   ]
  },
  {
   "cell_type": "code",
   "execution_count": 71,
   "metadata": {},
   "outputs": [
    {
     "data": {
      "text/plain": [
       "'GATATAGCAAAATTCTAAGTTAATA'"
      ]
     },
     "execution_count": 71,
     "metadata": {},
     "output_type": "execute_result"
    }
   ],
   "source": [
    "mydata.prepare_val_df()['lit_uv'].RefSeq[0][0]"
   ]
  },
  {
   "cell_type": "code",
   "execution_count": 49,
   "metadata": {},
   "outputs": [
    {
     "data": {
      "text/plain": [
       "{'val_Tm_rmse-all': 0.3,\n",
       " 'val_Tm_rmse-arr': 0.2,\n",
       " 'val_dH_mae-arr': 0.1,\n",
       " 'val_dG_corr-arr': 0.4,\n",
       " 'val_Tm_rmse-ov': 0.5}"
      ]
     },
     "execution_count": 49,
     "metadata": {},
     "output_type": "execute_result"
    }
   ],
   "source": [
    "# FUNCTION TEST\n",
    "metric_dict = dict(\n",
    "    all=dict(\n",
    "        Tm=dict(rmse=.3),\n",
    "    ),\n",
    "    arr=dict(\n",
    "        Tm=dict(rmse=.2),\n",
    "        dH=dict(mae=.1),\n",
    "        dG=dict(corr=.4)\n",
    "    ),\n",
    "    ov=dict(\n",
    "        Tm=dict(rmse=.5)\n",
    "    )\n",
    ")\n",
    "tnn.flatten_metric_dict(metric_dict)"
   ]
  },
  {
   "cell_type": "code",
   "execution_count": 148,
   "metadata": {},
   "outputs": [
    {
     "name": "stdout",
     "output_type": "stream",
     "text": [
      "Must call `wandb.init()` first\n"
     ]
    },
    {
     "data": {
      "text/plain": [
       "{'all': {'Tm': defaultdict(None,\n",
       "              {'bias': 2.9661754466208308,\n",
       "               'corr': 0.793026549915973,\n",
       "               'rmse': 7.1620228136935244,\n",
       "               'adjusted_rmse': 6.518924298051803,\n",
       "               'mae': 5.892052892391525,\n",
       "               'adjusted_mae': 5.187633316054081})},\n",
       " 'arr': {'Tm': defaultdict(None,\n",
       "              {'bias': 2.1660371069307516,\n",
       "               'corr': 0.8959452233637897,\n",
       "               'rmse': 8.990712948240732,\n",
       "               'adjusted_rmse': 8.725892651704045,\n",
       "               'mae': 8.017791998472129,\n",
       "               'adjusted_mae': 7.956103122148103}),\n",
       "  'dH': defaultdict(None,\n",
       "              {'bias': -18.24327473438205,\n",
       "               'corr': 0.9221060003295893,\n",
       "               'rmse': 18.60773231164046,\n",
       "               'adjusted_rmse': 3.664782223751652,\n",
       "               'mae': 18.243274734382048,\n",
       "               'adjusted_mae': 2.9590951856279553}),\n",
       "  'dG': defaultdict(None,\n",
       "              {'bias': -0.7781412594804302,\n",
       "               'corr': 0.9623323684048821,\n",
       "               'rmse': 0.924993092599865,\n",
       "               'adjusted_rmse': 0.5001083899033004,\n",
       "               'mae': 0.7781412594804304,\n",
       "               'adjusted_mae': 0.454052465597778})},\n",
       " 'ov': {'Tm': defaultdict(None,\n",
       "              {'bias': 3.76631378631091,\n",
       "               'corr': 0.6315027440348886,\n",
       "               'rmse': 4.664356574069934,\n",
       "               'adjusted_rmse': 2.75156368509139,\n",
       "               'mae': 3.7663137863109215,\n",
       "               'adjusted_mae': 2.396829640820863})}}"
      ]
     },
     "execution_count": 148,
     "metadata": {},
     "output_type": "execute_result"
    }
   ],
   "source": [
    "json_file = './models/dna04.json'\n",
    "tnn.test(config, json_file=json_file, debug=True,\n",
    "         save_val_result_df=True, save_metric_json=True)"
   ]
  },
  {
   "cell_type": "code",
   "execution_count": 127,
   "metadata": {},
   "outputs": [],
   "source": [
    "val_kwargs = dict(\n",
    "    sodium = 'varied',\n",
    "    model_kwargs={'DNA_conc': val_df['DNA_conc'].values}\n",
    ")\n",
    "seq_list, struct_list, sodium, model_kwargs = modeling.get_model_prediction(\n",
    "                val_df,\n",
    "                model='nupack', \n",
    "                model_param_file=json_file,\n",
    "                **val_kwargs\n",
    "            )"
   ]
  },
  {
   "cell_type": "code",
   "execution_count": 126,
   "metadata": {
    "scrolled": true
   },
   "outputs": [
    {
     "data": {
      "text/html": [
       "<div>\n",
       "<style scoped>\n",
       "    .dataframe tbody tr th:only-of-type {\n",
       "        vertical-align: middle;\n",
       "    }\n",
       "\n",
       "    .dataframe tbody tr th {\n",
       "        vertical-align: top;\n",
       "    }\n",
       "\n",
       "    .dataframe thead th {\n",
       "        text-align: right;\n",
       "    }\n",
       "</style>\n",
       "<table border=\"1\" class=\"dataframe\">\n",
       "  <thead>\n",
       "    <tr style=\"text-align: right;\">\n",
       "      <th></th>\n",
       "      <th>dH</th>\n",
       "      <th>Tm</th>\n",
       "      <th>dG_37</th>\n",
       "    </tr>\n",
       "  </thead>\n",
       "  <tbody>\n",
       "    <tr>\n",
       "      <th>0</th>\n",
       "      <td>NaN</td>\n",
       "      <td>56.388872</td>\n",
       "      <td>NaN</td>\n",
       "    </tr>\n",
       "    <tr>\n",
       "      <th>1</th>\n",
       "      <td>NaN</td>\n",
       "      <td>60.447325</td>\n",
       "      <td>NaN</td>\n",
       "    </tr>\n",
       "    <tr>\n",
       "      <th>2</th>\n",
       "      <td>NaN</td>\n",
       "      <td>57.092821</td>\n",
       "      <td>NaN</td>\n",
       "    </tr>\n",
       "    <tr>\n",
       "      <th>3</th>\n",
       "      <td>NaN</td>\n",
       "      <td>56.638673</td>\n",
       "      <td>NaN</td>\n",
       "    </tr>\n",
       "    <tr>\n",
       "      <th>4</th>\n",
       "      <td>NaN</td>\n",
       "      <td>58.732291</td>\n",
       "      <td>NaN</td>\n",
       "    </tr>\n",
       "  </tbody>\n",
       "</table>\n",
       "</div>"
      ],
      "text/plain": [
       "    dH         Tm dG_37\n",
       "0  NaN  56.388872   NaN\n",
       "1  NaN  60.447325   NaN\n",
       "2  NaN  57.092821   NaN\n",
       "3  NaN  56.638673   NaN\n",
       "4  NaN  58.732291   NaN"
      ]
     },
     "execution_count": 126,
     "metadata": {},
     "output_type": "execute_result"
    }
   ],
   "source": [
    "modeling.run_nupack(seq_list, struct_list, sodium, json_file, model_kwargs)"
   ]
  },
  {
   "cell_type": "markdown",
   "metadata": {},
   "source": [
    "# Results"
   ]
  },
  {
   "cell_type": "code",
   "execution_count": 16,
   "metadata": {},
   "outputs": [],
   "source": [
    "import pandas as pd \n",
    "import wandb\n",
    "api = wandb.Api()\n",
    "\n",
    "# Project is specified by <entity/project-name>\n",
    "runs = api.runs(\"keyuxi/NN\")\n",
    "\n",
    "summary_list, config_list, name_list = [], [], []\n",
    "for run in runs: \n",
    "    # .summary contains the output keys/values for metrics like accuracy.\n",
    "    #  We call ._json_dict to omit large files \n",
    "    summary_list.append(run.summary._json_dict)\n",
    "\n",
    "    # .config contains the hyperparameters.\n",
    "    #  We remove special values that start with _.\n",
    "    config_list.append(\n",
    "        {k: v for k,v in run.config.items()\n",
    "          if not k.startswith('_')})\n",
    "\n",
    "    # .name is the human-readable name of the run.\n",
    "    name_list.append(run.name)\n",
    "\n",
    "runs_df = pd.DataFrame({\n",
    "    \"summary\": summary_list,\n",
    "    \"config\": config_list,\n",
    "    \"name\": name_list\n",
    "    })\n",
    "\n",
    "runs_df.to_csv(\"project.csv\")"
   ]
  },
  {
   "cell_type": "code",
   "execution_count": 17,
   "metadata": {},
   "outputs": [
    {
     "data": {
      "text/html": [
       "<div>\n",
       "<style scoped>\n",
       "    .dataframe tbody tr th:only-of-type {\n",
       "        vertical-align: middle;\n",
       "    }\n",
       "\n",
       "    .dataframe tbody tr th {\n",
       "        vertical-align: top;\n",
       "    }\n",
       "\n",
       "    .dataframe thead th {\n",
       "        text-align: right;\n",
       "    }\n",
       "</style>\n",
       "<table border=\"1\" class=\"dataframe\">\n",
       "  <thead>\n",
       "    <tr style=\"text-align: right;\">\n",
       "      <th></th>\n",
       "      <th>summary</th>\n",
       "      <th>config</th>\n",
       "      <th>name</th>\n",
       "    </tr>\n",
       "  </thead>\n",
       "  <tbody>\n",
       "    <tr>\n",
       "      <th>0</th>\n",
       "      <td>{'val_Tm_rmse-arr': 9.283199680525913, 'val_Tm...</td>\n",
       "      <td>{'symmetry': False, 'test_mode': 'val', 'fit_m...</td>\n",
       "      <td>enchanted-vampire-40</td>\n",
       "    </tr>\n",
       "    <tr>\n",
       "      <th>1</th>\n",
       "      <td>{'_step': 2, 'val_Tm_adjusted_mae-ov': 2.87318...</td>\n",
       "      <td>{'symmetry': False, 'test_mode': 'val', 'fit_m...</td>\n",
       "      <td>moonlit-mausoleum-39</td>\n",
       "    </tr>\n",
       "    <tr>\n",
       "      <th>2</th>\n",
       "      <td>{'val_Tm_rmse-all': 175.72643555321517, 'val_d...</td>\n",
       "      <td>{'symmetry': False, 'test_mode': 'val', 'fit_m...</td>\n",
       "      <td>moonlit-orb-38</td>\n",
       "    </tr>\n",
       "    <tr>\n",
       "      <th>3</th>\n",
       "      <td>{'val_dH_bias-arr': 1.689333693534664, '_step'...</td>\n",
       "      <td>{'symmetry': False, 'test_mode': 'val', 'fit_m...</td>\n",
       "      <td>enchanted-whisper-37</td>\n",
       "    </tr>\n",
       "    <tr>\n",
       "      <th>4</th>\n",
       "      <td>{'n_feat': 1338, 'train_dH_mae': 4.49127799892...</td>\n",
       "      <td>{'symmetry': False, 'test_mode': 'val', 'fit_m...</td>\n",
       "      <td>dire-mask-36</td>\n",
       "    </tr>\n",
       "    <tr>\n",
       "      <th>5</th>\n",
       "      <td>{'train_dG_mae': 0.30678331977679035, 'val_Tm_...</td>\n",
       "      <td>{'symmetry': False, 'test_mode': 'val', 'fit_m...</td>\n",
       "      <td>frightful-goosebump-35</td>\n",
       "    </tr>\n",
       "    <tr>\n",
       "      <th>6</th>\n",
       "      <td>{'train_dH_mae': 3.687438647893112, 'train_dH_...</td>\n",
       "      <td>{'symmetry': False, 'test_mode': 'val', 'fit_m...</td>\n",
       "      <td>unearthly-possession-34</td>\n",
       "    </tr>\n",
       "  </tbody>\n",
       "</table>\n",
       "</div>"
      ],
      "text/plain": [
       "                                             summary  \\\n",
       "0  {'val_Tm_rmse-arr': 9.283199680525913, 'val_Tm...   \n",
       "1  {'_step': 2, 'val_Tm_adjusted_mae-ov': 2.87318...   \n",
       "2  {'val_Tm_rmse-all': 175.72643555321517, 'val_d...   \n",
       "3  {'val_dH_bias-arr': 1.689333693534664, '_step'...   \n",
       "4  {'n_feat': 1338, 'train_dH_mae': 4.49127799892...   \n",
       "5  {'train_dG_mae': 0.30678331977679035, 'val_Tm_...   \n",
       "6  {'train_dH_mae': 3.687438647893112, 'train_dH_...   \n",
       "\n",
       "                                              config                     name  \n",
       "0  {'symmetry': False, 'test_mode': 'val', 'fit_m...     enchanted-vampire-40  \n",
       "1  {'symmetry': False, 'test_mode': 'val', 'fit_m...     moonlit-mausoleum-39  \n",
       "2  {'symmetry': False, 'test_mode': 'val', 'fit_m...           moonlit-orb-38  \n",
       "3  {'symmetry': False, 'test_mode': 'val', 'fit_m...     enchanted-whisper-37  \n",
       "4  {'symmetry': False, 'test_mode': 'val', 'fit_m...             dire-mask-36  \n",
       "5  {'symmetry': False, 'test_mode': 'val', 'fit_m...   frightful-goosebump-35  \n",
       "6  {'symmetry': False, 'test_mode': 'val', 'fit_m...  unearthly-possession-34  "
      ]
     },
     "execution_count": 17,
     "metadata": {},
     "output_type": "execute_result"
    }
   ],
   "source": [
    "runs_df"
   ]
  },
  {
   "cell_type": "code",
   "execution_count": 20,
   "metadata": {},
   "outputs": [],
   "source": [
    "wandb_df = pd.read_csv('./data/wandb/wandb_export_2023-10-30T15_45_45.142-07_00.csv')"
   ]
  },
  {
   "cell_type": "code",
   "execution_count": 29,
   "metadata": {},
   "outputs": [
    {
     "data": {
      "text/plain": [
       "Index(['Name', 'Created', 'Runtime', 'Notes', 'use_train_set_ratio',\n",
       "       'train_dG_mae', 'train_dG_rsqr', 'train_dH_mae', 'train_dH_rsqr',\n",
       "       'val_Tm_adjusted_mae-all', 'val_Tm_adjusted_mae-arr',\n",
       "       'val_Tm_adjusted_mae-lit_uv', 'val_Tm_adjusted_mae-ov',\n",
       "       'val_Tm_adjusted_rmse-all', 'val_Tm_adjusted_rmse-arr',\n",
       "       'val_Tm_adjusted_rmse-lit_uv', 'val_Tm_adjusted_rmse-ov',\n",
       "       'val_Tm_bias-all', 'val_Tm_bias-arr', 'val_Tm_bias-lit_uv',\n",
       "       'val_Tm_bias-ov', 'val_Tm_corr-all', 'val_Tm_corr-arr',\n",
       "       'val_Tm_corr-lit_uv', 'val_Tm_corr-ov', 'val_Tm_mae-all',\n",
       "       'val_Tm_mae-arr', 'val_Tm_mae-lit_uv', 'val_Tm_mae-ov',\n",
       "       'val_Tm_rmse-all', 'val_Tm_rmse-arr', 'val_Tm_rmse-lit_uv',\n",
       "       'val_Tm_rmse-ov', 'val_dG_adjusted_mae-arr', 'val_dG_adjusted_rmse-arr',\n",
       "       'val_dG_bias-arr', 'val_dG_corr-arr', 'val_dG_mae-arr',\n",
       "       'val_dG_rmse-arr', 'val_dH_adjusted_mae-arr',\n",
       "       'val_dH_adjusted_rmse-arr', 'val_dH_bias-arr', 'val_dH_corr-arr',\n",
       "       'val_dH_mae-arr', 'val_dH_rmse-arr'],\n",
       "      dtype='object')"
      ]
     },
     "execution_count": 29,
     "metadata": {},
     "output_type": "execute_result"
    }
   ],
   "source": [
    "wandb_df.columns"
   ]
  },
  {
   "cell_type": "code",
   "execution_count": 53,
   "metadata": {},
   "outputs": [
    {
     "data": {
      "image/png": "[encoded data removed]",
      "text/plain": [
       "<Figure size 640x480 with 1 Axes>"
      ]
     },
     "metadata": {},
     "output_type": "display_data"
    }
   ],
   "source": [
    "fig, ax = plt.subplots()\n",
    "sns.lineplot(data=wandb_df, x='use_train_set_ratio', y='val_Tm_mae-ov',\n",
    "            ax=ax)\n",
    "# ax.set_ylim(bottom=0, top=1)\n",
    "ax.set_ylim(bottom=0)\n",
    "plotting.beutify(ax)"
   ]
  },
  {
   "cell_type": "code",
   "execution_count": null,
   "metadata": {},
   "outputs": [],
   "source": []
  }
 ],
 "metadata": {
  "kernelspec": {
   "display_name": "Python 3 (ipykernel)",
   "language": "python",
   "name": "python3"
  },
  "language_info": {
   "codemirror_mode": {
    "name": "ipython",
    "version": 3
   },
   "file_extension": ".py",
   "mimetype": "text/x-python",
   "name": "python",
   "nbconvert_exporter": "python",
   "pygments_lexer": "ipython3",
   "version": "3.8.18"
  }
 },
 "nbformat": 4,
 "nbformat_minor": 4
}
