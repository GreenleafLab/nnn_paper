{
 "cells": [
  {
   "cell_type": "markdown",
   "metadata": {},
   "source": [
    "This notebook is used for testing and running model fitting pipelines defined in `train_nn.py`.\n",
    "\n",
    "It's run in the `train_nn` conda environment instead of the usual `nnn` environment."
   ]
  },
  {
   "cell_type": "code",
   "execution_count": 2,
   "metadata": {},
   "outputs": [
    {
     "name": "stdout",
     "output_type": "stream",
     "text": [
      "The autoreload extension is already loaded. To reload it, use:\n",
      "  %reload_ext autoreload\n"
     ]
    }
   ],
   "source": [
    "%load_ext autoreload\n",
    "%autoreload 2\n",
    "\n",
    "import numpy as np\n",
    "import pandas as pd\n",
    "import matplotlib.pyplot as plt\n",
    "import matplotlib\n",
    "from matplotlib.ticker import (MultipleLocator, FormatStrFormatter,\n",
    "                               AutoMinorLocator)\n",
    "import seaborn as sns\n",
    "import json, os, pickle\n",
    "from collections import defaultdict\n",
    "import nupack\n",
    "import sklearn\n",
    "from scipy import stats\n",
    "\n",
    "\n",
    "from tqdm import tqdm\n",
    "import itertools\n",
    "\n",
    "from nnn import util, fileio, mupack, plotting, modeling\n",
    "import nnn.motif_fit as mf\n",
    "import wandb\n",
    "\n",
    "# suppress warnings \n",
    "import warnings\n",
    "warnings.filterwarnings(\"ignore\")\n",
    "\n",
    "from nnn import train_nn as tnn"
   ]
  },
  {
   "cell_type": "code",
   "execution_count": 42,
   "metadata": {},
   "outputs": [],
   "source": [
    "# 178 param NUPACK model config\n",
    "fixed_pclass = ['hairpin_size', 'interior_size', 'bulge_size', 'hairpin_triloop', 'hairpin_tetraloop', 'terminal_mismatch', 'stack']\n",
    "config = dict(\n",
    "    use_train_set_ratio = 1.,\n",
    "    secondary_struct = 'target', # target is the ones designed, mfe is predicted\n",
    "    fit_method = 'svd',\n",
    "    feature_method = 'get_nupack_feature_list',\n",
    "    fit_intercept=False, \n",
    "    symmetry=False,\n",
    "    fix_some_coef=True,\n",
    "    fixed_pclass = fixed_pclass,\n",
    "    test_mode = 'test', # {'val', 'test'}\n",
    "    use_model_from = 'json', # {'lr_dict', 'json'}\n",
    "    )"
   ]
  },
  {
   "cell_type": "code",
   "execution_count": 4,
   "metadata": {},
   "outputs": [
    {
     "name": "stdout",
     "output_type": "stream",
     "text": [
      "feats (27732, 178) Index(['bulge_size#1', 'bulge_size#2', 'hairpin_loop_mid#A'], dtype='object')\n",
      "fixed_feature_names: ['bulge_size#1', 'bulge_size#2', 'hairpin_size#3', 'hairpin_size#4', 'hairpin_size#11', 'hairpin_size#14', 'hairpin_size#17', 'hairpin_size#20', 'interior_size#2', 'interior_size#4', 'stack#AATT', 'stack#ACGT', 'stack#AGCT', 'stack#ATAT', 'stack#CATG', 'stack#CCGG', 'stack#CGCG', 'stack#CTAG', 'stack#GATC', 'stack#GCGC', 'stack#GGCC', 'stack#GTAC', 'stack#TATA', 'stack#TCGA', 'stack#TGCA', 'stack#TTAA', 'terminal_penalty#AT', 'terminal_penalty#CG', 'terminal_penalty#GC', 'terminal_penalty#TA']\n"
     ]
    },
    {
     "ename": "Error",
     "evalue": "You must call wandb.init() before wandb.log()",
     "output_type": "error",
     "traceback": [
      "\u001b[0;31m---------------------------------------------------------------------------\u001b[0m",
      "\u001b[0;31mError\u001b[0m                                     Traceback (most recent call last)",
      "Cell \u001b[0;32mIn[4], line 1\u001b[0m\n\u001b[0;32m----> 1\u001b[0m lr_dict_1pass \u001b[38;5;241m=\u001b[39m \u001b[43mtnn\u001b[49m\u001b[38;5;241;43m.\u001b[39;49m\u001b[43mtrain\u001b[49m\u001b[43m(\u001b[49m\u001b[43mconfig\u001b[49m\u001b[43m)\u001b[49m\n",
      "File \u001b[0;32m~/workspace/nnn_paper/nnn/train_nn.py:163\u001b[0m, in \u001b[0;36mtrain\u001b[0;34m(config)\u001b[0m\n\u001b[1;32m    158\u001b[0m     \u001b[38;5;28mprint\u001b[39m(\u001b[38;5;124m'\u001b[39m\u001b[38;5;124mfixed_feature_names:\u001b[39m\u001b[38;5;124m'\u001b[39m, fixed_feature_names)\n\u001b[1;32m    159\u001b[0m     fix_coef_kwargs\u001b[38;5;241m=\u001b[39m\u001b[38;5;28mdict\u001b[39m(\n\u001b[1;32m    160\u001b[0m         fixed_feature_names\u001b[38;5;241m=\u001b[39mfixed_feature_names,\n\u001b[1;32m    161\u001b[0m         coef_df\u001b[38;5;241m=\u001b[39m\u001b[38;5;28;01mNone\u001b[39;00m, \u001b[38;5;66;03m# have to set to None here cause we will set it to either dH or dG later :( \u001b[39;00m\n\u001b[1;32m    162\u001b[0m     )\n\u001b[0;32m--> 163\u001b[0m     \u001b[43mwandb\u001b[49m\u001b[38;5;241;43m.\u001b[39;49m\u001b[43mlog\u001b[49m\u001b[43m(\u001b[49m\u001b[38;5;28;43mdict\u001b[39;49m\u001b[43m(\u001b[49m\u001b[43mn_fixed_feat\u001b[49m\u001b[38;5;241;43m=\u001b[39;49m\u001b[38;5;28;43mlen\u001b[39;49m\u001b[43m(\u001b[49m\u001b[43mfixed_feature_names\u001b[49m\u001b[43m)\u001b[49m\u001b[43m)\u001b[49m\u001b[43m)\u001b[49m\n\u001b[1;32m    164\u001b[0m \u001b[38;5;28;01melse\u001b[39;00m:\n\u001b[1;32m    165\u001b[0m     fix_coef_kwargs\u001b[38;5;241m=\u001b[39m\u001b[38;5;28mdict\u001b[39m()\n",
      "File \u001b[0;32m~/opt/anaconda3/envs/nn_train/lib/python3.8/site-packages/wandb/sdk/lib/preinit.py:36\u001b[0m, in \u001b[0;36mPreInitCallable.<locals>.preinit_wrapper\u001b[0;34m(*args, **kwargs)\u001b[0m\n\u001b[1;32m     35\u001b[0m \u001b[38;5;28;01mdef\u001b[39;00m \u001b[38;5;21mpreinit_wrapper\u001b[39m(\u001b[38;5;241m*\u001b[39margs: Any, \u001b[38;5;241m*\u001b[39m\u001b[38;5;241m*\u001b[39mkwargs: Any) \u001b[38;5;241m-\u001b[39m\u001b[38;5;241m>\u001b[39m Any:\n\u001b[0;32m---> 36\u001b[0m     \u001b[38;5;28;01mraise\u001b[39;00m wandb\u001b[38;5;241m.\u001b[39mError(\u001b[38;5;124mf\u001b[39m\u001b[38;5;124m\"\u001b[39m\u001b[38;5;124mYou must call wandb.init() before \u001b[39m\u001b[38;5;132;01m{\u001b[39;00mname\u001b[38;5;132;01m}\u001b[39;00m\u001b[38;5;124m()\u001b[39m\u001b[38;5;124m\"\u001b[39m)\n",
      "\u001b[0;31mError\u001b[0m: You must call wandb.init() before wandb.log()"
     ]
    }
   ],
   "source": [
    "lr_dict_1pass = tnn.train(config)"
   ]
  },
  {
   "cell_type": "code",
   "execution_count": 59,
   "metadata": {},
   "outputs": [],
   "source": [
    "# 178 param NUPACK model refitting config with MFE structure\n",
    "fixed_pclass = ['hairpin_size', 'interior_size', 'bulge_size', 'hairpin_triloop', 'hairpin_tetraloop', 'terminal_mismatch', 'stack']\n",
    "config = dict(\n",
    "    use_train_set_ratio = 1.,\n",
    "    secondary_struct = 'mfe',\n",
    "    struct_pred_param_file = './models/swift-lake-118.json',\n",
    "    fit_method = 'svd',\n",
    "    feature_method = 'get_nupack_feature_list',\n",
    "    fit_intercept=False, \n",
    "    symmetry=False,\n",
    "    fix_some_coef=True,\n",
    "    fixed_pclass = fixed_pclass,\n",
    "    test_mode = 'test', # {'val', 'test'}\n",
    "    use_model_from = 'json', # {'lr_dict', 'json'}\n",
    "    )"
   ]
  },
  {
   "cell_type": "code",
   "execution_count": 2,
   "metadata": {},
   "outputs": [],
   "source": [
    "fixed_pclass = []#['hairpin_size', 'interior_size', 'bulge_size', 'hairpin_triloop', 'hairpin_tetraloop', 'terminal_mismatch', 'stack']\n",
    "config = dict(\n",
    "    use_train_set_ratio = 1.0,\n",
    "    fit_method = 'svd',\n",
    "    feature_method = 'get_feature_list',\n",
    "    fit_intercept=False,\n",
    "    stack_size=3,\n",
    "    symmetry=False,\n",
    "    sep_base_stack=True,\n",
    "    fix_some_coef=True,\n",
    "    fixed_pclass = fixed_pclass,\n",
    "    test_mode = 'val', # {'val', 'test'}\n",
    "    use_model_from = 'lr_dict', # {'lr_dict', 'json'}\n",
    "    )"
   ]
  },
  {
   "cell_type": "code",
   "execution_count": 44,
   "metadata": {},
   "outputs": [],
   "source": [
    "# NUPACK-compatible model traoubleshoot config\n",
    "fixed_pclass = ['hairpin_size', 'interior_size', 'bulge_size', 'hairpin_triloop', 'hairpin_tetraloop', 'terminal_mismatch', 'terminal_penalty', 'stack']\n",
    "config = dict(\n",
    "    use_train_set_ratio = .05,\n",
    "    secondary_struct = 'target', # target is the ones designed, mfe is predicted\n",
    "    fit_method = 'svd',\n",
    "    feature_method = 'get_nupack_feature_list',\n",
    "    fit_intercept=False, \n",
    "    symmetry=False,\n",
    "    fix_some_coef=True,\n",
    "    fixed_pclass = fixed_pclass,\n",
    "    test_mode = 'val', # {'val', 'test'}\n",
    "    use_model_from = 'json', # {'lr_dict', 'json'}\n",
    "    )"
   ]
  },
  {
   "cell_type": "code",
   "execution_count": 45,
   "metadata": {
    "scrolled": true
   },
   "outputs": [
    {
     "data": {
      "text/html": [
       "wandb version 0.16.3 is available!  To upgrade, please run:\n",
       " $ pip install wandb --upgrade"
      ],
      "text/plain": [
       "<IPython.core.display.HTML object>"
      ]
     },
     "metadata": {},
     "output_type": "display_data"
    },
    {
     "data": {
      "text/html": [
       "Tracking run with wandb version 0.15.12"
      ],
      "text/plain": [
       "<IPython.core.display.HTML object>"
      ]
     },
     "metadata": {},
     "output_type": "display_data"
    },
    {
     "data": {
      "text/html": [
       "Run data is saved locally in <code>/Users/yuxi/workspace/nnn_paper/wandb/run-20240207_165035-v7k3uctu</code>"
      ],
      "text/plain": [
       "<IPython.core.display.HTML object>"
      ]
     },
     "metadata": {},
     "output_type": "display_data"
    },
    {
     "data": {
      "text/html": [
       "Syncing run <strong><a href='https://wandb.ai/keyuxi/NN/runs/v7k3uctu' target=\"_blank\">pretty-donkey-143</a></strong> to <a href='https://wandb.ai/keyuxi/NN' target=\"_blank\">Weights & Biases</a> (<a href='https://wandb.me/run' target=\"_blank\">docs</a>)<br/>"
      ],
      "text/plain": [
       "<IPython.core.display.HTML object>"
      ]
     },
     "metadata": {},
     "output_type": "display_data"
    },
    {
     "data": {
      "text/html": [
       " View project at <a href='https://wandb.ai/keyuxi/NN' target=\"_blank\">https://wandb.ai/keyuxi/NN</a>"
      ],
      "text/plain": [
       "<IPython.core.display.HTML object>"
      ]
     },
     "metadata": {},
     "output_type": "display_data"
    },
    {
     "data": {
      "text/html": [
       " View run at <a href='https://wandb.ai/keyuxi/NN/runs/v7k3uctu' target=\"_blank\">https://wandb.ai/keyuxi/NN/runs/v7k3uctu</a>"
      ],
      "text/plain": [
       "<IPython.core.display.HTML object>"
      ]
     },
     "metadata": {},
     "output_type": "display_data"
    },
    {
     "name": "stdout",
     "output_type": "stream",
     "text": [
      "feats (27732, 178) Index(['bulge_size#1', 'bulge_size#2', 'hairpin_loop_mid#A'], dtype='object')\n",
      "fixed_feature_names: ['bulge_size#1', 'bulge_size#2', 'hairpin_size#3', 'hairpin_size#4', 'hairpin_size#11', 'hairpin_size#14', 'hairpin_size#17', 'hairpin_size#20', 'interior_size#2', 'interior_size#4', 'stack#AATT', 'stack#ACGT', 'stack#AGCT', 'stack#ATAT', 'stack#CATG', 'stack#CCGG', 'stack#CGCG', 'stack#CTAG', 'stack#GATC', 'stack#GCGC', 'stack#GGCC', 'stack#GTAC', 'stack#TATA', 'stack#TCGA', 'stack#TGCA', 'stack#TTAA', 'terminal_penalty#AT', 'terminal_penalty#CG', 'terminal_penalty#GC', 'terminal_penalty#TA']\n",
      "                           dH\n",
      "bulge_size#1              0.0\n",
      "bulge_size#2              0.0\n",
      "bulge_size#3              0.0\n",
      "bulge_size#4              0.0\n",
      "bulge_size#5              0.0\n",
      "...                       ...\n",
      "hairpin_tetraloop#CCTTGG  0.0\n",
      "hairpin_tetraloop#GCTTGC  0.0\n",
      "hairpin_tetraloop#GCTTGT  0.0\n",
      "hairpin_tetraloop#TCTTGA  0.0\n",
      "hairpin_tetraloop#TCTTGG  0.0\n",
      "\n",
      "[368 rows x 1 columns]\n",
      "['bulge_size#1', 'bulge_size#2', 'hairpin_size#11', 'hairpin_size#14', 'hairpin_size#17', 'hairpin_size#20', 'hairpin_size#3', 'hairpin_size#4', 'interior_size#2', 'interior_size#4', 'stack#AATT', 'stack#ACGT', 'stack#AGCT', 'stack#ATAT', 'stack#CATG', 'stack#CCGG', 'stack#CGCG', 'stack#CTAG', 'stack#GATC', 'stack#GCGC', 'stack#GGCC', 'stack#GTAC', 'stack#TATA', 'stack#TCGA', 'stack#TGCA', 'stack#TTAA', 'terminal_penalty#AT', 'terminal_penalty#CG', 'terminal_penalty#GC', 'terminal_penalty#TA']\n",
      "rank 145\n",
      "shape of A_unknown (1248, 148)\n",
      "Warning: Rank of matrix A_unknown, 145, is smaller than the number of features 148!\n",
      "                           dG\n",
      "bulge_size#1              4.0\n",
      "bulge_size#2              2.9\n",
      "bulge_size#3              3.1\n",
      "bulge_size#4              3.2\n",
      "bulge_size#5              3.3\n",
      "...                       ...\n",
      "hairpin_tetraloop#CCTTGG -0.8\n",
      "hairpin_tetraloop#GCTTGC -0.8\n",
      "hairpin_tetraloop#GCTTGT -0.5\n",
      "hairpin_tetraloop#TCTTGA -0.8\n",
      "hairpin_tetraloop#TCTTGG -0.5\n",
      "\n",
      "[368 rows x 1 columns]\n",
      "['bulge_size#1', 'bulge_size#2', 'hairpin_size#11', 'hairpin_size#14', 'hairpin_size#17', 'hairpin_size#20', 'hairpin_size#3', 'hairpin_size#4', 'interior_size#2', 'interior_size#4', 'stack#AATT', 'stack#ACGT', 'stack#AGCT', 'stack#ATAT', 'stack#CATG', 'stack#CCGG', 'stack#CGCG', 'stack#CTAG', 'stack#GATC', 'stack#GCGC', 'stack#GGCC', 'stack#GTAC', 'stack#TATA', 'stack#TCGA', 'stack#TGCA', 'stack#TTAA', 'terminal_penalty#AT', 'terminal_penalty#CG', 'terminal_penalty#GC', 'terminal_penalty#TA']\n",
      "rank 146\n",
      "shape of A_unknown (1248, 148)\n",
      "Warning: Rank of matrix A_unknown, 146, is smaller than the number of features 148!\n",
      "\n",
      "Template file: ./models/dna04.json\n",
      "Centering new parameters...\n",
      "group bulge_size\n",
      "Nothing happened.\n",
      "group hairpin_mismatch\n",
      "\tMean value of old_dict is -3.684\n",
      "\tMean value of fitted new_dict is 1.323\n",
      "\tMean value of centered new_dict is -3.684\n",
      "\n",
      "group hairpin_size\n",
      "Nothing happened.\n",
      "group interior_mismatch\n",
      "\tMean value of old_dict is -2.913\n",
      "\tMean value of fitted new_dict is -4.495\n",
      "\tMean value of centered new_dict is -2.913\n",
      "\n",
      "group interior_size\n",
      "Nothing happened.\n",
      "group stack\n",
      "\tMean value of old_dict is -8.275\n",
      "\tMean value of fitted new_dict is -8.275\n",
      "\tMean value of centered new_dict is -8.275\n",
      "\n",
      "group terminal_penalty\n",
      "\tMean value of old_dict is 1.100\n",
      "\tMean value of fitted new_dict is 1.100\n",
      "\tMean value of centered new_dict is 1.100\n",
      "\n",
      "Centering new parameters...\n",
      "group bulge_size\n",
      "Nothing happened.\n",
      "group hairpin_mismatch\n",
      "\tMean value of old_dict is -0.715\n",
      "\tMean value of fitted new_dict is 0.016\n",
      "\tMean value of centered new_dict is -0.715\n",
      "\n",
      "group hairpin_size\n",
      "Nothing happened.\n",
      "group interior_mismatch\n",
      "\tMean value of old_dict is -0.640\n",
      "\tMean value of fitted new_dict is -0.787\n",
      "\tMean value of centered new_dict is -0.640\n",
      "\n",
      "group interior_size\n",
      "Nothing happened.\n",
      "group stack\n",
      "\tMean value of old_dict is -1.406\n",
      "\tMean value of fitted new_dict is -1.406\n",
      "\tMean value of centered new_dict is -1.406\n",
      "\n",
      "group terminal_penalty\n",
      "\tMean value of old_dict is 0.025\n",
      "\tMean value of fitted new_dict is 0.025\n",
      "\tMean value of centered new_dict is 0.025\n",
      "\n",
      "\n",
      "Centering dH of hairpin_triloop to ./models/dna04.json\n",
      "\tMean value of old_dict is -1.500\n",
      "\tMean value of fitted new_dict is 0.930\n",
      "\tMean value of centered new_dict is -1.500\n",
      "\n",
      "\n",
      "Centering dH of hairpin_tetraloop to ./models/dna04.json\n",
      "\tMean value of old_dict is -0.025\n",
      "\tMean value of fitted new_dict is 0.170\n",
      "\tMean value of centered new_dict is -0.025\n",
      "\n",
      "\n",
      "Centering dG of hairpin_triloop to ./models/dna04.json\n",
      "\tMean value of old_dict is -1.500\n",
      "\tMean value of fitted new_dict is -0.261\n",
      "\tMean value of centered new_dict is -1.500\n",
      "\n",
      "\n",
      "Centering dG of hairpin_tetraloop to ./models/dna04.json\n",
      "\tMean value of old_dict is -0.479\n",
      "\tMean value of fitted new_dict is -0.760\n",
      "\tMean value of centered new_dict is -0.479\n",
      "\n"
     ]
    },
    {
     "data": {
      "text/html": [
       "Waiting for W&B process to finish... <strong style=\"color:green\">(success).</strong>"
      ],
      "text/plain": [
       "<IPython.core.display.HTML object>"
      ]
     },
     "metadata": {},
     "output_type": "display_data"
    },
    {
     "data": {
      "text/html": [
       "<style>\n",
       "    table.wandb td:nth-child(1) { padding: 0 10px; text-align: left ; width: auto;} td:nth-child(2) {text-align: left ; width: 100%}\n",
       "    .wandb-row { display: flex; flex-direction: row; flex-wrap: wrap; justify-content: flex-start; width: 100% }\n",
       "    .wandb-col { display: flex; flex-direction: column; flex-basis: 100%; flex: 1; padding: 10px; }\n",
       "    </style>\n",
       "<div class=\"wandb-row\"><div class=\"wandb-col\"><h3>Run history:</h3><br/><table class=\"wandb\"><tr><td>n_feat</td><td>▁</td></tr><tr><td>n_fixed_feat</td><td>▁</td></tr><tr><td>train_dG_mae</td><td>▁</td></tr><tr><td>train_dG_rsqr</td><td>▁</td></tr><tr><td>train_dH_mae</td><td>▁</td></tr><tr><td>train_dH_rsqr</td><td>▁</td></tr><tr><td>val_Tm_adjusted_mae-all</td><td>▁</td></tr><tr><td>val_Tm_adjusted_mae-arr</td><td>▁</td></tr><tr><td>val_Tm_adjusted_mae-lit_uv</td><td>▁</td></tr><tr><td>val_Tm_adjusted_mae-ov</td><td>▁</td></tr><tr><td>val_Tm_adjusted_rmse-all</td><td>▁</td></tr><tr><td>val_Tm_adjusted_rmse-arr</td><td>▁</td></tr><tr><td>val_Tm_adjusted_rmse-lit_uv</td><td>▁</td></tr><tr><td>val_Tm_adjusted_rmse-ov</td><td>▁</td></tr><tr><td>val_Tm_bias-all</td><td>▁</td></tr><tr><td>val_Tm_bias-arr</td><td>▁</td></tr><tr><td>val_Tm_bias-lit_uv</td><td>▁</td></tr><tr><td>val_Tm_bias-ov</td><td>▁</td></tr><tr><td>val_Tm_corr-all</td><td>▁</td></tr><tr><td>val_Tm_corr-arr</td><td>▁</td></tr><tr><td>val_Tm_corr-lit_uv</td><td>▁</td></tr><tr><td>val_Tm_corr-ov</td><td>▁</td></tr><tr><td>val_Tm_mae-all</td><td>▁</td></tr><tr><td>val_Tm_mae-arr</td><td>▁</td></tr><tr><td>val_Tm_mae-lit_uv</td><td>▁</td></tr><tr><td>val_Tm_mae-ov</td><td>▁</td></tr><tr><td>val_Tm_r2-all</td><td>▁</td></tr><tr><td>val_Tm_r2-arr</td><td>▁</td></tr><tr><td>val_Tm_r2-lit_uv</td><td>▁</td></tr><tr><td>val_Tm_r2-ov</td><td>▁</td></tr><tr><td>val_Tm_rmse-all</td><td>▁</td></tr><tr><td>val_Tm_rmse-arr</td><td>▁</td></tr><tr><td>val_Tm_rmse-lit_uv</td><td>▁</td></tr><tr><td>val_Tm_rmse-ov</td><td>▁</td></tr><tr><td>val_dG_adjusted_mae-arr</td><td>▁</td></tr><tr><td>val_dG_adjusted_rmse-arr</td><td>▁</td></tr><tr><td>val_dG_bias-arr</td><td>▁</td></tr><tr><td>val_dG_corr-arr</td><td>▁</td></tr><tr><td>val_dG_mae-arr</td><td>▁</td></tr><tr><td>val_dG_r2-arr</td><td>▁</td></tr><tr><td>val_dG_rmse-arr</td><td>▁</td></tr><tr><td>val_dH_adjusted_mae-arr</td><td>▁</td></tr><tr><td>val_dH_adjusted_rmse-arr</td><td>▁</td></tr><tr><td>val_dH_bias-arr</td><td>▁</td></tr><tr><td>val_dH_corr-arr</td><td>▁</td></tr><tr><td>val_dH_mae-arr</td><td>▁</td></tr><tr><td>val_dH_r2-arr</td><td>▁</td></tr><tr><td>val_dH_rmse-arr</td><td>▁</td></tr></table><br/></div><div class=\"wandb-col\"><h3>Run summary:</h3><br/><table class=\"wandb\"><tr><td>n_feat</td><td>178</td></tr><tr><td>n_fixed_feat</td><td>30</td></tr><tr><td>param_set_file</td><td>./models/pretty-donk...</td></tr><tr><td>train_dG_mae</td><td>0.59425</td></tr><tr><td>train_dG_rsqr</td><td>0.62892</td></tr><tr><td>train_dH_mae</td><td>5.99769</td></tr><tr><td>train_dH_rsqr</td><td>0.49915</td></tr><tr><td>val_Tm_adjusted_mae-all</td><td>29.55065</td></tr><tr><td>val_Tm_adjusted_mae-arr</td><td>42.92894</td></tr><tr><td>val_Tm_adjusted_mae-lit_uv</td><td>1.94874</td></tr><tr><td>val_Tm_adjusted_mae-ov</td><td>2.12717</td></tr><tr><td>val_Tm_adjusted_rmse-all</td><td>42.65176</td></tr><tr><td>val_Tm_adjusted_rmse-arr</td><td>52.86214</td></tr><tr><td>val_Tm_adjusted_rmse-lit_uv</td><td>2.44157</td></tr><tr><td>val_Tm_adjusted_rmse-ov</td><td>2.87835</td></tr><tr><td>val_Tm_bias-all</td><td>25.43629</td></tr><tr><td>val_Tm_bias-arr</td><td>50.72109</td></tr><tr><td>val_Tm_bias-lit_uv</td><td>6.66998</td></tr><tr><td>val_Tm_bias-ov</td><td>3.85475</td></tr><tr><td>val_Tm_corr-all</td><td>-0.07681</td></tr><tr><td>val_Tm_corr-arr</td><td>-0.00638</td></tr><tr><td>val_Tm_corr-lit_uv</td><td>0.98226</td></tr><tr><td>val_Tm_corr-ov</td><td>0.78837</td></tr><tr><td>val_Tm_mae-all</td><td>25.97974</td></tr><tr><td>val_Tm_mae-arr</td><td>51.62425</td></tr><tr><td>val_Tm_mae-lit_uv</td><td>6.67817</td></tr><tr><td>val_Tm_mae-ov</td><td>4.12483</td></tr><tr><td>val_Tm_r2-all</td><td>-18.89771</td></tr><tr><td>val_Tm_r2-arr</td><td>-22.56598</td></tr><tr><td>val_Tm_r2-lit_uv</td><td>0.94481</td></tr><tr><td>val_Tm_r2-ov</td><td>0.60523</td></tr><tr><td>val_Tm_rmse-all</td><td>49.66063</td></tr><tr><td>val_Tm_rmse-arr</td><td>73.26005</td></tr><tr><td>val_Tm_rmse-lit_uv</td><td>7.10281</td></tr><tr><td>val_Tm_rmse-ov</td><td>4.81082</td></tr><tr><td>val_dG_adjusted_mae-arr</td><td>0.94149</td></tr><tr><td>val_dG_adjusted_rmse-arr</td><td>1.16202</td></tr><tr><td>val_dG_bias-arr</td><td>-1.9619</td></tr><tr><td>val_dG_corr-arr</td><td>0.60466</td></tr><tr><td>val_dG_mae-arr</td><td>1.9999</td></tr><tr><td>val_dG_r2-arr</td><td>-0.17004</td></tr><tr><td>val_dG_rmse-arr</td><td>2.28021</td></tr><tr><td>val_dH_adjusted_mae-arr</td><td>7.59746</td></tr><tr><td>val_dH_adjusted_rmse-arr</td><td>9.79819</td></tr><tr><td>val_dH_bias-arr</td><td>0.26908</td></tr><tr><td>val_dH_corr-arr</td><td>0.67525</td></tr><tr><td>val_dH_mae-arr</td><td>7.6033</td></tr><tr><td>val_dH_r2-arr</td><td>0.24432</td></tr><tr><td>val_dH_rmse-arr</td><td>9.80188</td></tr></table><br/></div></div>"
      ],
      "text/plain": [
       "<IPython.core.display.HTML object>"
      ]
     },
     "metadata": {},
     "output_type": "display_data"
    },
    {
     "data": {
      "text/html": [
       " View run <strong style=\"color:#cdcd00\">pretty-donkey-143</strong> at: <a href='https://wandb.ai/keyuxi/NN/runs/v7k3uctu' target=\"_blank\">https://wandb.ai/keyuxi/NN/runs/v7k3uctu</a><br/> View job at <a href='https://wandb.ai/keyuxi/NN/jobs/QXJ0aWZhY3RDb2xsZWN0aW9uOjEzNzY4NTI1NA==/version_details/v2' target=\"_blank\">https://wandb.ai/keyuxi/NN/jobs/QXJ0aWZhY3RDb2xsZWN0aW9uOjEzNzY4NTI1NA==/version_details/v2</a><br/>Synced 6 W&B file(s), 0 media file(s), 0 artifact file(s) and 0 other file(s)"
      ],
      "text/plain": [
       "<IPython.core.display.HTML object>"
      ]
     },
     "metadata": {},
     "output_type": "display_data"
    },
    {
     "data": {
      "text/html": [
       "Find logs at: <code>./wandb/run-20240207_165035-v7k3uctu/logs</code>"
      ],
      "text/plain": [
       "<IPython.core.display.HTML object>"
      ]
     },
     "metadata": {},
     "output_type": "display_data"
    },
    {
     "data": {
      "text/plain": [
       "{'dH': LinearRegressionSVD(param='dH'), 'dG': LinearRegressionSVD()}"
      ]
     },
     "execution_count": 45,
     "metadata": {},
     "output_type": "execute_result"
    },
    {
     "data": {
      "image/png": "[encoded data removed]",
      "text/plain": [
       "<Figure size 800x400 with 2 Axes>"
      ]
     },
     "metadata": {},
     "output_type": "display_data"
    }
   ],
   "source": [
    "tnn.model_pipeline(config)"
   ]
  },
  {
   "cell_type": "code",
   "execution_count": 57,
   "metadata": {},
   "outputs": [],
   "source": [
    "mydata = tnn.MyData(config)"
   ]
  },
  {
   "cell_type": "code",
   "execution_count": 58,
   "metadata": {},
   "outputs": [
    {
     "data": {
      "text/plain": [
       "'./models/swift-lake-118.json'"
      ]
     },
     "execution_count": 58,
     "metadata": {},
     "output_type": "execute_result"
    }
   ],
   "source": [
    "mydata.param_set_template_file"
   ]
  },
  {
   "cell_type": "code",
   "execution_count": 65,
   "metadata": {},
   "outputs": [
    {
     "data": {
      "text/plain": [
       "4.36477208248927"
      ]
     },
     "execution_count": 65,
     "metadata": {},
     "output_type": "execute_result"
    }
   ],
   "source": [
    "fileio.read_pickle('./models/swift-lake-118_lr_dict.pkl')['dG'].coef_df.loc['hairpin_loop_mid#A'].values[0]"
   ]
  },
  {
   "cell_type": "code",
   "execution_count": 20,
   "metadata": {},
   "outputs": [
    {
     "name": "stderr",
     "output_type": "stream",
     "text": [
      "27732it [09:28, 48.76it/s]\n"
     ]
    }
   ],
   "source": [
    "arr_1M = mydata.get_arr_1M_with_mfe_struct(config['struct_pred_param_file'])"
   ]
  },
  {
   "cell_type": "code",
   "execution_count": 6,
   "metadata": {
    "scrolled": true
   },
   "outputs": [
    {
     "data": {
      "text/plain": [
       "array([0.01      , 0.01668101, 0.02782559, 0.04641589, 0.07742637,\n",
       "       0.12915497, 0.21544347, 0.35938137, 0.59948425, 1.        ])"
      ]
     },
     "execution_count": 6,
     "metadata": {},
     "output_type": "execute_result"
    }
   ],
   "source": [
    "# Set the range of ratio of training data used here\n",
    "myrange = np.logspace(-2, 0,num=10)\n",
    "myrange"
   ]
  },
  {
   "cell_type": "code",
   "execution_count": 9,
   "metadata": {
    "scrolled": true
   },
   "outputs": [
    {
     "data": {
      "text/html": [
       "wandb version 0.16.0 is available!  To upgrade, please run:\n",
       " $ pip install wandb --upgrade"
      ],
      "text/plain": [
       "<IPython.core.display.HTML object>"
      ]
     },
     "metadata": {},
     "output_type": "display_data"
    },
    {
     "data": {
      "text/html": [
       "Tracking run with wandb version 0.15.12"
      ],
      "text/plain": [
       "<IPython.core.display.HTML object>"
      ]
     },
     "metadata": {},
     "output_type": "display_data"
    },
    {
     "data": {
      "text/html": [
       "Run data is saved locally in <code>/Users/yuxi/workspace/nnn_paper/wandb/run-20231202_124535-98qyivsu</code>"
      ],
      "text/plain": [
       "<IPython.core.display.HTML object>"
      ]
     },
     "metadata": {},
     "output_type": "display_data"
    },
    {
     "data": {
      "text/html": [
       "Syncing run <strong><a href='https://wandb.ai/keyuxi/NN/runs/98qyivsu' target=\"_blank\">soft-sun-87</a></strong> to <a href='https://wandb.ai/keyuxi/NN' target=\"_blank\">Weights & Biases</a> (<a href='https://wandb.me/run' target=\"_blank\">docs</a>)<br/>"
      ],
      "text/plain": [
       "<IPython.core.display.HTML object>"
      ]
     },
     "metadata": {},
     "output_type": "display_data"
    },
    {
     "data": {
      "text/html": [
       " View project at <a href='https://wandb.ai/keyuxi/NN' target=\"_blank\">https://wandb.ai/keyuxi/NN</a>"
      ],
      "text/plain": [
       "<IPython.core.display.HTML object>"
      ]
     },
     "metadata": {},
     "output_type": "display_data"
    },
    {
     "data": {
      "text/html": [
       " View run at <a href='https://wandb.ai/keyuxi/NN/runs/98qyivsu' target=\"_blank\">https://wandb.ai/keyuxi/NN/runs/98qyivsu</a>"
      ],
      "text/plain": [
       "<IPython.core.display.HTML object>"
      ]
     },
     "metadata": {},
     "output_type": "display_data"
    },
    {
     "name": "stdout",
     "output_type": "stream",
     "text": [
      "feats (27732, 178) Index(['bulge_size#1', 'bulge_size#2', 'hairpin_loop_mid#A'], dtype='object')\n",
      "fixed_feature_names: ['bulge_size#1', 'bulge_size#2', 'hairpin_size#3', 'hairpin_size#4', 'hairpin_size#11', 'hairpin_size#14', 'hairpin_size#17', 'hairpin_size#20', 'interior_size#2', 'interior_size#4', 'stack#AATT', 'stack#ACGT', 'stack#AGCT', 'stack#ATAT', 'stack#CATG', 'stack#CCGG', 'stack#CGCG', 'stack#CTAG', 'stack#GATC', 'stack#GCGC', 'stack#GGCC', 'stack#GTAC', 'stack#TATA', 'stack#TCGA', 'stack#TGCA', 'stack#TTAA']\n",
      "                           dH\n",
      "bulge_size#1              0.0\n",
      "bulge_size#2              0.0\n",
      "bulge_size#3              0.0\n",
      "bulge_size#4              0.0\n",
      "bulge_size#5              0.0\n",
      "...                       ...\n",
      "hairpin_tetraloop#CCTTGG  0.0\n",
      "hairpin_tetraloop#GCTTGC  0.0\n",
      "hairpin_tetraloop#GCTTGT  0.0\n",
      "hairpin_tetraloop#TCTTGA  0.0\n",
      "hairpin_tetraloop#TCTTGG  0.0\n",
      "\n",
      "[352 rows x 1 columns]\n",
      "['bulge_size#1', 'bulge_size#2', 'hairpin_size#11', 'hairpin_size#14', 'hairpin_size#17', 'hairpin_size#20', 'hairpin_size#3', 'hairpin_size#4', 'interior_size#2', 'interior_size#4', 'stack#AATT', 'stack#ACGT', 'stack#AGCT', 'stack#ATAT', 'stack#CATG', 'stack#CCGG', 'stack#CGCG', 'stack#CTAG', 'stack#GATC', 'stack#GCGC', 'stack#GGCC', 'stack#GTAC', 'stack#TATA', 'stack#TCGA', 'stack#TGCA', 'stack#TTAA']\n",
      "Warning: Rank of matrix A_unknown, 118, is smaller than the number of features 152!\n",
      "                           dG\n",
      "bulge_size#1              4.0\n",
      "bulge_size#2              2.9\n",
      "bulge_size#3              3.1\n",
      "bulge_size#4              3.2\n",
      "bulge_size#5              3.3\n",
      "...                       ...\n",
      "hairpin_tetraloop#CCTTGG -0.8\n",
      "hairpin_tetraloop#GCTTGC -0.8\n",
      "hairpin_tetraloop#GCTTGT -0.5\n",
      "hairpin_tetraloop#TCTTGA -0.8\n",
      "hairpin_tetraloop#TCTTGG -0.5\n",
      "\n",
      "[352 rows x 1 columns]\n",
      "['bulge_size#1', 'bulge_size#2', 'hairpin_size#11', 'hairpin_size#14', 'hairpin_size#17', 'hairpin_size#20', 'hairpin_size#3', 'hairpin_size#4', 'interior_size#2', 'interior_size#4', 'stack#AATT', 'stack#ACGT', 'stack#AGCT', 'stack#ATAT', 'stack#CATG', 'stack#CCGG', 'stack#CGCG', 'stack#CTAG', 'stack#GATC', 'stack#GCGC', 'stack#GGCC', 'stack#GTAC', 'stack#TATA', 'stack#TCGA', 'stack#TGCA', 'stack#TTAA']\n",
      "Warning: Rank of matrix A_unknown, 106, is smaller than the number of features 152!\n",
      "Centering new parameters...\n",
      "group bulge_size\n",
      "group hairpin_mismatch\n",
      "\tMean value of old_dict is -3.684\n",
      "\tMean value of fitted new_dict is 0.927\n",
      "\tMean value of centered new_dict is -3.684\n",
      "\n",
      "group hairpin_size\n",
      "group interior_mismatch\n",
      "\tMean value of old_dict is -2.913\n",
      "\tMean value of fitted new_dict is -2.392\n",
      "\tMean value of centered new_dict is -2.913\n",
      "\n",
      "group interior_size\n",
      "group stack\n",
      "\tMean value of old_dict is -8.275\n",
      "\tMean value of fitted new_dict is -8.275\n",
      "\tMean value of centered new_dict is -8.275\n",
      "\n",
      "group terminal_penalty\n",
      "\tMean value of old_dict is 1.100\n",
      "\tMean value of fitted new_dict is -0.084\n",
      "\tMean value of centered new_dict is 1.100\n",
      "\n",
      "Centering new parameters...\n",
      "group bulge_size\n",
      "group hairpin_mismatch\n",
      "\tMean value of old_dict is -0.715\n",
      "\tMean value of fitted new_dict is -0.039\n",
      "\tMean value of centered new_dict is -0.715\n",
      "\n",
      "group hairpin_size\n",
      "group interior_mismatch\n",
      "\tMean value of old_dict is -0.640\n",
      "\tMean value of fitted new_dict is -0.512\n",
      "\tMean value of centered new_dict is -0.640\n",
      "\n",
      "group interior_size\n",
      "group stack\n",
      "\tMean value of old_dict is -1.406\n",
      "\tMean value of fitted new_dict is -1.406\n",
      "\tMean value of centered new_dict is -1.406\n",
      "\n",
      "group terminal_penalty\n",
      "\tMean value of old_dict is 0.025\n",
      "\tMean value of fitted new_dict is 0.073\n",
      "\tMean value of centered new_dict is 0.025\n",
      "\n"
     ]
    },
    {
     "data": {
      "text/html": [
       "Waiting for W&B process to finish... <strong style=\"color:green\">(success).</strong>"
      ],
      "text/plain": [
       "<IPython.core.display.HTML object>"
      ]
     },
     "metadata": {},
     "output_type": "display_data"
    },
    {
     "data": {
      "text/html": [
       "<style>\n",
       "    table.wandb td:nth-child(1) { padding: 0 10px; text-align: left ; width: auto;} td:nth-child(2) {text-align: left ; width: 100%}\n",
       "    .wandb-row { display: flex; flex-direction: row; flex-wrap: wrap; justify-content: flex-start; width: 100% }\n",
       "    .wandb-col { display: flex; flex-direction: column; flex-basis: 100%; flex: 1; padding: 10px; }\n",
       "    </style>\n",
       "<div class=\"wandb-row\"><div class=\"wandb-col\"><h3>Run history:</h3><br/><table class=\"wandb\"><tr><td>n_feat</td><td>▁</td></tr><tr><td>n_fixed_feat</td><td>▁</td></tr><tr><td>train_dG_mae</td><td>▁</td></tr><tr><td>train_dG_rsqr</td><td>▁</td></tr><tr><td>train_dH_mae</td><td>▁</td></tr><tr><td>train_dH_rsqr</td><td>▁</td></tr><tr><td>val_Tm_adjusted_mae-all</td><td>▁</td></tr><tr><td>val_Tm_adjusted_mae-arr</td><td>▁</td></tr><tr><td>val_Tm_adjusted_mae-lit_uv</td><td>▁</td></tr><tr><td>val_Tm_adjusted_mae-ov</td><td>▁</td></tr><tr><td>val_Tm_adjusted_rmse-all</td><td>▁</td></tr><tr><td>val_Tm_adjusted_rmse-arr</td><td>▁</td></tr><tr><td>val_Tm_adjusted_rmse-lit_uv</td><td>▁</td></tr><tr><td>val_Tm_adjusted_rmse-ov</td><td>▁</td></tr><tr><td>val_Tm_bias-all</td><td>▁</td></tr><tr><td>val_Tm_bias-arr</td><td>▁</td></tr><tr><td>val_Tm_bias-lit_uv</td><td>▁</td></tr><tr><td>val_Tm_bias-ov</td><td>▁</td></tr><tr><td>val_Tm_corr-all</td><td>▁</td></tr><tr><td>val_Tm_corr-arr</td><td>▁</td></tr><tr><td>val_Tm_corr-lit_uv</td><td>▁</td></tr><tr><td>val_Tm_corr-ov</td><td>▁</td></tr><tr><td>val_Tm_mae-all</td><td>▁</td></tr><tr><td>val_Tm_mae-arr</td><td>▁</td></tr><tr><td>val_Tm_mae-lit_uv</td><td>▁</td></tr><tr><td>val_Tm_mae-ov</td><td>▁</td></tr><tr><td>val_Tm_rmse-all</td><td>▁</td></tr><tr><td>val_Tm_rmse-arr</td><td>▁</td></tr><tr><td>val_Tm_rmse-lit_uv</td><td>▁</td></tr><tr><td>val_Tm_rmse-ov</td><td>▁</td></tr><tr><td>val_dG_adjusted_mae-arr</td><td>▁</td></tr><tr><td>val_dG_adjusted_rmse-arr</td><td>▁</td></tr><tr><td>val_dG_bias-arr</td><td>▁</td></tr><tr><td>val_dG_corr-arr</td><td>▁</td></tr><tr><td>val_dG_mae-arr</td><td>▁</td></tr><tr><td>val_dG_rmse-arr</td><td>▁</td></tr><tr><td>val_dH_adjusted_mae-arr</td><td>▁</td></tr><tr><td>val_dH_adjusted_rmse-arr</td><td>▁</td></tr><tr><td>val_dH_bias-arr</td><td>▁</td></tr><tr><td>val_dH_corr-arr</td><td>▁</td></tr><tr><td>val_dH_mae-arr</td><td>▁</td></tr><tr><td>val_dH_rmse-arr</td><td>▁</td></tr></table><br/></div><div class=\"wandb-col\"><h3>Run summary:</h3><br/><table class=\"wandb\"><tr><td>n_feat</td><td>178</td></tr><tr><td>n_fixed_feat</td><td>26</td></tr><tr><td>param_set_file</td><td>./models/soft-sun-87...</td></tr><tr><td>train_dG_mae</td><td>0.53728</td></tr><tr><td>train_dG_rsqr</td><td>0.6701</td></tr><tr><td>train_dH_mae</td><td>3.99298</td></tr><tr><td>train_dH_rsqr</td><td>0.65522</td></tr><tr><td>val_Tm_adjusted_mae-all</td><td>17.57329</td></tr><tr><td>val_Tm_adjusted_mae-arr</td><td>27.07295</td></tr><tr><td>val_Tm_adjusted_mae-lit_uv</td><td>1.771</td></tr><tr><td>val_Tm_adjusted_mae-ov</td><td>6.06305</td></tr><tr><td>val_Tm_adjusted_rmse-all</td><td>32.43112</td></tr><tr><td>val_Tm_adjusted_rmse-arr</td><td>44.475</td></tr><tr><td>val_Tm_adjusted_rmse-lit_uv</td><td>2.24155</td></tr><tr><td>val_Tm_adjusted_rmse-ov</td><td>7.62737</td></tr><tr><td>val_Tm_bias-all</td><td>12.74044</td></tr><tr><td>val_Tm_bias-arr</td><td>21.98695</td></tr><tr><td>val_Tm_bias-lit_uv</td><td>6.90205</td></tr><tr><td>val_Tm_bias-ov</td><td>3.93939</td></tr><tr><td>val_Tm_corr-all</td><td>0.15973</td></tr><tr><td>val_Tm_corr-arr</td><td>0.16591</td></tr><tr><td>val_Tm_corr-lit_uv</td><td>0.98578</td></tr><tr><td>val_Tm_corr-ov</td><td>0.37089</td></tr><tr><td>val_Tm_mae-all</td><td>18.36993</td></tr><tr><td>val_Tm_mae-arr</td><td>31.11119</td></tr><tr><td>val_Tm_mae-lit_uv</td><td>6.90205</td></tr><tr><td>val_Tm_mae-ov</td><td>6.67158</td></tr><tr><td>val_Tm_rmse-all</td><td>34.84389</td></tr><tr><td>val_Tm_rmse-arr</td><td>49.61302</td></tr><tr><td>val_Tm_rmse-lit_uv</td><td>7.25692</td></tr><tr><td>val_Tm_rmse-ov</td><td>8.58461</td></tr><tr><td>val_dG_adjusted_mae-arr</td><td>0.90686</td></tr><tr><td>val_dG_adjusted_rmse-arr</td><td>1.2661</td></tr><tr><td>val_dG_bias-arr</td><td>-0.87765</td></tr><tr><td>val_dG_corr-arr</td><td>0.6276</td></tr><tr><td>val_dG_mae-arr</td><td>1.21375</td></tr><tr><td>val_dG_rmse-arr</td><td>1.54055</td></tr><tr><td>val_dH_adjusted_mae-arr</td><td>10.45547</td></tr><tr><td>val_dH_adjusted_rmse-arr</td><td>15.72871</td></tr><tr><td>val_dH_bias-arr</td><td>0.72176</td></tr><tr><td>val_dH_corr-arr</td><td>0.40826</td></tr><tr><td>val_dH_mae-arr</td><td>10.58504</td></tr><tr><td>val_dH_rmse-arr</td><td>15.74526</td></tr></table><br/></div></div>"
      ],
      "text/plain": [
       "<IPython.core.display.HTML object>"
      ]
     },
     "metadata": {},
     "output_type": "display_data"
    },
    {
     "data": {
      "text/html": [
       " View run <strong style=\"color:#cdcd00\">soft-sun-87</strong> at: <a href='https://wandb.ai/keyuxi/NN/runs/98qyivsu' target=\"_blank\">https://wandb.ai/keyuxi/NN/runs/98qyivsu</a><br/> View job at <a href='https://wandb.ai/keyuxi/NN/jobs/QXJ0aWZhY3RDb2xsZWN0aW9uOjExMTcyMjg1NQ==/version_details/v5' target=\"_blank\">https://wandb.ai/keyuxi/NN/jobs/QXJ0aWZhY3RDb2xsZWN0aW9uOjExMTcyMjg1NQ==/version_details/v5</a><br/>Synced 6 W&B file(s), 0 media file(s), 2 artifact file(s) and 0 other file(s)"
      ],
      "text/plain": [
       "<IPython.core.display.HTML object>"
      ]
     },
     "metadata": {},
     "output_type": "display_data"
    },
    {
     "data": {
      "text/html": [
       "Find logs at: <code>./wandb/run-20231202_124535-98qyivsu/logs</code>"
      ],
      "text/plain": [
       "<IPython.core.display.HTML object>"
      ]
     },
     "metadata": {},
     "output_type": "display_data"
    },
    {
     "data": {
      "text/html": [
       "wandb version 0.16.0 is available!  To upgrade, please run:\n",
       " $ pip install wandb --upgrade"
      ],
      "text/plain": [
       "<IPython.core.display.HTML object>"
      ]
     },
     "metadata": {},
     "output_type": "display_data"
    },
    {
     "data": {
      "text/html": [
       "Tracking run with wandb version 0.15.12"
      ],
      "text/plain": [
       "<IPython.core.display.HTML object>"
      ]
     },
     "metadata": {},
     "output_type": "display_data"
    },
    {
     "data": {
      "text/html": [
       "Run data is saved locally in <code>/Users/yuxi/workspace/nnn_paper/wandb/run-20231202_125435-kb2eewci</code>"
      ],
      "text/plain": [
       "<IPython.core.display.HTML object>"
      ]
     },
     "metadata": {},
     "output_type": "display_data"
    },
    {
     "data": {
      "text/html": [
       "Syncing run <strong><a href='https://wandb.ai/keyuxi/NN/runs/kb2eewci' target=\"_blank\">efficient-vortex-88</a></strong> to <a href='https://wandb.ai/keyuxi/NN' target=\"_blank\">Weights & Biases</a> (<a href='https://wandb.me/run' target=\"_blank\">docs</a>)<br/>"
      ],
      "text/plain": [
       "<IPython.core.display.HTML object>"
      ]
     },
     "metadata": {},
     "output_type": "display_data"
    },
    {
     "data": {
      "text/html": [
       " View project at <a href='https://wandb.ai/keyuxi/NN' target=\"_blank\">https://wandb.ai/keyuxi/NN</a>"
      ],
      "text/plain": [
       "<IPython.core.display.HTML object>"
      ]
     },
     "metadata": {},
     "output_type": "display_data"
    },
    {
     "data": {
      "text/html": [
       " View run at <a href='https://wandb.ai/keyuxi/NN/runs/kb2eewci' target=\"_blank\">https://wandb.ai/keyuxi/NN/runs/kb2eewci</a>"
      ],
      "text/plain": [
       "<IPython.core.display.HTML object>"
      ]
     },
     "metadata": {},
     "output_type": "display_data"
    },
    {
     "name": "stdout",
     "output_type": "stream",
     "text": [
      "feats (27732, 178) Index(['bulge_size#1', 'bulge_size#2', 'hairpin_loop_mid#A'], dtype='object')\n",
      "fixed_feature_names: ['bulge_size#1', 'bulge_size#2', 'hairpin_size#3', 'hairpin_size#4', 'hairpin_size#11', 'hairpin_size#14', 'hairpin_size#17', 'hairpin_size#20', 'interior_size#2', 'interior_size#4', 'stack#AATT', 'stack#ACGT', 'stack#AGCT', 'stack#ATAT', 'stack#CATG', 'stack#CCGG', 'stack#CGCG', 'stack#CTAG', 'stack#GATC', 'stack#GCGC', 'stack#GGCC', 'stack#GTAC', 'stack#TATA', 'stack#TCGA', 'stack#TGCA', 'stack#TTAA']\n",
      "                           dH\n",
      "bulge_size#1              0.0\n",
      "bulge_size#2              0.0\n",
      "bulge_size#3              0.0\n",
      "bulge_size#4              0.0\n",
      "bulge_size#5              0.0\n",
      "...                       ...\n",
      "hairpin_tetraloop#CCTTGG  0.0\n",
      "hairpin_tetraloop#GCTTGC  0.0\n",
      "hairpin_tetraloop#GCTTGT  0.0\n",
      "hairpin_tetraloop#TCTTGA  0.0\n",
      "hairpin_tetraloop#TCTTGG  0.0\n",
      "\n",
      "[352 rows x 1 columns]\n",
      "['bulge_size#1', 'bulge_size#2', 'hairpin_size#11', 'hairpin_size#14', 'hairpin_size#17', 'hairpin_size#20', 'hairpin_size#3', 'hairpin_size#4', 'interior_size#2', 'interior_size#4', 'stack#AATT', 'stack#ACGT', 'stack#AGCT', 'stack#ATAT', 'stack#CATG', 'stack#CCGG', 'stack#CGCG', 'stack#CTAG', 'stack#GATC', 'stack#GCGC', 'stack#GGCC', 'stack#GTAC', 'stack#TATA', 'stack#TCGA', 'stack#TGCA', 'stack#TTAA']\n",
      "Warning: Rank of matrix A_unknown, 130, is smaller than the number of features 152!\n",
      "                           dG\n",
      "bulge_size#1              4.0\n",
      "bulge_size#2              2.9\n",
      "bulge_size#3              3.1\n",
      "bulge_size#4              3.2\n",
      "bulge_size#5              3.3\n",
      "...                       ...\n",
      "hairpin_tetraloop#CCTTGG -0.8\n",
      "hairpin_tetraloop#GCTTGC -0.8\n",
      "hairpin_tetraloop#GCTTGT -0.5\n",
      "hairpin_tetraloop#TCTTGA -0.8\n",
      "hairpin_tetraloop#TCTTGG -0.5\n",
      "\n",
      "[352 rows x 1 columns]\n",
      "['bulge_size#1', 'bulge_size#2', 'hairpin_size#11', 'hairpin_size#14', 'hairpin_size#17', 'hairpin_size#20', 'hairpin_size#3', 'hairpin_size#4', 'interior_size#2', 'interior_size#4', 'stack#AATT', 'stack#ACGT', 'stack#AGCT', 'stack#ATAT', 'stack#CATG', 'stack#CCGG', 'stack#CGCG', 'stack#CTAG', 'stack#GATC', 'stack#GCGC', 'stack#GGCC', 'stack#GTAC', 'stack#TATA', 'stack#TCGA', 'stack#TGCA', 'stack#TTAA']\n",
      "Warning: Rank of matrix A_unknown, 134, is smaller than the number of features 152!\n",
      "Centering new parameters...\n",
      "group bulge_size\n",
      "group hairpin_mismatch\n",
      "\tMean value of old_dict is -3.684\n",
      "\tMean value of fitted new_dict is 0.760\n",
      "\tMean value of centered new_dict is -3.684\n",
      "\n",
      "group hairpin_size\n",
      "group interior_mismatch\n",
      "\tMean value of old_dict is -2.913\n",
      "\tMean value of fitted new_dict is -6.110\n",
      "\tMean value of centered new_dict is -2.913\n",
      "\n",
      "group interior_size\n",
      "group stack\n",
      "\tMean value of old_dict is -8.275\n",
      "\tMean value of fitted new_dict is -8.275\n",
      "\tMean value of centered new_dict is -8.275\n",
      "\n",
      "group terminal_penalty\n",
      "\tMean value of old_dict is 1.100\n",
      "\tMean value of fitted new_dict is -1.215\n",
      "\tMean value of centered new_dict is 1.100\n",
      "\n",
      "Centering new parameters...\n",
      "group bulge_size\n",
      "group hairpin_mismatch\n",
      "\tMean value of old_dict is -0.715\n",
      "\tMean value of fitted new_dict is -0.051\n",
      "\tMean value of centered new_dict is -0.715\n",
      "\n",
      "group hairpin_size\n",
      "group interior_mismatch\n",
      "\tMean value of old_dict is -0.640\n",
      "\tMean value of fitted new_dict is -0.950\n",
      "\tMean value of centered new_dict is -0.640\n",
      "\n",
      "group interior_size\n",
      "group stack\n",
      "\tMean value of old_dict is -1.406\n",
      "\tMean value of fitted new_dict is -1.406\n",
      "\tMean value of centered new_dict is -1.406\n",
      "\n",
      "group terminal_penalty\n",
      "\tMean value of old_dict is 0.025\n",
      "\tMean value of fitted new_dict is 0.235\n",
      "\tMean value of centered new_dict is 0.025\n",
      "\n"
     ]
    },
    {
     "data": {
      "text/html": [
       "Waiting for W&B process to finish... <strong style=\"color:green\">(success).</strong>"
      ],
      "text/plain": [
       "<IPython.core.display.HTML object>"
      ]
     },
     "metadata": {},
     "output_type": "display_data"
    },
    {
     "data": {
      "text/html": [
       "<style>\n",
       "    table.wandb td:nth-child(1) { padding: 0 10px; text-align: left ; width: auto;} td:nth-child(2) {text-align: left ; width: 100%}\n",
       "    .wandb-row { display: flex; flex-direction: row; flex-wrap: wrap; justify-content: flex-start; width: 100% }\n",
       "    .wandb-col { display: flex; flex-direction: column; flex-basis: 100%; flex: 1; padding: 10px; }\n",
       "    </style>\n",
       "<div class=\"wandb-row\"><div class=\"wandb-col\"><h3>Run history:</h3><br/><table class=\"wandb\"><tr><td>n_feat</td><td>▁</td></tr><tr><td>n_fixed_feat</td><td>▁</td></tr><tr><td>train_dG_mae</td><td>▁</td></tr><tr><td>train_dG_rsqr</td><td>▁</td></tr><tr><td>train_dH_mae</td><td>▁</td></tr><tr><td>train_dH_rsqr</td><td>▁</td></tr><tr><td>val_Tm_adjusted_mae-all</td><td>▁</td></tr><tr><td>val_Tm_adjusted_mae-arr</td><td>▁</td></tr><tr><td>val_Tm_adjusted_mae-lit_uv</td><td>▁</td></tr><tr><td>val_Tm_adjusted_mae-ov</td><td>▁</td></tr><tr><td>val_Tm_adjusted_rmse-all</td><td>▁</td></tr><tr><td>val_Tm_adjusted_rmse-arr</td><td>▁</td></tr><tr><td>val_Tm_adjusted_rmse-lit_uv</td><td>▁</td></tr><tr><td>val_Tm_adjusted_rmse-ov</td><td>▁</td></tr><tr><td>val_Tm_bias-all</td><td>▁</td></tr><tr><td>val_Tm_bias-arr</td><td>▁</td></tr><tr><td>val_Tm_bias-lit_uv</td><td>▁</td></tr><tr><td>val_Tm_bias-ov</td><td>▁</td></tr><tr><td>val_Tm_corr-all</td><td>▁</td></tr><tr><td>val_Tm_corr-arr</td><td>▁</td></tr><tr><td>val_Tm_corr-lit_uv</td><td>▁</td></tr><tr><td>val_Tm_corr-ov</td><td>▁</td></tr><tr><td>val_Tm_mae-all</td><td>▁</td></tr><tr><td>val_Tm_mae-arr</td><td>▁</td></tr><tr><td>val_Tm_mae-lit_uv</td><td>▁</td></tr><tr><td>val_Tm_mae-ov</td><td>▁</td></tr><tr><td>val_Tm_rmse-all</td><td>▁</td></tr><tr><td>val_Tm_rmse-arr</td><td>▁</td></tr><tr><td>val_Tm_rmse-lit_uv</td><td>▁</td></tr><tr><td>val_Tm_rmse-ov</td><td>▁</td></tr><tr><td>val_dG_adjusted_mae-arr</td><td>▁</td></tr><tr><td>val_dG_adjusted_rmse-arr</td><td>▁</td></tr><tr><td>val_dG_bias-arr</td><td>▁</td></tr><tr><td>val_dG_corr-arr</td><td>▁</td></tr><tr><td>val_dG_mae-arr</td><td>▁</td></tr><tr><td>val_dG_rmse-arr</td><td>▁</td></tr><tr><td>val_dH_adjusted_mae-arr</td><td>▁</td></tr><tr><td>val_dH_adjusted_rmse-arr</td><td>▁</td></tr><tr><td>val_dH_bias-arr</td><td>▁</td></tr><tr><td>val_dH_corr-arr</td><td>▁</td></tr><tr><td>val_dH_mae-arr</td><td>▁</td></tr><tr><td>val_dH_rmse-arr</td><td>▁</td></tr></table><br/></div><div class=\"wandb-col\"><h3>Run summary:</h3><br/><table class=\"wandb\"><tr><td>n_feat</td><td>178</td></tr><tr><td>n_fixed_feat</td><td>26</td></tr><tr><td>param_set_file</td><td>./models/efficient-v...</td></tr><tr><td>train_dG_mae</td><td>0.51297</td></tr><tr><td>train_dG_rsqr</td><td>0.72104</td></tr><tr><td>train_dH_mae</td><td>5.00271</td></tr><tr><td>train_dH_rsqr</td><td>0.62842</td></tr><tr><td>val_Tm_adjusted_mae-all</td><td>25.51554</td></tr><tr><td>val_Tm_adjusted_mae-arr</td><td>39.51638</td></tr><tr><td>val_Tm_adjusted_mae-lit_uv</td><td>2.21476</td></tr><tr><td>val_Tm_adjusted_mae-ov</td><td>3.82612</td></tr><tr><td>val_Tm_adjusted_rmse-all</td><td>44.86251</td></tr><tr><td>val_Tm_adjusted_rmse-arr</td><td>60.88451</td></tr><tr><td>val_Tm_adjusted_rmse-lit_uv</td><td>2.73256</td></tr><tr><td>val_Tm_adjusted_rmse-ov</td><td>4.81984</td></tr><tr><td>val_Tm_bias-all</td><td>19.08471</td></tr><tr><td>val_Tm_bias-arr</td><td>35.38288</td></tr><tr><td>val_Tm_bias-lit_uv</td><td>6.94159</td></tr><tr><td>val_Tm_bias-ov</td><td>4.01525</td></tr><tr><td>val_Tm_corr-all</td><td>0.08955</td></tr><tr><td>val_Tm_corr-arr</td><td>0.14999</td></tr><tr><td>val_Tm_corr-lit_uv</td><td>0.98069</td></tr><tr><td>val_Tm_corr-ov</td><td>0.5313</td></tr><tr><td>val_Tm_mae-all</td><td>24.11516</td></tr><tr><td>val_Tm_mae-arr</td><td>44.88723</td></tr><tr><td>val_Tm_mae-lit_uv</td><td>6.94159</td></tr><tr><td>val_Tm_mae-ov</td><td>5.12184</td></tr><tr><td>val_Tm_rmse-all</td><td>48.75317</td></tr><tr><td>val_Tm_rmse-arr</td><td>70.41926</td></tr><tr><td>val_Tm_rmse-lit_uv</td><td>7.46007</td></tr><tr><td>val_Tm_rmse-ov</td><td>6.27321</td></tr><tr><td>val_dG_adjusted_mae-arr</td><td>0.83281</td></tr><tr><td>val_dG_adjusted_rmse-arr</td><td>1.10149</td></tr><tr><td>val_dG_bias-arr</td><td>-0.96835</td></tr><tr><td>val_dG_corr-arr</td><td>0.64136</td></tr><tr><td>val_dG_mae-arr</td><td>1.2065</td></tr><tr><td>val_dG_rmse-arr</td><td>1.46663</td></tr><tr><td>val_dH_adjusted_mae-arr</td><td>8.45906</td></tr><tr><td>val_dH_adjusted_rmse-arr</td><td>11.06465</td></tr><tr><td>val_dH_bias-arr</td><td>5.29384</td></tr><tr><td>val_dH_corr-arr</td><td>0.60513</td></tr><tr><td>val_dH_mae-arr</td><td>9.65824</td></tr><tr><td>val_dH_rmse-arr</td><td>12.26585</td></tr></table><br/></div></div>"
      ],
      "text/plain": [
       "<IPython.core.display.HTML object>"
      ]
     },
     "metadata": {},
     "output_type": "display_data"
    },
    {
     "data": {
      "text/html": [
       " View run <strong style=\"color:#cdcd00\">efficient-vortex-88</strong> at: <a href='https://wandb.ai/keyuxi/NN/runs/kb2eewci' target=\"_blank\">https://wandb.ai/keyuxi/NN/runs/kb2eewci</a><br/> View job at <a href='https://wandb.ai/keyuxi/NN/jobs/QXJ0aWZhY3RDb2xsZWN0aW9uOjExMTcyMjg1NQ==/version_details/v5' target=\"_blank\">https://wandb.ai/keyuxi/NN/jobs/QXJ0aWZhY3RDb2xsZWN0aW9uOjExMTcyMjg1NQ==/version_details/v5</a><br/>Synced 6 W&B file(s), 0 media file(s), 0 artifact file(s) and 0 other file(s)"
      ],
      "text/plain": [
       "<IPython.core.display.HTML object>"
      ]
     },
     "metadata": {},
     "output_type": "display_data"
    },
    {
     "data": {
      "text/html": [
       "Find logs at: <code>./wandb/run-20231202_125435-kb2eewci/logs</code>"
      ],
      "text/plain": [
       "<IPython.core.display.HTML object>"
      ]
     },
     "metadata": {},
     "output_type": "display_data"
    },
    {
     "data": {
      "text/html": [
       "wandb version 0.16.0 is available!  To upgrade, please run:\n",
       " $ pip install wandb --upgrade"
      ],
      "text/plain": [
       "<IPython.core.display.HTML object>"
      ]
     },
     "metadata": {},
     "output_type": "display_data"
    },
    {
     "data": {
      "text/html": [
       "Tracking run with wandb version 0.15.12"
      ],
      "text/plain": [
       "<IPython.core.display.HTML object>"
      ]
     },
     "metadata": {},
     "output_type": "display_data"
    },
    {
     "data": {
      "text/html": [
       "Run data is saved locally in <code>/Users/yuxi/workspace/nnn_paper/wandb/run-20231202_130321-ambort9u</code>"
      ],
      "text/plain": [
       "<IPython.core.display.HTML object>"
      ]
     },
     "metadata": {},
     "output_type": "display_data"
    },
    {
     "data": {
      "text/html": [
       "Syncing run <strong><a href='https://wandb.ai/keyuxi/NN/runs/ambort9u' target=\"_blank\">vague-plasma-89</a></strong> to <a href='https://wandb.ai/keyuxi/NN' target=\"_blank\">Weights & Biases</a> (<a href='https://wandb.me/run' target=\"_blank\">docs</a>)<br/>"
      ],
      "text/plain": [
       "<IPython.core.display.HTML object>"
      ]
     },
     "metadata": {},
     "output_type": "display_data"
    },
    {
     "data": {
      "text/html": [
       " View project at <a href='https://wandb.ai/keyuxi/NN' target=\"_blank\">https://wandb.ai/keyuxi/NN</a>"
      ],
      "text/plain": [
       "<IPython.core.display.HTML object>"
      ]
     },
     "metadata": {},
     "output_type": "display_data"
    },
    {
     "data": {
      "text/html": [
       " View run at <a href='https://wandb.ai/keyuxi/NN/runs/ambort9u' target=\"_blank\">https://wandb.ai/keyuxi/NN/runs/ambort9u</a>"
      ],
      "text/plain": [
       "<IPython.core.display.HTML object>"
      ]
     },
     "metadata": {},
     "output_type": "display_data"
    },
    {
     "name": "stdout",
     "output_type": "stream",
     "text": [
      "feats (27732, 178) Index(['bulge_size#1', 'bulge_size#2', 'hairpin_loop_mid#A'], dtype='object')\n",
      "fixed_feature_names: ['bulge_size#1', 'bulge_size#2', 'hairpin_size#3', 'hairpin_size#4', 'hairpin_size#11', 'hairpin_size#14', 'hairpin_size#17', 'hairpin_size#20', 'interior_size#2', 'interior_size#4', 'stack#AATT', 'stack#ACGT', 'stack#AGCT', 'stack#ATAT', 'stack#CATG', 'stack#CCGG', 'stack#CGCG', 'stack#CTAG', 'stack#GATC', 'stack#GCGC', 'stack#GGCC', 'stack#GTAC', 'stack#TATA', 'stack#TCGA', 'stack#TGCA', 'stack#TTAA']\n",
      "                           dH\n",
      "bulge_size#1              0.0\n",
      "bulge_size#2              0.0\n",
      "bulge_size#3              0.0\n",
      "bulge_size#4              0.0\n",
      "bulge_size#5              0.0\n",
      "...                       ...\n",
      "hairpin_tetraloop#CCTTGG  0.0\n",
      "hairpin_tetraloop#GCTTGC  0.0\n",
      "hairpin_tetraloop#GCTTGT  0.0\n",
      "hairpin_tetraloop#TCTTGA  0.0\n",
      "hairpin_tetraloop#TCTTGG  0.0\n",
      "\n",
      "[352 rows x 1 columns]\n",
      "['bulge_size#1', 'bulge_size#2', 'hairpin_size#11', 'hairpin_size#14', 'hairpin_size#17', 'hairpin_size#20', 'hairpin_size#3', 'hairpin_size#4', 'interior_size#2', 'interior_size#4', 'stack#AATT', 'stack#ACGT', 'stack#AGCT', 'stack#ATAT', 'stack#CATG', 'stack#CCGG', 'stack#CGCG', 'stack#CTAG', 'stack#GATC', 'stack#GCGC', 'stack#GGCC', 'stack#GTAC', 'stack#TATA', 'stack#TCGA', 'stack#TGCA', 'stack#TTAA']\n",
      "Warning: Rank of matrix A_unknown, 149, is smaller than the number of features 152!\n",
      "                           dG\n",
      "bulge_size#1              4.0\n",
      "bulge_size#2              2.9\n",
      "bulge_size#3              3.1\n",
      "bulge_size#4              3.2\n",
      "bulge_size#5              3.3\n",
      "...                       ...\n",
      "hairpin_tetraloop#CCTTGG -0.8\n",
      "hairpin_tetraloop#GCTTGC -0.8\n",
      "hairpin_tetraloop#GCTTGT -0.5\n",
      "hairpin_tetraloop#TCTTGA -0.8\n",
      "hairpin_tetraloop#TCTTGG -0.5\n",
      "\n",
      "[352 rows x 1 columns]\n",
      "['bulge_size#1', 'bulge_size#2', 'hairpin_size#11', 'hairpin_size#14', 'hairpin_size#17', 'hairpin_size#20', 'hairpin_size#3', 'hairpin_size#4', 'interior_size#2', 'interior_size#4', 'stack#AATT', 'stack#ACGT', 'stack#AGCT', 'stack#ATAT', 'stack#CATG', 'stack#CCGG', 'stack#CGCG', 'stack#CTAG', 'stack#GATC', 'stack#GCGC', 'stack#GGCC', 'stack#GTAC', 'stack#TATA', 'stack#TCGA', 'stack#TGCA', 'stack#TTAA']\n",
      "Warning: Rank of matrix A_unknown, 138, is smaller than the number of features 152!\n",
      "Centering new parameters...\n",
      "group bulge_size\n",
      "group hairpin_mismatch\n",
      "\tMean value of old_dict is -3.684\n",
      "\tMean value of fitted new_dict is 1.627\n",
      "\tMean value of centered new_dict is -3.684\n",
      "\n",
      "group hairpin_size\n",
      "group interior_mismatch\n",
      "\tMean value of old_dict is -2.913\n",
      "\tMean value of fitted new_dict is -7.374\n",
      "\tMean value of centered new_dict is -2.913\n",
      "\n",
      "group interior_size\n",
      "group stack\n",
      "\tMean value of old_dict is -8.275\n",
      "\tMean value of fitted new_dict is -8.275\n",
      "\tMean value of centered new_dict is -8.275\n",
      "\n",
      "group terminal_penalty\n",
      "\tMean value of old_dict is 1.100\n",
      "\tMean value of fitted new_dict is -2.184\n",
      "\tMean value of centered new_dict is 1.100\n",
      "\n",
      "Centering new parameters...\n",
      "group bulge_size\n",
      "group hairpin_mismatch\n",
      "\tMean value of old_dict is -0.715\n",
      "\tMean value of fitted new_dict is -0.002\n",
      "\tMean value of centered new_dict is -0.715\n",
      "\n",
      "group hairpin_size\n",
      "group interior_mismatch\n",
      "\tMean value of old_dict is -0.640\n",
      "\tMean value of fitted new_dict is -1.066\n",
      "\tMean value of centered new_dict is -0.640\n",
      "\n",
      "group interior_size\n",
      "group stack\n",
      "\tMean value of old_dict is -1.406\n",
      "\tMean value of fitted new_dict is -1.406\n",
      "\tMean value of centered new_dict is -1.406\n",
      "\n",
      "group terminal_penalty\n",
      "\tMean value of old_dict is 0.025\n",
      "\tMean value of fitted new_dict is 0.139\n",
      "\tMean value of centered new_dict is 0.025\n",
      "\n"
     ]
    },
    {
     "data": {
      "text/html": [
       "Waiting for W&B process to finish... <strong style=\"color:green\">(success).</strong>"
      ],
      "text/plain": [
       "<IPython.core.display.HTML object>"
      ]
     },
     "metadata": {},
     "output_type": "display_data"
    },
    {
     "data": {
      "text/html": [
       "<style>\n",
       "    table.wandb td:nth-child(1) { padding: 0 10px; text-align: left ; width: auto;} td:nth-child(2) {text-align: left ; width: 100%}\n",
       "    .wandb-row { display: flex; flex-direction: row; flex-wrap: wrap; justify-content: flex-start; width: 100% }\n",
       "    .wandb-col { display: flex; flex-direction: column; flex-basis: 100%; flex: 1; padding: 10px; }\n",
       "    </style>\n",
       "<div class=\"wandb-row\"><div class=\"wandb-col\"><h3>Run history:</h3><br/><table class=\"wandb\"><tr><td>n_feat</td><td>▁</td></tr><tr><td>n_fixed_feat</td><td>▁</td></tr><tr><td>train_dG_mae</td><td>▁</td></tr><tr><td>train_dG_rsqr</td><td>▁</td></tr><tr><td>train_dH_mae</td><td>▁</td></tr><tr><td>train_dH_rsqr</td><td>▁</td></tr><tr><td>val_Tm_adjusted_mae-all</td><td>▁</td></tr><tr><td>val_Tm_adjusted_mae-arr</td><td>▁</td></tr><tr><td>val_Tm_adjusted_mae-lit_uv</td><td>▁</td></tr><tr><td>val_Tm_adjusted_mae-ov</td><td>▁</td></tr><tr><td>val_Tm_adjusted_rmse-all</td><td>▁</td></tr><tr><td>val_Tm_adjusted_rmse-arr</td><td>▁</td></tr><tr><td>val_Tm_adjusted_rmse-lit_uv</td><td>▁</td></tr><tr><td>val_Tm_adjusted_rmse-ov</td><td>▁</td></tr><tr><td>val_Tm_bias-all</td><td>▁</td></tr><tr><td>val_Tm_bias-arr</td><td>▁</td></tr><tr><td>val_Tm_bias-lit_uv</td><td>▁</td></tr><tr><td>val_Tm_bias-ov</td><td>▁</td></tr><tr><td>val_Tm_corr-all</td><td>▁</td></tr><tr><td>val_Tm_corr-arr</td><td>▁</td></tr><tr><td>val_Tm_corr-lit_uv</td><td>▁</td></tr><tr><td>val_Tm_corr-ov</td><td>▁</td></tr><tr><td>val_Tm_mae-all</td><td>▁</td></tr><tr><td>val_Tm_mae-arr</td><td>▁</td></tr><tr><td>val_Tm_mae-lit_uv</td><td>▁</td></tr><tr><td>val_Tm_mae-ov</td><td>▁</td></tr><tr><td>val_Tm_rmse-all</td><td>▁</td></tr><tr><td>val_Tm_rmse-arr</td><td>▁</td></tr><tr><td>val_Tm_rmse-lit_uv</td><td>▁</td></tr><tr><td>val_Tm_rmse-ov</td><td>▁</td></tr><tr><td>val_dG_adjusted_mae-arr</td><td>▁</td></tr><tr><td>val_dG_adjusted_rmse-arr</td><td>▁</td></tr><tr><td>val_dG_bias-arr</td><td>▁</td></tr><tr><td>val_dG_corr-arr</td><td>▁</td></tr><tr><td>val_dG_mae-arr</td><td>▁</td></tr><tr><td>val_dG_rmse-arr</td><td>▁</td></tr><tr><td>val_dH_adjusted_mae-arr</td><td>▁</td></tr><tr><td>val_dH_adjusted_rmse-arr</td><td>▁</td></tr><tr><td>val_dH_bias-arr</td><td>▁</td></tr><tr><td>val_dH_corr-arr</td><td>▁</td></tr><tr><td>val_dH_mae-arr</td><td>▁</td></tr><tr><td>val_dH_rmse-arr</td><td>▁</td></tr></table><br/></div><div class=\"wandb-col\"><h3>Run summary:</h3><br/><table class=\"wandb\"><tr><td>n_feat</td><td>178</td></tr><tr><td>n_fixed_feat</td><td>26</td></tr><tr><td>param_set_file</td><td>./models/vague-plasm...</td></tr><tr><td>train_dG_mae</td><td>0.58164</td></tr><tr><td>train_dG_rsqr</td><td>0.6573</td></tr><tr><td>train_dH_mae</td><td>5.68115</td></tr><tr><td>train_dH_rsqr</td><td>0.4848</td></tr><tr><td>val_Tm_adjusted_mae-all</td><td>29.61847</td></tr><tr><td>val_Tm_adjusted_mae-arr</td><td>49.74894</td></tr><tr><td>val_Tm_adjusted_mae-lit_uv</td><td>2.41035</td></tr><tr><td>val_Tm_adjusted_mae-ov</td><td>3.45002</td></tr><tr><td>val_Tm_adjusted_rmse-all</td><td>61.35697</td></tr><tr><td>val_Tm_adjusted_rmse-arr</td><td>87.62309</td></tr><tr><td>val_Tm_adjusted_rmse-lit_uv</td><td>2.99367</td></tr><tr><td>val_Tm_adjusted_rmse-ov</td><td>4.52749</td></tr><tr><td>val_Tm_bias-all</td><td>18.11417</td></tr><tr><td>val_Tm_bias-arr</td><td>34.6375</td></tr><tr><td>val_Tm_bias-lit_uv</td><td>6.92344</td></tr><tr><td>val_Tm_bias-ov</td><td>3.7556</td></tr><tr><td>val_Tm_corr-all</td><td>0.08383</td></tr><tr><td>val_Tm_corr-arr</td><td>0.12619</td></tr><tr><td>val_Tm_corr-lit_uv</td><td>0.97713</td></tr><tr><td>val_Tm_corr-ov</td><td>0.58566</td></tr><tr><td>val_Tm_mae-all</td><td>28.21475</td></tr><tr><td>val_Tm_mae-arr</td><td>55.66206</td></tr><tr><td>val_Tm_mae-lit_uv</td><td>6.92858</td></tr><tr><td>val_Tm_mae-ov</td><td>4.70147</td></tr><tr><td>val_Tm_rmse-all</td><td>63.975</td></tr><tr><td>val_Tm_rmse-arr</td><td>94.22082</td></tr><tr><td>val_Tm_rmse-lit_uv</td><td>7.54295</td></tr><tr><td>val_Tm_rmse-ov</td><td>5.88241</td></tr><tr><td>val_dG_adjusted_mae-arr</td><td>0.77942</td></tr><tr><td>val_dG_adjusted_rmse-arr</td><td>1.03189</td></tr><tr><td>val_dG_bias-arr</td><td>-0.92242</td></tr><tr><td>val_dG_corr-arr</td><td>0.71058</td></tr><tr><td>val_dG_mae-arr</td><td>1.14644</td></tr><tr><td>val_dG_rmse-arr</td><td>1.38407</td></tr><tr><td>val_dH_adjusted_mae-arr</td><td>7.823</td></tr><tr><td>val_dH_adjusted_rmse-arr</td><td>9.97299</td></tr><tr><td>val_dH_bias-arr</td><td>8.77898</td></tr><tr><td>val_dH_corr-arr</td><td>0.63506</td></tr><tr><td>val_dH_mae-arr</td><td>10.65668</td></tr><tr><td>val_dH_rmse-arr</td><td>13.2865</td></tr></table><br/></div></div>"
      ],
      "text/plain": [
       "<IPython.core.display.HTML object>"
      ]
     },
     "metadata": {},
     "output_type": "display_data"
    },
    {
     "data": {
      "text/html": [
       " View run <strong style=\"color:#cdcd00\">vague-plasma-89</strong> at: <a href='https://wandb.ai/keyuxi/NN/runs/ambort9u' target=\"_blank\">https://wandb.ai/keyuxi/NN/runs/ambort9u</a><br/> View job at <a href='https://wandb.ai/keyuxi/NN/jobs/QXJ0aWZhY3RDb2xsZWN0aW9uOjExMTcyMjg1NQ==/version_details/v5' target=\"_blank\">https://wandb.ai/keyuxi/NN/jobs/QXJ0aWZhY3RDb2xsZWN0aW9uOjExMTcyMjg1NQ==/version_details/v5</a><br/>Synced 6 W&B file(s), 0 media file(s), 0 artifact file(s) and 0 other file(s)"
      ],
      "text/plain": [
       "<IPython.core.display.HTML object>"
      ]
     },
     "metadata": {},
     "output_type": "display_data"
    },
    {
     "data": {
      "text/html": [
       "Find logs at: <code>./wandb/run-20231202_130321-ambort9u/logs</code>"
      ],
      "text/plain": [
       "<IPython.core.display.HTML object>"
      ]
     },
     "metadata": {},
     "output_type": "display_data"
    },
    {
     "data": {
      "text/html": [
       "wandb version 0.16.0 is available!  To upgrade, please run:\n",
       " $ pip install wandb --upgrade"
      ],
      "text/plain": [
       "<IPython.core.display.HTML object>"
      ]
     },
     "metadata": {},
     "output_type": "display_data"
    },
    {
     "data": {
      "text/html": [
       "Tracking run with wandb version 0.15.12"
      ],
      "text/plain": [
       "<IPython.core.display.HTML object>"
      ]
     },
     "metadata": {},
     "output_type": "display_data"
    },
    {
     "data": {
      "text/html": [
       "Run data is saved locally in <code>/Users/yuxi/workspace/nnn_paper/wandb/run-20231202_131204-qajcaia8</code>"
      ],
      "text/plain": [
       "<IPython.core.display.HTML object>"
      ]
     },
     "metadata": {},
     "output_type": "display_data"
    },
    {
     "data": {
      "text/html": [
       "Syncing run <strong><a href='https://wandb.ai/keyuxi/NN/runs/qajcaia8' target=\"_blank\">ruby-oath-90</a></strong> to <a href='https://wandb.ai/keyuxi/NN' target=\"_blank\">Weights & Biases</a> (<a href='https://wandb.me/run' target=\"_blank\">docs</a>)<br/>"
      ],
      "text/plain": [
       "<IPython.core.display.HTML object>"
      ]
     },
     "metadata": {},
     "output_type": "display_data"
    },
    {
     "data": {
      "text/html": [
       " View project at <a href='https://wandb.ai/keyuxi/NN' target=\"_blank\">https://wandb.ai/keyuxi/NN</a>"
      ],
      "text/plain": [
       "<IPython.core.display.HTML object>"
      ]
     },
     "metadata": {},
     "output_type": "display_data"
    },
    {
     "data": {
      "text/html": [
       " View run at <a href='https://wandb.ai/keyuxi/NN/runs/qajcaia8' target=\"_blank\">https://wandb.ai/keyuxi/NN/runs/qajcaia8</a>"
      ],
      "text/plain": [
       "<IPython.core.display.HTML object>"
      ]
     },
     "metadata": {},
     "output_type": "display_data"
    },
    {
     "name": "stdout",
     "output_type": "stream",
     "text": [
      "feats (27732, 178) Index(['bulge_size#1', 'bulge_size#2', 'hairpin_loop_mid#A'], dtype='object')\n",
      "fixed_feature_names: ['bulge_size#1', 'bulge_size#2', 'hairpin_size#3', 'hairpin_size#4', 'hairpin_size#11', 'hairpin_size#14', 'hairpin_size#17', 'hairpin_size#20', 'interior_size#2', 'interior_size#4', 'stack#AATT', 'stack#ACGT', 'stack#AGCT', 'stack#ATAT', 'stack#CATG', 'stack#CCGG', 'stack#CGCG', 'stack#CTAG', 'stack#GATC', 'stack#GCGC', 'stack#GGCC', 'stack#GTAC', 'stack#TATA', 'stack#TCGA', 'stack#TGCA', 'stack#TTAA']\n",
      "                           dH\n",
      "bulge_size#1              0.0\n",
      "bulge_size#2              0.0\n",
      "bulge_size#3              0.0\n",
      "bulge_size#4              0.0\n",
      "bulge_size#5              0.0\n",
      "...                       ...\n",
      "hairpin_tetraloop#CCTTGG  0.0\n",
      "hairpin_tetraloop#GCTTGC  0.0\n",
      "hairpin_tetraloop#GCTTGT  0.0\n",
      "hairpin_tetraloop#TCTTGA  0.0\n",
      "hairpin_tetraloop#TCTTGG  0.0\n",
      "\n",
      "[352 rows x 1 columns]\n",
      "['bulge_size#1', 'bulge_size#2', 'hairpin_size#11', 'hairpin_size#14', 'hairpin_size#17', 'hairpin_size#20', 'hairpin_size#3', 'hairpin_size#4', 'interior_size#2', 'interior_size#4', 'stack#AATT', 'stack#ACGT', 'stack#AGCT', 'stack#ATAT', 'stack#CATG', 'stack#CCGG', 'stack#CGCG', 'stack#CTAG', 'stack#GATC', 'stack#GCGC', 'stack#GGCC', 'stack#GTAC', 'stack#TATA', 'stack#TCGA', 'stack#TGCA', 'stack#TTAA']\n",
      "Warning: Rank of matrix A_unknown, 149, is smaller than the number of features 152!\n",
      "                           dG\n",
      "bulge_size#1              4.0\n",
      "bulge_size#2              2.9\n",
      "bulge_size#3              3.1\n",
      "bulge_size#4              3.2\n",
      "bulge_size#5              3.3\n",
      "...                       ...\n",
      "hairpin_tetraloop#CCTTGG -0.8\n",
      "hairpin_tetraloop#GCTTGC -0.8\n",
      "hairpin_tetraloop#GCTTGT -0.5\n",
      "hairpin_tetraloop#TCTTGA -0.8\n",
      "hairpin_tetraloop#TCTTGG -0.5\n",
      "\n",
      "[352 rows x 1 columns]\n",
      "['bulge_size#1', 'bulge_size#2', 'hairpin_size#11', 'hairpin_size#14', 'hairpin_size#17', 'hairpin_size#20', 'hairpin_size#3', 'hairpin_size#4', 'interior_size#2', 'interior_size#4', 'stack#AATT', 'stack#ACGT', 'stack#AGCT', 'stack#ATAT', 'stack#CATG', 'stack#CCGG', 'stack#CGCG', 'stack#CTAG', 'stack#GATC', 'stack#GCGC', 'stack#GGCC', 'stack#GTAC', 'stack#TATA', 'stack#TCGA', 'stack#TGCA', 'stack#TTAA']\n",
      "Warning: Rank of matrix A_unknown, 151, is smaller than the number of features 152!\n",
      "Centering new parameters...\n",
      "group bulge_size\n",
      "group hairpin_mismatch\n",
      "\tMean value of old_dict is -3.684\n",
      "\tMean value of fitted new_dict is 1.597\n",
      "\tMean value of centered new_dict is -3.684\n",
      "\n",
      "group hairpin_size\n",
      "group interior_mismatch\n",
      "\tMean value of old_dict is -2.913\n",
      "\tMean value of fitted new_dict is -5.392\n",
      "\tMean value of centered new_dict is -2.912\n",
      "\n",
      "group interior_size\n",
      "group stack\n",
      "\tMean value of old_dict is -8.275\n",
      "\tMean value of fitted new_dict is -8.275\n",
      "\tMean value of centered new_dict is -8.275\n",
      "\n",
      "group terminal_penalty\n",
      "\tMean value of old_dict is 1.100\n",
      "\tMean value of fitted new_dict is -1.365\n",
      "\tMean value of centered new_dict is 1.100\n",
      "\n",
      "Centering new parameters...\n",
      "group bulge_size\n",
      "group hairpin_mismatch\n",
      "\tMean value of old_dict is -0.715\n",
      "\tMean value of fitted new_dict is -3.112\n",
      "\tMean value of centered new_dict is -0.715\n",
      "\n",
      "group hairpin_size\n",
      "group interior_mismatch\n",
      "\tMean value of old_dict is -0.640\n",
      "\tMean value of fitted new_dict is -0.712\n",
      "\tMean value of centered new_dict is -0.640\n",
      "\n",
      "group interior_size\n",
      "group stack\n",
      "\tMean value of old_dict is -1.406\n",
      "\tMean value of fitted new_dict is -1.406\n",
      "\tMean value of centered new_dict is -1.406\n",
      "\n",
      "group terminal_penalty\n",
      "\tMean value of old_dict is 0.025\n",
      "\tMean value of fitted new_dict is 0.075\n",
      "\tMean value of centered new_dict is 0.025\n",
      "\n"
     ]
    },
    {
     "data": {
      "text/html": [
       "Waiting for W&B process to finish... <strong style=\"color:green\">(success).</strong>"
      ],
      "text/plain": [
       "<IPython.core.display.HTML object>"
      ]
     },
     "metadata": {},
     "output_type": "display_data"
    },
    {
     "data": {
      "text/html": [
       "<style>\n",
       "    table.wandb td:nth-child(1) { padding: 0 10px; text-align: left ; width: auto;} td:nth-child(2) {text-align: left ; width: 100%}\n",
       "    .wandb-row { display: flex; flex-direction: row; flex-wrap: wrap; justify-content: flex-start; width: 100% }\n",
       "    .wandb-col { display: flex; flex-direction: column; flex-basis: 100%; flex: 1; padding: 10px; }\n",
       "    </style>\n",
       "<div class=\"wandb-row\"><div class=\"wandb-col\"><h3>Run history:</h3><br/><table class=\"wandb\"><tr><td>n_feat</td><td>▁</td></tr><tr><td>n_fixed_feat</td><td>▁</td></tr><tr><td>train_dG_mae</td><td>▁</td></tr><tr><td>train_dG_rsqr</td><td>▁</td></tr><tr><td>train_dH_mae</td><td>▁</td></tr><tr><td>train_dH_rsqr</td><td>▁</td></tr><tr><td>val_Tm_adjusted_mae-all</td><td>▁</td></tr><tr><td>val_Tm_adjusted_mae-arr</td><td>▁</td></tr><tr><td>val_Tm_adjusted_mae-lit_uv</td><td>▁</td></tr><tr><td>val_Tm_adjusted_mae-ov</td><td>▁</td></tr><tr><td>val_Tm_adjusted_rmse-all</td><td>▁</td></tr><tr><td>val_Tm_adjusted_rmse-arr</td><td>▁</td></tr><tr><td>val_Tm_adjusted_rmse-lit_uv</td><td>▁</td></tr><tr><td>val_Tm_adjusted_rmse-ov</td><td>▁</td></tr><tr><td>val_Tm_bias-all</td><td>▁</td></tr><tr><td>val_Tm_bias-arr</td><td>▁</td></tr><tr><td>val_Tm_bias-lit_uv</td><td>▁</td></tr><tr><td>val_Tm_bias-ov</td><td>▁</td></tr><tr><td>val_Tm_corr-all</td><td>▁</td></tr><tr><td>val_Tm_corr-arr</td><td>▁</td></tr><tr><td>val_Tm_corr-lit_uv</td><td>▁</td></tr><tr><td>val_Tm_corr-ov</td><td>▁</td></tr><tr><td>val_Tm_mae-all</td><td>▁</td></tr><tr><td>val_Tm_mae-arr</td><td>▁</td></tr><tr><td>val_Tm_mae-lit_uv</td><td>▁</td></tr><tr><td>val_Tm_mae-ov</td><td>▁</td></tr><tr><td>val_Tm_rmse-all</td><td>▁</td></tr><tr><td>val_Tm_rmse-arr</td><td>▁</td></tr><tr><td>val_Tm_rmse-lit_uv</td><td>▁</td></tr><tr><td>val_Tm_rmse-ov</td><td>▁</td></tr><tr><td>val_dG_adjusted_mae-arr</td><td>▁</td></tr><tr><td>val_dG_adjusted_rmse-arr</td><td>▁</td></tr><tr><td>val_dG_bias-arr</td><td>▁</td></tr><tr><td>val_dG_corr-arr</td><td>▁</td></tr><tr><td>val_dG_mae-arr</td><td>▁</td></tr><tr><td>val_dG_rmse-arr</td><td>▁</td></tr><tr><td>val_dH_adjusted_mae-arr</td><td>▁</td></tr><tr><td>val_dH_adjusted_rmse-arr</td><td>▁</td></tr><tr><td>val_dH_bias-arr</td><td>▁</td></tr><tr><td>val_dH_corr-arr</td><td>▁</td></tr><tr><td>val_dH_mae-arr</td><td>▁</td></tr><tr><td>val_dH_rmse-arr</td><td>▁</td></tr></table><br/></div><div class=\"wandb-col\"><h3>Run summary:</h3><br/><table class=\"wandb\"><tr><td>n_feat</td><td>178</td></tr><tr><td>n_fixed_feat</td><td>26</td></tr><tr><td>param_set_file</td><td>./models/ruby-oath-9...</td></tr><tr><td>train_dG_mae</td><td>0.5936</td></tr><tr><td>train_dG_rsqr</td><td>0.62948</td></tr><tr><td>train_dH_mae</td><td>5.92639</td></tr><tr><td>train_dH_rsqr</td><td>0.45014</td></tr><tr><td>val_Tm_adjusted_mae-all</td><td>20.03418</td></tr><tr><td>val_Tm_adjusted_mae-arr</td><td>16.78739</td></tr><tr><td>val_Tm_adjusted_mae-lit_uv</td><td>2.28544</td></tr><tr><td>val_Tm_adjusted_mae-ov</td><td>2.0863</td></tr><tr><td>val_Tm_adjusted_rmse-all</td><td>26.76343</td></tr><tr><td>val_Tm_adjusted_rmse-arr</td><td>26.7711</td></tr><tr><td>val_Tm_adjusted_rmse-lit_uv</td><td>2.82208</td></tr><tr><td>val_Tm_adjusted_rmse-ov</td><td>2.67163</td></tr><tr><td>val_Tm_bias-all</td><td>-13.07373</td></tr><tr><td>val_Tm_bias-arr</td><td>-33.09966</td></tr><tr><td>val_Tm_bias-lit_uv</td><td>6.92196</td></tr><tr><td>val_Tm_bias-ov</td><td>5.1525</td></tr><tr><td>val_Tm_corr-all</td><td>0.6562</td></tr><tr><td>val_Tm_corr-arr</td><td>0.65295</td></tr><tr><td>val_Tm_corr-lit_uv</td><td>0.97953</td></tr><tr><td>val_Tm_corr-ov</td><td>0.80968</td></tr><tr><td>val_Tm_mae-all</td><td>18.9884</td></tr><tr><td>val_Tm_mae-arr</td><td>33.75058</td></tr><tr><td>val_Tm_mae-lit_uv</td><td>6.92315</td></tr><tr><td>val_Tm_mae-ov</td><td>5.21759</td></tr><tr><td>val_Tm_rmse-all</td><td>29.78596</td></tr><tr><td>val_Tm_rmse-arr</td><td>42.57087</td></tr><tr><td>val_Tm_rmse-lit_uv</td><td>7.47514</td></tr><tr><td>val_Tm_rmse-ov</td><td>5.80395</td></tr><tr><td>val_dG_adjusted_mae-arr</td><td>0.62564</td></tr><tr><td>val_dG_adjusted_rmse-arr</td><td>0.84211</td></tr><tr><td>val_dG_bias-arr</td><td>2.16941</td></tr><tr><td>val_dG_corr-arr</td><td>0.78059</td></tr><tr><td>val_dG_mae-arr</td><td>2.17547</td></tr><tr><td>val_dG_rmse-arr</td><td>2.32712</td></tr><tr><td>val_dH_adjusted_mae-arr</td><td>6.84006</td></tr><tr><td>val_dH_adjusted_rmse-arr</td><td>8.59049</td></tr><tr><td>val_dH_bias-arr</td><td>4.68728</td></tr><tr><td>val_dH_corr-arr</td><td>0.68113</td></tr><tr><td>val_dH_mae-arr</td><td>7.68641</td></tr><tr><td>val_dH_rmse-arr</td><td>9.78606</td></tr></table><br/></div></div>"
      ],
      "text/plain": [
       "<IPython.core.display.HTML object>"
      ]
     },
     "metadata": {},
     "output_type": "display_data"
    },
    {
     "data": {
      "text/html": [
       " View run <strong style=\"color:#cdcd00\">ruby-oath-90</strong> at: <a href='https://wandb.ai/keyuxi/NN/runs/qajcaia8' target=\"_blank\">https://wandb.ai/keyuxi/NN/runs/qajcaia8</a><br/> View job at <a href='https://wandb.ai/keyuxi/NN/jobs/QXJ0aWZhY3RDb2xsZWN0aW9uOjExMTcyMjg1NQ==/version_details/v5' target=\"_blank\">https://wandb.ai/keyuxi/NN/jobs/QXJ0aWZhY3RDb2xsZWN0aW9uOjExMTcyMjg1NQ==/version_details/v5</a><br/>Synced 6 W&B file(s), 0 media file(s), 0 artifact file(s) and 0 other file(s)"
      ],
      "text/plain": [
       "<IPython.core.display.HTML object>"
      ]
     },
     "metadata": {},
     "output_type": "display_data"
    },
    {
     "data": {
      "text/html": [
       "Find logs at: <code>./wandb/run-20231202_131204-qajcaia8/logs</code>"
      ],
      "text/plain": [
       "<IPython.core.display.HTML object>"
      ]
     },
     "metadata": {},
     "output_type": "display_data"
    },
    {
     "data": {
      "text/html": [
       "wandb version 0.16.0 is available!  To upgrade, please run:\n",
       " $ pip install wandb --upgrade"
      ],
      "text/plain": [
       "<IPython.core.display.HTML object>"
      ]
     },
     "metadata": {},
     "output_type": "display_data"
    },
    {
     "data": {
      "text/html": [
       "Tracking run with wandb version 0.15.12"
      ],
      "text/plain": [
       "<IPython.core.display.HTML object>"
      ]
     },
     "metadata": {},
     "output_type": "display_data"
    },
    {
     "data": {
      "text/html": [
       "Run data is saved locally in <code>/Users/yuxi/workspace/nnn_paper/wandb/run-20231202_132047-3rz0fuwk</code>"
      ],
      "text/plain": [
       "<IPython.core.display.HTML object>"
      ]
     },
     "metadata": {},
     "output_type": "display_data"
    },
    {
     "data": {
      "text/html": [
       "Syncing run <strong><a href='https://wandb.ai/keyuxi/NN/runs/3rz0fuwk' target=\"_blank\">ruby-shape-91</a></strong> to <a href='https://wandb.ai/keyuxi/NN' target=\"_blank\">Weights & Biases</a> (<a href='https://wandb.me/run' target=\"_blank\">docs</a>)<br/>"
      ],
      "text/plain": [
       "<IPython.core.display.HTML object>"
      ]
     },
     "metadata": {},
     "output_type": "display_data"
    },
    {
     "data": {
      "text/html": [
       " View project at <a href='https://wandb.ai/keyuxi/NN' target=\"_blank\">https://wandb.ai/keyuxi/NN</a>"
      ],
      "text/plain": [
       "<IPython.core.display.HTML object>"
      ]
     },
     "metadata": {},
     "output_type": "display_data"
    },
    {
     "data": {
      "text/html": [
       " View run at <a href='https://wandb.ai/keyuxi/NN/runs/3rz0fuwk' target=\"_blank\">https://wandb.ai/keyuxi/NN/runs/3rz0fuwk</a>"
      ],
      "text/plain": [
       "<IPython.core.display.HTML object>"
      ]
     },
     "metadata": {},
     "output_type": "display_data"
    },
    {
     "name": "stdout",
     "output_type": "stream",
     "text": [
      "feats (27732, 178) Index(['bulge_size#1', 'bulge_size#2', 'hairpin_loop_mid#A'], dtype='object')\n",
      "fixed_feature_names: ['bulge_size#1', 'bulge_size#2', 'hairpin_size#3', 'hairpin_size#4', 'hairpin_size#11', 'hairpin_size#14', 'hairpin_size#17', 'hairpin_size#20', 'interior_size#2', 'interior_size#4', 'stack#AATT', 'stack#ACGT', 'stack#AGCT', 'stack#ATAT', 'stack#CATG', 'stack#CCGG', 'stack#CGCG', 'stack#CTAG', 'stack#GATC', 'stack#GCGC', 'stack#GGCC', 'stack#GTAC', 'stack#TATA', 'stack#TCGA', 'stack#TGCA', 'stack#TTAA']\n",
      "                           dH\n",
      "bulge_size#1              0.0\n",
      "bulge_size#2              0.0\n",
      "bulge_size#3              0.0\n",
      "bulge_size#4              0.0\n",
      "bulge_size#5              0.0\n",
      "...                       ...\n",
      "hairpin_tetraloop#CCTTGG  0.0\n",
      "hairpin_tetraloop#GCTTGC  0.0\n",
      "hairpin_tetraloop#GCTTGT  0.0\n",
      "hairpin_tetraloop#TCTTGA  0.0\n",
      "hairpin_tetraloop#TCTTGG  0.0\n",
      "\n",
      "[352 rows x 1 columns]\n",
      "['bulge_size#1', 'bulge_size#2', 'hairpin_size#11', 'hairpin_size#14', 'hairpin_size#17', 'hairpin_size#20', 'hairpin_size#3', 'hairpin_size#4', 'interior_size#2', 'interior_size#4', 'stack#AATT', 'stack#ACGT', 'stack#AGCT', 'stack#ATAT', 'stack#CATG', 'stack#CCGG', 'stack#CGCG', 'stack#CTAG', 'stack#GATC', 'stack#GCGC', 'stack#GGCC', 'stack#GTAC', 'stack#TATA', 'stack#TCGA', 'stack#TGCA', 'stack#TTAA']\n",
      "                           dG\n",
      "bulge_size#1              4.0\n",
      "bulge_size#2              2.9\n",
      "bulge_size#3              3.1\n",
      "bulge_size#4              3.2\n",
      "bulge_size#5              3.3\n",
      "...                       ...\n",
      "hairpin_tetraloop#CCTTGG -0.8\n",
      "hairpin_tetraloop#GCTTGC -0.8\n",
      "hairpin_tetraloop#GCTTGT -0.5\n",
      "hairpin_tetraloop#TCTTGA -0.8\n",
      "hairpin_tetraloop#TCTTGG -0.5\n",
      "\n",
      "[352 rows x 1 columns]\n",
      "['bulge_size#1', 'bulge_size#2', 'hairpin_size#11', 'hairpin_size#14', 'hairpin_size#17', 'hairpin_size#20', 'hairpin_size#3', 'hairpin_size#4', 'interior_size#2', 'interior_size#4', 'stack#AATT', 'stack#ACGT', 'stack#AGCT', 'stack#ATAT', 'stack#CATG', 'stack#CCGG', 'stack#CGCG', 'stack#CTAG', 'stack#GATC', 'stack#GCGC', 'stack#GGCC', 'stack#GTAC', 'stack#TATA', 'stack#TCGA', 'stack#TGCA', 'stack#TTAA']\n",
      "Warning: Rank of matrix A_unknown, 151, is smaller than the number of features 152!\n",
      "Centering new parameters...\n",
      "group bulge_size\n",
      "group hairpin_mismatch\n",
      "\tMean value of old_dict is -3.684\n",
      "\tMean value of fitted new_dict is -16.136\n",
      "\tMean value of centered new_dict is -3.684\n",
      "\n",
      "group hairpin_size\n",
      "group interior_mismatch\n",
      "\tMean value of old_dict is -2.913\n",
      "\tMean value of fitted new_dict is -5.883\n",
      "\tMean value of centered new_dict is -2.912\n",
      "\n",
      "group interior_size\n",
      "group stack\n",
      "\tMean value of old_dict is -8.275\n",
      "\tMean value of fitted new_dict is -8.275\n",
      "\tMean value of centered new_dict is -8.275\n",
      "\n",
      "group terminal_penalty\n",
      "\tMean value of old_dict is 1.100\n",
      "\tMean value of fitted new_dict is -0.426\n",
      "\tMean value of centered new_dict is 1.100\n",
      "\n",
      "Centering new parameters...\n",
      "group bulge_size\n",
      "group hairpin_mismatch\n",
      "\tMean value of old_dict is -0.715\n",
      "\tMean value of fitted new_dict is -0.042\n",
      "\tMean value of centered new_dict is -0.715\n",
      "\n",
      "group hairpin_size\n",
      "group interior_mismatch\n",
      "\tMean value of old_dict is -0.640\n",
      "\tMean value of fitted new_dict is -0.707\n",
      "\tMean value of centered new_dict is -0.640\n",
      "\n",
      "group interior_size\n",
      "group stack\n",
      "\tMean value of old_dict is -1.406\n",
      "\tMean value of fitted new_dict is -1.406\n",
      "\tMean value of centered new_dict is -1.406\n",
      "\n",
      "group terminal_penalty\n",
      "\tMean value of old_dict is 0.025\n",
      "\tMean value of fitted new_dict is 0.253\n",
      "\tMean value of centered new_dict is 0.025\n",
      "\n"
     ]
    },
    {
     "data": {
      "text/html": [
       "Waiting for W&B process to finish... <strong style=\"color:green\">(success).</strong>"
      ],
      "text/plain": [
       "<IPython.core.display.HTML object>"
      ]
     },
     "metadata": {},
     "output_type": "display_data"
    },
    {
     "data": {
      "text/html": [
       "<style>\n",
       "    table.wandb td:nth-child(1) { padding: 0 10px; text-align: left ; width: auto;} td:nth-child(2) {text-align: left ; width: 100%}\n",
       "    .wandb-row { display: flex; flex-direction: row; flex-wrap: wrap; justify-content: flex-start; width: 100% }\n",
       "    .wandb-col { display: flex; flex-direction: column; flex-basis: 100%; flex: 1; padding: 10px; }\n",
       "    </style>\n",
       "<div class=\"wandb-row\"><div class=\"wandb-col\"><h3>Run history:</h3><br/><table class=\"wandb\"><tr><td>n_feat</td><td>▁</td></tr><tr><td>n_fixed_feat</td><td>▁</td></tr><tr><td>train_dG_mae</td><td>▁</td></tr><tr><td>train_dG_rsqr</td><td>▁</td></tr><tr><td>train_dH_mae</td><td>▁</td></tr><tr><td>train_dH_rsqr</td><td>▁</td></tr><tr><td>val_Tm_adjusted_mae-all</td><td>▁</td></tr><tr><td>val_Tm_adjusted_mae-arr</td><td>▁</td></tr><tr><td>val_Tm_adjusted_mae-lit_uv</td><td>▁</td></tr><tr><td>val_Tm_adjusted_mae-ov</td><td>▁</td></tr><tr><td>val_Tm_adjusted_rmse-all</td><td>▁</td></tr><tr><td>val_Tm_adjusted_rmse-arr</td><td>▁</td></tr><tr><td>val_Tm_adjusted_rmse-lit_uv</td><td>▁</td></tr><tr><td>val_Tm_adjusted_rmse-ov</td><td>▁</td></tr><tr><td>val_Tm_bias-all</td><td>▁</td></tr><tr><td>val_Tm_bias-arr</td><td>▁</td></tr><tr><td>val_Tm_bias-lit_uv</td><td>▁</td></tr><tr><td>val_Tm_bias-ov</td><td>▁</td></tr><tr><td>val_Tm_corr-all</td><td>▁</td></tr><tr><td>val_Tm_corr-arr</td><td>▁</td></tr><tr><td>val_Tm_corr-lit_uv</td><td>▁</td></tr><tr><td>val_Tm_corr-ov</td><td>▁</td></tr><tr><td>val_Tm_mae-all</td><td>▁</td></tr><tr><td>val_Tm_mae-arr</td><td>▁</td></tr><tr><td>val_Tm_mae-lit_uv</td><td>▁</td></tr><tr><td>val_Tm_mae-ov</td><td>▁</td></tr><tr><td>val_Tm_rmse-all</td><td>▁</td></tr><tr><td>val_Tm_rmse-arr</td><td>▁</td></tr><tr><td>val_Tm_rmse-lit_uv</td><td>▁</td></tr><tr><td>val_Tm_rmse-ov</td><td>▁</td></tr><tr><td>val_dG_adjusted_mae-arr</td><td>▁</td></tr><tr><td>val_dG_adjusted_rmse-arr</td><td>▁</td></tr><tr><td>val_dG_bias-arr</td><td>▁</td></tr><tr><td>val_dG_corr-arr</td><td>▁</td></tr><tr><td>val_dG_mae-arr</td><td>▁</td></tr><tr><td>val_dG_rmse-arr</td><td>▁</td></tr><tr><td>val_dH_adjusted_mae-arr</td><td>▁</td></tr><tr><td>val_dH_adjusted_rmse-arr</td><td>▁</td></tr><tr><td>val_dH_bias-arr</td><td>▁</td></tr><tr><td>val_dH_corr-arr</td><td>▁</td></tr><tr><td>val_dH_mae-arr</td><td>▁</td></tr><tr><td>val_dH_rmse-arr</td><td>▁</td></tr></table><br/></div><div class=\"wandb-col\"><h3>Run summary:</h3><br/><table class=\"wandb\"><tr><td>n_feat</td><td>178</td></tr><tr><td>n_fixed_feat</td><td>26</td></tr><tr><td>param_set_file</td><td>./models/ruby-shape-...</td></tr><tr><td>train_dG_mae</td><td>0.623</td></tr><tr><td>train_dG_rsqr</td><td>0.5917</td></tr><tr><td>train_dH_mae</td><td>5.84149</td></tr><tr><td>train_dH_rsqr</td><td>0.49831</td></tr><tr><td>val_Tm_adjusted_mae-all</td><td>47.36485</td></tr><tr><td>val_Tm_adjusted_mae-arr</td><td>104.82778</td></tr><tr><td>val_Tm_adjusted_mae-lit_uv</td><td>2.08145</td></tr><tr><td>val_Tm_adjusted_mae-ov</td><td>2.08979</td></tr><tr><td>val_Tm_adjusted_rmse-all</td><td>88.44467</td></tr><tr><td>val_Tm_adjusted_rmse-arr</td><td>133.39181</td></tr><tr><td>val_Tm_adjusted_rmse-lit_uv</td><td>2.58342</td></tr><tr><td>val_Tm_adjusted_rmse-ov</td><td>2.73233</td></tr><tr><td>val_Tm_bias-all</td><td>5.48556</td></tr><tr><td>val_Tm_bias-arr</td><td>6.40793</td></tr><tr><td>val_Tm_bias-lit_uv</td><td>6.90919</td></tr><tr><td>val_Tm_bias-ov</td><td>4.4937</td></tr><tr><td>val_Tm_corr-all</td><td>0.20742</td></tr><tr><td>val_Tm_corr-arr</td><td>0.21982</td></tr><tr><td>val_Tm_corr-lit_uv</td><td>0.98218</td></tr><tr><td>val_Tm_corr-ov</td><td>0.80406</td></tr><tr><td>val_Tm_mae-all</td><td>49.09728</td></tr><tr><td>val_Tm_mae-arr</td><td>105.54777</td></tr><tr><td>val_Tm_mae-lit_uv</td><td>6.90919</td></tr><tr><td>val_Tm_mae-ov</td><td>4.60544</td></tr><tr><td>val_Tm_rmse-all</td><td>88.61463</td></tr><tr><td>val_Tm_rmse-arr</td><td>133.54564</td></tr><tr><td>val_Tm_rmse-lit_uv</td><td>7.37638</td></tr><tr><td>val_Tm_rmse-ov</td><td>5.25918</td></tr><tr><td>val_dG_adjusted_mae-arr</td><td>0.62092</td></tr><tr><td>val_dG_adjusted_rmse-arr</td><td>0.81814</td></tr><tr><td>val_dG_bias-arr</td><td>-1.39269</td></tr><tr><td>val_dG_corr-arr</td><td>0.78176</td></tr><tr><td>val_dG_mae-arr</td><td>1.44351</td></tr><tr><td>val_dG_rmse-arr</td><td>1.61522</td></tr><tr><td>val_dH_adjusted_mae-arr</td><td>6.54269</td></tr><tr><td>val_dH_adjusted_rmse-arr</td><td>8.37318</td></tr><tr><td>val_dH_bias-arr</td><td>21.53976</td></tr><tr><td>val_dH_corr-arr</td><td>0.68968</td></tr><tr><td>val_dH_mae-arr</td><td>21.56348</td></tr><tr><td>val_dH_rmse-arr</td><td>23.10999</td></tr></table><br/></div></div>"
      ],
      "text/plain": [
       "<IPython.core.display.HTML object>"
      ]
     },
     "metadata": {},
     "output_type": "display_data"
    },
    {
     "data": {
      "text/html": [
       " View run <strong style=\"color:#cdcd00\">ruby-shape-91</strong> at: <a href='https://wandb.ai/keyuxi/NN/runs/3rz0fuwk' target=\"_blank\">https://wandb.ai/keyuxi/NN/runs/3rz0fuwk</a><br/> View job at <a href='https://wandb.ai/keyuxi/NN/jobs/QXJ0aWZhY3RDb2xsZWN0aW9uOjExMTcyMjg1NQ==/version_details/v5' target=\"_blank\">https://wandb.ai/keyuxi/NN/jobs/QXJ0aWZhY3RDb2xsZWN0aW9uOjExMTcyMjg1NQ==/version_details/v5</a><br/>Synced 6 W&B file(s), 0 media file(s), 0 artifact file(s) and 0 other file(s)"
      ],
      "text/plain": [
       "<IPython.core.display.HTML object>"
      ]
     },
     "metadata": {},
     "output_type": "display_data"
    },
    {
     "data": {
      "text/html": [
       "Find logs at: <code>./wandb/run-20231202_132047-3rz0fuwk/logs</code>"
      ],
      "text/plain": [
       "<IPython.core.display.HTML object>"
      ]
     },
     "metadata": {},
     "output_type": "display_data"
    },
    {
     "data": {
      "text/html": [
       "wandb version 0.16.0 is available!  To upgrade, please run:\n",
       " $ pip install wandb --upgrade"
      ],
      "text/plain": [
       "<IPython.core.display.HTML object>"
      ]
     },
     "metadata": {},
     "output_type": "display_data"
    },
    {
     "data": {
      "text/html": [
       "Tracking run with wandb version 0.15.12"
      ],
      "text/plain": [
       "<IPython.core.display.HTML object>"
      ]
     },
     "metadata": {},
     "output_type": "display_data"
    },
    {
     "data": {
      "text/html": [
       "Run data is saved locally in <code>/Users/yuxi/workspace/nnn_paper/wandb/run-20231202_132930-roj7xjia</code>"
      ],
      "text/plain": [
       "<IPython.core.display.HTML object>"
      ]
     },
     "metadata": {},
     "output_type": "display_data"
    },
    {
     "data": {
      "text/html": [
       "Syncing run <strong><a href='https://wandb.ai/keyuxi/NN/runs/roj7xjia' target=\"_blank\">fine-dream-92</a></strong> to <a href='https://wandb.ai/keyuxi/NN' target=\"_blank\">Weights & Biases</a> (<a href='https://wandb.me/run' target=\"_blank\">docs</a>)<br/>"
      ],
      "text/plain": [
       "<IPython.core.display.HTML object>"
      ]
     },
     "metadata": {},
     "output_type": "display_data"
    },
    {
     "data": {
      "text/html": [
       " View project at <a href='https://wandb.ai/keyuxi/NN' target=\"_blank\">https://wandb.ai/keyuxi/NN</a>"
      ],
      "text/plain": [
       "<IPython.core.display.HTML object>"
      ]
     },
     "metadata": {},
     "output_type": "display_data"
    },
    {
     "data": {
      "text/html": [
       " View run at <a href='https://wandb.ai/keyuxi/NN/runs/roj7xjia' target=\"_blank\">https://wandb.ai/keyuxi/NN/runs/roj7xjia</a>"
      ],
      "text/plain": [
       "<IPython.core.display.HTML object>"
      ]
     },
     "metadata": {},
     "output_type": "display_data"
    },
    {
     "name": "stdout",
     "output_type": "stream",
     "text": [
      "feats (27732, 178) Index(['bulge_size#1', 'bulge_size#2', 'hairpin_loop_mid#A'], dtype='object')\n",
      "fixed_feature_names: ['bulge_size#1', 'bulge_size#2', 'hairpin_size#3', 'hairpin_size#4', 'hairpin_size#11', 'hairpin_size#14', 'hairpin_size#17', 'hairpin_size#20', 'interior_size#2', 'interior_size#4', 'stack#AATT', 'stack#ACGT', 'stack#AGCT', 'stack#ATAT', 'stack#CATG', 'stack#CCGG', 'stack#CGCG', 'stack#CTAG', 'stack#GATC', 'stack#GCGC', 'stack#GGCC', 'stack#GTAC', 'stack#TATA', 'stack#TCGA', 'stack#TGCA', 'stack#TTAA']\n",
      "                           dH\n",
      "bulge_size#1              0.0\n",
      "bulge_size#2              0.0\n",
      "bulge_size#3              0.0\n",
      "bulge_size#4              0.0\n",
      "bulge_size#5              0.0\n",
      "...                       ...\n",
      "hairpin_tetraloop#CCTTGG  0.0\n",
      "hairpin_tetraloop#GCTTGC  0.0\n",
      "hairpin_tetraloop#GCTTGT  0.0\n",
      "hairpin_tetraloop#TCTTGA  0.0\n",
      "hairpin_tetraloop#TCTTGG  0.0\n",
      "\n",
      "[352 rows x 1 columns]\n",
      "['bulge_size#1', 'bulge_size#2', 'hairpin_size#11', 'hairpin_size#14', 'hairpin_size#17', 'hairpin_size#20', 'hairpin_size#3', 'hairpin_size#4', 'interior_size#2', 'interior_size#4', 'stack#AATT', 'stack#ACGT', 'stack#AGCT', 'stack#ATAT', 'stack#CATG', 'stack#CCGG', 'stack#CGCG', 'stack#CTAG', 'stack#GATC', 'stack#GCGC', 'stack#GGCC', 'stack#GTAC', 'stack#TATA', 'stack#TCGA', 'stack#TGCA', 'stack#TTAA']\n",
      "Warning: Rank of matrix A_unknown, 151, is smaller than the number of features 152!\n",
      "                           dG\n",
      "bulge_size#1              4.0\n",
      "bulge_size#2              2.9\n",
      "bulge_size#3              3.1\n",
      "bulge_size#4              3.2\n",
      "bulge_size#5              3.3\n",
      "...                       ...\n",
      "hairpin_tetraloop#CCTTGG -0.8\n",
      "hairpin_tetraloop#GCTTGC -0.8\n",
      "hairpin_tetraloop#GCTTGT -0.5\n",
      "hairpin_tetraloop#TCTTGA -0.8\n",
      "hairpin_tetraloop#TCTTGG -0.5\n",
      "\n",
      "[352 rows x 1 columns]\n",
      "['bulge_size#1', 'bulge_size#2', 'hairpin_size#11', 'hairpin_size#14', 'hairpin_size#17', 'hairpin_size#20', 'hairpin_size#3', 'hairpin_size#4', 'interior_size#2', 'interior_size#4', 'stack#AATT', 'stack#ACGT', 'stack#AGCT', 'stack#ATAT', 'stack#CATG', 'stack#CCGG', 'stack#CGCG', 'stack#CTAG', 'stack#GATC', 'stack#GCGC', 'stack#GGCC', 'stack#GTAC', 'stack#TATA', 'stack#TCGA', 'stack#TGCA', 'stack#TTAA']\n",
      "Warning: Rank of matrix A_unknown, 151, is smaller than the number of features 152!\n",
      "Centering new parameters...\n",
      "group bulge_size\n",
      "group hairpin_mismatch\n",
      "\tMean value of old_dict is -3.684\n",
      "\tMean value of fitted new_dict is 1.632\n",
      "\tMean value of centered new_dict is -3.684\n",
      "\n",
      "group hairpin_size\n",
      "group interior_mismatch\n",
      "\tMean value of old_dict is -2.913\n",
      "\tMean value of fitted new_dict is -5.909\n",
      "\tMean value of centered new_dict is -2.912\n",
      "\n",
      "group interior_size\n",
      "group stack\n",
      "\tMean value of old_dict is -8.275\n",
      "\tMean value of fitted new_dict is -8.275\n",
      "\tMean value of centered new_dict is -8.275\n",
      "\n",
      "group terminal_penalty\n",
      "\tMean value of old_dict is 1.100\n",
      "\tMean value of fitted new_dict is -1.226\n",
      "\tMean value of centered new_dict is 1.100\n",
      "\n",
      "Centering new parameters...\n",
      "group bulge_size\n",
      "group hairpin_mismatch\n",
      "\tMean value of old_dict is -0.715\n",
      "\tMean value of fitted new_dict is -0.006\n",
      "\tMean value of centered new_dict is -0.715\n",
      "\n",
      "group hairpin_size\n",
      "group interior_mismatch\n",
      "\tMean value of old_dict is -0.640\n",
      "\tMean value of fitted new_dict is -0.708\n",
      "\tMean value of centered new_dict is -0.640\n",
      "\n",
      "group interior_size\n",
      "group stack\n",
      "\tMean value of old_dict is -1.406\n",
      "\tMean value of fitted new_dict is -1.406\n",
      "\tMean value of centered new_dict is -1.406\n",
      "\n",
      "group terminal_penalty\n",
      "\tMean value of old_dict is 0.025\n",
      "\tMean value of fitted new_dict is 0.150\n",
      "\tMean value of centered new_dict is 0.025\n",
      "\n"
     ]
    },
    {
     "data": {
      "text/html": [
       "Waiting for W&B process to finish... <strong style=\"color:green\">(success).</strong>"
      ],
      "text/plain": [
       "<IPython.core.display.HTML object>"
      ]
     },
     "metadata": {},
     "output_type": "display_data"
    },
    {
     "data": {
      "text/html": [
       "<style>\n",
       "    table.wandb td:nth-child(1) { padding: 0 10px; text-align: left ; width: auto;} td:nth-child(2) {text-align: left ; width: 100%}\n",
       "    .wandb-row { display: flex; flex-direction: row; flex-wrap: wrap; justify-content: flex-start; width: 100% }\n",
       "    .wandb-col { display: flex; flex-direction: column; flex-basis: 100%; flex: 1; padding: 10px; }\n",
       "    </style>\n",
       "<div class=\"wandb-row\"><div class=\"wandb-col\"><h3>Run history:</h3><br/><table class=\"wandb\"><tr><td>n_feat</td><td>▁</td></tr><tr><td>n_fixed_feat</td><td>▁</td></tr><tr><td>train_dG_mae</td><td>▁</td></tr><tr><td>train_dG_rsqr</td><td>▁</td></tr><tr><td>train_dH_mae</td><td>▁</td></tr><tr><td>train_dH_rsqr</td><td>▁</td></tr><tr><td>val_Tm_adjusted_mae-all</td><td>▁</td></tr><tr><td>val_Tm_adjusted_mae-arr</td><td>▁</td></tr><tr><td>val_Tm_adjusted_mae-lit_uv</td><td>▁</td></tr><tr><td>val_Tm_adjusted_mae-ov</td><td>▁</td></tr><tr><td>val_Tm_adjusted_rmse-all</td><td>▁</td></tr><tr><td>val_Tm_adjusted_rmse-arr</td><td>▁</td></tr><tr><td>val_Tm_adjusted_rmse-lit_uv</td><td>▁</td></tr><tr><td>val_Tm_adjusted_rmse-ov</td><td>▁</td></tr><tr><td>val_Tm_bias-all</td><td>▁</td></tr><tr><td>val_Tm_bias-arr</td><td>▁</td></tr><tr><td>val_Tm_bias-lit_uv</td><td>▁</td></tr><tr><td>val_Tm_bias-ov</td><td>▁</td></tr><tr><td>val_Tm_corr-all</td><td>▁</td></tr><tr><td>val_Tm_corr-arr</td><td>▁</td></tr><tr><td>val_Tm_corr-lit_uv</td><td>▁</td></tr><tr><td>val_Tm_corr-ov</td><td>▁</td></tr><tr><td>val_Tm_mae-all</td><td>▁</td></tr><tr><td>val_Tm_mae-arr</td><td>▁</td></tr><tr><td>val_Tm_mae-lit_uv</td><td>▁</td></tr><tr><td>val_Tm_mae-ov</td><td>▁</td></tr><tr><td>val_Tm_rmse-all</td><td>▁</td></tr><tr><td>val_Tm_rmse-arr</td><td>▁</td></tr><tr><td>val_Tm_rmse-lit_uv</td><td>▁</td></tr><tr><td>val_Tm_rmse-ov</td><td>▁</td></tr><tr><td>val_dG_adjusted_mae-arr</td><td>▁</td></tr><tr><td>val_dG_adjusted_rmse-arr</td><td>▁</td></tr><tr><td>val_dG_bias-arr</td><td>▁</td></tr><tr><td>val_dG_corr-arr</td><td>▁</td></tr><tr><td>val_dG_mae-arr</td><td>▁</td></tr><tr><td>val_dG_rmse-arr</td><td>▁</td></tr><tr><td>val_dH_adjusted_mae-arr</td><td>▁</td></tr><tr><td>val_dH_adjusted_rmse-arr</td><td>▁</td></tr><tr><td>val_dH_bias-arr</td><td>▁</td></tr><tr><td>val_dH_corr-arr</td><td>▁</td></tr><tr><td>val_dH_mae-arr</td><td>▁</td></tr><tr><td>val_dH_rmse-arr</td><td>▁</td></tr></table><br/></div><div class=\"wandb-col\"><h3>Run summary:</h3><br/><table class=\"wandb\"><tr><td>n_feat</td><td>178</td></tr><tr><td>n_fixed_feat</td><td>26</td></tr><tr><td>param_set_file</td><td>./models/fine-dream-...</td></tr><tr><td>train_dG_mae</td><td>0.61028</td></tr><tr><td>train_dG_rsqr</td><td>0.60435</td></tr><tr><td>train_dH_mae</td><td>6.2497</td></tr><tr><td>train_dH_rsqr</td><td>0.43033</td></tr><tr><td>val_Tm_adjusted_mae-all</td><td>16.72361</td></tr><tr><td>val_Tm_adjusted_mae-arr</td><td>23.43088</td></tr><tr><td>val_Tm_adjusted_mae-lit_uv</td><td>2.17537</td></tr><tr><td>val_Tm_adjusted_mae-ov</td><td>1.73121</td></tr><tr><td>val_Tm_adjusted_rmse-all</td><td>25.68218</td></tr><tr><td>val_Tm_adjusted_rmse-arr</td><td>32.86392</td></tr><tr><td>val_Tm_adjusted_rmse-lit_uv</td><td>2.69207</td></tr><tr><td>val_Tm_adjusted_rmse-ov</td><td>2.27246</td></tr><tr><td>val_Tm_bias-all</td><td>16.37152</td></tr><tr><td>val_Tm_bias-arr</td><td>28.70206</td></tr><tr><td>val_Tm_bias-lit_uv</td><td>6.9312</td></tr><tr><td>val_Tm_bias-ov</td><td>4.81577</td></tr><tr><td>val_Tm_corr-all</td><td>0.31305</td></tr><tr><td>val_Tm_corr-arr</td><td>0.42264</td></tr><tr><td>val_Tm_corr-lit_uv</td><td>0.98122</td></tr><tr><td>val_Tm_corr-ov</td><td>0.86289</td></tr><tr><td>val_Tm_mae-all</td><td>17.47327</td></tr><tr><td>val_Tm_mae-arr</td><td>30.96747</td></tr><tr><td>val_Tm_mae-lit_uv</td><td>6.9312</td></tr><tr><td>val_Tm_mae-ov</td><td>4.85342</td></tr><tr><td>val_Tm_rmse-all</td><td>30.45655</td></tr><tr><td>val_Tm_rmse-arr</td><td>43.63308</td></tr><tr><td>val_Tm_rmse-lit_uv</td><td>7.43564</td></tr><tr><td>val_Tm_rmse-ov</td><td>5.32501</td></tr><tr><td>val_dG_adjusted_mae-arr</td><td>0.58773</td></tr><tr><td>val_dG_adjusted_rmse-arr</td><td>0.77332</td></tr><tr><td>val_dG_bias-arr</td><td>-0.93296</td></tr><tr><td>val_dG_corr-arr</td><td>0.8004</td></tr><tr><td>val_dG_mae-arr</td><td>1.01952</td></tr><tr><td>val_dG_rmse-arr</td><td>1.21179</td></tr><tr><td>val_dH_adjusted_mae-arr</td><td>6.55787</td></tr><tr><td>val_dH_adjusted_rmse-arr</td><td>8.38244</td></tr><tr><td>val_dH_bias-arr</td><td>5.11144</td></tr><tr><td>val_dH_corr-arr</td><td>0.69345</td></tr><tr><td>val_dH_mae-arr</td><td>7.62138</td></tr><tr><td>val_dH_rmse-arr</td><td>9.81795</td></tr></table><br/></div></div>"
      ],
      "text/plain": [
       "<IPython.core.display.HTML object>"
      ]
     },
     "metadata": {},
     "output_type": "display_data"
    },
    {
     "data": {
      "text/html": [
       " View run <strong style=\"color:#cdcd00\">fine-dream-92</strong> at: <a href='https://wandb.ai/keyuxi/NN/runs/roj7xjia' target=\"_blank\">https://wandb.ai/keyuxi/NN/runs/roj7xjia</a><br/> View job at <a href='https://wandb.ai/keyuxi/NN/jobs/QXJ0aWZhY3RDb2xsZWN0aW9uOjExMTcyMjg1NQ==/version_details/v5' target=\"_blank\">https://wandb.ai/keyuxi/NN/jobs/QXJ0aWZhY3RDb2xsZWN0aW9uOjExMTcyMjg1NQ==/version_details/v5</a><br/>Synced 6 W&B file(s), 0 media file(s), 0 artifact file(s) and 0 other file(s)"
      ],
      "text/plain": [
       "<IPython.core.display.HTML object>"
      ]
     },
     "metadata": {},
     "output_type": "display_data"
    },
    {
     "data": {
      "text/html": [
       "Find logs at: <code>./wandb/run-20231202_132930-roj7xjia/logs</code>"
      ],
      "text/plain": [
       "<IPython.core.display.HTML object>"
      ]
     },
     "metadata": {},
     "output_type": "display_data"
    },
    {
     "data": {
      "text/html": [
       "wandb version 0.16.0 is available!  To upgrade, please run:\n",
       " $ pip install wandb --upgrade"
      ],
      "text/plain": [
       "<IPython.core.display.HTML object>"
      ]
     },
     "metadata": {},
     "output_type": "display_data"
    },
    {
     "data": {
      "text/html": [
       "Tracking run with wandb version 0.15.12"
      ],
      "text/plain": [
       "<IPython.core.display.HTML object>"
      ]
     },
     "metadata": {},
     "output_type": "display_data"
    },
    {
     "data": {
      "text/html": [
       "Run data is saved locally in <code>/Users/yuxi/workspace/nnn_paper/wandb/run-20231202_133826-79emcnhe</code>"
      ],
      "text/plain": [
       "<IPython.core.display.HTML object>"
      ]
     },
     "metadata": {},
     "output_type": "display_data"
    },
    {
     "data": {
      "text/html": [
       "Syncing run <strong><a href='https://wandb.ai/keyuxi/NN/runs/79emcnhe' target=\"_blank\">giddy-monkey-93</a></strong> to <a href='https://wandb.ai/keyuxi/NN' target=\"_blank\">Weights & Biases</a> (<a href='https://wandb.me/run' target=\"_blank\">docs</a>)<br/>"
      ],
      "text/plain": [
       "<IPython.core.display.HTML object>"
      ]
     },
     "metadata": {},
     "output_type": "display_data"
    },
    {
     "data": {
      "text/html": [
       " View project at <a href='https://wandb.ai/keyuxi/NN' target=\"_blank\">https://wandb.ai/keyuxi/NN</a>"
      ],
      "text/plain": [
       "<IPython.core.display.HTML object>"
      ]
     },
     "metadata": {},
     "output_type": "display_data"
    },
    {
     "data": {
      "text/html": [
       " View run at <a href='https://wandb.ai/keyuxi/NN/runs/79emcnhe' target=\"_blank\">https://wandb.ai/keyuxi/NN/runs/79emcnhe</a>"
      ],
      "text/plain": [
       "<IPython.core.display.HTML object>"
      ]
     },
     "metadata": {},
     "output_type": "display_data"
    },
    {
     "name": "stdout",
     "output_type": "stream",
     "text": [
      "feats (27732, 178) Index(['bulge_size#1', 'bulge_size#2', 'hairpin_loop_mid#A'], dtype='object')\n",
      "fixed_feature_names: ['bulge_size#1', 'bulge_size#2', 'hairpin_size#3', 'hairpin_size#4', 'hairpin_size#11', 'hairpin_size#14', 'hairpin_size#17', 'hairpin_size#20', 'interior_size#2', 'interior_size#4', 'stack#AATT', 'stack#ACGT', 'stack#AGCT', 'stack#ATAT', 'stack#CATG', 'stack#CCGG', 'stack#CGCG', 'stack#CTAG', 'stack#GATC', 'stack#GCGC', 'stack#GGCC', 'stack#GTAC', 'stack#TATA', 'stack#TCGA', 'stack#TGCA', 'stack#TTAA']\n",
      "                           dH\n",
      "bulge_size#1              0.0\n",
      "bulge_size#2              0.0\n",
      "bulge_size#3              0.0\n",
      "bulge_size#4              0.0\n",
      "bulge_size#5              0.0\n",
      "...                       ...\n",
      "hairpin_tetraloop#CCTTGG  0.0\n",
      "hairpin_tetraloop#GCTTGC  0.0\n",
      "hairpin_tetraloop#GCTTGT  0.0\n",
      "hairpin_tetraloop#TCTTGA  0.0\n",
      "hairpin_tetraloop#TCTTGG  0.0\n",
      "\n",
      "[352 rows x 1 columns]\n",
      "['bulge_size#1', 'bulge_size#2', 'hairpin_size#11', 'hairpin_size#14', 'hairpin_size#17', 'hairpin_size#20', 'hairpin_size#3', 'hairpin_size#4', 'interior_size#2', 'interior_size#4', 'stack#AATT', 'stack#ACGT', 'stack#AGCT', 'stack#ATAT', 'stack#CATG', 'stack#CCGG', 'stack#CGCG', 'stack#CTAG', 'stack#GATC', 'stack#GCGC', 'stack#GGCC', 'stack#GTAC', 'stack#TATA', 'stack#TCGA', 'stack#TGCA', 'stack#TTAA']\n",
      "                           dG\n",
      "bulge_size#1              4.0\n",
      "bulge_size#2              2.9\n",
      "bulge_size#3              3.1\n",
      "bulge_size#4              3.2\n",
      "bulge_size#5              3.3\n",
      "...                       ...\n",
      "hairpin_tetraloop#CCTTGG -0.8\n",
      "hairpin_tetraloop#GCTTGC -0.8\n",
      "hairpin_tetraloop#GCTTGT -0.5\n",
      "hairpin_tetraloop#TCTTGA -0.8\n",
      "hairpin_tetraloop#TCTTGG -0.5\n",
      "\n",
      "[352 rows x 1 columns]\n",
      "['bulge_size#1', 'bulge_size#2', 'hairpin_size#11', 'hairpin_size#14', 'hairpin_size#17', 'hairpin_size#20', 'hairpin_size#3', 'hairpin_size#4', 'interior_size#2', 'interior_size#4', 'stack#AATT', 'stack#ACGT', 'stack#AGCT', 'stack#ATAT', 'stack#CATG', 'stack#CCGG', 'stack#CGCG', 'stack#CTAG', 'stack#GATC', 'stack#GCGC', 'stack#GGCC', 'stack#GTAC', 'stack#TATA', 'stack#TCGA', 'stack#TGCA', 'stack#TTAA']\n",
      "Warning: Rank of matrix A_unknown, 151, is smaller than the number of features 152!\n",
      "Centering new parameters...\n",
      "group bulge_size\n",
      "group hairpin_mismatch\n",
      "\tMean value of old_dict is -3.684\n",
      "\tMean value of fitted new_dict is -12.304\n",
      "\tMean value of centered new_dict is -3.684\n",
      "\n",
      "group hairpin_size\n",
      "group interior_mismatch\n",
      "\tMean value of old_dict is -2.913\n",
      "\tMean value of fitted new_dict is -5.285\n",
      "\tMean value of centered new_dict is -2.912\n",
      "\n",
      "group interior_size\n",
      "group stack\n",
      "\tMean value of old_dict is -8.275\n",
      "\tMean value of fitted new_dict is -8.275\n",
      "\tMean value of centered new_dict is -8.275\n",
      "\n",
      "group terminal_penalty\n",
      "\tMean value of old_dict is 1.100\n",
      "\tMean value of fitted new_dict is -0.598\n",
      "\tMean value of centered new_dict is 1.100\n",
      "\n",
      "Centering new parameters...\n",
      "group bulge_size\n",
      "group hairpin_mismatch\n",
      "\tMean value of old_dict is -0.715\n",
      "\tMean value of fitted new_dict is -0.003\n",
      "\tMean value of centered new_dict is -0.715\n",
      "\n",
      "group hairpin_size\n",
      "group interior_mismatch\n",
      "\tMean value of old_dict is -0.640\n",
      "\tMean value of fitted new_dict is -0.740\n",
      "\tMean value of centered new_dict is -0.640\n",
      "\n",
      "group interior_size\n",
      "group stack\n",
      "\tMean value of old_dict is -1.406\n",
      "\tMean value of fitted new_dict is -1.406\n",
      "\tMean value of centered new_dict is -1.406\n",
      "\n",
      "group terminal_penalty\n",
      "\tMean value of old_dict is 0.025\n",
      "\tMean value of fitted new_dict is 0.158\n",
      "\tMean value of centered new_dict is 0.025\n",
      "\n"
     ]
    },
    {
     "data": {
      "text/html": [
       "Waiting for W&B process to finish... <strong style=\"color:green\">(success).</strong>"
      ],
      "text/plain": [
       "<IPython.core.display.HTML object>"
      ]
     },
     "metadata": {},
     "output_type": "display_data"
    },
    {
     "data": {
      "text/html": [
       "<style>\n",
       "    table.wandb td:nth-child(1) { padding: 0 10px; text-align: left ; width: auto;} td:nth-child(2) {text-align: left ; width: 100%}\n",
       "    .wandb-row { display: flex; flex-direction: row; flex-wrap: wrap; justify-content: flex-start; width: 100% }\n",
       "    .wandb-col { display: flex; flex-direction: column; flex-basis: 100%; flex: 1; padding: 10px; }\n",
       "    </style>\n",
       "<div class=\"wandb-row\"><div class=\"wandb-col\"><h3>Run history:</h3><br/><table class=\"wandb\"><tr><td>n_feat</td><td>▁</td></tr><tr><td>n_fixed_feat</td><td>▁</td></tr><tr><td>train_dG_mae</td><td>▁</td></tr><tr><td>train_dG_rsqr</td><td>▁</td></tr><tr><td>train_dH_mae</td><td>▁</td></tr><tr><td>train_dH_rsqr</td><td>▁</td></tr><tr><td>val_Tm_adjusted_mae-all</td><td>▁</td></tr><tr><td>val_Tm_adjusted_mae-arr</td><td>▁</td></tr><tr><td>val_Tm_adjusted_mae-lit_uv</td><td>▁</td></tr><tr><td>val_Tm_adjusted_mae-ov</td><td>▁</td></tr><tr><td>val_Tm_adjusted_rmse-all</td><td>▁</td></tr><tr><td>val_Tm_adjusted_rmse-arr</td><td>▁</td></tr><tr><td>val_Tm_adjusted_rmse-lit_uv</td><td>▁</td></tr><tr><td>val_Tm_adjusted_rmse-ov</td><td>▁</td></tr><tr><td>val_Tm_bias-all</td><td>▁</td></tr><tr><td>val_Tm_bias-arr</td><td>▁</td></tr><tr><td>val_Tm_bias-lit_uv</td><td>▁</td></tr><tr><td>val_Tm_bias-ov</td><td>▁</td></tr><tr><td>val_Tm_corr-all</td><td>▁</td></tr><tr><td>val_Tm_corr-arr</td><td>▁</td></tr><tr><td>val_Tm_corr-lit_uv</td><td>▁</td></tr><tr><td>val_Tm_corr-ov</td><td>▁</td></tr><tr><td>val_Tm_mae-all</td><td>▁</td></tr><tr><td>val_Tm_mae-arr</td><td>▁</td></tr><tr><td>val_Tm_mae-lit_uv</td><td>▁</td></tr><tr><td>val_Tm_mae-ov</td><td>▁</td></tr><tr><td>val_Tm_rmse-all</td><td>▁</td></tr><tr><td>val_Tm_rmse-arr</td><td>▁</td></tr><tr><td>val_Tm_rmse-lit_uv</td><td>▁</td></tr><tr><td>val_Tm_rmse-ov</td><td>▁</td></tr><tr><td>val_dG_adjusted_mae-arr</td><td>▁</td></tr><tr><td>val_dG_adjusted_rmse-arr</td><td>▁</td></tr><tr><td>val_dG_bias-arr</td><td>▁</td></tr><tr><td>val_dG_corr-arr</td><td>▁</td></tr><tr><td>val_dG_mae-arr</td><td>▁</td></tr><tr><td>val_dG_rmse-arr</td><td>▁</td></tr><tr><td>val_dH_adjusted_mae-arr</td><td>▁</td></tr><tr><td>val_dH_adjusted_rmse-arr</td><td>▁</td></tr><tr><td>val_dH_bias-arr</td><td>▁</td></tr><tr><td>val_dH_corr-arr</td><td>▁</td></tr><tr><td>val_dH_mae-arr</td><td>▁</td></tr><tr><td>val_dH_rmse-arr</td><td>▁</td></tr></table><br/></div><div class=\"wandb-col\"><h3>Run summary:</h3><br/><table class=\"wandb\"><tr><td>n_feat</td><td>178</td></tr><tr><td>n_fixed_feat</td><td>26</td></tr><tr><td>param_set_file</td><td>./models/giddy-monke...</td></tr><tr><td>train_dG_mae</td><td>0.61478</td></tr><tr><td>train_dG_rsqr</td><td>0.61283</td></tr><tr><td>train_dH_mae</td><td>6.17829</td></tr><tr><td>train_dH_rsqr</td><td>0.44881</td></tr><tr><td>val_Tm_adjusted_mae-all</td><td>45.09545</td></tr><tr><td>val_Tm_adjusted_mae-arr</td><td>96.48488</td></tr><tr><td>val_Tm_adjusted_mae-lit_uv</td><td>2.11822</td></tr><tr><td>val_Tm_adjusted_mae-ov</td><td>1.81493</td></tr><tr><td>val_Tm_adjusted_rmse-all</td><td>87.49842</td></tr><tr><td>val_Tm_adjusted_rmse-arr</td><td>129.49198</td></tr><tr><td>val_Tm_adjusted_rmse-lit_uv</td><td>2.61291</td></tr><tr><td>val_Tm_adjusted_rmse-ov</td><td>2.36302</td></tr><tr><td>val_Tm_bias-all</td><td>2.13126</td></tr><tr><td>val_Tm_bias-arr</td><td>-1.41904</td></tr><tr><td>val_Tm_bias-lit_uv</td><td>6.91674</td></tr><tr><td>val_Tm_bias-ov</td><td>4.87704</td></tr><tr><td>val_Tm_corr-all</td><td>0.2654</td></tr><tr><td>val_Tm_corr-arr</td><td>0.27736</td></tr><tr><td>val_Tm_corr-lit_uv</td><td>0.98181</td></tr><tr><td>val_Tm_corr-ov</td><td>0.85228</td></tr><tr><td>val_Tm_mae-all</td><td>46.50572</td></tr><tr><td>val_Tm_mae-arr</td><td>95.91596</td></tr><tr><td>val_Tm_mae-lit_uv</td><td>6.91674</td></tr><tr><td>val_Tm_mae-ov</td><td>4.90621</td></tr><tr><td>val_Tm_rmse-all</td><td>87.52437</td></tr><tr><td>val_Tm_rmse-arr</td><td>129.49975</td></tr><tr><td>val_Tm_rmse-lit_uv</td><td>7.39382</td></tr><tr><td>val_Tm_rmse-ov</td><td>5.41935</td></tr><tr><td>val_dG_adjusted_mae-arr</td><td>0.57452</td></tr><tr><td>val_dG_adjusted_rmse-arr</td><td>0.76635</td></tr><tr><td>val_dG_bias-arr</td><td>-1.16149</td></tr><tr><td>val_dG_corr-arr</td><td>0.80434</td></tr><tr><td>val_dG_mae-arr</td><td>1.21921</td></tr><tr><td>val_dG_rmse-arr</td><td>1.39152</td></tr><tr><td>val_dH_adjusted_mae-arr</td><td>6.28291</td></tr><tr><td>val_dH_adjusted_rmse-arr</td><td>7.97455</td></tr><tr><td>val_dH_bias-arr</td><td>17.04904</td></tr><tr><td>val_dH_corr-arr</td><td>0.71042</td></tr><tr><td>val_dH_mae-arr</td><td>17.105</td></tr><tr><td>val_dH_rmse-arr</td><td>18.82188</td></tr></table><br/></div></div>"
      ],
      "text/plain": [
       "<IPython.core.display.HTML object>"
      ]
     },
     "metadata": {},
     "output_type": "display_data"
    },
    {
     "data": {
      "text/html": [
       " View run <strong style=\"color:#cdcd00\">giddy-monkey-93</strong> at: <a href='https://wandb.ai/keyuxi/NN/runs/79emcnhe' target=\"_blank\">https://wandb.ai/keyuxi/NN/runs/79emcnhe</a><br/> View job at <a href='https://wandb.ai/keyuxi/NN/jobs/QXJ0aWZhY3RDb2xsZWN0aW9uOjExMTcyMjg1NQ==/version_details/v5' target=\"_blank\">https://wandb.ai/keyuxi/NN/jobs/QXJ0aWZhY3RDb2xsZWN0aW9uOjExMTcyMjg1NQ==/version_details/v5</a><br/>Synced 6 W&B file(s), 0 media file(s), 0 artifact file(s) and 0 other file(s)"
      ],
      "text/plain": [
       "<IPython.core.display.HTML object>"
      ]
     },
     "metadata": {},
     "output_type": "display_data"
    },
    {
     "data": {
      "text/html": [
       "Find logs at: <code>./wandb/run-20231202_133826-79emcnhe/logs</code>"
      ],
      "text/plain": [
       "<IPython.core.display.HTML object>"
      ]
     },
     "metadata": {},
     "output_type": "display_data"
    },
    {
     "data": {
      "text/html": [
       "wandb version 0.16.0 is available!  To upgrade, please run:\n",
       " $ pip install wandb --upgrade"
      ],
      "text/plain": [
       "<IPython.core.display.HTML object>"
      ]
     },
     "metadata": {},
     "output_type": "display_data"
    },
    {
     "data": {
      "text/html": [
       "Tracking run with wandb version 0.15.12"
      ],
      "text/plain": [
       "<IPython.core.display.HTML object>"
      ]
     },
     "metadata": {},
     "output_type": "display_data"
    },
    {
     "data": {
      "text/html": [
       "Run data is saved locally in <code>/Users/yuxi/workspace/nnn_paper/wandb/run-20231202_134718-c7f40ctz</code>"
      ],
      "text/plain": [
       "<IPython.core.display.HTML object>"
      ]
     },
     "metadata": {},
     "output_type": "display_data"
    },
    {
     "data": {
      "text/html": [
       "Syncing run <strong><a href='https://wandb.ai/keyuxi/NN/runs/c7f40ctz' target=\"_blank\">glowing-capybara-114</a></strong> to <a href='https://wandb.ai/keyuxi/NN' target=\"_blank\">Weights & Biases</a> (<a href='https://wandb.me/run' target=\"_blank\">docs</a>)<br/>"
      ],
      "text/plain": [
       "<IPython.core.display.HTML object>"
      ]
     },
     "metadata": {},
     "output_type": "display_data"
    },
    {
     "data": {
      "text/html": [
       " View project at <a href='https://wandb.ai/keyuxi/NN' target=\"_blank\">https://wandb.ai/keyuxi/NN</a>"
      ],
      "text/plain": [
       "<IPython.core.display.HTML object>"
      ]
     },
     "metadata": {},
     "output_type": "display_data"
    },
    {
     "data": {
      "text/html": [
       " View run at <a href='https://wandb.ai/keyuxi/NN/runs/c7f40ctz' target=\"_blank\">https://wandb.ai/keyuxi/NN/runs/c7f40ctz</a>"
      ],
      "text/plain": [
       "<IPython.core.display.HTML object>"
      ]
     },
     "metadata": {},
     "output_type": "display_data"
    },
    {
     "name": "stdout",
     "output_type": "stream",
     "text": [
      "feats (27732, 178) Index(['bulge_size#1', 'bulge_size#2', 'hairpin_loop_mid#A'], dtype='object')\n",
      "fixed_feature_names: ['bulge_size#1', 'bulge_size#2', 'hairpin_size#3', 'hairpin_size#4', 'hairpin_size#11', 'hairpin_size#14', 'hairpin_size#17', 'hairpin_size#20', 'interior_size#2', 'interior_size#4', 'stack#AATT', 'stack#ACGT', 'stack#AGCT', 'stack#ATAT', 'stack#CATG', 'stack#CCGG', 'stack#CGCG', 'stack#CTAG', 'stack#GATC', 'stack#GCGC', 'stack#GGCC', 'stack#GTAC', 'stack#TATA', 'stack#TCGA', 'stack#TGCA', 'stack#TTAA']\n",
      "                           dH\n",
      "bulge_size#1              0.0\n",
      "bulge_size#2              0.0\n",
      "bulge_size#3              0.0\n",
      "bulge_size#4              0.0\n",
      "bulge_size#5              0.0\n",
      "...                       ...\n",
      "hairpin_tetraloop#CCTTGG  0.0\n",
      "hairpin_tetraloop#GCTTGC  0.0\n",
      "hairpin_tetraloop#GCTTGT  0.0\n",
      "hairpin_tetraloop#TCTTGA  0.0\n",
      "hairpin_tetraloop#TCTTGG  0.0\n",
      "\n",
      "[352 rows x 1 columns]\n",
      "['bulge_size#1', 'bulge_size#2', 'hairpin_size#11', 'hairpin_size#14', 'hairpin_size#17', 'hairpin_size#20', 'hairpin_size#3', 'hairpin_size#4', 'interior_size#2', 'interior_size#4', 'stack#AATT', 'stack#ACGT', 'stack#AGCT', 'stack#ATAT', 'stack#CATG', 'stack#CCGG', 'stack#CGCG', 'stack#CTAG', 'stack#GATC', 'stack#GCGC', 'stack#GGCC', 'stack#GTAC', 'stack#TATA', 'stack#TCGA', 'stack#TGCA', 'stack#TTAA']\n",
      "                           dG\n",
      "bulge_size#1              4.0\n",
      "bulge_size#2              2.9\n",
      "bulge_size#3              3.1\n",
      "bulge_size#4              3.2\n",
      "bulge_size#5              3.3\n",
      "...                       ...\n",
      "hairpin_tetraloop#CCTTGG -0.8\n",
      "hairpin_tetraloop#GCTTGC -0.8\n",
      "hairpin_tetraloop#GCTTGT -0.5\n",
      "hairpin_tetraloop#TCTTGA -0.8\n",
      "hairpin_tetraloop#TCTTGG -0.5\n",
      "\n",
      "[352 rows x 1 columns]\n",
      "['bulge_size#1', 'bulge_size#2', 'hairpin_size#11', 'hairpin_size#14', 'hairpin_size#17', 'hairpin_size#20', 'hairpin_size#3', 'hairpin_size#4', 'interior_size#2', 'interior_size#4', 'stack#AATT', 'stack#ACGT', 'stack#AGCT', 'stack#ATAT', 'stack#CATG', 'stack#CCGG', 'stack#CGCG', 'stack#CTAG', 'stack#GATC', 'stack#GCGC', 'stack#GGCC', 'stack#GTAC', 'stack#TATA', 'stack#TCGA', 'stack#TGCA', 'stack#TTAA']\n",
      "Centering new parameters...\n",
      "group bulge_size\n",
      "group hairpin_mismatch\n",
      "\tMean value of old_dict is -3.684\n",
      "\tMean value of fitted new_dict is -5.907\n",
      "\tMean value of centered new_dict is -3.684\n",
      "\n",
      "group hairpin_size\n",
      "group interior_mismatch\n",
      "\tMean value of old_dict is -2.913\n",
      "\tMean value of fitted new_dict is -5.344\n",
      "\tMean value of centered new_dict is -2.912\n",
      "\n",
      "group interior_size\n",
      "group stack\n",
      "\tMean value of old_dict is -8.275\n",
      "\tMean value of fitted new_dict is -8.275\n",
      "\tMean value of centered new_dict is -8.275\n",
      "\n",
      "group terminal_penalty\n",
      "\tMean value of old_dict is 1.100\n",
      "\tMean value of fitted new_dict is -0.796\n",
      "\tMean value of centered new_dict is 1.100\n",
      "\n",
      "Centering new parameters...\n",
      "group bulge_size\n",
      "group hairpin_mismatch\n",
      "\tMean value of old_dict is -0.715\n",
      "\tMean value of fitted new_dict is -4.193\n",
      "\tMean value of centered new_dict is -0.715\n",
      "\n",
      "group hairpin_size\n",
      "group interior_mismatch\n",
      "\tMean value of old_dict is -0.640\n",
      "\tMean value of fitted new_dict is -0.714\n",
      "\tMean value of centered new_dict is -0.640\n",
      "\n",
      "group interior_size\n",
      "group stack\n",
      "\tMean value of old_dict is -1.406\n",
      "\tMean value of fitted new_dict is -1.406\n",
      "\tMean value of centered new_dict is -1.406\n",
      "\n",
      "group terminal_penalty\n",
      "\tMean value of old_dict is 0.025\n",
      "\tMean value of fitted new_dict is 0.179\n",
      "\tMean value of centered new_dict is 0.025\n",
      "\n"
     ]
    },
    {
     "data": {
      "text/html": [
       "Waiting for W&B process to finish... <strong style=\"color:green\">(success).</strong>"
      ],
      "text/plain": [
       "<IPython.core.display.HTML object>"
      ]
     },
     "metadata": {},
     "output_type": "display_data"
    },
    {
     "data": {
      "text/html": [
       "<style>\n",
       "    table.wandb td:nth-child(1) { padding: 0 10px; text-align: left ; width: auto;} td:nth-child(2) {text-align: left ; width: 100%}\n",
       "    .wandb-row { display: flex; flex-direction: row; flex-wrap: wrap; justify-content: flex-start; width: 100% }\n",
       "    .wandb-col { display: flex; flex-direction: column; flex-basis: 100%; flex: 1; padding: 10px; }\n",
       "    </style>\n",
       "<div class=\"wandb-row\"><div class=\"wandb-col\"><h3>Run history:</h3><br/><table class=\"wandb\"><tr><td>n_feat</td><td>▁</td></tr><tr><td>n_fixed_feat</td><td>▁</td></tr><tr><td>train_dG_mae</td><td>▁</td></tr><tr><td>train_dG_rsqr</td><td>▁</td></tr><tr><td>train_dH_mae</td><td>▁</td></tr><tr><td>train_dH_rsqr</td><td>▁</td></tr><tr><td>val_Tm_adjusted_mae-all</td><td>▁</td></tr><tr><td>val_Tm_adjusted_mae-arr</td><td>▁</td></tr><tr><td>val_Tm_adjusted_mae-lit_uv</td><td>▁</td></tr><tr><td>val_Tm_adjusted_mae-ov</td><td>▁</td></tr><tr><td>val_Tm_adjusted_rmse-all</td><td>▁</td></tr><tr><td>val_Tm_adjusted_rmse-arr</td><td>▁</td></tr><tr><td>val_Tm_adjusted_rmse-lit_uv</td><td>▁</td></tr><tr><td>val_Tm_adjusted_rmse-ov</td><td>▁</td></tr><tr><td>val_Tm_bias-all</td><td>▁</td></tr><tr><td>val_Tm_bias-arr</td><td>▁</td></tr><tr><td>val_Tm_bias-lit_uv</td><td>▁</td></tr><tr><td>val_Tm_bias-ov</td><td>▁</td></tr><tr><td>val_Tm_corr-all</td><td>▁</td></tr><tr><td>val_Tm_corr-arr</td><td>▁</td></tr><tr><td>val_Tm_corr-lit_uv</td><td>▁</td></tr><tr><td>val_Tm_corr-ov</td><td>▁</td></tr><tr><td>val_Tm_mae-all</td><td>▁</td></tr><tr><td>val_Tm_mae-arr</td><td>▁</td></tr><tr><td>val_Tm_mae-lit_uv</td><td>▁</td></tr><tr><td>val_Tm_mae-ov</td><td>▁</td></tr><tr><td>val_Tm_rmse-all</td><td>▁</td></tr><tr><td>val_Tm_rmse-arr</td><td>▁</td></tr><tr><td>val_Tm_rmse-lit_uv</td><td>▁</td></tr><tr><td>val_Tm_rmse-ov</td><td>▁</td></tr><tr><td>val_dG_adjusted_mae-arr</td><td>▁</td></tr><tr><td>val_dG_adjusted_rmse-arr</td><td>▁</td></tr><tr><td>val_dG_bias-arr</td><td>▁</td></tr><tr><td>val_dG_corr-arr</td><td>▁</td></tr><tr><td>val_dG_mae-arr</td><td>▁</td></tr><tr><td>val_dG_rmse-arr</td><td>▁</td></tr><tr><td>val_dH_adjusted_mae-arr</td><td>▁</td></tr><tr><td>val_dH_adjusted_rmse-arr</td><td>▁</td></tr><tr><td>val_dH_bias-arr</td><td>▁</td></tr><tr><td>val_dH_corr-arr</td><td>▁</td></tr><tr><td>val_dH_mae-arr</td><td>▁</td></tr><tr><td>val_dH_rmse-arr</td><td>▁</td></tr></table><br/></div><div class=\"wandb-col\"><h3>Run summary:</h3><br/><table class=\"wandb\"><tr><td>n_feat</td><td>178</td></tr><tr><td>n_fixed_feat</td><td>26</td></tr><tr><td>param_set_file</td><td>./models/glowing-cap...</td></tr><tr><td>train_dG_mae</td><td>0.62435</td></tr><tr><td>train_dG_rsqr</td><td>0.60464</td></tr><tr><td>train_dH_mae</td><td>6.39664</td></tr><tr><td>train_dH_rsqr</td><td>0.41905</td></tr><tr><td>val_Tm_adjusted_mae-all</td><td>42.20823</td></tr><tr><td>val_Tm_adjusted_mae-arr</td><td>46.9475</td></tr><tr><td>val_Tm_adjusted_mae-lit_uv</td><td>2.12597</td></tr><tr><td>val_Tm_adjusted_mae-ov</td><td>1.73118</td></tr><tr><td>val_Tm_adjusted_rmse-all</td><td>58.78882</td></tr><tr><td>val_Tm_adjusted_rmse-arr</td><td>62.10235</td></tr><tr><td>val_Tm_adjusted_rmse-lit_uv</td><td>2.62855</td></tr><tr><td>val_Tm_adjusted_rmse-ov</td><td>2.25631</td></tr><tr><td>val_Tm_bias-all</td><td>-33.44246</td></tr><tr><td>val_Tm_bias-arr</td><td>-75.44642</td></tr><tr><td>val_Tm_bias-lit_uv</td><td>6.91515</td></tr><tr><td>val_Tm_bias-ov</td><td>4.68249</td></tr><tr><td>val_Tm_corr-all</td><td>0.57284</td></tr><tr><td>val_Tm_corr-arr</td><td>0.57201</td></tr><tr><td>val_Tm_corr-lit_uv</td><td>0.98192</td></tr><tr><td>val_Tm_corr-ov</td><td>0.86401</td></tr><tr><td>val_Tm_mae-all</td><td>39.06107</td></tr><tr><td>val_Tm_mae-arr</td><td>76.38319</td></tr><tr><td>val_Tm_mae-lit_uv</td><td>6.91515</td></tr><tr><td>val_Tm_mae-ov</td><td>4.7201</td></tr><tr><td>val_Tm_rmse-all</td><td>67.63522</td></tr><tr><td>val_Tm_rmse-arr</td><td>97.71829</td></tr><tr><td>val_Tm_rmse-lit_uv</td><td>7.39787</td></tr><tr><td>val_Tm_rmse-ov</td><td>5.19775</td></tr><tr><td>val_dG_adjusted_mae-arr</td><td>0.56553</td></tr><tr><td>val_dG_adjusted_rmse-arr</td><td>0.75418</td></tr><tr><td>val_dG_bias-arr</td><td>3.10385</td></tr><tr><td>val_dG_corr-arr</td><td>0.81181</td></tr><tr><td>val_dG_mae-arr</td><td>3.10403</td></tr><tr><td>val_dG_rmse-arr</td><td>3.19417</td></tr><tr><td>val_dH_adjusted_mae-arr</td><td>6.32659</td></tr><tr><td>val_dH_adjusted_rmse-arr</td><td>8.09115</td></tr><tr><td>val_dH_bias-arr</td><td>11.77707</td></tr><tr><td>val_dH_corr-arr</td><td>0.70588</td></tr><tr><td>val_dH_mae-arr</td><td>12.13929</td></tr><tr><td>val_dH_rmse-arr</td><td>14.28867</td></tr></table><br/></div></div>"
      ],
      "text/plain": [
       "<IPython.core.display.HTML object>"
      ]
     },
     "metadata": {},
     "output_type": "display_data"
    },
    {
     "data": {
      "text/html": [
       " View run <strong style=\"color:#cdcd00\">glowing-capybara-114</strong> at: <a href='https://wandb.ai/keyuxi/NN/runs/c7f40ctz' target=\"_blank\">https://wandb.ai/keyuxi/NN/runs/c7f40ctz</a><br/> View job at <a href='https://wandb.ai/keyuxi/NN/jobs/QXJ0aWZhY3RDb2xsZWN0aW9uOjExMTcyMjg1NQ==/version_details/v5' target=\"_blank\">https://wandb.ai/keyuxi/NN/jobs/QXJ0aWZhY3RDb2xsZWN0aW9uOjExMTcyMjg1NQ==/version_details/v5</a><br/>Synced 6 W&B file(s), 0 media file(s), 0 artifact file(s) and 0 other file(s)"
      ],
      "text/plain": [
       "<IPython.core.display.HTML object>"
      ]
     },
     "metadata": {},
     "output_type": "display_data"
    },
    {
     "data": {
      "text/html": [
       "Find logs at: <code>./wandb/run-20231202_134718-c7f40ctz/logs</code>"
      ],
      "text/plain": [
       "<IPython.core.display.HTML object>"
      ]
     },
     "metadata": {},
     "output_type": "display_data"
    },
    {
     "data": {
      "text/html": [
       "wandb version 0.16.0 is available!  To upgrade, please run:\n",
       " $ pip install wandb --upgrade"
      ],
      "text/plain": [
       "<IPython.core.display.HTML object>"
      ]
     },
     "metadata": {},
     "output_type": "display_data"
    },
    {
     "data": {
      "text/html": [
       "Tracking run with wandb version 0.15.12"
      ],
      "text/plain": [
       "<IPython.core.display.HTML object>"
      ]
     },
     "metadata": {},
     "output_type": "display_data"
    },
    {
     "data": {
      "text/html": [
       "Run data is saved locally in <code>/Users/yuxi/workspace/nnn_paper/wandb/run-20231202_135603-lru8kx01</code>"
      ],
      "text/plain": [
       "<IPython.core.display.HTML object>"
      ]
     },
     "metadata": {},
     "output_type": "display_data"
    },
    {
     "data": {
      "text/html": [
       "Syncing run <strong><a href='https://wandb.ai/keyuxi/NN/runs/lru8kx01' target=\"_blank\">smooth-cloud-115</a></strong> to <a href='https://wandb.ai/keyuxi/NN' target=\"_blank\">Weights & Biases</a> (<a href='https://wandb.me/run' target=\"_blank\">docs</a>)<br/>"
      ],
      "text/plain": [
       "<IPython.core.display.HTML object>"
      ]
     },
     "metadata": {},
     "output_type": "display_data"
    },
    {
     "data": {
      "text/html": [
       " View project at <a href='https://wandb.ai/keyuxi/NN' target=\"_blank\">https://wandb.ai/keyuxi/NN</a>"
      ],
      "text/plain": [
       "<IPython.core.display.HTML object>"
      ]
     },
     "metadata": {},
     "output_type": "display_data"
    },
    {
     "data": {
      "text/html": [
       " View run at <a href='https://wandb.ai/keyuxi/NN/runs/lru8kx01' target=\"_blank\">https://wandb.ai/keyuxi/NN/runs/lru8kx01</a>"
      ],
      "text/plain": [
       "<IPython.core.display.HTML object>"
      ]
     },
     "metadata": {},
     "output_type": "display_data"
    },
    {
     "name": "stdout",
     "output_type": "stream",
     "text": [
      "feats (27732, 178) Index(['bulge_size#1', 'bulge_size#2', 'hairpin_loop_mid#A'], dtype='object')\n",
      "fixed_feature_names: ['bulge_size#1', 'bulge_size#2', 'hairpin_size#3', 'hairpin_size#4', 'hairpin_size#11', 'hairpin_size#14', 'hairpin_size#17', 'hairpin_size#20', 'interior_size#2', 'interior_size#4', 'stack#AATT', 'stack#ACGT', 'stack#AGCT', 'stack#ATAT', 'stack#CATG', 'stack#CCGG', 'stack#CGCG', 'stack#CTAG', 'stack#GATC', 'stack#GCGC', 'stack#GGCC', 'stack#GTAC', 'stack#TATA', 'stack#TCGA', 'stack#TGCA', 'stack#TTAA']\n",
      "                           dH\n",
      "bulge_size#1              0.0\n",
      "bulge_size#2              0.0\n",
      "bulge_size#3              0.0\n",
      "bulge_size#4              0.0\n",
      "bulge_size#5              0.0\n",
      "...                       ...\n",
      "hairpin_tetraloop#CCTTGG  0.0\n",
      "hairpin_tetraloop#GCTTGC  0.0\n",
      "hairpin_tetraloop#GCTTGT  0.0\n",
      "hairpin_tetraloop#TCTTGA  0.0\n",
      "hairpin_tetraloop#TCTTGG  0.0\n",
      "\n",
      "[352 rows x 1 columns]\n",
      "['bulge_size#1', 'bulge_size#2', 'hairpin_size#11', 'hairpin_size#14', 'hairpin_size#17', 'hairpin_size#20', 'hairpin_size#3', 'hairpin_size#4', 'interior_size#2', 'interior_size#4', 'stack#AATT', 'stack#ACGT', 'stack#AGCT', 'stack#ATAT', 'stack#CATG', 'stack#CCGG', 'stack#CGCG', 'stack#CTAG', 'stack#GATC', 'stack#GCGC', 'stack#GGCC', 'stack#GTAC', 'stack#TATA', 'stack#TCGA', 'stack#TGCA', 'stack#TTAA']\n",
      "                           dG\n",
      "bulge_size#1              4.0\n",
      "bulge_size#2              2.9\n",
      "bulge_size#3              3.1\n",
      "bulge_size#4              3.2\n",
      "bulge_size#5              3.3\n",
      "...                       ...\n",
      "hairpin_tetraloop#CCTTGG -0.8\n",
      "hairpin_tetraloop#GCTTGC -0.8\n",
      "hairpin_tetraloop#GCTTGT -0.5\n",
      "hairpin_tetraloop#TCTTGA -0.8\n",
      "hairpin_tetraloop#TCTTGG -0.5\n",
      "\n",
      "[352 rows x 1 columns]\n",
      "['bulge_size#1', 'bulge_size#2', 'hairpin_size#11', 'hairpin_size#14', 'hairpin_size#17', 'hairpin_size#20', 'hairpin_size#3', 'hairpin_size#4', 'interior_size#2', 'interior_size#4', 'stack#AATT', 'stack#ACGT', 'stack#AGCT', 'stack#ATAT', 'stack#CATG', 'stack#CCGG', 'stack#CGCG', 'stack#CTAG', 'stack#GATC', 'stack#GCGC', 'stack#GGCC', 'stack#GTAC', 'stack#TATA', 'stack#TCGA', 'stack#TGCA', 'stack#TTAA']\n",
      "Centering new parameters...\n",
      "group bulge_size\n",
      "group hairpin_mismatch\n",
      "\tMean value of old_dict is -3.684\n",
      "\tMean value of fitted new_dict is -11.518\n",
      "\tMean value of centered new_dict is -3.684\n",
      "\n",
      "group hairpin_size\n",
      "group interior_mismatch\n",
      "\tMean value of old_dict is -2.913\n",
      "\tMean value of fitted new_dict is -5.289\n",
      "\tMean value of centered new_dict is -2.913\n",
      "\n",
      "group interior_size\n",
      "group stack\n",
      "\tMean value of old_dict is -8.275\n",
      "\tMean value of fitted new_dict is -8.275\n",
      "\tMean value of centered new_dict is -8.275\n",
      "\n",
      "group terminal_penalty\n",
      "\tMean value of old_dict is 1.100\n",
      "\tMean value of fitted new_dict is -0.825\n",
      "\tMean value of centered new_dict is 1.100\n",
      "\n",
      "Centering new parameters...\n",
      "group bulge_size\n",
      "group hairpin_mismatch\n",
      "\tMean value of old_dict is -0.715\n",
      "\tMean value of fitted new_dict is -4.157\n",
      "\tMean value of centered new_dict is -0.715\n",
      "\n",
      "group hairpin_size\n",
      "group interior_mismatch\n",
      "\tMean value of old_dict is -0.640\n",
      "\tMean value of fitted new_dict is -0.708\n",
      "\tMean value of centered new_dict is -0.640\n",
      "\n",
      "group interior_size\n",
      "group stack\n",
      "\tMean value of old_dict is -1.406\n",
      "\tMean value of fitted new_dict is -1.406\n",
      "\tMean value of centered new_dict is -1.406\n",
      "\n",
      "group terminal_penalty\n",
      "\tMean value of old_dict is 0.025\n",
      "\tMean value of fitted new_dict is 0.176\n",
      "\tMean value of centered new_dict is 0.025\n",
      "\n"
     ]
    },
    {
     "data": {
      "text/html": [
       "Waiting for W&B process to finish... <strong style=\"color:green\">(success).</strong>"
      ],
      "text/plain": [
       "<IPython.core.display.HTML object>"
      ]
     },
     "metadata": {},
     "output_type": "display_data"
    },
    {
     "data": {
      "text/html": [
       "<style>\n",
       "    table.wandb td:nth-child(1) { padding: 0 10px; text-align: left ; width: auto;} td:nth-child(2) {text-align: left ; width: 100%}\n",
       "    .wandb-row { display: flex; flex-direction: row; flex-wrap: wrap; justify-content: flex-start; width: 100% }\n",
       "    .wandb-col { display: flex; flex-direction: column; flex-basis: 100%; flex: 1; padding: 10px; }\n",
       "    </style>\n",
       "<div class=\"wandb-row\"><div class=\"wandb-col\"><h3>Run history:</h3><br/><table class=\"wandb\"><tr><td>n_feat</td><td>▁</td></tr><tr><td>n_fixed_feat</td><td>▁</td></tr><tr><td>train_dG_mae</td><td>▁</td></tr><tr><td>train_dG_rsqr</td><td>▁</td></tr><tr><td>train_dH_mae</td><td>▁</td></tr><tr><td>train_dH_rsqr</td><td>▁</td></tr><tr><td>val_Tm_adjusted_mae-all</td><td>▁</td></tr><tr><td>val_Tm_adjusted_mae-arr</td><td>▁</td></tr><tr><td>val_Tm_adjusted_mae-lit_uv</td><td>▁</td></tr><tr><td>val_Tm_adjusted_mae-ov</td><td>▁</td></tr><tr><td>val_Tm_adjusted_rmse-all</td><td>▁</td></tr><tr><td>val_Tm_adjusted_rmse-arr</td><td>▁</td></tr><tr><td>val_Tm_adjusted_rmse-lit_uv</td><td>▁</td></tr><tr><td>val_Tm_adjusted_rmse-ov</td><td>▁</td></tr><tr><td>val_Tm_bias-all</td><td>▁</td></tr><tr><td>val_Tm_bias-arr</td><td>▁</td></tr><tr><td>val_Tm_bias-lit_uv</td><td>▁</td></tr><tr><td>val_Tm_bias-ov</td><td>▁</td></tr><tr><td>val_Tm_corr-all</td><td>▁</td></tr><tr><td>val_Tm_corr-arr</td><td>▁</td></tr><tr><td>val_Tm_corr-lit_uv</td><td>▁</td></tr><tr><td>val_Tm_corr-ov</td><td>▁</td></tr><tr><td>val_Tm_mae-all</td><td>▁</td></tr><tr><td>val_Tm_mae-arr</td><td>▁</td></tr><tr><td>val_Tm_mae-lit_uv</td><td>▁</td></tr><tr><td>val_Tm_mae-ov</td><td>▁</td></tr><tr><td>val_Tm_rmse-all</td><td>▁</td></tr><tr><td>val_Tm_rmse-arr</td><td>▁</td></tr><tr><td>val_Tm_rmse-lit_uv</td><td>▁</td></tr><tr><td>val_Tm_rmse-ov</td><td>▁</td></tr><tr><td>val_dG_adjusted_mae-arr</td><td>▁</td></tr><tr><td>val_dG_adjusted_rmse-arr</td><td>▁</td></tr><tr><td>val_dG_bias-arr</td><td>▁</td></tr><tr><td>val_dG_corr-arr</td><td>▁</td></tr><tr><td>val_dG_mae-arr</td><td>▁</td></tr><tr><td>val_dG_rmse-arr</td><td>▁</td></tr><tr><td>val_dH_adjusted_mae-arr</td><td>▁</td></tr><tr><td>val_dH_adjusted_rmse-arr</td><td>▁</td></tr><tr><td>val_dH_bias-arr</td><td>▁</td></tr><tr><td>val_dH_corr-arr</td><td>▁</td></tr><tr><td>val_dH_mae-arr</td><td>▁</td></tr><tr><td>val_dH_rmse-arr</td><td>▁</td></tr></table><br/></div><div class=\"wandb-col\"><h3>Run summary:</h3><br/><table class=\"wandb\"><tr><td>n_feat</td><td>178</td></tr><tr><td>n_fixed_feat</td><td>26</td></tr><tr><td>param_set_file</td><td>./models/smooth-clou...</td></tr><tr><td>train_dG_mae</td><td>0.61903</td></tr><tr><td>train_dG_rsqr</td><td>0.61976</td></tr><tr><td>train_dH_mae</td><td>6.32634</td></tr><tr><td>train_dH_rsqr</td><td>0.42596</td></tr><tr><td>val_Tm_adjusted_mae-all</td><td>46.31002</td></tr><tr><td>val_Tm_adjusted_mae-arr</td><td>63.07217</td></tr><tr><td>val_Tm_adjusted_mae-lit_uv</td><td>2.11705</td></tr><tr><td>val_Tm_adjusted_mae-ov</td><td>1.79312</td></tr><tr><td>val_Tm_adjusted_rmse-all</td><td>77.57277</td></tr><tr><td>val_Tm_adjusted_rmse-arr</td><td>103.67653</td></tr><tr><td>val_Tm_adjusted_rmse-lit_uv</td><td>2.61598</td></tr><tr><td>val_Tm_adjusted_rmse-ov</td><td>2.31434</td></tr><tr><td>val_Tm_bias-all</td><td>-27.60997</td></tr><tr><td>val_Tm_bias-arr</td><td>-71.11577</td></tr><tr><td>val_Tm_bias-lit_uv</td><td>6.92076</td></tr><tr><td>val_Tm_bias-ov</td><td>4.67132</td></tr><tr><td>val_Tm_corr-all</td><td>0.38068</td></tr><tr><td>val_Tm_corr-arr</td><td>0.34975</td></tr><tr><td>val_Tm_corr-lit_uv</td><td>0.98194</td></tr><tr><td>val_Tm_corr-ov</td><td>0.85575</td></tr><tr><td>val_Tm_mae-all</td><td>40.25737</td></tr><tr><td>val_Tm_mae-arr</td><td>87.45695</td></tr><tr><td>val_Tm_mae-lit_uv</td><td>6.92076</td></tr><tr><td>val_Tm_mae-ov</td><td>4.71807</td></tr><tr><td>val_Tm_rmse-all</td><td>82.33981</td></tr><tr><td>val_Tm_rmse-arr</td><td>125.72301</td></tr><tr><td>val_Tm_rmse-lit_uv</td><td>7.39867</td></tr><tr><td>val_Tm_rmse-ov</td><td>5.21319</td></tr><tr><td>val_dG_adjusted_mae-arr</td><td>0.56393</td></tr><tr><td>val_dG_adjusted_rmse-arr</td><td>0.75065</td></tr><tr><td>val_dG_bias-arr</td><td>2.88816</td></tr><tr><td>val_dG_corr-arr</td><td>0.80779</td></tr><tr><td>val_dG_mae-arr</td><td>2.88864</td></tr><tr><td>val_dG_rmse-arr</td><td>2.98412</td></tr><tr><td>val_dH_adjusted_mae-arr</td><td>6.27711</td></tr><tr><td>val_dH_adjusted_rmse-arr</td><td>7.99594</td></tr><tr><td>val_dH_bias-arr</td><td>17.08792</td></tr><tr><td>val_dH_corr-arr</td><td>0.71185</td></tr><tr><td>val_dH_mae-arr</td><td>17.13718</td></tr><tr><td>val_dH_rmse-arr</td><td>18.86617</td></tr></table><br/></div></div>"
      ],
      "text/plain": [
       "<IPython.core.display.HTML object>"
      ]
     },
     "metadata": {},
     "output_type": "display_data"
    },
    {
     "data": {
      "text/html": [
       " View run <strong style=\"color:#cdcd00\">smooth-cloud-115</strong> at: <a href='https://wandb.ai/keyuxi/NN/runs/lru8kx01' target=\"_blank\">https://wandb.ai/keyuxi/NN/runs/lru8kx01</a><br/> View job at <a href='https://wandb.ai/keyuxi/NN/jobs/QXJ0aWZhY3RDb2xsZWN0aW9uOjExMTcyMjg1NQ==/version_details/v5' target=\"_blank\">https://wandb.ai/keyuxi/NN/jobs/QXJ0aWZhY3RDb2xsZWN0aW9uOjExMTcyMjg1NQ==/version_details/v5</a><br/>Synced 6 W&B file(s), 0 media file(s), 0 artifact file(s) and 0 other file(s)"
      ],
      "text/plain": [
       "<IPython.core.display.HTML object>"
      ]
     },
     "metadata": {},
     "output_type": "display_data"
    },
    {
     "data": {
      "text/html": [
       "Find logs at: <code>./wandb/run-20231202_135603-lru8kx01/logs</code>"
      ],
      "text/plain": [
       "<IPython.core.display.HTML object>"
      ]
     },
     "metadata": {},
     "output_type": "display_data"
    },
    {
     "data": {
      "text/html": [
       "wandb version 0.16.0 is available!  To upgrade, please run:\n",
       " $ pip install wandb --upgrade"
      ],
      "text/plain": [
       "<IPython.core.display.HTML object>"
      ]
     },
     "metadata": {},
     "output_type": "display_data"
    },
    {
     "data": {
      "text/html": [
       "Tracking run with wandb version 0.15.12"
      ],
      "text/plain": [
       "<IPython.core.display.HTML object>"
      ]
     },
     "metadata": {},
     "output_type": "display_data"
    },
    {
     "data": {
      "text/html": [
       "Run data is saved locally in <code>/Users/yuxi/workspace/nnn_paper/wandb/run-20231202_140446-gt93mvx9</code>"
      ],
      "text/plain": [
       "<IPython.core.display.HTML object>"
      ]
     },
     "metadata": {},
     "output_type": "display_data"
    },
    {
     "data": {
      "text/html": [
       "Syncing run <strong><a href='https://wandb.ai/keyuxi/NN/runs/gt93mvx9' target=\"_blank\">swift-lake-118</a></strong> to <a href='https://wandb.ai/keyuxi/NN' target=\"_blank\">Weights & Biases</a> (<a href='https://wandb.me/run' target=\"_blank\">docs</a>)<br/>"
      ],
      "text/plain": [
       "<IPython.core.display.HTML object>"
      ]
     },
     "metadata": {},
     "output_type": "display_data"
    },
    {
     "data": {
      "text/html": [
       " View project at <a href='https://wandb.ai/keyuxi/NN' target=\"_blank\">https://wandb.ai/keyuxi/NN</a>"
      ],
      "text/plain": [
       "<IPython.core.display.HTML object>"
      ]
     },
     "metadata": {},
     "output_type": "display_data"
    },
    {
     "data": {
      "text/html": [
       " View run at <a href='https://wandb.ai/keyuxi/NN/runs/gt93mvx9' target=\"_blank\">https://wandb.ai/keyuxi/NN/runs/gt93mvx9</a>"
      ],
      "text/plain": [
       "<IPython.core.display.HTML object>"
      ]
     },
     "metadata": {},
     "output_type": "display_data"
    },
    {
     "name": "stdout",
     "output_type": "stream",
     "text": [
      "feats (27732, 178) Index(['bulge_size#1', 'bulge_size#2', 'hairpin_loop_mid#A'], dtype='object')\n",
      "fixed_feature_names: ['bulge_size#1', 'bulge_size#2', 'hairpin_size#3', 'hairpin_size#4', 'hairpin_size#11', 'hairpin_size#14', 'hairpin_size#17', 'hairpin_size#20', 'interior_size#2', 'interior_size#4', 'stack#AATT', 'stack#ACGT', 'stack#AGCT', 'stack#ATAT', 'stack#CATG', 'stack#CCGG', 'stack#CGCG', 'stack#CTAG', 'stack#GATC', 'stack#GCGC', 'stack#GGCC', 'stack#GTAC', 'stack#TATA', 'stack#TCGA', 'stack#TGCA', 'stack#TTAA']\n",
      "                           dH\n",
      "bulge_size#1              0.0\n",
      "bulge_size#2              0.0\n",
      "bulge_size#3              0.0\n",
      "bulge_size#4              0.0\n",
      "bulge_size#5              0.0\n",
      "...                       ...\n",
      "hairpin_tetraloop#CCTTGG  0.0\n",
      "hairpin_tetraloop#GCTTGC  0.0\n",
      "hairpin_tetraloop#GCTTGT  0.0\n",
      "hairpin_tetraloop#TCTTGA  0.0\n",
      "hairpin_tetraloop#TCTTGG  0.0\n",
      "\n",
      "[352 rows x 1 columns]\n",
      "['bulge_size#1', 'bulge_size#2', 'hairpin_size#11', 'hairpin_size#14', 'hairpin_size#17', 'hairpin_size#20', 'hairpin_size#3', 'hairpin_size#4', 'interior_size#2', 'interior_size#4', 'stack#AATT', 'stack#ACGT', 'stack#AGCT', 'stack#ATAT', 'stack#CATG', 'stack#CCGG', 'stack#CGCG', 'stack#CTAG', 'stack#GATC', 'stack#GCGC', 'stack#GGCC', 'stack#GTAC', 'stack#TATA', 'stack#TCGA', 'stack#TGCA', 'stack#TTAA']\n",
      "                           dG\n",
      "bulge_size#1              4.0\n",
      "bulge_size#2              2.9\n",
      "bulge_size#3              3.1\n",
      "bulge_size#4              3.2\n",
      "bulge_size#5              3.3\n",
      "...                       ...\n",
      "hairpin_tetraloop#CCTTGG -0.8\n",
      "hairpin_tetraloop#GCTTGC -0.8\n",
      "hairpin_tetraloop#GCTTGT -0.5\n",
      "hairpin_tetraloop#TCTTGA -0.8\n",
      "hairpin_tetraloop#TCTTGG -0.5\n",
      "\n",
      "[352 rows x 1 columns]\n",
      "['bulge_size#1', 'bulge_size#2', 'hairpin_size#11', 'hairpin_size#14', 'hairpin_size#17', 'hairpin_size#20', 'hairpin_size#3', 'hairpin_size#4', 'interior_size#2', 'interior_size#4', 'stack#AATT', 'stack#ACGT', 'stack#AGCT', 'stack#ATAT', 'stack#CATG', 'stack#CCGG', 'stack#CGCG', 'stack#CTAG', 'stack#GATC', 'stack#GCGC', 'stack#GGCC', 'stack#GTAC', 'stack#TATA', 'stack#TCGA', 'stack#TGCA', 'stack#TTAA']\n",
      "Centering new parameters...\n",
      "group bulge_size\n",
      "group hairpin_mismatch\n",
      "\tMean value of old_dict is -3.684\n",
      "\tMean value of fitted new_dict is -12.986\n",
      "\tMean value of centered new_dict is -3.684\n",
      "\n",
      "group hairpin_size\n",
      "group interior_mismatch\n",
      "\tMean value of old_dict is -2.913\n",
      "\tMean value of fitted new_dict is -5.266\n",
      "\tMean value of centered new_dict is -2.913\n",
      "\n",
      "group interior_size\n",
      "group stack\n",
      "\tMean value of old_dict is -8.275\n",
      "\tMean value of fitted new_dict is -8.275\n",
      "\tMean value of centered new_dict is -8.275\n",
      "\n",
      "group terminal_penalty\n",
      "\tMean value of old_dict is 1.100\n",
      "\tMean value of fitted new_dict is -0.687\n",
      "\tMean value of centered new_dict is 1.100\n",
      "\n",
      "Centering new parameters...\n",
      "group bulge_size\n",
      "group hairpin_mismatch\n",
      "\tMean value of old_dict is -0.715\n",
      "\tMean value of fitted new_dict is -4.034\n",
      "\tMean value of centered new_dict is -0.715\n",
      "\n",
      "group hairpin_size\n",
      "group interior_mismatch\n",
      "\tMean value of old_dict is -0.640\n",
      "\tMean value of fitted new_dict is -0.724\n",
      "\tMean value of centered new_dict is -0.640\n",
      "\n",
      "group interior_size\n",
      "group stack\n",
      "\tMean value of old_dict is -1.406\n",
      "\tMean value of fitted new_dict is -1.406\n",
      "\tMean value of centered new_dict is -1.406\n",
      "\n",
      "group terminal_penalty\n",
      "\tMean value of old_dict is 0.025\n",
      "\tMean value of fitted new_dict is 0.170\n",
      "\tMean value of centered new_dict is 0.025\n",
      "\n"
     ]
    },
    {
     "data": {
      "text/html": [
       "Waiting for W&B process to finish... <strong style=\"color:green\">(success).</strong>"
      ],
      "text/plain": [
       "<IPython.core.display.HTML object>"
      ]
     },
     "metadata": {},
     "output_type": "display_data"
    },
    {
     "data": {
      "text/html": [
       "<style>\n",
       "    table.wandb td:nth-child(1) { padding: 0 10px; text-align: left ; width: auto;} td:nth-child(2) {text-align: left ; width: 100%}\n",
       "    .wandb-row { display: flex; flex-direction: row; flex-wrap: wrap; justify-content: flex-start; width: 100% }\n",
       "    .wandb-col { display: flex; flex-direction: column; flex-basis: 100%; flex: 1; padding: 10px; }\n",
       "    </style>\n",
       "<div class=\"wandb-row\"><div class=\"wandb-col\"><h3>Run history:</h3><br/><table class=\"wandb\"><tr><td>n_feat</td><td>▁</td></tr><tr><td>n_fixed_feat</td><td>▁</td></tr><tr><td>train_dG_mae</td><td>▁</td></tr><tr><td>train_dG_rsqr</td><td>▁</td></tr><tr><td>train_dH_mae</td><td>▁</td></tr><tr><td>train_dH_rsqr</td><td>▁</td></tr><tr><td>val_Tm_adjusted_mae-all</td><td>▁</td></tr><tr><td>val_Tm_adjusted_mae-arr</td><td>▁</td></tr><tr><td>val_Tm_adjusted_mae-lit_uv</td><td>▁</td></tr><tr><td>val_Tm_adjusted_mae-ov</td><td>▁</td></tr><tr><td>val_Tm_adjusted_rmse-all</td><td>▁</td></tr><tr><td>val_Tm_adjusted_rmse-arr</td><td>▁</td></tr><tr><td>val_Tm_adjusted_rmse-lit_uv</td><td>▁</td></tr><tr><td>val_Tm_adjusted_rmse-ov</td><td>▁</td></tr><tr><td>val_Tm_bias-all</td><td>▁</td></tr><tr><td>val_Tm_bias-arr</td><td>▁</td></tr><tr><td>val_Tm_bias-lit_uv</td><td>▁</td></tr><tr><td>val_Tm_bias-ov</td><td>▁</td></tr><tr><td>val_Tm_corr-all</td><td>▁</td></tr><tr><td>val_Tm_corr-arr</td><td>▁</td></tr><tr><td>val_Tm_corr-lit_uv</td><td>▁</td></tr><tr><td>val_Tm_corr-ov</td><td>▁</td></tr><tr><td>val_Tm_mae-all</td><td>▁</td></tr><tr><td>val_Tm_mae-arr</td><td>▁</td></tr><tr><td>val_Tm_mae-lit_uv</td><td>▁</td></tr><tr><td>val_Tm_mae-ov</td><td>▁</td></tr><tr><td>val_Tm_rmse-all</td><td>▁</td></tr><tr><td>val_Tm_rmse-arr</td><td>▁</td></tr><tr><td>val_Tm_rmse-lit_uv</td><td>▁</td></tr><tr><td>val_Tm_rmse-ov</td><td>▁</td></tr><tr><td>val_dG_adjusted_mae-arr</td><td>▁</td></tr><tr><td>val_dG_adjusted_rmse-arr</td><td>▁</td></tr><tr><td>val_dG_bias-arr</td><td>▁</td></tr><tr><td>val_dG_corr-arr</td><td>▁</td></tr><tr><td>val_dG_mae-arr</td><td>▁</td></tr><tr><td>val_dG_rmse-arr</td><td>▁</td></tr><tr><td>val_dH_adjusted_mae-arr</td><td>▁</td></tr><tr><td>val_dH_adjusted_rmse-arr</td><td>▁</td></tr><tr><td>val_dH_bias-arr</td><td>▁</td></tr><tr><td>val_dH_corr-arr</td><td>▁</td></tr><tr><td>val_dH_mae-arr</td><td>▁</td></tr><tr><td>val_dH_rmse-arr</td><td>▁</td></tr></table><br/></div><div class=\"wandb-col\"><h3>Run summary:</h3><br/><table class=\"wandb\"><tr><td>n_feat</td><td>178</td></tr><tr><td>n_fixed_feat</td><td>26</td></tr><tr><td>param_set_file</td><td>./models/swift-lake-...</td></tr><tr><td>train_dG_mae</td><td>0.62251</td></tr><tr><td>train_dG_rsqr</td><td>0.61267</td></tr><tr><td>train_dH_mae</td><td>6.36952</td></tr><tr><td>train_dH_rsqr</td><td>0.42186</td></tr><tr><td>val_Tm_adjusted_mae-all</td><td>41.73711</td></tr><tr><td>val_Tm_adjusted_mae-arr</td><td>60.36296</td></tr><tr><td>val_Tm_adjusted_mae-lit_uv</td><td>2.11421</td></tr><tr><td>val_Tm_adjusted_mae-ov</td><td>1.76578</td></tr><tr><td>val_Tm_adjusted_rmse-all</td><td>72.18559</td></tr><tr><td>val_Tm_adjusted_rmse-arr</td><td>104.05513</td></tr><tr><td>val_Tm_adjusted_rmse-lit_uv</td><td>2.61512</td></tr><tr><td>val_Tm_adjusted_rmse-ov</td><td>2.29492</td></tr><tr><td>val_Tm_bias-all</td><td>-16.83271</td></tr><tr><td>val_Tm_bias-arr</td><td>-46.75773</td></tr><tr><td>val_Tm_bias-lit_uv</td><td>6.91914</td></tr><tr><td>val_Tm_bias-ov</td><td>4.66014</td></tr><tr><td>val_Tm_corr-all</td><td>0.33816</td></tr><tr><td>val_Tm_corr-arr</td><td>0.30792</td></tr><tr><td>val_Tm_corr-lit_uv</td><td>0.98196</td></tr><tr><td>val_Tm_corr-ov</td><td>0.85889</td></tr><tr><td>val_Tm_mae-all</td><td>37.22837</td></tr><tr><td>val_Tm_mae-arr</td><td>81.64919</td></tr><tr><td>val_Tm_mae-lit_uv</td><td>6.91914</td></tr><tr><td>val_Tm_mae-ov</td><td>4.704</td></tr><tr><td>val_Tm_rmse-all</td><td>74.12219</td></tr><tr><td>val_Tm_rmse-arr</td><td>114.07785</td></tr><tr><td>val_Tm_rmse-lit_uv</td><td>7.39685</td></tr><tr><td>val_Tm_rmse-ov</td><td>5.19457</td></tr><tr><td>val_dG_adjusted_mae-arr</td><td>0.56022</td></tr><tr><td>val_dG_adjusted_rmse-arr</td><td>0.7493</td></tr><tr><td>val_dG_bias-arr</td><td>2.76177</td></tr><tr><td>val_dG_corr-arr</td><td>0.809</td></tr><tr><td>val_dG_mae-arr</td><td>2.76234</td></tr><tr><td>val_dG_rmse-arr</td><td>2.86161</td></tr><tr><td>val_dH_adjusted_mae-arr</td><td>6.27013</td></tr><tr><td>val_dH_adjusted_rmse-arr</td><td>7.97789</td></tr><tr><td>val_dH_bias-arr</td><td>18.42177</td></tr><tr><td>val_dH_corr-arr</td><td>0.7107</td></tr><tr><td>val_dH_mae-arr</td><td>18.44259</td></tr><tr><td>val_dH_rmse-arr</td><td>20.07507</td></tr></table><br/></div></div>"
      ],
      "text/plain": [
       "<IPython.core.display.HTML object>"
      ]
     },
     "metadata": {},
     "output_type": "display_data"
    },
    {
     "data": {
      "text/html": [
       " View run <strong style=\"color:#cdcd00\">swift-lake-118</strong> at: <a href='https://wandb.ai/keyuxi/NN/runs/gt93mvx9' target=\"_blank\">https://wandb.ai/keyuxi/NN/runs/gt93mvx9</a><br/> View job at <a href='https://wandb.ai/keyuxi/NN/jobs/QXJ0aWZhY3RDb2xsZWN0aW9uOjExMTcyMjg1NQ==/version_details/v5' target=\"_blank\">https://wandb.ai/keyuxi/NN/jobs/QXJ0aWZhY3RDb2xsZWN0aW9uOjExMTcyMjg1NQ==/version_details/v5</a><br/>Synced 6 W&B file(s), 0 media file(s), 0 artifact file(s) and 0 other file(s)"
      ],
      "text/plain": [
       "<IPython.core.display.HTML object>"
      ]
     },
     "metadata": {},
     "output_type": "display_data"
    },
    {
     "data": {
      "text/html": [
       "Find logs at: <code>./wandb/run-20231202_140446-gt93mvx9/logs</code>"
      ],
      "text/plain": [
       "<IPython.core.display.HTML object>"
      ]
     },
     "metadata": {},
     "output_type": "display_data"
    },
    {
     "data": {
      "image/png": "[encoded data removed]",
      "text/plain": [
       "<Figure size 800x400 with 2 Axes>"
      ]
     },
     "metadata": {},
     "output_type": "display_data"
    },
    {
     "data": {
      "image/png": "[encoded data removed]",
      "text/plain": [
       "<Figure size 800x400 with 2 Axes>"
      ]
     },
     "metadata": {},
     "output_type": "display_data"
    },
    {
     "data": {
      "image/png": "[encoded data removed]",
      "text/plain": [
       "<Figure size 800x400 with 2 Axes>"
      ]
     },
     "metadata": {},
     "output_type": "display_data"
    },
    {
     "data": {
      "image/png": "[encoded data removed]",
      "text/plain": [
       "<Figure size 800x400 with 2 Axes>"
      ]
     },
     "metadata": {},
     "output_type": "display_data"
    },
    {
     "data": {
      "image/png": "[encoded data removed]",
      "text/plain": [
       "<Figure size 800x400 with 2 Axes>"
      ]
     },
     "metadata": {},
     "output_type": "display_data"
    },
    {
     "data": {
      "image/png": "[encoded data removed]",
      "text/plain": [
       "<Figure size 800x400 with 2 Axes>"
      ]
     },
     "metadata": {},
     "output_type": "display_data"
    },
    {
     "data": {
      "image/png": "[encoded data removed]",
      "text/plain": [
       "<Figure size 800x400 with 2 Axes>"
      ]
     },
     "metadata": {},
     "output_type": "display_data"
    },
    {
     "data": {
      "image/png": "[encoded data removed]",
      "text/plain": [
       "<Figure size 800x400 with 2 Axes>"
      ]
     },
     "metadata": {},
     "output_type": "display_data"
    },
    {
     "data": {
      "image/png": "[encoded data removed]",
      "text/plain": [
       "<Figure size 800x400 with 2 Axes>"
      ]
     },
     "metadata": {},
     "output_type": "display_data"
    },
    {
     "data": {
      "image/png": "[encoded data removed]",
      "text/plain": [
       "<Figure size 800x400 with 2 Axes>"
      ]
     },
     "metadata": {},
     "output_type": "display_data"
    }
   ],
   "source": [
    "for ratio in myrange:\n",
    "    config.update(dict(use_train_set_ratio=ratio))\n",
    "    tnn.model_pipeline(config)"
   ]
  },
  {
   "cell_type": "code",
   "execution_count": 7,
   "metadata": {},
   "outputs": [],
   "source": [
    "val_result_df = pd.read_csv('./models/ancient-cloud-136_val_result_df.csv', index_col=[0,1])"
   ]
  },
  {
   "cell_type": "code",
   "execution_count": 8,
   "metadata": {},
   "outputs": [
    {
     "data": {
      "text/html": [
       "<div>\n",
       "<style scoped>\n",
       "    .dataframe tbody tr th:only-of-type {\n",
       "        vertical-align: middle;\n",
       "    }\n",
       "\n",
       "    .dataframe tbody tr th {\n",
       "        vertical-align: top;\n",
       "    }\n",
       "\n",
       "    .dataframe thead th {\n",
       "        text-align: right;\n",
       "    }\n",
       "</style>\n",
       "<table border=\"1\" class=\"dataframe\">\n",
       "  <thead>\n",
       "    <tr style=\"text-align: right;\">\n",
       "      <th></th>\n",
       "      <th></th>\n",
       "      <th>RefSeq</th>\n",
       "      <th>TargetStruct</th>\n",
       "      <th>dH</th>\n",
       "      <th>Tm</th>\n",
       "      <th>dG_37</th>\n",
       "      <th>dH_pred</th>\n",
       "      <th>Tm_pred</th>\n",
       "      <th>dG_37_pred</th>\n",
       "    </tr>\n",
       "  </thead>\n",
       "  <tbody>\n",
       "    <tr>\n",
       "      <th rowspan=\"5\" valign=\"top\">arr</th>\n",
       "      <th>MMGTP971</th>\n",
       "      <td>GTGTGTGGAAACATACAC</td>\n",
       "      <td>((((.((....)).))))</td>\n",
       "      <td>-39.560910</td>\n",
       "      <td>48.576922</td>\n",
       "      <td>-1.423548</td>\n",
       "      <td>-16.613859</td>\n",
       "      <td>22.602670</td>\n",
       "      <td>0.808768</td>\n",
       "    </tr>\n",
       "    <tr>\n",
       "      <th>MMACP1924</th>\n",
       "      <td>GGATGGGGAAACCCACCC</td>\n",
       "      <td>((.((((....)))).))</td>\n",
       "      <td>-24.153575</td>\n",
       "      <td>45.125265</td>\n",
       "      <td>-0.616618</td>\n",
       "      <td>-0.560230</td>\n",
       "      <td>-85.167701</td>\n",
       "      <td>0.364088</td>\n",
       "    </tr>\n",
       "    <tr>\n",
       "      <th>BNNN315</th>\n",
       "      <td>GAATCCGAAAGGAGCTTC</td>\n",
       "      <td>((((((....)))..)))</td>\n",
       "      <td>-23.634372</td>\n",
       "      <td>41.630497</td>\n",
       "      <td>-0.347667</td>\n",
       "      <td>8.249871</td>\n",
       "      <td>61.911093</td>\n",
       "      <td>0.613361</td>\n",
       "    </tr>\n",
       "    <tr>\n",
       "      <th>TETNNN3073</th>\n",
       "      <td>GATCCAAAATTGGATC</td>\n",
       "      <td>((((((....))))))</td>\n",
       "      <td>-35.827860</td>\n",
       "      <td>48.066638</td>\n",
       "      <td>-1.234351</td>\n",
       "      <td>-25.756906</td>\n",
       "      <td>24.575149</td>\n",
       "      <td>1.074903</td>\n",
       "    </tr>\n",
       "    <tr>\n",
       "      <th>BNNN8635</th>\n",
       "      <td>GCTTCCGAAAGGAGCAGC</td>\n",
       "      <td>((((((....)))..)))</td>\n",
       "      <td>-15.184097</td>\n",
       "      <td>41.673821</td>\n",
       "      <td>-0.225421</td>\n",
       "      <td>6.749871</td>\n",
       "      <td>14.177435</td>\n",
       "      <td>-0.536146</td>\n",
       "    </tr>\n",
       "    <tr>\n",
       "      <th>...</th>\n",
       "      <th>...</th>\n",
       "      <td>...</td>\n",
       "      <td>...</td>\n",
       "      <td>...</td>\n",
       "      <td>...</td>\n",
       "      <td>...</td>\n",
       "      <td>...</td>\n",
       "      <td>...</td>\n",
       "      <td>...</td>\n",
       "    </tr>\n",
       "    <tr>\n",
       "      <th rowspan=\"5\" valign=\"top\">ov</th>\n",
       "      <th>OV1638</th>\n",
       "      <td>['CGACGTGCTTTATGTGCTG', 'CAGCACATTGGGCACGTCG']</td>\n",
       "      <td>((((((((...((((((((+))))))))...))))))))</td>\n",
       "      <td>NaN</td>\n",
       "      <td>49.800000</td>\n",
       "      <td>NaN</td>\n",
       "      <td>NaN</td>\n",
       "      <td>54.276361</td>\n",
       "      <td>NaN</td>\n",
       "    </tr>\n",
       "    <tr>\n",
       "      <th>OV1095</th>\n",
       "      <td>['CGACGTGCGACATGTGCTG', 'CAGCACATCACGCACGTCG']</td>\n",
       "      <td>(((((((((..((((((((+))))))))..)))))))))</td>\n",
       "      <td>NaN</td>\n",
       "      <td>52.700000</td>\n",
       "      <td>NaN</td>\n",
       "      <td>NaN</td>\n",
       "      <td>58.305063</td>\n",
       "      <td>NaN</td>\n",
       "    </tr>\n",
       "    <tr>\n",
       "      <th>OV1130</th>\n",
       "      <td>['CGACGTGCGATATGTGCTG', 'CAGCACATTCAGCACGTCG']</td>\n",
       "      <td>((((((((...((((((((+))))))))...))))))))</td>\n",
       "      <td>NaN</td>\n",
       "      <td>52.800000</td>\n",
       "      <td>NaN</td>\n",
       "      <td>NaN</td>\n",
       "      <td>54.730749</td>\n",
       "      <td>NaN</td>\n",
       "    </tr>\n",
       "    <tr>\n",
       "      <th>OV1294</th>\n",
       "      <td>['CGACGTGCTTAATGTGCTG', 'CAGCACATGTGGCACGTCG']</td>\n",
       "      <td>((((((((...((((((((+))))))))...))))))))</td>\n",
       "      <td>NaN</td>\n",
       "      <td>51.900000</td>\n",
       "      <td>NaN</td>\n",
       "      <td>NaN</td>\n",
       "      <td>54.639875</td>\n",
       "      <td>NaN</td>\n",
       "    </tr>\n",
       "    <tr>\n",
       "      <th>OV860</th>\n",
       "      <td>['CGACGTGCCTAATGTGCTG', 'CAGCACATTATGCACGTCG']</td>\n",
       "      <td>((((((((.((((((((((+)))))))))).))))))))</td>\n",
       "      <td>NaN</td>\n",
       "      <td>54.000000</td>\n",
       "      <td>NaN</td>\n",
       "      <td>NaN</td>\n",
       "      <td>56.172042</td>\n",
       "      <td>NaN</td>\n",
       "    </tr>\n",
       "  </tbody>\n",
       "</table>\n",
       "<p>2876 rows × 8 columns</p>\n",
       "</div>"
      ],
      "text/plain": [
       "                                                        RefSeq  \\\n",
       "arr MMGTP971                                GTGTGTGGAAACATACAC   \n",
       "    MMACP1924                               GGATGGGGAAACCCACCC   \n",
       "    BNNN315                                 GAATCCGAAAGGAGCTTC   \n",
       "    TETNNN3073                                GATCCAAAATTGGATC   \n",
       "    BNNN8635                                GCTTCCGAAAGGAGCAGC   \n",
       "...                                                        ...   \n",
       "ov  OV1638      ['CGACGTGCTTTATGTGCTG', 'CAGCACATTGGGCACGTCG']   \n",
       "    OV1095      ['CGACGTGCGACATGTGCTG', 'CAGCACATCACGCACGTCG']   \n",
       "    OV1130      ['CGACGTGCGATATGTGCTG', 'CAGCACATTCAGCACGTCG']   \n",
       "    OV1294      ['CGACGTGCTTAATGTGCTG', 'CAGCACATGTGGCACGTCG']   \n",
       "    OV860       ['CGACGTGCCTAATGTGCTG', 'CAGCACATTATGCACGTCG']   \n",
       "\n",
       "                                           TargetStruct         dH         Tm  \\\n",
       "arr MMGTP971                         ((((.((....)).)))) -39.560910  48.576922   \n",
       "    MMACP1924                        ((.((((....)))).)) -24.153575  45.125265   \n",
       "    BNNN315                          ((((((....)))..))) -23.634372  41.630497   \n",
       "    TETNNN3073                         ((((((....)))))) -35.827860  48.066638   \n",
       "    BNNN8635                         ((((((....)))..))) -15.184097  41.673821   \n",
       "...                                                 ...        ...        ...   \n",
       "ov  OV1638      ((((((((...((((((((+))))))))...))))))))        NaN  49.800000   \n",
       "    OV1095      (((((((((..((((((((+))))))))..)))))))))        NaN  52.700000   \n",
       "    OV1130      ((((((((...((((((((+))))))))...))))))))        NaN  52.800000   \n",
       "    OV1294      ((((((((...((((((((+))))))))...))))))))        NaN  51.900000   \n",
       "    OV860       ((((((((.((((((((((+)))))))))).))))))))        NaN  54.000000   \n",
       "\n",
       "                   dG_37    dH_pred    Tm_pred  dG_37_pred  \n",
       "arr MMGTP971   -1.423548 -16.613859  22.602670    0.808768  \n",
       "    MMACP1924  -0.616618  -0.560230 -85.167701    0.364088  \n",
       "    BNNN315    -0.347667   8.249871  61.911093    0.613361  \n",
       "    TETNNN3073 -1.234351 -25.756906  24.575149    1.074903  \n",
       "    BNNN8635   -0.225421   6.749871  14.177435   -0.536146  \n",
       "...                  ...        ...        ...         ...  \n",
       "ov  OV1638           NaN        NaN  54.276361         NaN  \n",
       "    OV1095           NaN        NaN  58.305063         NaN  \n",
       "    OV1130           NaN        NaN  54.730749         NaN  \n",
       "    OV1294           NaN        NaN  54.639875         NaN  \n",
       "    OV860            NaN        NaN  56.172042         NaN  \n",
       "\n",
       "[2876 rows x 8 columns]"
      ]
     },
     "execution_count": 8,
     "metadata": {},
     "output_type": "execute_result"
    }
   ],
   "source": [
    "val_result_df"
   ]
  },
  {
   "cell_type": "code",
   "execution_count": null,
   "metadata": {},
   "outputs": [],
   "source": []
  }
 ],
 "metadata": {
  "kernelspec": {
   "display_name": "Python 3 (ipykernel)",
   "language": "python",
   "name": "python3"
  },
  "language_info": {
   "codemirror_mode": {
    "name": "ipython",
    "version": 3
   },
   "file_extension": ".py",
   "mimetype": "text/x-python",
   "name": "python",
   "nbconvert_exporter": "python",
   "pygments_lexer": "ipython3",
   "version": "3.8.16"
  }
 },
 "nbformat": 4,
 "nbformat_minor": 4
}
