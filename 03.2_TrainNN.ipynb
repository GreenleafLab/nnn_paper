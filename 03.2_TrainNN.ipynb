{
 "cells": [
  {
   "cell_type": "code",
   "execution_count": 1,
   "metadata": {},
   "outputs": [],
   "source": [
    "%load_ext autoreload\n",
    "%autoreload 2\n",
    "\n",
    "import numpy as np\n",
    "import pandas as pd\n",
    "import matplotlib.pyplot as plt\n",
    "import matplotlib\n",
    "from matplotlib.ticker import (MultipleLocator, FormatStrFormatter,\n",
    "                               AutoMinorLocator)\n",
    "import seaborn as sns\n",
    "import json, os, pickle\n",
    "from collections import defaultdict\n",
    "import nupack\n",
    "import sklearn\n",
    "from scipy import stats\n",
    "\n",
    "\n",
    "from tqdm import tqdm\n",
    "import itertools\n",
    "\n",
    "from nnn import util, fileio, mupack, plotting, modeling\n",
    "import nnn.motif_fit as mf\n",
    "import wandb\n",
    "\n",
    "# suppress warnings \n",
    "import warnings\n",
    "warnings.filterwarnings(\"ignore\")\n",
    "\n",
    "from nnn import train_nn as tnn"
   ]
  },
  {
   "cell_type": "code",
   "execution_count": 21,
   "metadata": {},
   "outputs": [],
   "source": [
    "fixed_pclass = ['hairpin_size', 'interior_size', 'bulge_size', 'hairpin_triloop', 'hairpin_tetraloop', 'terminal_mismatch', 'stack']\n",
    "config = dict(\n",
    "    use_train_set_ratio = 1.,\n",
    "    fit_method = 'svd',\n",
    "    feature_method = 'get_nupack_feature_list',\n",
    "    fit_intercept=False, \n",
    "    symmetry=False,\n",
    "    fix_some_coef=True,\n",
    "    fixed_pclass = fixed_pclass,\n",
    "    test_mode = 'val', # {'val', 'test'}\n",
    "    use_model_from = 'json', # {'lr_dict', 'json'}\n",
    "    )"
   ]
  },
  {
   "cell_type": "code",
   "execution_count": 2,
   "metadata": {},
   "outputs": [],
   "source": [
    "fixed_pclass = []#['hairpin_size', 'interior_size', 'bulge_size', 'hairpin_triloop', 'hairpin_tetraloop', 'terminal_mismatch', 'stack']\n",
    "config = dict(\n",
    "    use_train_set_ratio = 1.0,\n",
    "    fit_method = 'svd',\n",
    "    feature_method = 'get_feature_list',\n",
    "    fit_intercept=False,\n",
    "    stack_size=3,\n",
    "    symmetry=False,\n",
    "    sep_base_stack=True,\n",
    "    fix_some_coef=True,\n",
    "    fixed_pclass = fixed_pclass,\n",
    "    test_mode = 'val', # {'val', 'test'}\n",
    "    use_model_from = 'lr_dict', # {'lr_dict', 'json'}\n",
    "    )"
   ]
  },
  {
   "cell_type": "code",
   "execution_count": 4,
   "metadata": {
    "scrolled": true
   },
   "outputs": [
    {
     "data": {
      "text/html": [
       "Tracking run with wandb version 0.15.12"
      ],
      "text/plain": [
       "<IPython.core.display.HTML object>"
      ]
     },
     "metadata": {},
     "output_type": "display_data"
    },
    {
     "data": {
      "text/html": [
       "Run data is saved locally in <code>/Users/yuxi/workspace/nnn_paper/wandb/run-20231104_121450-m13ndjzu</code>"
      ],
      "text/plain": [
       "<IPython.core.display.HTML object>"
      ]
     },
     "metadata": {},
     "output_type": "display_data"
    },
    {
     "data": {
      "text/html": [
       "Syncing run <strong><a href='https://wandb.ai/keyuxi/NN/runs/m13ndjzu' target=\"_blank\">hopeful-cloud-85</a></strong> to <a href='https://wandb.ai/keyuxi/NN' target=\"_blank\">Weights & Biases</a> (<a href='https://wandb.me/run' target=\"_blank\">docs</a>)<br/>"
      ],
      "text/plain": [
       "<IPython.core.display.HTML object>"
      ]
     },
     "metadata": {},
     "output_type": "display_data"
    },
    {
     "data": {
      "text/html": [
       " View project at <a href='https://wandb.ai/keyuxi/NN' target=\"_blank\">https://wandb.ai/keyuxi/NN</a>"
      ],
      "text/plain": [
       "<IPython.core.display.HTML object>"
      ]
     },
     "metadata": {},
     "output_type": "display_data"
    },
    {
     "data": {
      "text/html": [
       " View run at <a href='https://wandb.ai/keyuxi/NN/runs/m13ndjzu' target=\"_blank\">https://wandb.ai/keyuxi/NN/runs/m13ndjzu</a>"
      ],
      "text/plain": [
       "<IPython.core.display.HTML object>"
      ]
     },
     "metadata": {},
     "output_type": "display_data"
    },
    {
     "name": "stdout",
     "output_type": "stream",
     "text": [
      "feats (27732, 1402) Index(['A+A+T+T_(+(+)+)', 'A+C+G+T_(+(+)+)', 'A+G+C+T_(+(+)+)'], dtype='object')\n",
      "fixed_feature_names: []\n",
      "Empty DataFrame\n",
      "Columns: [dH]\n",
      "Index: []\n",
      "[]\n",
      "Warning: Rank of matrix A_unknown, 1395, is smaller than the number of features 1402!\n",
      "Empty DataFrame\n",
      "Columns: [dG]\n",
      "Index: []\n",
      "[]\n",
      "Warning: Rank of matrix A_unknown, 1395, is smaller than the number of features 1402!\n"
     ]
    },
    {
     "name": "stderr",
     "output_type": "stream",
     "text": [
      "Traceback (most recent call last):\n",
      "  File \"/Users/yuxi/workspace/nnn_paper/nnn/train_nn.py\", line 20, in model_pipeline\n",
      "    test(config, lr_dict=lr_dict)\n",
      "  File \"/Users/yuxi/workspace/nnn_paper/nnn/train_nn.py\", line 270, in test\n",
      "    metric_dict['all'] = dict(Tm=modeling.get_metric_dict(val_result_df, 'Tm'))\n",
      "  File \"/Users/yuxi/workspace/nnn_paper/nnn/modeling.py\", line 209, in get_metric_dict\n",
      "    metric['corr'] = util.pearson_r(y, y_pred)\n",
      "  File \"/Users/yuxi/workspace/nnn_paper/nnn/util.py\", line 944, in pearson_r\n",
      "    return pearsonr(y1, y2)[0]\n",
      "  File \"/Users/yuxi/opt/anaconda3/envs/nn_train/lib/python3.8/site-packages/scipy/stats/_stats_py.py\", line 4411, in pearsonr\n",
      "    raise ValueError('x and y must have length at least 2.')\n",
      "ValueError: x and y must have length at least 2.\n"
     ]
    },
    {
     "data": {
      "text/html": [
       "Waiting for W&B process to finish... <strong style=\"color:red\">(failed 1).</strong> Press Control-C to abort syncing."
      ],
      "text/plain": [
       "<IPython.core.display.HTML object>"
      ]
     },
     "metadata": {},
     "output_type": "display_data"
    },
    {
     "data": {
      "text/html": [
       "<style>\n",
       "    table.wandb td:nth-child(1) { padding: 0 10px; text-align: left ; width: auto;} td:nth-child(2) {text-align: left ; width: 100%}\n",
       "    .wandb-row { display: flex; flex-direction: row; flex-wrap: wrap; justify-content: flex-start; width: 100% }\n",
       "    .wandb-col { display: flex; flex-direction: column; flex-basis: 100%; flex: 1; padding: 10px; }\n",
       "    </style>\n",
       "<div class=\"wandb-row\"><div class=\"wandb-col\"><h3>Run history:</h3><br/><table class=\"wandb\"><tr><td>n_feat</td><td>▁</td></tr><tr><td>n_fixed_feat</td><td>▁</td></tr><tr><td>train_dG_mae</td><td>▁</td></tr><tr><td>train_dG_rsqr</td><td>▁</td></tr><tr><td>train_dH_mae</td><td>▁</td></tr><tr><td>train_dH_rsqr</td><td>▁</td></tr></table><br/></div><div class=\"wandb-col\"><h3>Run summary:</h3><br/><table class=\"wandb\"><tr><td>n_feat</td><td>1402</td></tr><tr><td>n_fixed_feat</td><td>0</td></tr><tr><td>train_dG_mae</td><td>0.38139</td></tr><tr><td>train_dG_rsqr</td><td>0.8477</td></tr><tr><td>train_dH_mae</td><td>4.05238</td></tr><tr><td>train_dH_rsqr</td><td>0.74163</td></tr></table><br/></div></div>"
      ],
      "text/plain": [
       "<IPython.core.display.HTML object>"
      ]
     },
     "metadata": {},
     "output_type": "display_data"
    },
    {
     "data": {
      "text/html": [
       " View run <strong style=\"color:#cdcd00\">hopeful-cloud-85</strong> at: <a href='https://wandb.ai/keyuxi/NN/runs/m13ndjzu' target=\"_blank\">https://wandb.ai/keyuxi/NN/runs/m13ndjzu</a><br/> View job at <a href='https://wandb.ai/keyuxi/NN/jobs/QXJ0aWZhY3RDb2xsZWN0aW9uOjExMTcyMjg1NQ==/version_details/v3' target=\"_blank\">https://wandb.ai/keyuxi/NN/jobs/QXJ0aWZhY3RDb2xsZWN0aW9uOjExMTcyMjg1NQ==/version_details/v3</a><br/>Synced 6 W&B file(s), 0 media file(s), 2 artifact file(s) and 0 other file(s)"
      ],
      "text/plain": [
       "<IPython.core.display.HTML object>"
      ]
     },
     "metadata": {},
     "output_type": "display_data"
    },
    {
     "data": {
      "text/html": [
       "Find logs at: <code>./wandb/run-20231104_121450-m13ndjzu/logs</code>"
      ],
      "text/plain": [
       "<IPython.core.display.HTML object>"
      ]
     },
     "metadata": {},
     "output_type": "display_data"
    },
    {
     "ename": "ValueError",
     "evalue": "x and y must have length at least 2.",
     "output_type": "error",
     "traceback": [
      "\u001b[0;31m---------------------------------------------------------------------------\u001b[0m",
      "\u001b[0;31mValueError\u001b[0m                                Traceback (most recent call last)",
      "Cell \u001b[0;32mIn[4], line 1\u001b[0m\n\u001b[0;32m----> 1\u001b[0m \u001b[43mtnn\u001b[49m\u001b[38;5;241;43m.\u001b[39;49m\u001b[43mmodel_pipeline\u001b[49m\u001b[43m(\u001b[49m\u001b[43mconfig\u001b[49m\u001b[43m)\u001b[49m\n",
      "File \u001b[0;32m~/workspace/nnn_paper/nnn/train_nn.py:20\u001b[0m, in \u001b[0;36mmodel_pipeline\u001b[0;34m(hyperparameters, tags)\u001b[0m\n\u001b[1;32m     17\u001b[0m lr_dict \u001b[38;5;241m=\u001b[39m train(config)\n\u001b[1;32m     19\u001b[0m \u001b[38;5;28;01mif\u001b[39;00m config[\u001b[38;5;124m'\u001b[39m\u001b[38;5;124muse_model_from\u001b[39m\u001b[38;5;124m'\u001b[39m] \u001b[38;5;241m==\u001b[39m \u001b[38;5;124m'\u001b[39m\u001b[38;5;124mlr_dict\u001b[39m\u001b[38;5;124m'\u001b[39m:\n\u001b[0;32m---> 20\u001b[0m     \u001b[43mtest\u001b[49m\u001b[43m(\u001b[49m\u001b[43mconfig\u001b[49m\u001b[43m,\u001b[49m\u001b[43m \u001b[49m\u001b[43mlr_dict\u001b[49m\u001b[38;5;241;43m=\u001b[39;49m\u001b[43mlr_dict\u001b[49m\u001b[43m)\u001b[49m\n\u001b[1;32m     21\u001b[0m \u001b[38;5;28;01melif\u001b[39;00m config[\u001b[38;5;124m'\u001b[39m\u001b[38;5;124muse_model_from\u001b[39m\u001b[38;5;124m'\u001b[39m] \u001b[38;5;241m==\u001b[39m \u001b[38;5;124m'\u001b[39m\u001b[38;5;124mjson\u001b[39m\u001b[38;5;124m'\u001b[39m:\n\u001b[1;32m     22\u001b[0m     json_file \u001b[38;5;241m=\u001b[39m \u001b[38;5;124m'\u001b[39m\u001b[38;5;124m./models/\u001b[39m\u001b[38;5;132;01m%s\u001b[39;00m\u001b[38;5;124m.json\u001b[39m\u001b[38;5;124m'\u001b[39m \u001b[38;5;241m%\u001b[39m wandb\u001b[38;5;241m.\u001b[39mrun\u001b[38;5;241m.\u001b[39mname\n",
      "File \u001b[0;32m~/workspace/nnn_paper/nnn/train_nn.py:270\u001b[0m, in \u001b[0;36mtest\u001b[0;34m(config, lr_dict, json_file, debug, log_wandb, save_val_result_df, save_metric_json)\u001b[0m\n\u001b[1;32m    267\u001b[0m metric_dict \u001b[38;5;241m=\u001b[39m \u001b[38;5;28mdict\u001b[39m()\n\u001b[1;32m    269\u001b[0m \u001b[38;5;66;03m# Only Tm is available for all 3 datasets\u001b[39;00m\n\u001b[0;32m--> 270\u001b[0m metric_dict[\u001b[38;5;124m'\u001b[39m\u001b[38;5;124mall\u001b[39m\u001b[38;5;124m'\u001b[39m] \u001b[38;5;241m=\u001b[39m \u001b[38;5;28mdict\u001b[39m(Tm\u001b[38;5;241m=\u001b[39m\u001b[43mmodeling\u001b[49m\u001b[38;5;241;43m.\u001b[39;49m\u001b[43mget_metric_dict\u001b[49m\u001b[43m(\u001b[49m\u001b[43mval_result_df\u001b[49m\u001b[43m,\u001b[49m\u001b[43m \u001b[49m\u001b[38;5;124;43m'\u001b[39;49m\u001b[38;5;124;43mTm\u001b[39;49m\u001b[38;5;124;43m'\u001b[39;49m\u001b[43m)\u001b[49m)\n\u001b[1;32m    271\u001b[0m \u001b[38;5;66;03m# Tm by dataset, plus dH dG for arr\u001b[39;00m\n\u001b[1;32m    272\u001b[0m \u001b[38;5;28;01mfor\u001b[39;00m k,v \u001b[38;5;129;01min\u001b[39;00m val_result_df_dict\u001b[38;5;241m.\u001b[39mitems():\n",
      "File \u001b[0;32m~/workspace/nnn_paper/nnn/modeling.py:209\u001b[0m, in \u001b[0;36mget_metric_dict\u001b[0;34m(val_result_df, param)\u001b[0m\n\u001b[1;32m    206\u001b[0m y_pred_adj \u001b[38;5;241m=\u001b[39m y_pred \u001b[38;5;241m-\u001b[39m bias\n\u001b[1;32m    208\u001b[0m metric[\u001b[38;5;124m'\u001b[39m\u001b[38;5;124mbias\u001b[39m\u001b[38;5;124m'\u001b[39m] \u001b[38;5;241m=\u001b[39m bias\n\u001b[0;32m--> 209\u001b[0m metric[\u001b[38;5;124m'\u001b[39m\u001b[38;5;124mcorr\u001b[39m\u001b[38;5;124m'\u001b[39m] \u001b[38;5;241m=\u001b[39m \u001b[43mutil\u001b[49m\u001b[38;5;241;43m.\u001b[39;49m\u001b[43mpearson_r\u001b[49m\u001b[43m(\u001b[49m\u001b[43my\u001b[49m\u001b[43m,\u001b[49m\u001b[43m \u001b[49m\u001b[43my_pred\u001b[49m\u001b[43m)\u001b[49m\n\u001b[1;32m    210\u001b[0m metric[\u001b[38;5;124m'\u001b[39m\u001b[38;5;124mrmse\u001b[39m\u001b[38;5;124m'\u001b[39m] \u001b[38;5;241m=\u001b[39m util\u001b[38;5;241m.\u001b[39mrmse(y, y_pred)\n\u001b[1;32m    211\u001b[0m metric[\u001b[38;5;124m'\u001b[39m\u001b[38;5;124madjusted_rmse\u001b[39m\u001b[38;5;124m'\u001b[39m] \u001b[38;5;241m=\u001b[39m util\u001b[38;5;241m.\u001b[39mrmse(y, y_pred_adj)\n",
      "File \u001b[0;32m~/workspace/nnn_paper/nnn/util.py:944\u001b[0m, in \u001b[0;36mpearson_r\u001b[0;34m(y1, y2)\u001b[0m\n\u001b[1;32m    943\u001b[0m \u001b[38;5;28;01mdef\u001b[39;00m \u001b[38;5;21mpearson_r\u001b[39m(y1, y2):\n\u001b[0;32m--> 944\u001b[0m     \u001b[38;5;28;01mreturn\u001b[39;00m \u001b[43mpearsonr\u001b[49m\u001b[43m(\u001b[49m\u001b[43my1\u001b[49m\u001b[43m,\u001b[49m\u001b[43m \u001b[49m\u001b[43my2\u001b[49m\u001b[43m)\u001b[49m[\u001b[38;5;241m0\u001b[39m]\n",
      "File \u001b[0;32m~/opt/anaconda3/envs/nn_train/lib/python3.8/site-packages/scipy/stats/_stats_py.py:4411\u001b[0m, in \u001b[0;36mpearsonr\u001b[0;34m(x, y, alternative)\u001b[0m\n\u001b[1;32m   4408\u001b[0m     \u001b[38;5;28;01mraise\u001b[39;00m \u001b[38;5;167;01mValueError\u001b[39;00m(\u001b[38;5;124m'\u001b[39m\u001b[38;5;124mx and y must have the same length.\u001b[39m\u001b[38;5;124m'\u001b[39m)\n\u001b[1;32m   4410\u001b[0m \u001b[38;5;28;01mif\u001b[39;00m n \u001b[38;5;241m<\u001b[39m \u001b[38;5;241m2\u001b[39m:\n\u001b[0;32m-> 4411\u001b[0m     \u001b[38;5;28;01mraise\u001b[39;00m \u001b[38;5;167;01mValueError\u001b[39;00m(\u001b[38;5;124m'\u001b[39m\u001b[38;5;124mx and y must have length at least 2.\u001b[39m\u001b[38;5;124m'\u001b[39m)\n\u001b[1;32m   4413\u001b[0m x \u001b[38;5;241m=\u001b[39m np\u001b[38;5;241m.\u001b[39masarray(x)\n\u001b[1;32m   4414\u001b[0m y \u001b[38;5;241m=\u001b[39m np\u001b[38;5;241m.\u001b[39masarray(y)\n",
      "\u001b[0;31mValueError\u001b[0m: x and y must have length at least 2."
     ]
    },
    {
     "data": {
      "image/png": "[encoded data removed]",
      "text/plain": [
       "<Figure size 800x400 with 2 Axes>"
      ]
     },
     "metadata": {},
     "output_type": "display_data"
    }
   ],
   "source": [
    "tnn.model_pipeline(config)"
   ]
  },
  {
   "cell_type": "code",
   "execution_count": 6,
   "metadata": {},
   "outputs": [],
   "source": [
    "mydata = tnn.MyData()"
   ]
  },
  {
   "cell_type": "code",
   "execution_count": null,
   "metadata": {},
   "outputs": [],
   "source": [
    "mf.get_feature_count_matrix(mydata.arr_1M, feature_method='get_')"
   ]
  },
  {
   "cell_type": "code",
   "execution_count": 3,
   "metadata": {
    "scrolled": true
   },
   "outputs": [
    {
     "data": {
      "text/plain": [
       "array([0.2, 0.4, 0.6, 0.8, 1. ])"
      ]
     },
     "execution_count": 3,
     "metadata": {},
     "output_type": "execute_result"
    }
   ],
   "source": [
    "myrange = np.arange(0.2, 1.2, .2)\n",
    "myrange"
   ]
  },
  {
   "cell_type": "code",
   "execution_count": 4,
   "metadata": {
    "scrolled": true
   },
   "outputs": [
    {
     "name": "stderr",
     "output_type": "stream",
     "text": [
      "\u001b[34m\u001b[1mwandb\u001b[0m: Currently logged in as: \u001b[33mkeyuxi\u001b[0m. Use \u001b[1m`wandb login --relogin`\u001b[0m to force relogin\n"
     ]
    },
    {
     "data": {
      "text/html": [
       "Tracking run with wandb version 0.15.12"
      ],
      "text/plain": [
       "<IPython.core.display.HTML object>"
      ]
     },
     "metadata": {},
     "output_type": "display_data"
    },
    {
     "data": {
      "text/html": [
       "Run data is saved locally in <code>/Users/yuxi/workspace/nnn_paper/wandb/run-20231031_192005-aysj9kqn</code>"
      ],
      "text/plain": [
       "<IPython.core.display.HTML object>"
      ]
     },
     "metadata": {},
     "output_type": "display_data"
    },
    {
     "data": {
      "text/html": [
       "Syncing run <strong><a href='https://wandb.ai/keyuxi/NN/runs/aysj9kqn' target=\"_blank\">eager-galaxy-48</a></strong> to <a href='https://wandb.ai/keyuxi/NN' target=\"_blank\">Weights & Biases</a> (<a href='https://wandb.me/run' target=\"_blank\">docs</a>)<br/>"
      ],
      "text/plain": [
       "<IPython.core.display.HTML object>"
      ]
     },
     "metadata": {},
     "output_type": "display_data"
    },
    {
     "data": {
      "text/html": [
       " View project at <a href='https://wandb.ai/keyuxi/NN' target=\"_blank\">https://wandb.ai/keyuxi/NN</a>"
      ],
      "text/plain": [
       "<IPython.core.display.HTML object>"
      ]
     },
     "metadata": {},
     "output_type": "display_data"
    },
    {
     "data": {
      "text/html": [
       " View run at <a href='https://wandb.ai/keyuxi/NN/runs/aysj9kqn' target=\"_blank\">https://wandb.ai/keyuxi/NN/runs/aysj9kqn</a>"
      ],
      "text/plain": [
       "<IPython.core.display.HTML object>"
      ]
     },
     "metadata": {},
     "output_type": "display_data"
    },
    {
     "name": "stdout",
     "output_type": "stream",
     "text": [
      "feats (27732, 178) Index(['bulge_size#1', 'bulge_size#2', 'hairpin_loop_mid#A'], dtype='object')\n",
      "fixed_feature_names: ['bulge_size#1', 'bulge_size#2', 'hairpin_size#3', 'hairpin_size#4', 'hairpin_size#11', 'hairpin_size#14', 'hairpin_size#17', 'hairpin_size#20', 'interior_size#2', 'interior_size#4', 'stack#AATT', 'stack#ACGT', 'stack#AGCT', 'stack#ATAT', 'stack#CATG', 'stack#CCGG', 'stack#CGCG', 'stack#CTAG', 'stack#GATC', 'stack#GCGC', 'stack#GGCC', 'stack#GTAC', 'stack#TATA', 'stack#TCGA', 'stack#TGCA', 'stack#TTAA']\n",
      "                           dH\n",
      "bulge_size#1              0.0\n",
      "bulge_size#2              0.0\n",
      "bulge_size#3              0.0\n",
      "bulge_size#4              0.0\n",
      "bulge_size#5              0.0\n",
      "...                       ...\n",
      "hairpin_tetraloop#CCTTGG  0.0\n",
      "hairpin_tetraloop#GCTTGC  0.0\n",
      "hairpin_tetraloop#GCTTGT  0.0\n",
      "hairpin_tetraloop#TCTTGA  0.0\n",
      "hairpin_tetraloop#TCTTGG  0.0\n",
      "\n",
      "[352 rows x 1 columns]\n",
      "['bulge_size#1', 'bulge_size#2', 'hairpin_size#11', 'hairpin_size#14', 'hairpin_size#17', 'hairpin_size#20', 'hairpin_size#3', 'hairpin_size#4', 'interior_size#2', 'interior_size#4', 'stack#AATT', 'stack#ACGT', 'stack#AGCT', 'stack#ATAT', 'stack#CATG', 'stack#CCGG', 'stack#CGCG', 'stack#CTAG', 'stack#GATC', 'stack#GCGC', 'stack#GGCC', 'stack#GTAC', 'stack#TATA', 'stack#TCGA', 'stack#TGCA', 'stack#TTAA']\n",
      "                           dG\n",
      "bulge_size#1              4.0\n",
      "bulge_size#2              2.9\n",
      "bulge_size#3              3.1\n",
      "bulge_size#4              3.2\n",
      "bulge_size#5              3.3\n",
      "...                       ...\n",
      "hairpin_tetraloop#CCTTGG -0.8\n",
      "hairpin_tetraloop#GCTTGC -0.8\n",
      "hairpin_tetraloop#GCTTGT -0.5\n",
      "hairpin_tetraloop#TCTTGA -0.8\n",
      "hairpin_tetraloop#TCTTGG -0.5\n",
      "\n",
      "[352 rows x 1 columns]\n",
      "['bulge_size#1', 'bulge_size#2', 'hairpin_size#11', 'hairpin_size#14', 'hairpin_size#17', 'hairpin_size#20', 'hairpin_size#3', 'hairpin_size#4', 'interior_size#2', 'interior_size#4', 'stack#AATT', 'stack#ACGT', 'stack#AGCT', 'stack#ATAT', 'stack#CATG', 'stack#CCGG', 'stack#CGCG', 'stack#CTAG', 'stack#GATC', 'stack#GCGC', 'stack#GGCC', 'stack#GTAC', 'stack#TATA', 'stack#TCGA', 'stack#TGCA', 'stack#TTAA']\n",
      "Centering new parameters...\n",
      "group bulge_size\n",
      "group hairpin_mismatch\n",
      "\tMean value of old_dict is -3.684\n",
      "\tMean value of fitted new_dict is -13.226\n",
      "\tMean value of centered new_dict is -3.684\n",
      "\n",
      "group hairpin_size\n",
      "group interior_mismatch\n",
      "\tMean value of old_dict is -2.913\n",
      "\tMean value of fitted new_dict is -5.926\n",
      "\tMean value of centered new_dict is -2.913\n",
      "\n",
      "group interior_size\n",
      "group stack\n",
      "\tMean value of old_dict is -8.275\n",
      "\tMean value of fitted new_dict is -8.275\n",
      "\tMean value of centered new_dict is -8.275\n",
      "\n",
      "group terminal_penalty\n",
      "\tMean value of old_dict is 1.100\n",
      "\tMean value of fitted new_dict is -0.985\n",
      "\tMean value of centered new_dict is 1.100\n",
      "\n",
      "Centering new parameters...\n",
      "group bulge_size\n",
      "group hairpin_mismatch\n",
      "\tMean value of old_dict is -0.715\n",
      "\tMean value of fitted new_dict is -3.320\n",
      "\tMean value of centered new_dict is -0.715\n",
      "\n",
      "group hairpin_size\n",
      "group interior_mismatch\n",
      "\tMean value of old_dict is -0.640\n",
      "\tMean value of fitted new_dict is -0.753\n",
      "\tMean value of centered new_dict is -0.640\n",
      "\n",
      "group interior_size\n",
      "group stack\n",
      "\tMean value of old_dict is -1.406\n",
      "\tMean value of fitted new_dict is -1.406\n",
      "\tMean value of centered new_dict is -1.406\n",
      "\n",
      "group terminal_penalty\n",
      "\tMean value of old_dict is 0.025\n",
      "\tMean value of fitted new_dict is 0.138\n",
      "\tMean value of centered new_dict is 0.025\n",
      "\n"
     ]
    },
    {
     "data": {
      "text/html": [
       "Waiting for W&B process to finish... <strong style=\"color:green\">(success).</strong>"
      ],
      "text/plain": [
       "<IPython.core.display.HTML object>"
      ]
     },
     "metadata": {},
     "output_type": "display_data"
    },
    {
     "data": {
      "text/html": [
       "<style>\n",
       "    table.wandb td:nth-child(1) { padding: 0 10px; text-align: left ; width: auto;} td:nth-child(2) {text-align: left ; width: 100%}\n",
       "    .wandb-row { display: flex; flex-direction: row; flex-wrap: wrap; justify-content: flex-start; width: 100% }\n",
       "    .wandb-col { display: flex; flex-direction: column; flex-basis: 100%; flex: 1; padding: 10px; }\n",
       "    </style>\n",
       "<div class=\"wandb-row\"><div class=\"wandb-col\"><h3>Run history:</h3><br/><table class=\"wandb\"><tr><td>n_feat</td><td>▁</td></tr><tr><td>n_fixed_feat</td><td>▁</td></tr><tr><td>train_dG_mae</td><td>▁</td></tr><tr><td>train_dG_rsqr</td><td>▁</td></tr><tr><td>train_dH_mae</td><td>▁</td></tr><tr><td>train_dH_rsqr</td><td>▁</td></tr><tr><td>val_Tm_adjusted_mae-all</td><td>▁</td></tr><tr><td>val_Tm_adjusted_mae-arr</td><td>▁</td></tr><tr><td>val_Tm_adjusted_mae-lit_uv</td><td>▁</td></tr><tr><td>val_Tm_adjusted_mae-ov</td><td>▁</td></tr><tr><td>val_Tm_adjusted_rmse-all</td><td>▁</td></tr><tr><td>val_Tm_adjusted_rmse-arr</td><td>▁</td></tr><tr><td>val_Tm_adjusted_rmse-lit_uv</td><td>▁</td></tr><tr><td>val_Tm_adjusted_rmse-ov</td><td>▁</td></tr><tr><td>val_Tm_bias-all</td><td>▁</td></tr><tr><td>val_Tm_bias-arr</td><td>▁</td></tr><tr><td>val_Tm_bias-lit_uv</td><td>▁</td></tr><tr><td>val_Tm_bias-ov</td><td>▁</td></tr><tr><td>val_Tm_corr-all</td><td>▁</td></tr><tr><td>val_Tm_corr-arr</td><td>▁</td></tr><tr><td>val_Tm_corr-lit_uv</td><td>▁</td></tr><tr><td>val_Tm_corr-ov</td><td>▁</td></tr><tr><td>val_Tm_mae-all</td><td>▁</td></tr><tr><td>val_Tm_mae-arr</td><td>▁</td></tr><tr><td>val_Tm_mae-lit_uv</td><td>▁</td></tr><tr><td>val_Tm_mae-ov</td><td>▁</td></tr><tr><td>val_Tm_rmse-all</td><td>▁</td></tr><tr><td>val_Tm_rmse-arr</td><td>▁</td></tr><tr><td>val_Tm_rmse-lit_uv</td><td>▁</td></tr><tr><td>val_Tm_rmse-ov</td><td>▁</td></tr><tr><td>val_dG_adjusted_mae-arr</td><td>▁</td></tr><tr><td>val_dG_adjusted_rmse-arr</td><td>▁</td></tr><tr><td>val_dG_bias-arr</td><td>▁</td></tr><tr><td>val_dG_corr-arr</td><td>▁</td></tr><tr><td>val_dG_mae-arr</td><td>▁</td></tr><tr><td>val_dG_rmse-arr</td><td>▁</td></tr><tr><td>val_dH_adjusted_mae-arr</td><td>▁</td></tr><tr><td>val_dH_adjusted_rmse-arr</td><td>▁</td></tr><tr><td>val_dH_bias-arr</td><td>▁</td></tr><tr><td>val_dH_corr-arr</td><td>▁</td></tr><tr><td>val_dH_mae-arr</td><td>▁</td></tr><tr><td>val_dH_rmse-arr</td><td>▁</td></tr></table><br/></div><div class=\"wandb-col\"><h3>Run summary:</h3><br/><table class=\"wandb\"><tr><td>n_feat</td><td>178</td></tr><tr><td>n_fixed_feat</td><td>26</td></tr><tr><td>param_set_file</td><td>./models/eager-galax...</td></tr><tr><td>train_dG_mae</td><td>0.60927</td></tr><tr><td>train_dG_rsqr</td><td>0.63363</td></tr><tr><td>train_dH_mae</td><td>6.32331</td></tr><tr><td>train_dH_rsqr</td><td>0.42102</td></tr><tr><td>val_Tm_adjusted_mae-all</td><td>115.05793</td></tr><tr><td>val_Tm_adjusted_mae-arr</td><td>228.33175</td></tr><tr><td>val_Tm_adjusted_mae-lit_uv</td><td>2.29009</td></tr><tr><td>val_Tm_adjusted_mae-ov</td><td>1.80158</td></tr><tr><td>val_Tm_adjusted_rmse-all</td><td>859.19121</td></tr><tr><td>val_Tm_adjusted_rmse-arr</td><td>1269.76199</td></tr><tr><td>val_Tm_adjusted_rmse-lit_uv</td><td>2.80364</td></tr><tr><td>val_Tm_adjusted_rmse-ov</td><td>2.44282</td></tr><tr><td>val_Tm_bias-all</td><td>-23.90024</td></tr><tr><td>val_Tm_bias-arr</td><td>-58.56924</td></tr><tr><td>val_Tm_bias-lit_uv</td><td>6.68136</td></tr><tr><td>val_Tm_bias-ov</td><td>5.1326</td></tr><tr><td>val_Tm_corr-all</td><td>0.05762</td></tr><tr><td>val_Tm_corr-arr</td><td>0.0548</td></tr><tr><td>val_Tm_corr-lit_uv</td><td>0.97746</td></tr><tr><td>val_Tm_corr-ov</td><td>0.8469</td></tr><tr><td>val_Tm_mae-all</td><td>103.71483</td></tr><tr><td>val_Tm_mae-arr</td><td>220.47006</td></tr><tr><td>val_Tm_mae-lit_uv</td><td>6.68136</td></tr><tr><td>val_Tm_mae-ov</td><td>5.19334</td></tr><tr><td>val_Tm_rmse-all</td><td>859.52357</td></tr><tr><td>val_Tm_rmse-arr</td><td>1271.11206</td></tr><tr><td>val_Tm_rmse-lit_uv</td><td>7.24575</td></tr><tr><td>val_Tm_rmse-ov</td><td>5.68427</td></tr><tr><td>val_dG_adjusted_mae-arr</td><td>0.58596</td></tr><tr><td>val_dG_adjusted_rmse-arr</td><td>0.77311</td></tr><tr><td>val_dG_bias-arr</td><td>2.1522</td></tr><tr><td>val_dG_corr-arr</td><td>0.80568</td></tr><tr><td>val_dG_mae-arr</td><td>2.15461</td></tr><tr><td>val_dG_rmse-arr</td><td>2.28685</td></tr><tr><td>val_dH_adjusted_mae-arr</td><td>6.79324</td></tr><tr><td>val_dH_adjusted_rmse-arr</td><td>8.6877</td></tr><tr><td>val_dH_bias-arr</td><td>20.13193</td></tr><tr><td>val_dH_corr-arr</td><td>0.67836</td></tr><tr><td>val_dH_mae-arr</td><td>20.15391</td></tr><tr><td>val_dH_rmse-arr</td><td>21.92648</td></tr></table><br/></div></div>"
      ],
      "text/plain": [
       "<IPython.core.display.HTML object>"
      ]
     },
     "metadata": {},
     "output_type": "display_data"
    },
    {
     "data": {
      "text/html": [
       " View run <strong style=\"color:#cdcd00\">eager-galaxy-48</strong> at: <a href='https://wandb.ai/keyuxi/NN/runs/aysj9kqn' target=\"_blank\">https://wandb.ai/keyuxi/NN/runs/aysj9kqn</a><br/>Synced 6 W&B file(s), 0 media file(s), 0 artifact file(s) and 0 other file(s)"
      ],
      "text/plain": [
       "<IPython.core.display.HTML object>"
      ]
     },
     "metadata": {},
     "output_type": "display_data"
    },
    {
     "data": {
      "text/html": [
       "Find logs at: <code>./wandb/run-20231031_192005-aysj9kqn/logs</code>"
      ],
      "text/plain": [
       "<IPython.core.display.HTML object>"
      ]
     },
     "metadata": {},
     "output_type": "display_data"
    },
    {
     "data": {
      "text/html": [
       "Tracking run with wandb version 0.15.12"
      ],
      "text/plain": [
       "<IPython.core.display.HTML object>"
      ]
     },
     "metadata": {},
     "output_type": "display_data"
    },
    {
     "data": {
      "text/html": [
       "Run data is saved locally in <code>/Users/yuxi/workspace/nnn_paper/wandb/run-20231031_192800-kztu2eb8</code>"
      ],
      "text/plain": [
       "<IPython.core.display.HTML object>"
      ]
     },
     "metadata": {},
     "output_type": "display_data"
    },
    {
     "data": {
      "text/html": [
       "Syncing run <strong><a href='https://wandb.ai/keyuxi/NN/runs/kztu2eb8' target=\"_blank\">likely-haze-49</a></strong> to <a href='https://wandb.ai/keyuxi/NN' target=\"_blank\">Weights & Biases</a> (<a href='https://wandb.me/run' target=\"_blank\">docs</a>)<br/>"
      ],
      "text/plain": [
       "<IPython.core.display.HTML object>"
      ]
     },
     "metadata": {},
     "output_type": "display_data"
    },
    {
     "data": {
      "text/html": [
       " View project at <a href='https://wandb.ai/keyuxi/NN' target=\"_blank\">https://wandb.ai/keyuxi/NN</a>"
      ],
      "text/plain": [
       "<IPython.core.display.HTML object>"
      ]
     },
     "metadata": {},
     "output_type": "display_data"
    },
    {
     "data": {
      "text/html": [
       " View run at <a href='https://wandb.ai/keyuxi/NN/runs/kztu2eb8' target=\"_blank\">https://wandb.ai/keyuxi/NN/runs/kztu2eb8</a>"
      ],
      "text/plain": [
       "<IPython.core.display.HTML object>"
      ]
     },
     "metadata": {},
     "output_type": "display_data"
    },
    {
     "name": "stdout",
     "output_type": "stream",
     "text": [
      "feats (27732, 178) Index(['bulge_size#1', 'bulge_size#2', 'hairpin_loop_mid#A'], dtype='object')\n",
      "fixed_feature_names: ['bulge_size#1', 'bulge_size#2', 'hairpin_size#3', 'hairpin_size#4', 'hairpin_size#11', 'hairpin_size#14', 'hairpin_size#17', 'hairpin_size#20', 'interior_size#2', 'interior_size#4', 'stack#AATT', 'stack#ACGT', 'stack#AGCT', 'stack#ATAT', 'stack#CATG', 'stack#CCGG', 'stack#CGCG', 'stack#CTAG', 'stack#GATC', 'stack#GCGC', 'stack#GGCC', 'stack#GTAC', 'stack#TATA', 'stack#TCGA', 'stack#TGCA', 'stack#TTAA']\n",
      "                           dH\n",
      "bulge_size#1              0.0\n",
      "bulge_size#2              0.0\n",
      "bulge_size#3              0.0\n",
      "bulge_size#4              0.0\n",
      "bulge_size#5              0.0\n",
      "...                       ...\n",
      "hairpin_tetraloop#CCTTGG  0.0\n",
      "hairpin_tetraloop#GCTTGC  0.0\n",
      "hairpin_tetraloop#GCTTGT  0.0\n",
      "hairpin_tetraloop#TCTTGA  0.0\n",
      "hairpin_tetraloop#TCTTGG  0.0\n",
      "\n",
      "[352 rows x 1 columns]\n",
      "['bulge_size#1', 'bulge_size#2', 'hairpin_size#11', 'hairpin_size#14', 'hairpin_size#17', 'hairpin_size#20', 'hairpin_size#3', 'hairpin_size#4', 'interior_size#2', 'interior_size#4', 'stack#AATT', 'stack#ACGT', 'stack#AGCT', 'stack#ATAT', 'stack#CATG', 'stack#CCGG', 'stack#CGCG', 'stack#CTAG', 'stack#GATC', 'stack#GCGC', 'stack#GGCC', 'stack#GTAC', 'stack#TATA', 'stack#TCGA', 'stack#TGCA', 'stack#TTAA']\n",
      "                           dG\n",
      "bulge_size#1              4.0\n",
      "bulge_size#2              2.9\n",
      "bulge_size#3              3.1\n",
      "bulge_size#4              3.2\n",
      "bulge_size#5              3.3\n",
      "...                       ...\n",
      "hairpin_tetraloop#CCTTGG -0.8\n",
      "hairpin_tetraloop#GCTTGC -0.8\n",
      "hairpin_tetraloop#GCTTGT -0.5\n",
      "hairpin_tetraloop#TCTTGA -0.8\n",
      "hairpin_tetraloop#TCTTGG -0.5\n",
      "\n",
      "[352 rows x 1 columns]\n",
      "['bulge_size#1', 'bulge_size#2', 'hairpin_size#11', 'hairpin_size#14', 'hairpin_size#17', 'hairpin_size#20', 'hairpin_size#3', 'hairpin_size#4', 'interior_size#2', 'interior_size#4', 'stack#AATT', 'stack#ACGT', 'stack#AGCT', 'stack#ATAT', 'stack#CATG', 'stack#CCGG', 'stack#CGCG', 'stack#CTAG', 'stack#GATC', 'stack#GCGC', 'stack#GGCC', 'stack#GTAC', 'stack#TATA', 'stack#TCGA', 'stack#TGCA', 'stack#TTAA']\n",
      "Centering new parameters...\n",
      "group bulge_size\n",
      "group hairpin_mismatch\n",
      "\tMean value of old_dict is -3.684\n",
      "\tMean value of fitted new_dict is -11.873\n",
      "\tMean value of centered new_dict is -3.684\n",
      "\n",
      "group hairpin_size\n",
      "group interior_mismatch\n",
      "\tMean value of old_dict is -2.913\n",
      "\tMean value of fitted new_dict is -5.702\n",
      "\tMean value of centered new_dict is -2.913\n",
      "\n",
      "group interior_size\n",
      "group stack\n",
      "\tMean value of old_dict is -8.275\n",
      "\tMean value of fitted new_dict is -8.275\n",
      "\tMean value of centered new_dict is -8.275\n",
      "\n",
      "group terminal_penalty\n",
      "\tMean value of old_dict is 1.100\n",
      "\tMean value of fitted new_dict is -1.039\n",
      "\tMean value of centered new_dict is 1.100\n",
      "\n",
      "Centering new parameters...\n",
      "group bulge_size\n",
      "group hairpin_mismatch\n",
      "\tMean value of old_dict is -0.715\n",
      "\tMean value of fitted new_dict is -3.706\n",
      "\tMean value of centered new_dict is -0.715\n",
      "\n",
      "group hairpin_size\n",
      "group interior_mismatch\n",
      "\tMean value of old_dict is -0.640\n",
      "\tMean value of fitted new_dict is -0.764\n",
      "\tMean value of centered new_dict is -0.640\n",
      "\n",
      "group interior_size\n",
      "group stack\n",
      "\tMean value of old_dict is -1.406\n",
      "\tMean value of fitted new_dict is -1.406\n",
      "\tMean value of centered new_dict is -1.406\n",
      "\n",
      "group terminal_penalty\n",
      "\tMean value of old_dict is 0.025\n",
      "\tMean value of fitted new_dict is 0.139\n",
      "\tMean value of centered new_dict is 0.025\n",
      "\n"
     ]
    },
    {
     "data": {
      "text/html": [
       "Waiting for W&B process to finish... <strong style=\"color:green\">(success).</strong>"
      ],
      "text/plain": [
       "<IPython.core.display.HTML object>"
      ]
     },
     "metadata": {},
     "output_type": "display_data"
    },
    {
     "data": {
      "text/html": [
       "<style>\n",
       "    table.wandb td:nth-child(1) { padding: 0 10px; text-align: left ; width: auto;} td:nth-child(2) {text-align: left ; width: 100%}\n",
       "    .wandb-row { display: flex; flex-direction: row; flex-wrap: wrap; justify-content: flex-start; width: 100% }\n",
       "    .wandb-col { display: flex; flex-direction: column; flex-basis: 100%; flex: 1; padding: 10px; }\n",
       "    </style>\n",
       "<div class=\"wandb-row\"><div class=\"wandb-col\"><h3>Run history:</h3><br/><table class=\"wandb\"><tr><td>n_feat</td><td>▁</td></tr><tr><td>n_fixed_feat</td><td>▁</td></tr><tr><td>train_dG_mae</td><td>▁</td></tr><tr><td>train_dG_rsqr</td><td>▁</td></tr><tr><td>train_dH_mae</td><td>▁</td></tr><tr><td>train_dH_rsqr</td><td>▁</td></tr><tr><td>val_Tm_adjusted_mae-all</td><td>▁</td></tr><tr><td>val_Tm_adjusted_mae-arr</td><td>▁</td></tr><tr><td>val_Tm_adjusted_mae-lit_uv</td><td>▁</td></tr><tr><td>val_Tm_adjusted_mae-ov</td><td>▁</td></tr><tr><td>val_Tm_adjusted_rmse-all</td><td>▁</td></tr><tr><td>val_Tm_adjusted_rmse-arr</td><td>▁</td></tr><tr><td>val_Tm_adjusted_rmse-lit_uv</td><td>▁</td></tr><tr><td>val_Tm_adjusted_rmse-ov</td><td>▁</td></tr><tr><td>val_Tm_bias-all</td><td>▁</td></tr><tr><td>val_Tm_bias-arr</td><td>▁</td></tr><tr><td>val_Tm_bias-lit_uv</td><td>▁</td></tr><tr><td>val_Tm_bias-ov</td><td>▁</td></tr><tr><td>val_Tm_corr-all</td><td>▁</td></tr><tr><td>val_Tm_corr-arr</td><td>▁</td></tr><tr><td>val_Tm_corr-lit_uv</td><td>▁</td></tr><tr><td>val_Tm_corr-ov</td><td>▁</td></tr><tr><td>val_Tm_mae-all</td><td>▁</td></tr><tr><td>val_Tm_mae-arr</td><td>▁</td></tr><tr><td>val_Tm_mae-lit_uv</td><td>▁</td></tr><tr><td>val_Tm_mae-ov</td><td>▁</td></tr><tr><td>val_Tm_rmse-all</td><td>▁</td></tr><tr><td>val_Tm_rmse-arr</td><td>▁</td></tr><tr><td>val_Tm_rmse-lit_uv</td><td>▁</td></tr><tr><td>val_Tm_rmse-ov</td><td>▁</td></tr><tr><td>val_dG_adjusted_mae-arr</td><td>▁</td></tr><tr><td>val_dG_adjusted_rmse-arr</td><td>▁</td></tr><tr><td>val_dG_bias-arr</td><td>▁</td></tr><tr><td>val_dG_corr-arr</td><td>▁</td></tr><tr><td>val_dG_mae-arr</td><td>▁</td></tr><tr><td>val_dG_rmse-arr</td><td>▁</td></tr><tr><td>val_dH_adjusted_mae-arr</td><td>▁</td></tr><tr><td>val_dH_adjusted_rmse-arr</td><td>▁</td></tr><tr><td>val_dH_bias-arr</td><td>▁</td></tr><tr><td>val_dH_corr-arr</td><td>▁</td></tr><tr><td>val_dH_mae-arr</td><td>▁</td></tr><tr><td>val_dH_rmse-arr</td><td>▁</td></tr></table><br/></div><div class=\"wandb-col\"><h3>Run summary:</h3><br/><table class=\"wandb\"><tr><td>n_feat</td><td>178</td></tr><tr><td>n_fixed_feat</td><td>26</td></tr><tr><td>param_set_file</td><td>./models/likely-haze...</td></tr><tr><td>train_dG_mae</td><td>0.61838</td></tr><tr><td>train_dG_rsqr</td><td>0.61461</td></tr><tr><td>train_dH_mae</td><td>6.37472</td></tr><tr><td>train_dH_rsqr</td><td>0.41743</td></tr><tr><td>val_Tm_adjusted_mae-all</td><td>169.3301</td></tr><tr><td>val_Tm_adjusted_mae-arr</td><td>365.67684</td></tr><tr><td>val_Tm_adjusted_mae-lit_uv</td><td>2.23309</td></tr><tr><td>val_Tm_adjusted_mae-ov</td><td>1.73397</td></tr><tr><td>val_Tm_adjusted_rmse-all</td><td>745.46489</td></tr><tr><td>val_Tm_adjusted_rmse-arr</td><td>1102.43986</td></tr><tr><td>val_Tm_adjusted_rmse-lit_uv</td><td>2.74751</td></tr><tr><td>val_Tm_adjusted_rmse-ov</td><td>2.34807</td></tr><tr><td>val_Tm_bias-all</td><td>2.39348</td></tr><tr><td>val_Tm_bias-arr</td><td>-0.37906</td></tr><tr><td>val_Tm_bias-lit_uv</td><td>6.66828</td></tr><tr><td>val_Tm_bias-ov</td><td>4.48581</td></tr><tr><td>val_Tm_corr-all</td><td>-0.00386</td></tr><tr><td>val_Tm_corr-arr</td><td>-0.01323</td></tr><tr><td>val_Tm_corr-lit_uv</td><td>0.97819</td></tr><tr><td>val_Tm_corr-ov</td><td>0.8618</td></tr><tr><td>val_Tm_mae-all</td><td>169.89021</td></tr><tr><td>val_Tm_mae-arr</td><td>365.86795</td></tr><tr><td>val_Tm_mae-lit_uv</td><td>6.66942</td></tr><tr><td>val_Tm_mae-ov</td><td>4.56195</td></tr><tr><td>val_Tm_rmse-all</td><td>745.46873</td></tr><tr><td>val_Tm_rmse-arr</td><td>1102.43993</td></tr><tr><td>val_Tm_rmse-lit_uv</td><td>7.21212</td></tr><tr><td>val_Tm_rmse-ov</td><td>5.06319</td></tr><tr><td>val_dG_adjusted_mae-arr</td><td>0.57507</td></tr><tr><td>val_dG_adjusted_rmse-arr</td><td>0.75706</td></tr><tr><td>val_dG_bias-arr</td><td>2.55394</td></tr><tr><td>val_dG_corr-arr</td><td>0.81207</td></tr><tr><td>val_dG_mae-arr</td><td>2.55434</td></tr><tr><td>val_dG_rmse-arr</td><td>2.66378</td></tr><tr><td>val_dH_adjusted_mae-arr</td><td>6.58901</td></tr><tr><td>val_dH_adjusted_rmse-arr</td><td>8.41448</td></tr><tr><td>val_dH_bias-arr</td><td>18.68756</td></tr><tr><td>val_dH_corr-arr</td><td>0.69074</td></tr><tr><td>val_dH_mae-arr</td><td>18.71484</td></tr><tr><td>val_dH_rmse-arr</td><td>20.4946</td></tr></table><br/></div></div>"
      ],
      "text/plain": [
       "<IPython.core.display.HTML object>"
      ]
     },
     "metadata": {},
     "output_type": "display_data"
    },
    {
     "data": {
      "text/html": [
       " View run <strong style=\"color:#cdcd00\">likely-haze-49</strong> at: <a href='https://wandb.ai/keyuxi/NN/runs/kztu2eb8' target=\"_blank\">https://wandb.ai/keyuxi/NN/runs/kztu2eb8</a><br/>Synced 6 W&B file(s), 0 media file(s), 0 artifact file(s) and 0 other file(s)"
      ],
      "text/plain": [
       "<IPython.core.display.HTML object>"
      ]
     },
     "metadata": {},
     "output_type": "display_data"
    },
    {
     "data": {
      "text/html": [
       "Find logs at: <code>./wandb/run-20231031_192800-kztu2eb8/logs</code>"
      ],
      "text/plain": [
       "<IPython.core.display.HTML object>"
      ]
     },
     "metadata": {},
     "output_type": "display_data"
    },
    {
     "data": {
      "text/html": [
       "Tracking run with wandb version 0.15.12"
      ],
      "text/plain": [
       "<IPython.core.display.HTML object>"
      ]
     },
     "metadata": {},
     "output_type": "display_data"
    },
    {
     "data": {
      "text/html": [
       "Run data is saved locally in <code>/Users/yuxi/workspace/nnn_paper/wandb/run-20231031_193601-1bj8p73u</code>"
      ],
      "text/plain": [
       "<IPython.core.display.HTML object>"
      ]
     },
     "metadata": {},
     "output_type": "display_data"
    },
    {
     "data": {
      "text/html": [
       "Syncing run <strong><a href='https://wandb.ai/keyuxi/NN/runs/1bj8p73u' target=\"_blank\">apricot-frost-50</a></strong> to <a href='https://wandb.ai/keyuxi/NN' target=\"_blank\">Weights & Biases</a> (<a href='https://wandb.me/run' target=\"_blank\">docs</a>)<br/>"
      ],
      "text/plain": [
       "<IPython.core.display.HTML object>"
      ]
     },
     "metadata": {},
     "output_type": "display_data"
    },
    {
     "data": {
      "text/html": [
       " View project at <a href='https://wandb.ai/keyuxi/NN' target=\"_blank\">https://wandb.ai/keyuxi/NN</a>"
      ],
      "text/plain": [
       "<IPython.core.display.HTML object>"
      ]
     },
     "metadata": {},
     "output_type": "display_data"
    },
    {
     "data": {
      "text/html": [
       " View run at <a href='https://wandb.ai/keyuxi/NN/runs/1bj8p73u' target=\"_blank\">https://wandb.ai/keyuxi/NN/runs/1bj8p73u</a>"
      ],
      "text/plain": [
       "<IPython.core.display.HTML object>"
      ]
     },
     "metadata": {},
     "output_type": "display_data"
    },
    {
     "name": "stdout",
     "output_type": "stream",
     "text": [
      "feats (27732, 178) Index(['bulge_size#1', 'bulge_size#2', 'hairpin_loop_mid#A'], dtype='object')\n",
      "fixed_feature_names: ['bulge_size#1', 'bulge_size#2', 'hairpin_size#3', 'hairpin_size#4', 'hairpin_size#11', 'hairpin_size#14', 'hairpin_size#17', 'hairpin_size#20', 'interior_size#2', 'interior_size#4', 'stack#AATT', 'stack#ACGT', 'stack#AGCT', 'stack#ATAT', 'stack#CATG', 'stack#CCGG', 'stack#CGCG', 'stack#CTAG', 'stack#GATC', 'stack#GCGC', 'stack#GGCC', 'stack#GTAC', 'stack#TATA', 'stack#TCGA', 'stack#TGCA', 'stack#TTAA']\n",
      "                           dH\n",
      "bulge_size#1              0.0\n",
      "bulge_size#2              0.0\n",
      "bulge_size#3              0.0\n",
      "bulge_size#4              0.0\n",
      "bulge_size#5              0.0\n",
      "...                       ...\n",
      "hairpin_tetraloop#CCTTGG  0.0\n",
      "hairpin_tetraloop#GCTTGC  0.0\n",
      "hairpin_tetraloop#GCTTGT  0.0\n",
      "hairpin_tetraloop#TCTTGA  0.0\n",
      "hairpin_tetraloop#TCTTGG  0.0\n",
      "\n",
      "[352 rows x 1 columns]\n",
      "['bulge_size#1', 'bulge_size#2', 'hairpin_size#11', 'hairpin_size#14', 'hairpin_size#17', 'hairpin_size#20', 'hairpin_size#3', 'hairpin_size#4', 'interior_size#2', 'interior_size#4', 'stack#AATT', 'stack#ACGT', 'stack#AGCT', 'stack#ATAT', 'stack#CATG', 'stack#CCGG', 'stack#CGCG', 'stack#CTAG', 'stack#GATC', 'stack#GCGC', 'stack#GGCC', 'stack#GTAC', 'stack#TATA', 'stack#TCGA', 'stack#TGCA', 'stack#TTAA']\n",
      "                           dG\n",
      "bulge_size#1              4.0\n",
      "bulge_size#2              2.9\n",
      "bulge_size#3              3.1\n",
      "bulge_size#4              3.2\n",
      "bulge_size#5              3.3\n",
      "...                       ...\n",
      "hairpin_tetraloop#CCTTGG -0.8\n",
      "hairpin_tetraloop#GCTTGC -0.8\n",
      "hairpin_tetraloop#GCTTGT -0.5\n",
      "hairpin_tetraloop#TCTTGA -0.8\n",
      "hairpin_tetraloop#TCTTGG -0.5\n",
      "\n",
      "[352 rows x 1 columns]\n",
      "['bulge_size#1', 'bulge_size#2', 'hairpin_size#11', 'hairpin_size#14', 'hairpin_size#17', 'hairpin_size#20', 'hairpin_size#3', 'hairpin_size#4', 'interior_size#2', 'interior_size#4', 'stack#AATT', 'stack#ACGT', 'stack#AGCT', 'stack#ATAT', 'stack#CATG', 'stack#CCGG', 'stack#CGCG', 'stack#CTAG', 'stack#GATC', 'stack#GCGC', 'stack#GGCC', 'stack#GTAC', 'stack#TATA', 'stack#TCGA', 'stack#TGCA', 'stack#TTAA']\n",
      "Centering new parameters...\n",
      "group bulge_size\n",
      "group hairpin_mismatch\n",
      "\tMean value of old_dict is -3.684\n",
      "\tMean value of fitted new_dict is -12.137\n",
      "\tMean value of centered new_dict is -3.684\n",
      "\n",
      "group hairpin_size\n",
      "group interior_mismatch\n",
      "\tMean value of old_dict is -2.913\n",
      "\tMean value of fitted new_dict is -5.254\n",
      "\tMean value of centered new_dict is -2.913\n",
      "\n",
      "group interior_size\n",
      "group stack\n",
      "\tMean value of old_dict is -8.275\n",
      "\tMean value of fitted new_dict is -8.275\n",
      "\tMean value of centered new_dict is -8.275\n",
      "\n",
      "group terminal_penalty\n",
      "\tMean value of old_dict is 1.100\n",
      "\tMean value of fitted new_dict is -0.385\n",
      "\tMean value of centered new_dict is 1.100\n",
      "\n",
      "Centering new parameters...\n",
      "group bulge_size\n",
      "group hairpin_mismatch\n",
      "\tMean value of old_dict is -0.715\n",
      "\tMean value of fitted new_dict is -3.934\n",
      "\tMean value of centered new_dict is -0.715\n",
      "\n",
      "group hairpin_size\n",
      "group interior_mismatch\n",
      "\tMean value of old_dict is -0.640\n",
      "\tMean value of fitted new_dict is -0.702\n",
      "\tMean value of centered new_dict is -0.640\n",
      "\n",
      "group interior_size\n",
      "group stack\n",
      "\tMean value of old_dict is -1.406\n",
      "\tMean value of fitted new_dict is -1.406\n",
      "\tMean value of centered new_dict is -1.406\n",
      "\n",
      "group terminal_penalty\n",
      "\tMean value of old_dict is 0.025\n",
      "\tMean value of fitted new_dict is 0.164\n",
      "\tMean value of centered new_dict is 0.025\n",
      "\n"
     ]
    },
    {
     "data": {
      "text/html": [
       "Waiting for W&B process to finish... <strong style=\"color:green\">(success).</strong>"
      ],
      "text/plain": [
       "<IPython.core.display.HTML object>"
      ]
     },
     "metadata": {},
     "output_type": "display_data"
    },
    {
     "data": {
      "text/html": [
       "<style>\n",
       "    table.wandb td:nth-child(1) { padding: 0 10px; text-align: left ; width: auto;} td:nth-child(2) {text-align: left ; width: 100%}\n",
       "    .wandb-row { display: flex; flex-direction: row; flex-wrap: wrap; justify-content: flex-start; width: 100% }\n",
       "    .wandb-col { display: flex; flex-direction: column; flex-basis: 100%; flex: 1; padding: 10px; }\n",
       "    </style>\n",
       "<div class=\"wandb-row\"><div class=\"wandb-col\"><h3>Run history:</h3><br/><table class=\"wandb\"><tr><td>n_feat</td><td>▁</td></tr><tr><td>n_fixed_feat</td><td>▁</td></tr><tr><td>train_dG_mae</td><td>▁</td></tr><tr><td>train_dG_rsqr</td><td>▁</td></tr><tr><td>train_dH_mae</td><td>▁</td></tr><tr><td>train_dH_rsqr</td><td>▁</td></tr><tr><td>val_Tm_adjusted_mae-all</td><td>▁</td></tr><tr><td>val_Tm_adjusted_mae-arr</td><td>▁</td></tr><tr><td>val_Tm_adjusted_mae-lit_uv</td><td>▁</td></tr><tr><td>val_Tm_adjusted_mae-ov</td><td>▁</td></tr><tr><td>val_Tm_adjusted_rmse-all</td><td>▁</td></tr><tr><td>val_Tm_adjusted_rmse-arr</td><td>▁</td></tr><tr><td>val_Tm_adjusted_rmse-lit_uv</td><td>▁</td></tr><tr><td>val_Tm_adjusted_rmse-ov</td><td>▁</td></tr><tr><td>val_Tm_bias-all</td><td>▁</td></tr><tr><td>val_Tm_bias-arr</td><td>▁</td></tr><tr><td>val_Tm_bias-lit_uv</td><td>▁</td></tr><tr><td>val_Tm_bias-ov</td><td>▁</td></tr><tr><td>val_Tm_corr-all</td><td>▁</td></tr><tr><td>val_Tm_corr-arr</td><td>▁</td></tr><tr><td>val_Tm_corr-lit_uv</td><td>▁</td></tr><tr><td>val_Tm_corr-ov</td><td>▁</td></tr><tr><td>val_Tm_mae-all</td><td>▁</td></tr><tr><td>val_Tm_mae-arr</td><td>▁</td></tr><tr><td>val_Tm_mae-lit_uv</td><td>▁</td></tr><tr><td>val_Tm_mae-ov</td><td>▁</td></tr><tr><td>val_Tm_rmse-all</td><td>▁</td></tr><tr><td>val_Tm_rmse-arr</td><td>▁</td></tr><tr><td>val_Tm_rmse-lit_uv</td><td>▁</td></tr><tr><td>val_Tm_rmse-ov</td><td>▁</td></tr><tr><td>val_dG_adjusted_mae-arr</td><td>▁</td></tr><tr><td>val_dG_adjusted_rmse-arr</td><td>▁</td></tr><tr><td>val_dG_bias-arr</td><td>▁</td></tr><tr><td>val_dG_corr-arr</td><td>▁</td></tr><tr><td>val_dG_mae-arr</td><td>▁</td></tr><tr><td>val_dG_rmse-arr</td><td>▁</td></tr><tr><td>val_dH_adjusted_mae-arr</td><td>▁</td></tr><tr><td>val_dH_adjusted_rmse-arr</td><td>▁</td></tr><tr><td>val_dH_bias-arr</td><td>▁</td></tr><tr><td>val_dH_corr-arr</td><td>▁</td></tr><tr><td>val_dH_mae-arr</td><td>▁</td></tr><tr><td>val_dH_rmse-arr</td><td>▁</td></tr></table><br/></div><div class=\"wandb-col\"><h3>Run summary:</h3><br/><table class=\"wandb\"><tr><td>n_feat</td><td>178</td></tr><tr><td>n_fixed_feat</td><td>26</td></tr><tr><td>param_set_file</td><td>./models/apricot-fro...</td></tr><tr><td>train_dG_mae</td><td>0.62178</td></tr><tr><td>train_dG_rsqr</td><td>0.60841</td></tr><tr><td>train_dH_mae</td><td>6.31744</td></tr><tr><td>train_dH_rsqr</td><td>0.42742</td></tr><tr><td>val_Tm_adjusted_mae-all</td><td>720.70524</td></tr><tr><td>val_Tm_adjusted_mae-arr</td><td>1543.19194</td></tr><tr><td>val_Tm_adjusted_mae-lit_uv</td><td>2.25699</td></tr><tr><td>val_Tm_adjusted_mae-ov</td><td>1.68533</td></tr><tr><td>val_Tm_adjusted_rmse-all</td><td>11064.58385</td></tr><tr><td>val_Tm_adjusted_rmse-arr</td><td>16360.0248</td></tr><tr><td>val_Tm_adjusted_rmse-lit_uv</td><td>2.77226</td></tr><tr><td>val_Tm_adjusted_rmse-ov</td><td>2.30028</td></tr><tr><td>val_Tm_bias-all</td><td>203.27854</td></tr><tr><td>val_Tm_bias-arr</td><td>438.49611</td></tr><tr><td>val_Tm_bias-lit_uv</td><td>6.65795</td></tr><tr><td>val_Tm_bias-ov</td><td>4.93744</td></tr><tr><td>val_Tm_corr-all</td><td>-0.01718</td></tr><tr><td>val_Tm_corr-arr</td><td>-0.01524</td></tr><tr><td>val_Tm_corr-lit_uv</td><td>0.97786</td></tr><tr><td>val_Tm_corr-ov</td><td>0.86588</td></tr><tr><td>val_Tm_mae-all</td><td>539.1802</td></tr><tr><td>val_Tm_mae-arr</td><td>1173.0699</td></tr><tr><td>val_Tm_mae-lit_uv</td><td>6.65883</td></tr><tr><td>val_Tm_mae-ov</td><td>5.00123</td></tr><tr><td>val_Tm_rmse-all</td><td>11066.45101</td></tr><tr><td>val_Tm_rmse-arr</td><td>16365.90023</td></tr><tr><td>val_Tm_rmse-lit_uv</td><td>7.21205</td></tr><tr><td>val_Tm_rmse-ov</td><td>5.44698</td></tr><tr><td>val_dG_adjusted_mae-arr</td><td>0.56398</td></tr><tr><td>val_dG_adjusted_rmse-arr</td><td>0.74328</td></tr><tr><td>val_dG_bias-arr</td><td>2.7395</td></tr><tr><td>val_dG_corr-arr</td><td>0.81553</td></tr><tr><td>val_dG_mae-arr</td><td>2.73966</td></tr><tr><td>val_dG_rmse-arr</td><td>2.83854</td></tr><tr><td>val_dH_adjusted_mae-arr</td><td>6.38157</td></tr><tr><td>val_dH_adjusted_rmse-arr</td><td>8.20477</td></tr><tr><td>val_dH_bias-arr</td><td>17.02655</td></tr><tr><td>val_dH_corr-arr</td><td>0.70218</td></tr><tr><td>val_dH_mae-arr</td><td>17.05894</td></tr><tr><td>val_dH_rmse-arr</td><td>18.90031</td></tr></table><br/></div></div>"
      ],
      "text/plain": [
       "<IPython.core.display.HTML object>"
      ]
     },
     "metadata": {},
     "output_type": "display_data"
    },
    {
     "data": {
      "text/html": [
       " View run <strong style=\"color:#cdcd00\">apricot-frost-50</strong> at: <a href='https://wandb.ai/keyuxi/NN/runs/1bj8p73u' target=\"_blank\">https://wandb.ai/keyuxi/NN/runs/1bj8p73u</a><br/> View job at <a href='https://wandb.ai/keyuxi/NN/jobs/QXJ0aWZhY3RDb2xsZWN0aW9uOjExMTcyMjg1NQ==/version_details/v0' target=\"_blank\">https://wandb.ai/keyuxi/NN/jobs/QXJ0aWZhY3RDb2xsZWN0aW9uOjExMTcyMjg1NQ==/version_details/v0</a><br/>Synced 6 W&B file(s), 0 media file(s), 2 artifact file(s) and 0 other file(s)"
      ],
      "text/plain": [
       "<IPython.core.display.HTML object>"
      ]
     },
     "metadata": {},
     "output_type": "display_data"
    },
    {
     "data": {
      "text/html": [
       "Find logs at: <code>./wandb/run-20231031_193601-1bj8p73u/logs</code>"
      ],
      "text/plain": [
       "<IPython.core.display.HTML object>"
      ]
     },
     "metadata": {},
     "output_type": "display_data"
    },
    {
     "data": {
      "text/html": [
       "Tracking run with wandb version 0.15.12"
      ],
      "text/plain": [
       "<IPython.core.display.HTML object>"
      ]
     },
     "metadata": {},
     "output_type": "display_data"
    },
    {
     "data": {
      "text/html": [
       "Run data is saved locally in <code>/Users/yuxi/workspace/nnn_paper/wandb/run-20231031_194414-1c1bhnu5</code>"
      ],
      "text/plain": [
       "<IPython.core.display.HTML object>"
      ]
     },
     "metadata": {},
     "output_type": "display_data"
    },
    {
     "data": {
      "text/html": [
       "Syncing run <strong><a href='https://wandb.ai/keyuxi/NN/runs/1c1bhnu5' target=\"_blank\">logical-wood-51</a></strong> to <a href='https://wandb.ai/keyuxi/NN' target=\"_blank\">Weights & Biases</a> (<a href='https://wandb.me/run' target=\"_blank\">docs</a>)<br/>"
      ],
      "text/plain": [
       "<IPython.core.display.HTML object>"
      ]
     },
     "metadata": {},
     "output_type": "display_data"
    },
    {
     "data": {
      "text/html": [
       " View project at <a href='https://wandb.ai/keyuxi/NN' target=\"_blank\">https://wandb.ai/keyuxi/NN</a>"
      ],
      "text/plain": [
       "<IPython.core.display.HTML object>"
      ]
     },
     "metadata": {},
     "output_type": "display_data"
    },
    {
     "data": {
      "text/html": [
       " View run at <a href='https://wandb.ai/keyuxi/NN/runs/1c1bhnu5' target=\"_blank\">https://wandb.ai/keyuxi/NN/runs/1c1bhnu5</a>"
      ],
      "text/plain": [
       "<IPython.core.display.HTML object>"
      ]
     },
     "metadata": {},
     "output_type": "display_data"
    },
    {
     "name": "stdout",
     "output_type": "stream",
     "text": [
      "feats (27732, 178) Index(['bulge_size#1', 'bulge_size#2', 'hairpin_loop_mid#A'], dtype='object')\n",
      "fixed_feature_names: ['bulge_size#1', 'bulge_size#2', 'hairpin_size#3', 'hairpin_size#4', 'hairpin_size#11', 'hairpin_size#14', 'hairpin_size#17', 'hairpin_size#20', 'interior_size#2', 'interior_size#4', 'stack#AATT', 'stack#ACGT', 'stack#AGCT', 'stack#ATAT', 'stack#CATG', 'stack#CCGG', 'stack#CGCG', 'stack#CTAG', 'stack#GATC', 'stack#GCGC', 'stack#GGCC', 'stack#GTAC', 'stack#TATA', 'stack#TCGA', 'stack#TGCA', 'stack#TTAA']\n",
      "                           dH\n",
      "bulge_size#1              0.0\n",
      "bulge_size#2              0.0\n",
      "bulge_size#3              0.0\n",
      "bulge_size#4              0.0\n",
      "bulge_size#5              0.0\n",
      "...                       ...\n",
      "hairpin_tetraloop#CCTTGG  0.0\n",
      "hairpin_tetraloop#GCTTGC  0.0\n",
      "hairpin_tetraloop#GCTTGT  0.0\n",
      "hairpin_tetraloop#TCTTGA  0.0\n",
      "hairpin_tetraloop#TCTTGG  0.0\n",
      "\n",
      "[352 rows x 1 columns]\n",
      "['bulge_size#1', 'bulge_size#2', 'hairpin_size#11', 'hairpin_size#14', 'hairpin_size#17', 'hairpin_size#20', 'hairpin_size#3', 'hairpin_size#4', 'interior_size#2', 'interior_size#4', 'stack#AATT', 'stack#ACGT', 'stack#AGCT', 'stack#ATAT', 'stack#CATG', 'stack#CCGG', 'stack#CGCG', 'stack#CTAG', 'stack#GATC', 'stack#GCGC', 'stack#GGCC', 'stack#GTAC', 'stack#TATA', 'stack#TCGA', 'stack#TGCA', 'stack#TTAA']\n",
      "                           dG\n",
      "bulge_size#1              4.0\n",
      "bulge_size#2              2.9\n",
      "bulge_size#3              3.1\n",
      "bulge_size#4              3.2\n",
      "bulge_size#5              3.3\n",
      "...                       ...\n",
      "hairpin_tetraloop#CCTTGG -0.8\n",
      "hairpin_tetraloop#GCTTGC -0.8\n",
      "hairpin_tetraloop#GCTTGT -0.5\n",
      "hairpin_tetraloop#TCTTGA -0.8\n",
      "hairpin_tetraloop#TCTTGG -0.5\n",
      "\n",
      "[352 rows x 1 columns]\n",
      "['bulge_size#1', 'bulge_size#2', 'hairpin_size#11', 'hairpin_size#14', 'hairpin_size#17', 'hairpin_size#20', 'hairpin_size#3', 'hairpin_size#4', 'interior_size#2', 'interior_size#4', 'stack#AATT', 'stack#ACGT', 'stack#AGCT', 'stack#ATAT', 'stack#CATG', 'stack#CCGG', 'stack#CGCG', 'stack#CTAG', 'stack#GATC', 'stack#GCGC', 'stack#GGCC', 'stack#GTAC', 'stack#TATA', 'stack#TCGA', 'stack#TGCA', 'stack#TTAA']\n",
      "Centering new parameters...\n",
      "group bulge_size\n",
      "group hairpin_mismatch\n",
      "\tMean value of old_dict is -3.684\n",
      "\tMean value of fitted new_dict is -13.297\n",
      "\tMean value of centered new_dict is -3.684\n",
      "\n",
      "group hairpin_size\n",
      "group interior_mismatch\n",
      "\tMean value of old_dict is -2.913\n",
      "\tMean value of fitted new_dict is -5.461\n",
      "\tMean value of centered new_dict is -2.913\n",
      "\n",
      "group interior_size\n",
      "group stack\n",
      "\tMean value of old_dict is -8.275\n",
      "\tMean value of fitted new_dict is -8.275\n",
      "\tMean value of centered new_dict is -8.275\n",
      "\n",
      "group terminal_penalty\n",
      "\tMean value of old_dict is 1.100\n",
      "\tMean value of fitted new_dict is -0.728\n",
      "\tMean value of centered new_dict is 1.100\n",
      "\n",
      "Centering new parameters...\n",
      "group bulge_size\n",
      "group hairpin_mismatch\n",
      "\tMean value of old_dict is -0.715\n",
      "\tMean value of fitted new_dict is -4.106\n",
      "\tMean value of centered new_dict is -0.715\n",
      "\n",
      "group hairpin_size\n",
      "group interior_mismatch\n",
      "\tMean value of old_dict is -0.640\n",
      "\tMean value of fitted new_dict is -0.700\n",
      "\tMean value of centered new_dict is -0.640\n",
      "\n",
      "group interior_size\n",
      "group stack\n",
      "\tMean value of old_dict is -1.406\n",
      "\tMean value of fitted new_dict is -1.406\n",
      "\tMean value of centered new_dict is -1.406\n",
      "\n",
      "group terminal_penalty\n",
      "\tMean value of old_dict is 0.025\n",
      "\tMean value of fitted new_dict is 0.176\n",
      "\tMean value of centered new_dict is 0.025\n",
      "\n"
     ]
    },
    {
     "data": {
      "text/html": [
       "Waiting for W&B process to finish... <strong style=\"color:green\">(success).</strong>"
      ],
      "text/plain": [
       "<IPython.core.display.HTML object>"
      ]
     },
     "metadata": {},
     "output_type": "display_data"
    },
    {
     "data": {
      "text/html": [
       "<style>\n",
       "    table.wandb td:nth-child(1) { padding: 0 10px; text-align: left ; width: auto;} td:nth-child(2) {text-align: left ; width: 100%}\n",
       "    .wandb-row { display: flex; flex-direction: row; flex-wrap: wrap; justify-content: flex-start; width: 100% }\n",
       "    .wandb-col { display: flex; flex-direction: column; flex-basis: 100%; flex: 1; padding: 10px; }\n",
       "    </style>\n",
       "<div class=\"wandb-row\"><div class=\"wandb-col\"><h3>Run history:</h3><br/><table class=\"wandb\"><tr><td>n_feat</td><td>▁</td></tr><tr><td>n_fixed_feat</td><td>▁</td></tr><tr><td>train_dG_mae</td><td>▁</td></tr><tr><td>train_dG_rsqr</td><td>▁</td></tr><tr><td>train_dH_mae</td><td>▁</td></tr><tr><td>train_dH_rsqr</td><td>▁</td></tr><tr><td>val_Tm_adjusted_mae-all</td><td>▁</td></tr><tr><td>val_Tm_adjusted_mae-arr</td><td>▁</td></tr><tr><td>val_Tm_adjusted_mae-lit_uv</td><td>▁</td></tr><tr><td>val_Tm_adjusted_mae-ov</td><td>▁</td></tr><tr><td>val_Tm_adjusted_rmse-all</td><td>▁</td></tr><tr><td>val_Tm_adjusted_rmse-arr</td><td>▁</td></tr><tr><td>val_Tm_adjusted_rmse-lit_uv</td><td>▁</td></tr><tr><td>val_Tm_adjusted_rmse-ov</td><td>▁</td></tr><tr><td>val_Tm_bias-all</td><td>▁</td></tr><tr><td>val_Tm_bias-arr</td><td>▁</td></tr><tr><td>val_Tm_bias-lit_uv</td><td>▁</td></tr><tr><td>val_Tm_bias-ov</td><td>▁</td></tr><tr><td>val_Tm_corr-all</td><td>▁</td></tr><tr><td>val_Tm_corr-arr</td><td>▁</td></tr><tr><td>val_Tm_corr-lit_uv</td><td>▁</td></tr><tr><td>val_Tm_corr-ov</td><td>▁</td></tr><tr><td>val_Tm_mae-all</td><td>▁</td></tr><tr><td>val_Tm_mae-arr</td><td>▁</td></tr><tr><td>val_Tm_mae-lit_uv</td><td>▁</td></tr><tr><td>val_Tm_mae-ov</td><td>▁</td></tr><tr><td>val_Tm_rmse-all</td><td>▁</td></tr><tr><td>val_Tm_rmse-arr</td><td>▁</td></tr><tr><td>val_Tm_rmse-lit_uv</td><td>▁</td></tr><tr><td>val_Tm_rmse-ov</td><td>▁</td></tr><tr><td>val_dG_adjusted_mae-arr</td><td>▁</td></tr><tr><td>val_dG_adjusted_rmse-arr</td><td>▁</td></tr><tr><td>val_dG_bias-arr</td><td>▁</td></tr><tr><td>val_dG_corr-arr</td><td>▁</td></tr><tr><td>val_dG_mae-arr</td><td>▁</td></tr><tr><td>val_dG_rmse-arr</td><td>▁</td></tr><tr><td>val_dH_adjusted_mae-arr</td><td>▁</td></tr><tr><td>val_dH_adjusted_rmse-arr</td><td>▁</td></tr><tr><td>val_dH_bias-arr</td><td>▁</td></tr><tr><td>val_dH_corr-arr</td><td>▁</td></tr><tr><td>val_dH_mae-arr</td><td>▁</td></tr><tr><td>val_dH_rmse-arr</td><td>▁</td></tr></table><br/></div><div class=\"wandb-col\"><h3>Run summary:</h3><br/><table class=\"wandb\"><tr><td>n_feat</td><td>178</td></tr><tr><td>n_fixed_feat</td><td>26</td></tr><tr><td>param_set_file</td><td>./models/logical-woo...</td></tr><tr><td>train_dG_mae</td><td>0.62219</td></tr><tr><td>train_dG_rsqr</td><td>0.61237</td></tr><tr><td>train_dH_mae</td><td>6.36408</td></tr><tr><td>train_dH_rsqr</td><td>0.42219</td></tr><tr><td>val_Tm_adjusted_mae-all</td><td>266.63326</td></tr><tr><td>val_Tm_adjusted_mae-arr</td><td>559.7605</td></tr><tr><td>val_Tm_adjusted_mae-lit_uv</td><td>2.23958</td></tr><tr><td>val_Tm_adjusted_mae-ov</td><td>1.6911</td></tr><tr><td>val_Tm_adjusted_rmse-all</td><td>2264.09759</td></tr><tr><td>val_Tm_adjusted_rmse-arr</td><td>3348.23989</td></tr><tr><td>val_Tm_adjusted_rmse-lit_uv</td><td>2.75354</td></tr><tr><td>val_Tm_adjusted_rmse-ov</td><td>2.30534</td></tr><tr><td>val_Tm_bias-all</td><td>-9.02076</td></tr><tr><td>val_Tm_bias-arr</td><td>-25.76478</td></tr><tr><td>val_Tm_bias-lit_uv</td><td>6.66086</td></tr><tr><td>val_Tm_bias-ov</td><td>4.88679</td></tr><tr><td>val_Tm_corr-all</td><td>0.01874</td></tr><tr><td>val_Tm_corr-arr</td><td>0.01949</td></tr><tr><td>val_Tm_corr-lit_uv</td><td>0.9781</td></tr><tr><td>val_Tm_corr-ov</td><td>0.86494</td></tr><tr><td>val_Tm_mae-all</td><td>263.74489</td></tr><tr><td>val_Tm_mae-arr</td><td>570.73295</td></tr><tr><td>val_Tm_mae-lit_uv</td><td>6.662</td></tr><tr><td>val_Tm_mae-ov</td><td>4.94398</td></tr><tr><td>val_Tm_rmse-all</td><td>2264.11556</td></tr><tr><td>val_Tm_rmse-arr</td><td>3348.33902</td></tr><tr><td>val_Tm_rmse-lit_uv</td><td>7.20757</td></tr><tr><td>val_Tm_rmse-ov</td><td>5.40327</td></tr><tr><td>val_dG_adjusted_mae-arr</td><td>0.56404</td></tr><tr><td>val_dG_adjusted_rmse-arr</td><td>0.74111</td></tr><tr><td>val_dG_bias-arr</td><td>2.83806</td></tr><tr><td>val_dG_corr-arr</td><td>0.81521</td></tr><tr><td>val_dG_mae-arr</td><td>2.83806</td></tr><tr><td>val_dG_rmse-arr</td><td>2.93322</td></tr><tr><td>val_dH_adjusted_mae-arr</td><td>6.40481</td></tr><tr><td>val_dH_adjusted_rmse-arr</td><td>8.21142</td></tr><tr><td>val_dH_bias-arr</td><td>19.08684</td></tr><tr><td>val_dH_corr-arr</td><td>0.70289</td></tr><tr><td>val_dH_mae-arr</td><td>19.10252</td></tr><tr><td>val_dH_rmse-arr</td><td>20.77823</td></tr></table><br/></div></div>"
      ],
      "text/plain": [
       "<IPython.core.display.HTML object>"
      ]
     },
     "metadata": {},
     "output_type": "display_data"
    },
    {
     "data": {
      "text/html": [
       " View run <strong style=\"color:#cdcd00\">logical-wood-51</strong> at: <a href='https://wandb.ai/keyuxi/NN/runs/1c1bhnu5' target=\"_blank\">https://wandb.ai/keyuxi/NN/runs/1c1bhnu5</a><br/> View job at <a href='https://wandb.ai/keyuxi/NN/jobs/QXJ0aWZhY3RDb2xsZWN0aW9uOjExMTcyMjg1NQ==/version_details/v0' target=\"_blank\">https://wandb.ai/keyuxi/NN/jobs/QXJ0aWZhY3RDb2xsZWN0aW9uOjExMTcyMjg1NQ==/version_details/v0</a><br/>Synced 6 W&B file(s), 0 media file(s), 0 artifact file(s) and 0 other file(s)"
      ],
      "text/plain": [
       "<IPython.core.display.HTML object>"
      ]
     },
     "metadata": {},
     "output_type": "display_data"
    },
    {
     "data": {
      "text/html": [
       "Find logs at: <code>./wandb/run-20231031_194414-1c1bhnu5/logs</code>"
      ],
      "text/plain": [
       "<IPython.core.display.HTML object>"
      ]
     },
     "metadata": {},
     "output_type": "display_data"
    },
    {
     "data": {
      "text/html": [
       "Tracking run with wandb version 0.15.12"
      ],
      "text/plain": [
       "<IPython.core.display.HTML object>"
      ]
     },
     "metadata": {},
     "output_type": "display_data"
    },
    {
     "data": {
      "text/html": [
       "Run data is saved locally in <code>/Users/yuxi/workspace/nnn_paper/wandb/run-20231031_195226-9qoxsxlj</code>"
      ],
      "text/plain": [
       "<IPython.core.display.HTML object>"
      ]
     },
     "metadata": {},
     "output_type": "display_data"
    },
    {
     "data": {
      "text/html": [
       "Syncing run <strong><a href='https://wandb.ai/keyuxi/NN/runs/9qoxsxlj' target=\"_blank\">vague-mountain-52</a></strong> to <a href='https://wandb.ai/keyuxi/NN' target=\"_blank\">Weights & Biases</a> (<a href='https://wandb.me/run' target=\"_blank\">docs</a>)<br/>"
      ],
      "text/plain": [
       "<IPython.core.display.HTML object>"
      ]
     },
     "metadata": {},
     "output_type": "display_data"
    },
    {
     "data": {
      "text/html": [
       " View project at <a href='https://wandb.ai/keyuxi/NN' target=\"_blank\">https://wandb.ai/keyuxi/NN</a>"
      ],
      "text/plain": [
       "<IPython.core.display.HTML object>"
      ]
     },
     "metadata": {},
     "output_type": "display_data"
    },
    {
     "data": {
      "text/html": [
       " View run at <a href='https://wandb.ai/keyuxi/NN/runs/9qoxsxlj' target=\"_blank\">https://wandb.ai/keyuxi/NN/runs/9qoxsxlj</a>"
      ],
      "text/plain": [
       "<IPython.core.display.HTML object>"
      ]
     },
     "metadata": {},
     "output_type": "display_data"
    },
    {
     "name": "stdout",
     "output_type": "stream",
     "text": [
      "feats (27732, 178) Index(['bulge_size#1', 'bulge_size#2', 'hairpin_loop_mid#A'], dtype='object')\n",
      "fixed_feature_names: ['bulge_size#1', 'bulge_size#2', 'hairpin_size#3', 'hairpin_size#4', 'hairpin_size#11', 'hairpin_size#14', 'hairpin_size#17', 'hairpin_size#20', 'interior_size#2', 'interior_size#4', 'stack#AATT', 'stack#ACGT', 'stack#AGCT', 'stack#ATAT', 'stack#CATG', 'stack#CCGG', 'stack#CGCG', 'stack#CTAG', 'stack#GATC', 'stack#GCGC', 'stack#GGCC', 'stack#GTAC', 'stack#TATA', 'stack#TCGA', 'stack#TGCA', 'stack#TTAA']\n",
      "                           dH\n",
      "bulge_size#1              0.0\n",
      "bulge_size#2              0.0\n",
      "bulge_size#3              0.0\n",
      "bulge_size#4              0.0\n",
      "bulge_size#5              0.0\n",
      "...                       ...\n",
      "hairpin_tetraloop#CCTTGG  0.0\n",
      "hairpin_tetraloop#GCTTGC  0.0\n",
      "hairpin_tetraloop#GCTTGT  0.0\n",
      "hairpin_tetraloop#TCTTGA  0.0\n",
      "hairpin_tetraloop#TCTTGG  0.0\n",
      "\n",
      "[352 rows x 1 columns]\n",
      "['bulge_size#1', 'bulge_size#2', 'hairpin_size#11', 'hairpin_size#14', 'hairpin_size#17', 'hairpin_size#20', 'hairpin_size#3', 'hairpin_size#4', 'interior_size#2', 'interior_size#4', 'stack#AATT', 'stack#ACGT', 'stack#AGCT', 'stack#ATAT', 'stack#CATG', 'stack#CCGG', 'stack#CGCG', 'stack#CTAG', 'stack#GATC', 'stack#GCGC', 'stack#GGCC', 'stack#GTAC', 'stack#TATA', 'stack#TCGA', 'stack#TGCA', 'stack#TTAA']\n",
      "                           dG\n",
      "bulge_size#1              4.0\n",
      "bulge_size#2              2.9\n",
      "bulge_size#3              3.1\n",
      "bulge_size#4              3.2\n",
      "bulge_size#5              3.3\n",
      "...                       ...\n",
      "hairpin_tetraloop#CCTTGG -0.8\n",
      "hairpin_tetraloop#GCTTGC -0.8\n",
      "hairpin_tetraloop#GCTTGT -0.5\n",
      "hairpin_tetraloop#TCTTGA -0.8\n",
      "hairpin_tetraloop#TCTTGG -0.5\n",
      "\n",
      "[352 rows x 1 columns]\n",
      "['bulge_size#1', 'bulge_size#2', 'hairpin_size#11', 'hairpin_size#14', 'hairpin_size#17', 'hairpin_size#20', 'hairpin_size#3', 'hairpin_size#4', 'interior_size#2', 'interior_size#4', 'stack#AATT', 'stack#ACGT', 'stack#AGCT', 'stack#ATAT', 'stack#CATG', 'stack#CCGG', 'stack#CGCG', 'stack#CTAG', 'stack#GATC', 'stack#GCGC', 'stack#GGCC', 'stack#GTAC', 'stack#TATA', 'stack#TCGA', 'stack#TGCA', 'stack#TTAA']\n",
      "Centering new parameters...\n",
      "group bulge_size\n",
      "group hairpin_mismatch\n",
      "\tMean value of old_dict is -3.684\n",
      "\tMean value of fitted new_dict is -12.986\n",
      "\tMean value of centered new_dict is -3.684\n",
      "\n",
      "group hairpin_size\n",
      "group interior_mismatch\n",
      "\tMean value of old_dict is -2.913\n",
      "\tMean value of fitted new_dict is -5.266\n",
      "\tMean value of centered new_dict is -2.913\n",
      "\n",
      "group interior_size\n",
      "group stack\n",
      "\tMean value of old_dict is -8.275\n",
      "\tMean value of fitted new_dict is -8.275\n",
      "\tMean value of centered new_dict is -8.275\n",
      "\n",
      "group terminal_penalty\n",
      "\tMean value of old_dict is 1.100\n",
      "\tMean value of fitted new_dict is -0.687\n",
      "\tMean value of centered new_dict is 1.100\n",
      "\n",
      "Centering new parameters...\n",
      "group bulge_size\n",
      "group hairpin_mismatch\n",
      "\tMean value of old_dict is -0.715\n",
      "\tMean value of fitted new_dict is -4.034\n",
      "\tMean value of centered new_dict is -0.715\n",
      "\n",
      "group hairpin_size\n",
      "group interior_mismatch\n",
      "\tMean value of old_dict is -0.640\n",
      "\tMean value of fitted new_dict is -0.724\n",
      "\tMean value of centered new_dict is -0.640\n",
      "\n",
      "group interior_size\n",
      "group stack\n",
      "\tMean value of old_dict is -1.406\n",
      "\tMean value of fitted new_dict is -1.406\n",
      "\tMean value of centered new_dict is -1.406\n",
      "\n",
      "group terminal_penalty\n",
      "\tMean value of old_dict is 0.025\n",
      "\tMean value of fitted new_dict is 0.170\n",
      "\tMean value of centered new_dict is 0.025\n",
      "\n"
     ]
    },
    {
     "data": {
      "text/html": [
       "Waiting for W&B process to finish... <strong style=\"color:green\">(success).</strong>"
      ],
      "text/plain": [
       "<IPython.core.display.HTML object>"
      ]
     },
     "metadata": {},
     "output_type": "display_data"
    },
    {
     "data": {
      "text/html": [
       "<style>\n",
       "    table.wandb td:nth-child(1) { padding: 0 10px; text-align: left ; width: auto;} td:nth-child(2) {text-align: left ; width: 100%}\n",
       "    .wandb-row { display: flex; flex-direction: row; flex-wrap: wrap; justify-content: flex-start; width: 100% }\n",
       "    .wandb-col { display: flex; flex-direction: column; flex-basis: 100%; flex: 1; padding: 10px; }\n",
       "    </style>\n",
       "<div class=\"wandb-row\"><div class=\"wandb-col\"><h3>Run history:</h3><br/><table class=\"wandb\"><tr><td>n_feat</td><td>▁</td></tr><tr><td>n_fixed_feat</td><td>▁</td></tr><tr><td>train_dG_mae</td><td>▁</td></tr><tr><td>train_dG_rsqr</td><td>▁</td></tr><tr><td>train_dH_mae</td><td>▁</td></tr><tr><td>train_dH_rsqr</td><td>▁</td></tr><tr><td>val_Tm_adjusted_mae-all</td><td>▁</td></tr><tr><td>val_Tm_adjusted_mae-arr</td><td>▁</td></tr><tr><td>val_Tm_adjusted_mae-lit_uv</td><td>▁</td></tr><tr><td>val_Tm_adjusted_mae-ov</td><td>▁</td></tr><tr><td>val_Tm_adjusted_rmse-all</td><td>▁</td></tr><tr><td>val_Tm_adjusted_rmse-arr</td><td>▁</td></tr><tr><td>val_Tm_adjusted_rmse-lit_uv</td><td>▁</td></tr><tr><td>val_Tm_adjusted_rmse-ov</td><td>▁</td></tr><tr><td>val_Tm_bias-all</td><td>▁</td></tr><tr><td>val_Tm_bias-arr</td><td>▁</td></tr><tr><td>val_Tm_bias-lit_uv</td><td>▁</td></tr><tr><td>val_Tm_bias-ov</td><td>▁</td></tr><tr><td>val_Tm_corr-all</td><td>▁</td></tr><tr><td>val_Tm_corr-arr</td><td>▁</td></tr><tr><td>val_Tm_corr-lit_uv</td><td>▁</td></tr><tr><td>val_Tm_corr-ov</td><td>▁</td></tr><tr><td>val_Tm_mae-all</td><td>▁</td></tr><tr><td>val_Tm_mae-arr</td><td>▁</td></tr><tr><td>val_Tm_mae-lit_uv</td><td>▁</td></tr><tr><td>val_Tm_mae-ov</td><td>▁</td></tr><tr><td>val_Tm_rmse-all</td><td>▁</td></tr><tr><td>val_Tm_rmse-arr</td><td>▁</td></tr><tr><td>val_Tm_rmse-lit_uv</td><td>▁</td></tr><tr><td>val_Tm_rmse-ov</td><td>▁</td></tr><tr><td>val_dG_adjusted_mae-arr</td><td>▁</td></tr><tr><td>val_dG_adjusted_rmse-arr</td><td>▁</td></tr><tr><td>val_dG_bias-arr</td><td>▁</td></tr><tr><td>val_dG_corr-arr</td><td>▁</td></tr><tr><td>val_dG_mae-arr</td><td>▁</td></tr><tr><td>val_dG_rmse-arr</td><td>▁</td></tr><tr><td>val_dH_adjusted_mae-arr</td><td>▁</td></tr><tr><td>val_dH_adjusted_rmse-arr</td><td>▁</td></tr><tr><td>val_dH_bias-arr</td><td>▁</td></tr><tr><td>val_dH_corr-arr</td><td>▁</td></tr><tr><td>val_dH_mae-arr</td><td>▁</td></tr><tr><td>val_dH_rmse-arr</td><td>▁</td></tr></table><br/></div><div class=\"wandb-col\"><h3>Run summary:</h3><br/><table class=\"wandb\"><tr><td>n_feat</td><td>178</td></tr><tr><td>n_fixed_feat</td><td>26</td></tr><tr><td>param_set_file</td><td>./models/vague-mount...</td></tr><tr><td>train_dG_mae</td><td>0.62251</td></tr><tr><td>train_dG_rsqr</td><td>0.61267</td></tr><tr><td>train_dH_mae</td><td>6.36952</td></tr><tr><td>train_dH_rsqr</td><td>0.42186</td></tr><tr><td>val_Tm_adjusted_mae-all</td><td>435.61772</td></tr><tr><td>val_Tm_adjusted_mae-arr</td><td>918.43873</td></tr><tr><td>val_Tm_adjusted_mae-lit_uv</td><td>2.23501</td></tr><tr><td>val_Tm_adjusted_mae-ov</td><td>1.72882</td></tr><tr><td>val_Tm_adjusted_rmse-all</td><td>4247.78038</td></tr><tr><td>val_Tm_adjusted_rmse-arr</td><td>6280.95314</td></tr><tr><td>val_Tm_adjusted_rmse-lit_uv</td><td>2.75018</td></tr><tr><td>val_Tm_adjusted_rmse-ov</td><td>2.34579</td></tr><tr><td>val_Tm_bias-all</td><td>73.92615</td></tr><tr><td>val_Tm_bias-arr</td><td>155.83402</td></tr><tr><td>val_Tm_bias-lit_uv</td><td>6.6618</td></tr><tr><td>val_Tm_bias-ov</td><td>4.70852</td></tr><tr><td>val_Tm_corr-all</td><td>-0.01137</td></tr><tr><td>val_Tm_corr-arr</td><td>-0.00913</td></tr><tr><td>val_Tm_corr-lit_uv</td><td>0.97819</td></tr><tr><td>val_Tm_corr-ov</td><td>0.85997</td></tr><tr><td>val_Tm_mae-all</td><td>381.81669</td></tr><tr><td>val_Tm_mae-arr</td><td>829.14212</td></tr><tr><td>val_Tm_mae-lit_uv</td><td>6.66294</td></tr><tr><td>val_Tm_mae-ov</td><td>4.77547</td></tr><tr><td>val_Tm_rmse-all</td><td>4248.42361</td></tr><tr><td>val_Tm_rmse-arr</td><td>6282.88601</td></tr><tr><td>val_Tm_rmse-lit_uv</td><td>7.20715</td></tr><tr><td>val_Tm_rmse-ov</td><td>5.2605</td></tr><tr><td>val_dG_adjusted_mae-arr</td><td>0.5654</td></tr><tr><td>val_dG_adjusted_rmse-arr</td><td>0.74384</td></tr><tr><td>val_dG_bias-arr</td><td>2.7918</td></tr><tr><td>val_dG_corr-arr</td><td>0.81462</td></tr><tr><td>val_dG_mae-arr</td><td>2.79184</td></tr><tr><td>val_dG_rmse-arr</td><td>2.88919</td></tr><tr><td>val_dH_adjusted_mae-arr</td><td>6.36008</td></tr><tr><td>val_dH_adjusted_rmse-arr</td><td>8.15955</td></tr><tr><td>val_dH_bias-arr</td><td>18.65243</td></tr><tr><td>val_dH_corr-arr</td><td>0.70625</td></tr><tr><td>val_dH_mae-arr</td><td>18.66969</td></tr><tr><td>val_dH_rmse-arr</td><td>20.35906</td></tr></table><br/></div></div>"
      ],
      "text/plain": [
       "<IPython.core.display.HTML object>"
      ]
     },
     "metadata": {},
     "output_type": "display_data"
    },
    {
     "data": {
      "text/html": [
       " View run <strong style=\"color:#cdcd00\">vague-mountain-52</strong> at: <a href='https://wandb.ai/keyuxi/NN/runs/9qoxsxlj' target=\"_blank\">https://wandb.ai/keyuxi/NN/runs/9qoxsxlj</a><br/> View job at <a href='https://wandb.ai/keyuxi/NN/jobs/QXJ0aWZhY3RDb2xsZWN0aW9uOjExMTcyMjg1NQ==/version_details/v0' target=\"_blank\">https://wandb.ai/keyuxi/NN/jobs/QXJ0aWZhY3RDb2xsZWN0aW9uOjExMTcyMjg1NQ==/version_details/v0</a><br/>Synced 6 W&B file(s), 0 media file(s), 0 artifact file(s) and 0 other file(s)"
      ],
      "text/plain": [
       "<IPython.core.display.HTML object>"
      ]
     },
     "metadata": {},
     "output_type": "display_data"
    },
    {
     "data": {
      "text/html": [
       "Find logs at: <code>./wandb/run-20231031_195226-9qoxsxlj/logs</code>"
      ],
      "text/plain": [
       "<IPython.core.display.HTML object>"
      ]
     },
     "metadata": {},
     "output_type": "display_data"
    },
    {
     "data": {
      "image/png": "[encoded data removed]",
      "text/plain": [
       "<Figure size 800x400 with 2 Axes>"
      ]
     },
     "metadata": {},
     "output_type": "display_data"
    },
    {
     "data": {
      "image/png": "[encoded data removed]",
      "text/plain": [
       "<Figure size 800x400 with 2 Axes>"
      ]
     },
     "metadata": {},
     "output_type": "display_data"
    },
    {
     "data": {
      "image/png": "[encoded data removed]",
      "text/plain": [
       "<Figure size 800x400 with 2 Axes>"
      ]
     },
     "metadata": {},
     "output_type": "display_data"
    },
    {
     "data": {
      "image/png": "[encoded data removed]",
      "text/plain": [
       "<Figure size 800x400 with 2 Axes>"
      ]
     },
     "metadata": {},
     "output_type": "display_data"
    },
    {
     "data": {
      "image/png": "[encoded data removed]",
      "text/plain": [
       "<Figure size 800x400 with 2 Axes>"
      ]
     },
     "metadata": {},
     "output_type": "display_data"
    }
   ],
   "source": [
    "for ratio in myrange:\n",
    "    config.update(dict(use_train_set_ratio=ratio))\n",
    "    tnn.model_pipeline(config)"
   ]
  },
  {
   "cell_type": "markdown",
   "metadata": {},
   "source": [
    "## Tests"
   ]
  },
  {
   "cell_type": "code",
   "execution_count": 70,
   "metadata": {},
   "outputs": [],
   "source": [
    "mydata = tnn.MyData(config)\n",
    "mydata.load_everything()"
   ]
  },
  {
   "cell_type": "code",
   "execution_count": 71,
   "metadata": {},
   "outputs": [
    {
     "data": {
      "text/plain": [
       "'GATATAGCAAAATTCTAAGTTAATA'"
      ]
     },
     "execution_count": 71,
     "metadata": {},
     "output_type": "execute_result"
    }
   ],
   "source": [
    "mydata.prepare_val_df()['lit_uv'].RefSeq[0][0]"
   ]
  },
  {
   "cell_type": "code",
   "execution_count": 49,
   "metadata": {},
   "outputs": [
    {
     "data": {
      "text/plain": [
       "{'val_Tm_rmse-all': 0.3,\n",
       " 'val_Tm_rmse-arr': 0.2,\n",
       " 'val_dH_mae-arr': 0.1,\n",
       " 'val_dG_corr-arr': 0.4,\n",
       " 'val_Tm_rmse-ov': 0.5}"
      ]
     },
     "execution_count": 49,
     "metadata": {},
     "output_type": "execute_result"
    }
   ],
   "source": [
    "# FUNCTION TEST\n",
    "metric_dict = dict(\n",
    "    all=dict(\n",
    "        Tm=dict(rmse=.3),\n",
    "    ),\n",
    "    arr=dict(\n",
    "        Tm=dict(rmse=.2),\n",
    "        dH=dict(mae=.1),\n",
    "        dG=dict(corr=.4)\n",
    "    ),\n",
    "    ov=dict(\n",
    "        Tm=dict(rmse=.5)\n",
    "    )\n",
    ")\n",
    "tnn.flatten_metric_dict(metric_dict)"
   ]
  },
  {
   "cell_type": "code",
   "execution_count": 23,
   "metadata": {},
   "outputs": [
    {
     "data": {
      "text/plain": [
       "{'all': {'Tm': defaultdict(None,\n",
       "              {'bias': 4.052530385047184,\n",
       "               'corr': 0.7283678107929029,\n",
       "               'rmse': 8.970813220600753,\n",
       "               'adjusted_rmse': 8.003279785011552,\n",
       "               'mae': 6.918323991138158,\n",
       "               'adjusted_mae': 5.102455698416149})},\n",
       " 'arr': {'Tm': defaultdict(None,\n",
       "              {'bias': 2.460506006492743,\n",
       "               'corr': 0.5926763545583157,\n",
       "               'rmse': 11.514506934113333,\n",
       "               'adjusted_rmse': 11.248545689455025,\n",
       "               'mae': 8.613083415832527,\n",
       "               'adjusted_mae': 8.257119862060655}),\n",
       "  'dH': defaultdict(None,\n",
       "              {'bias': -13.37753292190472,\n",
       "               'corr': 0.3307041545308927,\n",
       "               'rmse': 17.323838220109828,\n",
       "               'adjusted_rmse': 11.007133305266,\n",
       "               'mae': 14.511755225995635,\n",
       "               'adjusted_mae': 9.202432714122292}),\n",
       "  'dG': defaultdict(None,\n",
       "              {'bias': -0.6273588099905687,\n",
       "               'corr': 0.6517242959735567,\n",
       "               'rmse': 1.3178089334125132,\n",
       "               'adjusted_rmse': 1.1588965909472009,\n",
       "               'mae': 1.0495348812678202,\n",
       "               'adjusted_mae': 0.8824959628461598})},\n",
       " 'lit_uv': {'Tm': defaultdict(None,\n",
       "              {'bias': 6.669982116821117,\n",
       "               'corr': 0.9822649999047944,\n",
       "               'rmse': 7.102812484830579,\n",
       "               'adjusted_rmse': 2.441574032453582,\n",
       "               'mae': 6.6781735382243,\n",
       "               'adjusted_mae': 1.9487391008983486})},\n",
       " 'ov': {'Tm': defaultdict(None,\n",
       "              {'bias': 5.233550901608297,\n",
       "               'corr': 0.8105605340250555,\n",
       "               'rmse': 5.9024410129663645,\n",
       "               'adjusted_rmse': 2.7292407134257206,\n",
       "               'mae': 5.341667563837443,\n",
       "               'adjusted_mae': 2.0966122178090103})}}"
      ]
     },
     "execution_count": 23,
     "metadata": {},
     "output_type": "execute_result"
    }
   ],
   "source": [
    "json_file = './models/dna04.json'\n",
    "tnn.test(config, json_file=json_file, debug=False, log_wandb=False,\n",
    "         save_val_result_df=True, save_metric_json=True)"
   ]
  },
  {
   "cell_type": "code",
   "execution_count": 127,
   "metadata": {},
   "outputs": [],
   "source": [
    "val_kwargs = dict(\n",
    "    sodium = 'varied',\n",
    "    model_kwargs={'DNA_conc': val_df['DNA_conc'].values}\n",
    ")\n",
    "seq_list, struct_list, sodium, model_kwargs = modeling.get_model_prediction(\n",
    "                val_df,\n",
    "                model='nupack', \n",
    "                model_param_file=json_file,\n",
    "                **val_kwargs\n",
    "            )"
   ]
  },
  {
   "cell_type": "code",
   "execution_count": 126,
   "metadata": {
    "scrolled": true
   },
   "outputs": [
    {
     "data": {
      "text/html": [
       "<div>\n",
       "<style scoped>\n",
       "    .dataframe tbody tr th:only-of-type {\n",
       "        vertical-align: middle;\n",
       "    }\n",
       "\n",
       "    .dataframe tbody tr th {\n",
       "        vertical-align: top;\n",
       "    }\n",
       "\n",
       "    .dataframe thead th {\n",
       "        text-align: right;\n",
       "    }\n",
       "</style>\n",
       "<table border=\"1\" class=\"dataframe\">\n",
       "  <thead>\n",
       "    <tr style=\"text-align: right;\">\n",
       "      <th></th>\n",
       "      <th>dH</th>\n",
       "      <th>Tm</th>\n",
       "      <th>dG_37</th>\n",
       "    </tr>\n",
       "  </thead>\n",
       "  <tbody>\n",
       "    <tr>\n",
       "      <th>0</th>\n",
       "      <td>NaN</td>\n",
       "      <td>56.388872</td>\n",
       "      <td>NaN</td>\n",
       "    </tr>\n",
       "    <tr>\n",
       "      <th>1</th>\n",
       "      <td>NaN</td>\n",
       "      <td>60.447325</td>\n",
       "      <td>NaN</td>\n",
       "    </tr>\n",
       "    <tr>\n",
       "      <th>2</th>\n",
       "      <td>NaN</td>\n",
       "      <td>57.092821</td>\n",
       "      <td>NaN</td>\n",
       "    </tr>\n",
       "    <tr>\n",
       "      <th>3</th>\n",
       "      <td>NaN</td>\n",
       "      <td>56.638673</td>\n",
       "      <td>NaN</td>\n",
       "    </tr>\n",
       "    <tr>\n",
       "      <th>4</th>\n",
       "      <td>NaN</td>\n",
       "      <td>58.732291</td>\n",
       "      <td>NaN</td>\n",
       "    </tr>\n",
       "  </tbody>\n",
       "</table>\n",
       "</div>"
      ],
      "text/plain": [
       "    dH         Tm dG_37\n",
       "0  NaN  56.388872   NaN\n",
       "1  NaN  60.447325   NaN\n",
       "2  NaN  57.092821   NaN\n",
       "3  NaN  56.638673   NaN\n",
       "4  NaN  58.732291   NaN"
      ]
     },
     "execution_count": 126,
     "metadata": {},
     "output_type": "execute_result"
    }
   ],
   "source": [
    "modeling.run_nupack(seq_list, struct_list, sodium, json_file, model_kwargs)"
   ]
  },
  {
   "cell_type": "markdown",
   "metadata": {},
   "source": [
    "# Results"
   ]
  },
  {
   "cell_type": "code",
   "execution_count": 59,
   "metadata": {},
   "outputs": [],
   "source": [
    "import pandas as pd \n",
    "import wandb\n",
    "api = wandb.Api()\n",
    "\n",
    "# Project is specified by <entity/project-name>\n",
    "runs = api.runs(\"keyuxi/NN\")\n",
    "\n",
    "summary_list, config_list, name_list = [], [], []\n",
    "for run in runs: \n",
    "    # .summary contains the output keys/values for metrics like accuracy.\n",
    "    #  We call ._json_dict to omit large files \n",
    "    summary_list.append(run.summary._json_dict)\n",
    "\n",
    "    # .config contains the hyperparameters.\n",
    "    #  We remove special values that start with _.\n",
    "    config_list.append(\n",
    "        {k: v for k,v in run.config.items()\n",
    "          if not k.startswith('_')})\n",
    "\n",
    "    # .name is the human-readable name of the run.\n",
    "    name_list.append(run.name)\n",
    "\n",
    "runs_df = pd.DataFrame({\n",
    "    \"summary\": summary_list,\n",
    "    \"config\": config_list,\n",
    "    \"name\": name_list\n",
    "    })\n",
    "\n",
    "# runs_df.to_csv(\"project.csv\")"
   ]
  },
  {
   "cell_type": "code",
   "execution_count": 60,
   "metadata": {
    "scrolled": true
   },
   "outputs": [
    {
     "data": {
      "text/html": [
       "<div>\n",
       "<style scoped>\n",
       "    .dataframe tbody tr th:only-of-type {\n",
       "        vertical-align: middle;\n",
       "    }\n",
       "\n",
       "    .dataframe tbody tr th {\n",
       "        vertical-align: top;\n",
       "    }\n",
       "\n",
       "    .dataframe thead th {\n",
       "        text-align: right;\n",
       "    }\n",
       "</style>\n",
       "<table border=\"1\" class=\"dataframe\">\n",
       "  <thead>\n",
       "    <tr style=\"text-align: right;\">\n",
       "      <th></th>\n",
       "      <th>summary</th>\n",
       "      <th>config</th>\n",
       "      <th>name</th>\n",
       "    </tr>\n",
       "  </thead>\n",
       "  <tbody>\n",
       "    <tr>\n",
       "      <th>0</th>\n",
       "      <td>{'val_dG_bias-arr': 2.7917988408617327, 'val_T...</td>\n",
       "      <td>{'symmetry': False, 'test_mode': 'val', 'fit_m...</td>\n",
       "      <td>chilling-mausoleum-46</td>\n",
       "    </tr>\n",
       "    <tr>\n",
       "      <th>1</th>\n",
       "      <td>{'val_Tm_mae-lit_uv': 6.661954159766046, 'val_...</td>\n",
       "      <td>{'symmetry': False, 'test_mode': 'val', 'fit_m...</td>\n",
       "      <td>ghostly-skeleton-45</td>\n",
       "    </tr>\n",
       "    <tr>\n",
       "      <th>2</th>\n",
       "      <td>{'val_Tm_mae-arr': 208.51530143276193, 'val_dH...</td>\n",
       "      <td>{'symmetry': False, 'test_mode': 'val', 'fit_m...</td>\n",
       "      <td>supernatural-warlock-44</td>\n",
       "    </tr>\n",
       "    <tr>\n",
       "      <th>3</th>\n",
       "      <td>{'_wandb': {'runtime': 463}, '_runtime': 464.9...</td>\n",
       "      <td>{'symmetry': False, 'test_mode': 'val', 'fit_m...</td>\n",
       "      <td>spooky-goblin-43</td>\n",
       "    </tr>\n",
       "    <tr>\n",
       "      <th>4</th>\n",
       "      <td>{'train_dH_mae': 6.245854998043675, 'train_dH_...</td>\n",
       "      <td>{'symmetry': False, 'test_mode': 'val', 'fit_m...</td>\n",
       "      <td>scary-treat-42</td>\n",
       "    </tr>\n",
       "    <tr>\n",
       "      <th>5</th>\n",
       "      <td>{'val_Tm_rmse-lit_uv': 7.225930631707623, 'val...</td>\n",
       "      <td>{'symmetry': False, 'test_mode': 'val', 'fit_m...</td>\n",
       "      <td>evil-sorcery-41</td>\n",
       "    </tr>\n",
       "    <tr>\n",
       "      <th>6</th>\n",
       "      <td>{'val_Tm_adjusted_rmse-lit_uv': 11.09348009030...</td>\n",
       "      <td>{'symmetry': False, 'test_mode': 'val', 'fit_m...</td>\n",
       "      <td>enchanted-vampire-40</td>\n",
       "    </tr>\n",
       "    <tr>\n",
       "      <th>7</th>\n",
       "      <td>{'n_fixed_feat': 0, 'train_dG_mae': 0.42332324...</td>\n",
       "      <td>{'symmetry': False, 'test_mode': 'val', 'fit_m...</td>\n",
       "      <td>moonlit-mausoleum-39</td>\n",
       "    </tr>\n",
       "    <tr>\n",
       "      <th>8</th>\n",
       "      <td>{'val_Tm_adjusted_mae-arr': 5.415205181640467,...</td>\n",
       "      <td>{'symmetry': False, 'test_mode': 'val', 'fit_m...</td>\n",
       "      <td>moonlit-orb-38</td>\n",
       "    </tr>\n",
       "    <tr>\n",
       "      <th>9</th>\n",
       "      <td>{'val_dH_mae-arr': 5.124491731488668, 'val_Tm_...</td>\n",
       "      <td>{'symmetry': False, 'test_mode': 'val', 'fit_m...</td>\n",
       "      <td>enchanted-whisper-37</td>\n",
       "    </tr>\n",
       "    <tr>\n",
       "      <th>10</th>\n",
       "      <td>{'val_dG_adjusted_rmse-arr': 0.538719547802726...</td>\n",
       "      <td>{'symmetry': False, 'test_mode': 'val', 'fit_m...</td>\n",
       "      <td>dire-mask-36</td>\n",
       "    </tr>\n",
       "    <tr>\n",
       "      <th>11</th>\n",
       "      <td>{'val_dH_mae-arr': 6.21932467160611, 'val_dG_b...</td>\n",
       "      <td>{'symmetry': False, 'test_mode': 'val', 'fit_m...</td>\n",
       "      <td>frightful-goosebump-35</td>\n",
       "    </tr>\n",
       "    <tr>\n",
       "      <th>12</th>\n",
       "      <td>{'val_Tm_rmse-ov': 237.75808830188967, 'val_dG...</td>\n",
       "      <td>{'symmetry': False, 'test_mode': 'val', 'fit_m...</td>\n",
       "      <td>unearthly-possession-34</td>\n",
       "    </tr>\n",
       "  </tbody>\n",
       "</table>\n",
       "</div>"
      ],
      "text/plain": [
       "                                              summary  \\\n",
       "0   {'val_dG_bias-arr': 2.7917988408617327, 'val_T...   \n",
       "1   {'val_Tm_mae-lit_uv': 6.661954159766046, 'val_...   \n",
       "2   {'val_Tm_mae-arr': 208.51530143276193, 'val_dH...   \n",
       "3   {'_wandb': {'runtime': 463}, '_runtime': 464.9...   \n",
       "4   {'train_dH_mae': 6.245854998043675, 'train_dH_...   \n",
       "5   {'val_Tm_rmse-lit_uv': 7.225930631707623, 'val...   \n",
       "6   {'val_Tm_adjusted_rmse-lit_uv': 11.09348009030...   \n",
       "7   {'n_fixed_feat': 0, 'train_dG_mae': 0.42332324...   \n",
       "8   {'val_Tm_adjusted_mae-arr': 5.415205181640467,...   \n",
       "9   {'val_dH_mae-arr': 5.124491731488668, 'val_Tm_...   \n",
       "10  {'val_dG_adjusted_rmse-arr': 0.538719547802726...   \n",
       "11  {'val_dH_mae-arr': 6.21932467160611, 'val_dG_b...   \n",
       "12  {'val_Tm_rmse-ov': 237.75808830188967, 'val_dG...   \n",
       "\n",
       "                                               config                     name  \n",
       "0   {'symmetry': False, 'test_mode': 'val', 'fit_m...    chilling-mausoleum-46  \n",
       "1   {'symmetry': False, 'test_mode': 'val', 'fit_m...      ghostly-skeleton-45  \n",
       "2   {'symmetry': False, 'test_mode': 'val', 'fit_m...  supernatural-warlock-44  \n",
       "3   {'symmetry': False, 'test_mode': 'val', 'fit_m...         spooky-goblin-43  \n",
       "4   {'symmetry': False, 'test_mode': 'val', 'fit_m...           scary-treat-42  \n",
       "5   {'symmetry': False, 'test_mode': 'val', 'fit_m...          evil-sorcery-41  \n",
       "6   {'symmetry': False, 'test_mode': 'val', 'fit_m...     enchanted-vampire-40  \n",
       "7   {'symmetry': False, 'test_mode': 'val', 'fit_m...     moonlit-mausoleum-39  \n",
       "8   {'symmetry': False, 'test_mode': 'val', 'fit_m...           moonlit-orb-38  \n",
       "9   {'symmetry': False, 'test_mode': 'val', 'fit_m...     enchanted-whisper-37  \n",
       "10  {'symmetry': False, 'test_mode': 'val', 'fit_m...             dire-mask-36  \n",
       "11  {'symmetry': False, 'test_mode': 'val', 'fit_m...   frightful-goosebump-35  \n",
       "12  {'symmetry': False, 'test_mode': 'val', 'fit_m...  unearthly-possession-34  "
      ]
     },
     "execution_count": 60,
     "metadata": {},
     "output_type": "execute_result"
    }
   ],
   "source": [
    "runs_df"
   ]
  },
  {
   "cell_type": "code",
   "execution_count": 5,
   "metadata": {},
   "outputs": [],
   "source": [
    "wandb_df = pd.read_csv('./data/wandb/wandb_export_2023-10-31T20_06_05.100-07_00.csv')"
   ]
  },
  {
   "cell_type": "code",
   "execution_count": 9,
   "metadata": {},
   "outputs": [
    {
     "data": {
      "text/plain": [
       "0             NaN\n",
       "1     nupack_test\n",
       "2     nupack_test\n",
       "3             NaN\n",
       "4     nupack_test\n",
       "5             NaN\n",
       "6     nupack_test\n",
       "7     nupack_test\n",
       "8     nupack_test\n",
       "9             NaN\n",
       "10    nupack_test\n",
       "11    nupack_test\n",
       "12            NaN\n",
       "13    nupack_test\n",
       "14    nupack_test\n",
       "15            NaN\n",
       "16            NaN\n",
       "Name: Tags, dtype: object"
      ]
     },
     "execution_count": 9,
     "metadata": {},
     "output_type": "execute_result"
    }
   ],
   "source": [
    "wandb_df.Tags"
   ]
  },
  {
   "cell_type": "code",
   "execution_count": 11,
   "metadata": {},
   "outputs": [
    {
     "data": {
      "text/html": [
       "<div>\n",
       "<style scoped>\n",
       "    .dataframe tbody tr th:only-of-type {\n",
       "        vertical-align: middle;\n",
       "    }\n",
       "\n",
       "    .dataframe tbody tr th {\n",
       "        vertical-align: top;\n",
       "    }\n",
       "\n",
       "    .dataframe thead th {\n",
       "        text-align: right;\n",
       "    }\n",
       "</style>\n",
       "<table border=\"1\" class=\"dataframe\">\n",
       "  <thead>\n",
       "    <tr style=\"text-align: right;\">\n",
       "      <th></th>\n",
       "      <th>Name</th>\n",
       "      <th>State</th>\n",
       "      <th>Notes</th>\n",
       "      <th>Created</th>\n",
       "      <th>Tags</th>\n",
       "      <th>feature_method</th>\n",
       "      <th>fixed_pclass</th>\n",
       "      <th>sep_base_stack</th>\n",
       "      <th>use_model_from</th>\n",
       "      <th>use_train_set_ratio</th>\n",
       "      <th>...</th>\n",
       "      <th>val_dG_mae-arr</th>\n",
       "      <th>val_dG_rmse-arr</th>\n",
       "      <th>val_dH_adjusted_mae-arr</th>\n",
       "      <th>val_dH_adjusted_rmse-arr</th>\n",
       "      <th>val_dH_bias-arr</th>\n",
       "      <th>val_dH_corr-arr</th>\n",
       "      <th>val_dH_mae-arr</th>\n",
       "      <th>val_dH_rmse-arr</th>\n",
       "      <th>dG_intercept</th>\n",
       "      <th>dH_intercept</th>\n",
       "    </tr>\n",
       "  </thead>\n",
       "  <tbody>\n",
       "    <tr>\n",
       "      <th>1</th>\n",
       "      <td>vague-mountain-52</td>\n",
       "      <td>finished</td>\n",
       "      <td>-</td>\n",
       "      <td>2023-11-01T02:52:27.000Z</td>\n",
       "      <td>nupack_test</td>\n",
       "      <td>get_nupack_feature_list</td>\n",
       "      <td>[\"hairpin_size\",\"interior_size\",\"bulge_size\",\"...</td>\n",
       "      <td>NaN</td>\n",
       "      <td>json</td>\n",
       "      <td>1.0</td>\n",
       "      <td>...</td>\n",
       "      <td>2.791837</td>\n",
       "      <td>2.889194</td>\n",
       "      <td>6.360076</td>\n",
       "      <td>8.159551</td>\n",
       "      <td>18.652429</td>\n",
       "      <td>0.706253</td>\n",
       "      <td>18.669692</td>\n",
       "      <td>20.359061</td>\n",
       "      <td>NaN</td>\n",
       "      <td>NaN</td>\n",
       "    </tr>\n",
       "    <tr>\n",
       "      <th>2</th>\n",
       "      <td>ghostly-skeleton-45</td>\n",
       "      <td>finished</td>\n",
       "      <td>-</td>\n",
       "      <td>2023-10-31T23:11:13.000Z</td>\n",
       "      <td>nupack_test</td>\n",
       "      <td>get_nupack_feature_list</td>\n",
       "      <td>[\"hairpin_size\",\"interior_size\",\"bulge_size\",\"...</td>\n",
       "      <td>NaN</td>\n",
       "      <td>json</td>\n",
       "      <td>0.9</td>\n",
       "      <td>...</td>\n",
       "      <td>2.694723</td>\n",
       "      <td>2.794994</td>\n",
       "      <td>6.356110</td>\n",
       "      <td>8.161822</td>\n",
       "      <td>18.479066</td>\n",
       "      <td>0.706509</td>\n",
       "      <td>18.502945</td>\n",
       "      <td>20.201268</td>\n",
       "      <td>NaN</td>\n",
       "      <td>NaN</td>\n",
       "    </tr>\n",
       "    <tr>\n",
       "      <th>4</th>\n",
       "      <td>logical-wood-51</td>\n",
       "      <td>finished</td>\n",
       "      <td>-</td>\n",
       "      <td>2023-11-01T02:44:15.000Z</td>\n",
       "      <td>nupack_test</td>\n",
       "      <td>get_nupack_feature_list</td>\n",
       "      <td>[\"hairpin_size\",\"interior_size\",\"bulge_size\",\"...</td>\n",
       "      <td>NaN</td>\n",
       "      <td>json</td>\n",
       "      <td>0.8</td>\n",
       "      <td>...</td>\n",
       "      <td>2.838056</td>\n",
       "      <td>2.933225</td>\n",
       "      <td>6.404810</td>\n",
       "      <td>8.211418</td>\n",
       "      <td>19.086837</td>\n",
       "      <td>0.702890</td>\n",
       "      <td>19.102520</td>\n",
       "      <td>20.778227</td>\n",
       "      <td>NaN</td>\n",
       "      <td>NaN</td>\n",
       "    </tr>\n",
       "    <tr>\n",
       "      <th>6</th>\n",
       "      <td>supernatural-warlock-44</td>\n",
       "      <td>finished</td>\n",
       "      <td>-</td>\n",
       "      <td>2023-10-31T23:02:53.000Z</td>\n",
       "      <td>nupack_test</td>\n",
       "      <td>get_nupack_feature_list</td>\n",
       "      <td>[\"hairpin_size\",\"interior_size\",\"bulge_size\",\"...</td>\n",
       "      <td>NaN</td>\n",
       "      <td>json</td>\n",
       "      <td>0.7</td>\n",
       "      <td>...</td>\n",
       "      <td>2.675603</td>\n",
       "      <td>2.778400</td>\n",
       "      <td>6.510224</td>\n",
       "      <td>8.354189</td>\n",
       "      <td>14.843033</td>\n",
       "      <td>0.695753</td>\n",
       "      <td>14.942734</td>\n",
       "      <td>17.032561</td>\n",
       "      <td>NaN</td>\n",
       "      <td>NaN</td>\n",
       "    </tr>\n",
       "    <tr>\n",
       "      <th>7</th>\n",
       "      <td>apricot-frost-50</td>\n",
       "      <td>finished</td>\n",
       "      <td>-</td>\n",
       "      <td>2023-11-01T02:36:02.000Z</td>\n",
       "      <td>nupack_test</td>\n",
       "      <td>get_nupack_feature_list</td>\n",
       "      <td>[\"hairpin_size\",\"interior_size\",\"bulge_size\",\"...</td>\n",
       "      <td>NaN</td>\n",
       "      <td>json</td>\n",
       "      <td>0.6</td>\n",
       "      <td>...</td>\n",
       "      <td>2.739660</td>\n",
       "      <td>2.838544</td>\n",
       "      <td>6.381573</td>\n",
       "      <td>8.204774</td>\n",
       "      <td>17.026548</td>\n",
       "      <td>0.702182</td>\n",
       "      <td>17.058942</td>\n",
       "      <td>18.900308</td>\n",
       "      <td>NaN</td>\n",
       "      <td>NaN</td>\n",
       "    </tr>\n",
       "    <tr>\n",
       "      <th>8</th>\n",
       "      <td>spooky-goblin-43</td>\n",
       "      <td>finished</td>\n",
       "      <td>-</td>\n",
       "      <td>2023-10-31T22:55:03.000Z</td>\n",
       "      <td>nupack_test</td>\n",
       "      <td>get_nupack_feature_list</td>\n",
       "      <td>[\"hairpin_size\",\"interior_size\",\"bulge_size\",\"...</td>\n",
       "      <td>NaN</td>\n",
       "      <td>json</td>\n",
       "      <td>0.5</td>\n",
       "      <td>...</td>\n",
       "      <td>2.732862</td>\n",
       "      <td>2.833166</td>\n",
       "      <td>6.494628</td>\n",
       "      <td>8.325717</td>\n",
       "      <td>16.097329</td>\n",
       "      <td>0.695749</td>\n",
       "      <td>16.151114</td>\n",
       "      <td>18.122957</td>\n",
       "      <td>NaN</td>\n",
       "      <td>NaN</td>\n",
       "    </tr>\n",
       "    <tr>\n",
       "      <th>10</th>\n",
       "      <td>likely-haze-49</td>\n",
       "      <td>finished</td>\n",
       "      <td>-</td>\n",
       "      <td>2023-11-01T02:28:01.000Z</td>\n",
       "      <td>nupack_test</td>\n",
       "      <td>get_nupack_feature_list</td>\n",
       "      <td>[\"hairpin_size\",\"interior_size\",\"bulge_size\",\"...</td>\n",
       "      <td>NaN</td>\n",
       "      <td>json</td>\n",
       "      <td>0.4</td>\n",
       "      <td>...</td>\n",
       "      <td>2.554343</td>\n",
       "      <td>2.663783</td>\n",
       "      <td>6.589009</td>\n",
       "      <td>8.414485</td>\n",
       "      <td>18.687560</td>\n",
       "      <td>0.690740</td>\n",
       "      <td>18.714836</td>\n",
       "      <td>20.494595</td>\n",
       "      <td>NaN</td>\n",
       "      <td>NaN</td>\n",
       "    </tr>\n",
       "    <tr>\n",
       "      <th>11</th>\n",
       "      <td>scary-treat-42</td>\n",
       "      <td>finished</td>\n",
       "      <td>-</td>\n",
       "      <td>2023-10-31T22:47:07.000Z</td>\n",
       "      <td>nupack_test</td>\n",
       "      <td>get_nupack_feature_list</td>\n",
       "      <td>[\"hairpin_size\",\"interior_size\",\"bulge_size\",\"...</td>\n",
       "      <td>NaN</td>\n",
       "      <td>json</td>\n",
       "      <td>0.3</td>\n",
       "      <td>...</td>\n",
       "      <td>2.928712</td>\n",
       "      <td>3.027609</td>\n",
       "      <td>6.385246</td>\n",
       "      <td>8.217143</td>\n",
       "      <td>13.524066</td>\n",
       "      <td>0.706417</td>\n",
       "      <td>13.696656</td>\n",
       "      <td>15.824721</td>\n",
       "      <td>NaN</td>\n",
       "      <td>NaN</td>\n",
       "    </tr>\n",
       "    <tr>\n",
       "      <th>13</th>\n",
       "      <td>eager-galaxy-48</td>\n",
       "      <td>finished</td>\n",
       "      <td>-</td>\n",
       "      <td>2023-11-01T02:20:05.000Z</td>\n",
       "      <td>nupack_test</td>\n",
       "      <td>get_nupack_feature_list</td>\n",
       "      <td>[\"hairpin_size\",\"interior_size\",\"bulge_size\",\"...</td>\n",
       "      <td>NaN</td>\n",
       "      <td>json</td>\n",
       "      <td>0.2</td>\n",
       "      <td>...</td>\n",
       "      <td>2.154613</td>\n",
       "      <td>2.286846</td>\n",
       "      <td>6.793244</td>\n",
       "      <td>8.687698</td>\n",
       "      <td>20.131928</td>\n",
       "      <td>0.678357</td>\n",
       "      <td>20.153905</td>\n",
       "      <td>21.926482</td>\n",
       "      <td>NaN</td>\n",
       "      <td>NaN</td>\n",
       "    </tr>\n",
       "    <tr>\n",
       "      <th>14</th>\n",
       "      <td>evil-sorcery-41</td>\n",
       "      <td>finished</td>\n",
       "      <td>-</td>\n",
       "      <td>2023-10-31T22:39:20.000Z</td>\n",
       "      <td>nupack_test</td>\n",
       "      <td>get_nupack_feature_list</td>\n",
       "      <td>[\"hairpin_size\",\"interior_size\",\"bulge_size\",\"...</td>\n",
       "      <td>NaN</td>\n",
       "      <td>json</td>\n",
       "      <td>0.1</td>\n",
       "      <td>...</td>\n",
       "      <td>0.907161</td>\n",
       "      <td>1.113955</td>\n",
       "      <td>6.446095</td>\n",
       "      <td>8.218293</td>\n",
       "      <td>2.396291</td>\n",
       "      <td>0.707993</td>\n",
       "      <td>6.467395</td>\n",
       "      <td>8.560523</td>\n",
       "      <td>NaN</td>\n",
       "      <td>NaN</td>\n",
       "    </tr>\n",
       "  </tbody>\n",
       "</table>\n",
       "<p>10 rows × 60 columns</p>\n",
       "</div>"
      ],
      "text/plain": [
       "                       Name     State Notes                   Created  \\\n",
       "1         vague-mountain-52  finished     -  2023-11-01T02:52:27.000Z   \n",
       "2       ghostly-skeleton-45  finished     -  2023-10-31T23:11:13.000Z   \n",
       "4           logical-wood-51  finished     -  2023-11-01T02:44:15.000Z   \n",
       "6   supernatural-warlock-44  finished     -  2023-10-31T23:02:53.000Z   \n",
       "7          apricot-frost-50  finished     -  2023-11-01T02:36:02.000Z   \n",
       "8          spooky-goblin-43  finished     -  2023-10-31T22:55:03.000Z   \n",
       "10           likely-haze-49  finished     -  2023-11-01T02:28:01.000Z   \n",
       "11           scary-treat-42  finished     -  2023-10-31T22:47:07.000Z   \n",
       "13          eager-galaxy-48  finished     -  2023-11-01T02:20:05.000Z   \n",
       "14          evil-sorcery-41  finished     -  2023-10-31T22:39:20.000Z   \n",
       "\n",
       "           Tags           feature_method  \\\n",
       "1   nupack_test  get_nupack_feature_list   \n",
       "2   nupack_test  get_nupack_feature_list   \n",
       "4   nupack_test  get_nupack_feature_list   \n",
       "6   nupack_test  get_nupack_feature_list   \n",
       "7   nupack_test  get_nupack_feature_list   \n",
       "8   nupack_test  get_nupack_feature_list   \n",
       "10  nupack_test  get_nupack_feature_list   \n",
       "11  nupack_test  get_nupack_feature_list   \n",
       "13  nupack_test  get_nupack_feature_list   \n",
       "14  nupack_test  get_nupack_feature_list   \n",
       "\n",
       "                                         fixed_pclass sep_base_stack  \\\n",
       "1   [\"hairpin_size\",\"interior_size\",\"bulge_size\",\"...            NaN   \n",
       "2   [\"hairpin_size\",\"interior_size\",\"bulge_size\",\"...            NaN   \n",
       "4   [\"hairpin_size\",\"interior_size\",\"bulge_size\",\"...            NaN   \n",
       "6   [\"hairpin_size\",\"interior_size\",\"bulge_size\",\"...            NaN   \n",
       "7   [\"hairpin_size\",\"interior_size\",\"bulge_size\",\"...            NaN   \n",
       "8   [\"hairpin_size\",\"interior_size\",\"bulge_size\",\"...            NaN   \n",
       "10  [\"hairpin_size\",\"interior_size\",\"bulge_size\",\"...            NaN   \n",
       "11  [\"hairpin_size\",\"interior_size\",\"bulge_size\",\"...            NaN   \n",
       "13  [\"hairpin_size\",\"interior_size\",\"bulge_size\",\"...            NaN   \n",
       "14  [\"hairpin_size\",\"interior_size\",\"bulge_size\",\"...            NaN   \n",
       "\n",
       "   use_model_from  use_train_set_ratio  ...  val_dG_mae-arr val_dG_rmse-arr  \\\n",
       "1            json                  1.0  ...        2.791837        2.889194   \n",
       "2            json                  0.9  ...        2.694723        2.794994   \n",
       "4            json                  0.8  ...        2.838056        2.933225   \n",
       "6            json                  0.7  ...        2.675603        2.778400   \n",
       "7            json                  0.6  ...        2.739660        2.838544   \n",
       "8            json                  0.5  ...        2.732862        2.833166   \n",
       "10           json                  0.4  ...        2.554343        2.663783   \n",
       "11           json                  0.3  ...        2.928712        3.027609   \n",
       "13           json                  0.2  ...        2.154613        2.286846   \n",
       "14           json                  0.1  ...        0.907161        1.113955   \n",
       "\n",
       "    val_dH_adjusted_mae-arr  val_dH_adjusted_rmse-arr val_dH_bias-arr  \\\n",
       "1                  6.360076                  8.159551       18.652429   \n",
       "2                  6.356110                  8.161822       18.479066   \n",
       "4                  6.404810                  8.211418       19.086837   \n",
       "6                  6.510224                  8.354189       14.843033   \n",
       "7                  6.381573                  8.204774       17.026548   \n",
       "8                  6.494628                  8.325717       16.097329   \n",
       "10                 6.589009                  8.414485       18.687560   \n",
       "11                 6.385246                  8.217143       13.524066   \n",
       "13                 6.793244                  8.687698       20.131928   \n",
       "14                 6.446095                  8.218293        2.396291   \n",
       "\n",
       "    val_dH_corr-arr  val_dH_mae-arr val_dH_rmse-arr  dG_intercept  \\\n",
       "1          0.706253       18.669692       20.359061           NaN   \n",
       "2          0.706509       18.502945       20.201268           NaN   \n",
       "4          0.702890       19.102520       20.778227           NaN   \n",
       "6          0.695753       14.942734       17.032561           NaN   \n",
       "7          0.702182       17.058942       18.900308           NaN   \n",
       "8          0.695749       16.151114       18.122957           NaN   \n",
       "10         0.690740       18.714836       20.494595           NaN   \n",
       "11         0.706417       13.696656       15.824721           NaN   \n",
       "13         0.678357       20.153905       21.926482           NaN   \n",
       "14         0.707993        6.467395        8.560523           NaN   \n",
       "\n",
       "    dH_intercept  \n",
       "1            NaN  \n",
       "2            NaN  \n",
       "4            NaN  \n",
       "6            NaN  \n",
       "7            NaN  \n",
       "8            NaN  \n",
       "10           NaN  \n",
       "11           NaN  \n",
       "13           NaN  \n",
       "14           NaN  \n",
       "\n",
       "[10 rows x 60 columns]"
      ]
     },
     "execution_count": 11,
     "metadata": {},
     "output_type": "execute_result"
    }
   ],
   "source": [
    "query = 'Tags == \"nupack_test\"'\n",
    "wandb_df.query(query)"
   ]
  },
  {
   "cell_type": "code",
   "execution_count": 16,
   "metadata": {
    "scrolled": true
   },
   "outputs": [
    {
     "data": {
      "image/png": "[encoded data removed]",
      "text/plain": [
       "<Figure size 640x480 with 1 Axes>"
      ]
     },
     "metadata": {},
     "output_type": "display_data"
    }
   ],
   "source": [
    "fig, ax = plt.subplots()\n",
    "sns.lineplot(data=wandb_df.query(query), \n",
    "             x='use_train_set_ratio', y='val_Tm_adjusted_mae-ov',\n",
    "            ax=ax, marker='s')\n",
    "# ax.set_ylim(bottom=0, top=1)\n",
    "ax.set_ylim(bottom=0)\n",
    "plotting.beutify(ax)\n",
    "util.save_fig('./fig/Fig4/mae.pdf')"
   ]
  },
  {
   "cell_type": "code",
   "execution_count": 19,
   "metadata": {},
   "outputs": [],
   "source": [
    "from pprint import pprint"
   ]
  },
  {
   "cell_type": "code",
   "execution_count": 27,
   "metadata": {},
   "outputs": [],
   "source": [
    "# import pandas as pd \n",
    "# import wandb\n",
    "api = wandb.Api()\n",
    "\n",
    "# Project is specified by <entity/project-name>\n",
    "runs = api.runs(\"keyuxi/NNN_GNN\")\n",
    "\n",
    "summary_list, config_list, name_list, history_list = [], [], [], []\n",
    "for run in runs:\n",
    "    run_name_ind = int(run.name.split('-')[-1])\n",
    "\n",
    "    if run_name_ind >= 242 and run_name_ind < 250:\n",
    "        # .summary contains the output keys/values for metrics like accuracy.\n",
    "        #  We call ._json_dict to omit large files \n",
    "        summary_dict = run.summary._json_dict\n",
    "        \n",
    "        keys_2_del = []\n",
    "        for key in summary_dict:\n",
    "            if key.startswith('_') or key.startswith('gradients') or key.startswith('parameters'):\n",
    "                keys_2_del.append(key)\n",
    "\n",
    "        summary_dict = {k:v for k,v in summary_dict.items() if not k in keys_2_del}\n",
    "        summary_list.append(summary_dict)\n",
    "    \n",
    "        # .config contains the hyperparameters.\n",
    "        #  We remove special values that start with _.\n",
    "        config_list.append(\n",
    "            {k: v for k,v in run.config.items()\n",
    "              if not k.startswith('_')})\n",
    "    \n",
    "        # .name is the human-readable name of the run.\n",
    "        name_list.append(run.name)\n",
    "\n",
    "        # History\n",
    "        history_keys = ['Tm_corr_uv']\n",
    "        history = run.scan_history(keys=history_keys)\n",
    "        losses = [row[\"Tm_corr_uv\"] for row in history]\n",
    "        history_list.append(losses)\n",
    "\n",
    "runs_df = pd.DataFrame({\n",
    "    \"summary\": summary_list,\n",
    "    \"config\": config_list,\n",
    "    \"name\": name_list\n",
    "    }).set_index('name')\n",
    "\n",
    "# runs_df.to_csv(\"project.csv\")"
   ]
  },
  {
   "cell_type": "code",
   "execution_count": 28,
   "metadata": {},
   "outputs": [
    {
     "name": "stdout",
     "output_type": "stream",
     "text": [
      "{'Tm_bias_lit_uv': 5.876175164183053,\n",
      " 'Tm_bias_ov': 13.11461226787324,\n",
      " 'Tm_corr_lit_uv': 0.77258619499824,\n",
      " 'Tm_corr_ov': 0.48518971498848346,\n",
      " 'Tm_corr_uv': 0.8519524312528577,\n",
      " 'Tm_mae': 1.8019617497169071,\n",
      " 'Tm_mae_adj_lit_uv': 5.378113375038822,\n",
      " 'Tm_mae_adj_ov': 3.2548427118019996,\n",
      " 'Tm_mae_lit_uv': 6.352240881980617,\n",
      " 'Tm_mae_ov': 11.516890097226364,\n",
      " 'Tm_mae_uv': 7.032573980658693,\n",
      " 'Tm_rmse': 2.5217840455085057,\n",
      " 'dG_37_mae': 0.18657584125077775,\n",
      " 'dG_37_rmse': 0.2646356476518047,\n",
      " 'dH_mae': 3.04044810647389,\n",
      " 'dH_rmse': 4.18048307112973,\n",
      " 'extra test results': {'_type': 'image-file',\n",
      "                        'format': 'png',\n",
      "                        'height': 300,\n",
      "                        'path': 'media/images/extra test '\n",
      "                                'results_294_60af26e654f94c5cd5a7.png',\n",
      "                        'sha256': '60af26e654f94c5cd5a7ce7d10ca362390e22b419a20c67cccc9399b138aa9e6',\n",
      "                        'size': 44754,\n",
      "                        'width': 900},\n",
      " 'fig': {'_type': 'image-file',\n",
      "         'format': 'png',\n",
      "         'height': 1200,\n",
      "         'path': 'media/images/fig_290_3c0b72d244bd0206886d.png',\n",
      "         'sha256': '3c0b72d244bd0206886d2e806a0d1f947abcb1aa7c8116dbc13efb487829eab8',\n",
      "         'size': 522047,\n",
      "         'width': 1700},\n",
      " 'lit_uv_table': {'_latest_artifact_path': 'wandb-client-artifact://im496s4zgthyhtvnv8fvqinro52dw30fmj3tnjhsyrdfhcfhsenjxmwiz37pjhlv6w9oby44iwqp2nowopo2n5ao42r7zcw53obqr6lsouebi55b1a7w1lyot8r15ko9:latest/lit_uv_table.table.json',\n",
      "                  '_type': 'table-file',\n",
      "                  'artifact_path': 'wandb-client-artifact://im496s4zgthyhtvnv8fvqinro52dw30fmj3tnjhsyrdfhcfhsenjxmwiz37pjhlv6w9oby44iwqp2nowopo2n5ao42r7zcw53obqr6lsouebi55b1a7w1lyot8r15ko9:latest/lit_uv_table.table.json',\n",
      "                  'ncols': 2,\n",
      "                  'nrows': 174,\n",
      "                  'path': 'media/table/lit_uv_table_292_f680320aa35522183c7d.table.json',\n",
      "                  'sha256': 'f680320aa35522183c7df6f0e80a3a0ddbf50c023923db17516868d8f91ced43',\n",
      "                  'size': 6990},\n",
      " 'n_parameters': 287136,\n",
      " 'ov_table': {'_latest_artifact_path': 'wandb-client-artifact://o2knd3jd0aq7rt41vnsuxbhu6nsz412xl43a7dqgbvuuxhz2vn9bm3bmgmpj8ugxjv0yb7dnyu3ors26ajriogv0bwncu2pxokfgd482x505yt2o2mhw6jbjhlygnqz5:latest/ov_table.table.json',\n",
      "              '_type': 'table-file',\n",
      "              'artifact_path': 'wandb-client-artifact://o2knd3jd0aq7rt41vnsuxbhu6nsz412xl43a7dqgbvuuxhz2vn9bm3bmgmpj8ugxjv0yb7dnyu3ors26ajriogv0bwncu2pxokfgd482x505yt2o2mhw6jbjhlygnqz5:latest/ov_table.table.json',\n",
      "              'ncols': 2,\n",
      "              'nrows': 1388,\n",
      "              'path': 'media/table/ov_table_293_0dfef34a84752e5f8eb9.table.json',\n",
      "              'sha256': '0dfef34a84752e5f8eb9ceb97912a418690186334a7b1ee69c1619cca811bb54',\n",
      "              'size': 56072},\n",
      " 'test_rmse': 0.07738497309377398,\n",
      " 'train_rmse': 0.061487424495525494,\n",
      " 'uv_table': {'_latest_artifact_path': 'wandb-client-artifact://mempe6i9hjj6rz8868o4qtgtumgoyawen0swwnostufamo4iypphz3vza4cer4i4gqf99d4zfqefpdliakldjszo3xzgezc09imm4505yd0sgmd9vum3gkcnkgu41t2t:latest/uv_table.table.json',\n",
      "              '_type': 'table-file',\n",
      "              'artifact_path': 'wandb-client-artifact://mempe6i9hjj6rz8868o4qtgtumgoyawen0swwnostufamo4iypphz3vza4cer4i4gqf99d4zfqefpdliakldjszo3xzgezc09imm4505yd0sgmd9vum3gkcnkgu41t2t:latest/uv_table.table.json',\n",
      "              'ncols': 2,\n",
      "              'nrows': 6,\n",
      "              'path': 'media/table/uv_table_291_07a19679e2fde5405706.table.json',\n",
      "              'sha256': '07a19679e2fde54057061efd82763a75f9c3afe10dc25616757f99a2a3dcc399',\n",
      "              'size': 279}}\n"
     ]
    }
   ],
   "source": [
    "pprint(runs_df.iloc[0].summary)"
   ]
  },
  {
   "cell_type": "code",
   "execution_count": null,
   "metadata": {},
   "outputs": [],
   "source": []
  }
 ],
 "metadata": {
  "kernelspec": {
   "display_name": "Python 3 (ipykernel)",
   "language": "python",
   "name": "python3"
  },
  "language_info": {
   "codemirror_mode": {
    "name": "ipython",
    "version": 3
   },
   "file_extension": ".py",
   "mimetype": "text/x-python",
   "name": "python",
   "nbconvert_exporter": "python",
   "pygments_lexer": "ipython3",
   "version": "3.8.18"
  }
 },
 "nbformat": 4,
 "nbformat_minor": 4
}
