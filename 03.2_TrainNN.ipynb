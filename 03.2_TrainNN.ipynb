{
 "cells": [
  {
   "cell_type": "code",
   "execution_count": 1,
   "metadata": {},
   "outputs": [],
   "source": [
    "%load_ext autoreload\n",
    "%autoreload 2\n",
    "\n",
    "import numpy as np\n",
    "import pandas as pd\n",
    "import matplotlib.pyplot as plt\n",
    "import matplotlib\n",
    "from matplotlib.ticker import (MultipleLocator, FormatStrFormatter,\n",
    "                               AutoMinorLocator)\n",
    "import seaborn as sns\n",
    "import json, os, pickle\n",
    "from collections import defaultdict\n",
    "import nupack\n",
    "import sklearn\n",
    "from scipy import stats\n",
    "\n",
    "\n",
    "from tqdm import tqdm\n",
    "import itertools\n",
    "\n",
    "from nnn import util, fileio, mupack, plotting, modeling\n",
    "import nnn.motif_fit as mf\n",
    "import wandb\n",
    "\n",
    "# suppress warnings \n",
    "import warnings\n",
    "warnings.filterwarnings(\"ignore\")\n",
    "\n",
    "from nnn import train_nn as tnn"
   ]
  },
  {
   "cell_type": "code",
   "execution_count": 2,
   "metadata": {},
   "outputs": [],
   "source": [
    "fixed_pclass = ['hairpin_size', 'interior_size', 'bulge_size', 'hairpin_triloop', 'hairpin_tetraloop', 'terminal_mismatch', 'stack']\n",
    "config = dict(\n",
    "    use_train_set_ratio = 1.,\n",
    "    fit_method = 'svd',\n",
    "    feature_method = 'get_nupack_feature_list',\n",
    "    fit_intercept=False, \n",
    "    symmetry=False,\n",
    "    fix_some_coef=True,\n",
    "    fixed_pclass = fixed_pclass,\n",
    "    test_mode = 'val', # {'val', 'test'}\n",
    "    use_model_from = 'json', # {'lr_dict', 'json'}\n",
    "    )"
   ]
  },
  {
   "cell_type": "code",
   "execution_count": 8,
   "metadata": {},
   "outputs": [],
   "source": [
    "fileio.write_json(dict(wandb_config), './models/test.json')"
   ]
  },
  {
   "cell_type": "code",
   "execution_count": 2,
   "metadata": {},
   "outputs": [],
   "source": [
    "fixed_pclass = []#['hairpin_size', 'interior_size', 'bulge_size', 'hairpin_triloop', 'hairpin_tetraloop', 'terminal_mismatch', 'stack']\n",
    "config = dict(\n",
    "    use_train_set_ratio = .1,\n",
    "    fit_method = 'svd',\n",
    "    feature_method = 'get_feature_list',\n",
    "    fit_intercept=False, \n",
    "    symmetry=False,\n",
    "    sep_base_stack=True,\n",
    "    fix_some_coef=True,\n",
    "    fixed_pclass = fixed_pclass,\n",
    "    test_mode = 'val', # {'val', 'test'}\n",
    "    use_model_from = 'lr_dict', # {'lr_dict', 'json'}\n",
    "    )"
   ]
  },
  {
   "cell_type": "code",
   "execution_count": 9,
   "metadata": {
    "scrolled": true
   },
   "outputs": [
    {
     "data": {
      "text/html": [
       "Tracking run with wandb version 0.15.12"
      ],
      "text/plain": [
       "<IPython.core.display.HTML object>"
      ]
     },
     "metadata": {},
     "output_type": "display_data"
    },
    {
     "data": {
      "text/html": [
       "Run data is saved locally in <code>/Users/yuxi/workspace/nnn_paper/wandb/run-20231030_152712-uqp1af7j</code>"
      ],
      "text/plain": [
       "<IPython.core.display.HTML object>"
      ]
     },
     "metadata": {},
     "output_type": "display_data"
    },
    {
     "data": {
      "text/html": [
       "Syncing run <strong><a href='https://wandb.ai/keyuxi/NN/runs/uqp1af7j' target=\"_blank\">unearthly-possession-34</a></strong> to <a href='https://wandb.ai/keyuxi/NN' target=\"_blank\">Weights & Biases</a> (<a href='https://wandb.me/run' target=\"_blank\">docs</a>)<br/>"
      ],
      "text/plain": [
       "<IPython.core.display.HTML object>"
      ]
     },
     "metadata": {},
     "output_type": "display_data"
    },
    {
     "data": {
      "text/html": [
       " View project at <a href='https://wandb.ai/keyuxi/NN' target=\"_blank\">https://wandb.ai/keyuxi/NN</a>"
      ],
      "text/plain": [
       "<IPython.core.display.HTML object>"
      ]
     },
     "metadata": {},
     "output_type": "display_data"
    },
    {
     "data": {
      "text/html": [
       " View run at <a href='https://wandb.ai/keyuxi/NN/runs/uqp1af7j' target=\"_blank\">https://wandb.ai/keyuxi/NN/runs/uqp1af7j</a>"
      ],
      "text/plain": [
       "<IPython.core.display.HTML object>"
      ]
     },
     "metadata": {},
     "output_type": "display_data"
    },
    {
     "name": "stdout",
     "output_type": "stream",
     "text": [
      "feats (27732, 1338) Index(['A+A+T+T_(+(+)+)', 'A+C+G+T_(+(+)+)', 'A+G+C+T_(+(+)+)'], dtype='object')\n",
      "fixed_feature_names: []\n",
      "Empty DataFrame\n",
      "Columns: [dH]\n",
      "Index: []\n",
      "[]\n",
      "Warning: Rank of matrix A_unknown, 985, is smaller than the number of features 1338!\n",
      "Empty DataFrame\n",
      "Columns: [dG]\n",
      "Index: []\n",
      "[]\n",
      "Warning: Rank of matrix A_unknown, 998, is smaller than the number of features 1338!\n"
     ]
    },
    {
     "data": {
      "text/html": [
       "Waiting for W&B process to finish... <strong style=\"color:green\">(success).</strong>"
      ],
      "text/plain": [
       "<IPython.core.display.HTML object>"
      ]
     },
     "metadata": {},
     "output_type": "display_data"
    },
    {
     "data": {
      "text/html": [
       "<style>\n",
       "    table.wandb td:nth-child(1) { padding: 0 10px; text-align: left ; width: auto;} td:nth-child(2) {text-align: left ; width: 100%}\n",
       "    .wandb-row { display: flex; flex-direction: row; flex-wrap: wrap; justify-content: flex-start; width: 100% }\n",
       "    .wandb-col { display: flex; flex-direction: column; flex-basis: 100%; flex: 1; padding: 10px; }\n",
       "    </style>\n",
       "<div class=\"wandb-row\"><div class=\"wandb-col\"><h3>Run history:</h3><br/><table class=\"wandb\"><tr><td>n_feat</td><td>▁</td></tr><tr><td>n_fixed_feat</td><td>▁</td></tr><tr><td>train_dG_mae</td><td>▁</td></tr><tr><td>train_dG_rsqr</td><td>▁</td></tr><tr><td>train_dH_mae</td><td>▁</td></tr><tr><td>train_dH_rsqr</td><td>▁</td></tr><tr><td>val_Tm_adjusted_mae-all</td><td>▁</td></tr><tr><td>val_Tm_adjusted_mae-arr</td><td>▁</td></tr><tr><td>val_Tm_adjusted_mae-lit_uv</td><td>▁</td></tr><tr><td>val_Tm_adjusted_mae-ov</td><td>▁</td></tr><tr><td>val_Tm_adjusted_rmse-all</td><td>▁</td></tr><tr><td>val_Tm_adjusted_rmse-arr</td><td>▁</td></tr><tr><td>val_Tm_adjusted_rmse-lit_uv</td><td>▁</td></tr><tr><td>val_Tm_adjusted_rmse-ov</td><td>▁</td></tr><tr><td>val_Tm_bias-all</td><td>▁</td></tr><tr><td>val_Tm_bias-arr</td><td>▁</td></tr><tr><td>val_Tm_bias-lit_uv</td><td>▁</td></tr><tr><td>val_Tm_bias-ov</td><td>▁</td></tr><tr><td>val_Tm_corr-all</td><td>▁</td></tr><tr><td>val_Tm_corr-arr</td><td>▁</td></tr><tr><td>val_Tm_corr-lit_uv</td><td>▁</td></tr><tr><td>val_Tm_corr-ov</td><td>▁</td></tr><tr><td>val_Tm_mae-all</td><td>▁</td></tr><tr><td>val_Tm_mae-arr</td><td>▁</td></tr><tr><td>val_Tm_mae-lit_uv</td><td>▁</td></tr><tr><td>val_Tm_mae-ov</td><td>▁</td></tr><tr><td>val_Tm_rmse-all</td><td>▁</td></tr><tr><td>val_Tm_rmse-arr</td><td>▁</td></tr><tr><td>val_Tm_rmse-lit_uv</td><td>▁</td></tr><tr><td>val_Tm_rmse-ov</td><td>▁</td></tr><tr><td>val_dG_adjusted_mae-arr</td><td>▁</td></tr><tr><td>val_dG_adjusted_rmse-arr</td><td>▁</td></tr><tr><td>val_dG_bias-arr</td><td>▁</td></tr><tr><td>val_dG_corr-arr</td><td>▁</td></tr><tr><td>val_dG_mae-arr</td><td>▁</td></tr><tr><td>val_dG_rmse-arr</td><td>▁</td></tr><tr><td>val_dH_adjusted_mae-arr</td><td>▁</td></tr><tr><td>val_dH_adjusted_rmse-arr</td><td>▁</td></tr><tr><td>val_dH_bias-arr</td><td>▁</td></tr><tr><td>val_dH_corr-arr</td><td>▁</td></tr><tr><td>val_dH_mae-arr</td><td>▁</td></tr><tr><td>val_dH_rmse-arr</td><td>▁</td></tr></table><br/></div><div class=\"wandb-col\"><h3>Run summary:</h3><br/><table class=\"wandb\"><tr><td>n_feat</td><td>1338</td></tr><tr><td>n_fixed_feat</td><td>0</td></tr><tr><td>train_dG_mae</td><td>0.31783</td></tr><tr><td>train_dG_rsqr</td><td>0.8608</td></tr><tr><td>train_dH_mae</td><td>3.68744</td></tr><tr><td>train_dH_rsqr</td><td>0.72175</td></tr><tr><td>val_Tm_adjusted_mae-all</td><td>115.52605</td></tr><tr><td>val_Tm_adjusted_mae-arr</td><td>12.66455</td></tr><tr><td>val_Tm_adjusted_mae-lit_uv</td><td>9.54959</td></tr><tr><td>val_Tm_adjusted_mae-ov</td><td>2.82836</td></tr><tr><td>val_Tm_adjusted_rmse-all</td><td>116.92675</td></tr><tr><td>val_Tm_adjusted_rmse-arr</td><td>28.31064</td></tr><tr><td>val_Tm_adjusted_rmse-lit_uv</td><td>10.79507</td></tr><tr><td>val_Tm_adjusted_rmse-ov</td><td>3.51555</td></tr><tr><td>val_Tm_bias-all</td><td>132.54839</td></tr><tr><td>val_Tm_bias-arr</td><td>7.44576</td></tr><tr><td>val_Tm_bias-lit_uv</td><td>246.81493</td></tr><tr><td>val_Tm_bias-ov</td><td>237.7321</td></tr><tr><td>val_Tm_corr-all</td><td>0.34329</td></tr><tr><td>val_Tm_corr-arr</td><td>0.17202</td></tr><tr><td>val_Tm_corr-lit_uv</td><td>0.92662</td></tr><tr><td>val_Tm_corr-ov</td><td>0.6428</td></tr><tr><td>val_Tm_mae-all</td><td>134.43213</td></tr><tr><td>val_Tm_mae-arr</td><td>11.54842</td></tr><tr><td>val_Tm_mae-lit_uv</td><td>246.81493</td></tr><tr><td>val_Tm_mae-ov</td><td>237.7321</td></tr><tr><td>val_Tm_rmse-all</td><td>176.75107</td></tr><tr><td>val_Tm_rmse-arr</td><td>29.27339</td></tr><tr><td>val_Tm_rmse-lit_uv</td><td>247.05089</td></tr><tr><td>val_Tm_rmse-ov</td><td>237.75809</td></tr><tr><td>val_dG_adjusted_mae-arr</td><td>0.63422</td></tr><tr><td>val_dG_adjusted_rmse-arr</td><td>0.86777</td></tr><tr><td>val_dG_bias-arr</td><td>-0.21267</td></tr><tr><td>val_dG_corr-arr</td><td>0.67473</td></tr><tr><td>val_dG_mae-arr</td><td>0.62407</td></tr><tr><td>val_dG_rmse-arr</td><td>0.89345</td></tr><tr><td>val_dH_adjusted_mae-arr</td><td>6.2819</td></tr><tr><td>val_dH_adjusted_rmse-arr</td><td>8.2551</td></tr><tr><td>val_dH_bias-arr</td><td>0.22783</td></tr><tr><td>val_dH_corr-arr</td><td>0.69068</td></tr><tr><td>val_dH_mae-arr</td><td>6.27461</td></tr><tr><td>val_dH_rmse-arr</td><td>8.25824</td></tr></table><br/></div></div>"
      ],
      "text/plain": [
       "<IPython.core.display.HTML object>"
      ]
     },
     "metadata": {},
     "output_type": "display_data"
    },
    {
     "data": {
      "text/html": [
       " View run <strong style=\"color:#cdcd00\">unearthly-possession-34</strong> at: <a href='https://wandb.ai/keyuxi/NN/runs/uqp1af7j' target=\"_blank\">https://wandb.ai/keyuxi/NN/runs/uqp1af7j</a><br/>Synced 6 W&B file(s), 0 media file(s), 0 artifact file(s) and 0 other file(s)"
      ],
      "text/plain": [
       "<IPython.core.display.HTML object>"
      ]
     },
     "metadata": {},
     "output_type": "display_data"
    },
    {
     "data": {
      "text/html": [
       "Find logs at: <code>./wandb/run-20231030_152712-uqp1af7j/logs</code>"
      ],
      "text/plain": [
       "<IPython.core.display.HTML object>"
      ]
     },
     "metadata": {},
     "output_type": "display_data"
    },
    {
     "data": {
      "text/plain": [
       "{'dH': LinearRegressionSVD(param='dH'), 'dG': LinearRegressionSVD()}"
      ]
     },
     "execution_count": 9,
     "metadata": {},
     "output_type": "execute_result"
    },
    {
     "data": {
      "image/png": "[encoded data removed]",
      "text/plain": [
       "<Figure size 800x400 with 2 Axes>"
      ]
     },
     "metadata": {},
     "output_type": "display_data"
    }
   ],
   "source": [
    "tnn.model_pipeline(config)"
   ]
  },
  {
   "cell_type": "code",
   "execution_count": 3,
   "metadata": {
    "scrolled": true
   },
   "outputs": [
    {
     "data": {
      "text/plain": [
       "array([0.2, 0.4, 0.6, 0.8, 1. ])"
      ]
     },
     "execution_count": 3,
     "metadata": {},
     "output_type": "execute_result"
    }
   ],
   "source": [
    "myrange = np.arange(0.2, 1.2, .2)\n",
    "myrange"
   ]
  },
  {
   "cell_type": "code",
   "execution_count": null,
   "metadata": {
    "scrolled": true
   },
   "outputs": [
    {
     "name": "stderr",
     "output_type": "stream",
     "text": [
      "\u001b[34m\u001b[1mwandb\u001b[0m: Currently logged in as: \u001b[33mkeyuxi\u001b[0m. Use \u001b[1m`wandb login --relogin`\u001b[0m to force relogin\n"
     ]
    },
    {
     "data": {
      "text/html": [
       "Tracking run with wandb version 0.15.12"
      ],
      "text/plain": [
       "<IPython.core.display.HTML object>"
      ]
     },
     "metadata": {},
     "output_type": "display_data"
    },
    {
     "data": {
      "text/html": [
       "Run data is saved locally in <code>/Users/yuxi/workspace/nnn_paper/wandb/run-20231031_192005-aysj9kqn</code>"
      ],
      "text/plain": [
       "<IPython.core.display.HTML object>"
      ]
     },
     "metadata": {},
     "output_type": "display_data"
    },
    {
     "data": {
      "text/html": [
       "Syncing run <strong><a href='https://wandb.ai/keyuxi/NN/runs/aysj9kqn' target=\"_blank\">eager-galaxy-48</a></strong> to <a href='https://wandb.ai/keyuxi/NN' target=\"_blank\">Weights & Biases</a> (<a href='https://wandb.me/run' target=\"_blank\">docs</a>)<br/>"
      ],
      "text/plain": [
       "<IPython.core.display.HTML object>"
      ]
     },
     "metadata": {},
     "output_type": "display_data"
    },
    {
     "data": {
      "text/html": [
       " View project at <a href='https://wandb.ai/keyuxi/NN' target=\"_blank\">https://wandb.ai/keyuxi/NN</a>"
      ],
      "text/plain": [
       "<IPython.core.display.HTML object>"
      ]
     },
     "metadata": {},
     "output_type": "display_data"
    },
    {
     "data": {
      "text/html": [
       " View run at <a href='https://wandb.ai/keyuxi/NN/runs/aysj9kqn' target=\"_blank\">https://wandb.ai/keyuxi/NN/runs/aysj9kqn</a>"
      ],
      "text/plain": [
       "<IPython.core.display.HTML object>"
      ]
     },
     "metadata": {},
     "output_type": "display_data"
    },
    {
     "name": "stdout",
     "output_type": "stream",
     "text": [
      "feats (27732, 178) Index(['bulge_size#1', 'bulge_size#2', 'hairpin_loop_mid#A'], dtype='object')\n",
      "fixed_feature_names: ['bulge_size#1', 'bulge_size#2', 'hairpin_size#3', 'hairpin_size#4', 'hairpin_size#11', 'hairpin_size#14', 'hairpin_size#17', 'hairpin_size#20', 'interior_size#2', 'interior_size#4', 'stack#AATT', 'stack#ACGT', 'stack#AGCT', 'stack#ATAT', 'stack#CATG', 'stack#CCGG', 'stack#CGCG', 'stack#CTAG', 'stack#GATC', 'stack#GCGC', 'stack#GGCC', 'stack#GTAC', 'stack#TATA', 'stack#TCGA', 'stack#TGCA', 'stack#TTAA']\n",
      "                           dH\n",
      "bulge_size#1              0.0\n",
      "bulge_size#2              0.0\n",
      "bulge_size#3              0.0\n",
      "bulge_size#4              0.0\n",
      "bulge_size#5              0.0\n",
      "...                       ...\n",
      "hairpin_tetraloop#CCTTGG  0.0\n",
      "hairpin_tetraloop#GCTTGC  0.0\n",
      "hairpin_tetraloop#GCTTGT  0.0\n",
      "hairpin_tetraloop#TCTTGA  0.0\n",
      "hairpin_tetraloop#TCTTGG  0.0\n",
      "\n",
      "[352 rows x 1 columns]\n",
      "['bulge_size#1', 'bulge_size#2', 'hairpin_size#11', 'hairpin_size#14', 'hairpin_size#17', 'hairpin_size#20', 'hairpin_size#3', 'hairpin_size#4', 'interior_size#2', 'interior_size#4', 'stack#AATT', 'stack#ACGT', 'stack#AGCT', 'stack#ATAT', 'stack#CATG', 'stack#CCGG', 'stack#CGCG', 'stack#CTAG', 'stack#GATC', 'stack#GCGC', 'stack#GGCC', 'stack#GTAC', 'stack#TATA', 'stack#TCGA', 'stack#TGCA', 'stack#TTAA']\n",
      "                           dG\n",
      "bulge_size#1              4.0\n",
      "bulge_size#2              2.9\n",
      "bulge_size#3              3.1\n",
      "bulge_size#4              3.2\n",
      "bulge_size#5              3.3\n",
      "...                       ...\n",
      "hairpin_tetraloop#CCTTGG -0.8\n",
      "hairpin_tetraloop#GCTTGC -0.8\n",
      "hairpin_tetraloop#GCTTGT -0.5\n",
      "hairpin_tetraloop#TCTTGA -0.8\n",
      "hairpin_tetraloop#TCTTGG -0.5\n",
      "\n",
      "[352 rows x 1 columns]\n",
      "['bulge_size#1', 'bulge_size#2', 'hairpin_size#11', 'hairpin_size#14', 'hairpin_size#17', 'hairpin_size#20', 'hairpin_size#3', 'hairpin_size#4', 'interior_size#2', 'interior_size#4', 'stack#AATT', 'stack#ACGT', 'stack#AGCT', 'stack#ATAT', 'stack#CATG', 'stack#CCGG', 'stack#CGCG', 'stack#CTAG', 'stack#GATC', 'stack#GCGC', 'stack#GGCC', 'stack#GTAC', 'stack#TATA', 'stack#TCGA', 'stack#TGCA', 'stack#TTAA']\n",
      "Centering new parameters...\n",
      "group bulge_size\n",
      "group hairpin_mismatch\n",
      "\tMean value of old_dict is -3.684\n",
      "\tMean value of fitted new_dict is -13.226\n",
      "\tMean value of centered new_dict is -3.684\n",
      "\n",
      "group hairpin_size\n",
      "group interior_mismatch\n",
      "\tMean value of old_dict is -2.913\n",
      "\tMean value of fitted new_dict is -5.926\n",
      "\tMean value of centered new_dict is -2.913\n",
      "\n",
      "group interior_size\n",
      "group stack\n",
      "\tMean value of old_dict is -8.275\n",
      "\tMean value of fitted new_dict is -8.275\n",
      "\tMean value of centered new_dict is -8.275\n",
      "\n",
      "group terminal_penalty\n",
      "\tMean value of old_dict is 1.100\n",
      "\tMean value of fitted new_dict is -0.985\n",
      "\tMean value of centered new_dict is 1.100\n",
      "\n",
      "Centering new parameters...\n",
      "group bulge_size\n",
      "group hairpin_mismatch\n",
      "\tMean value of old_dict is -0.715\n",
      "\tMean value of fitted new_dict is -3.320\n",
      "\tMean value of centered new_dict is -0.715\n",
      "\n",
      "group hairpin_size\n",
      "group interior_mismatch\n",
      "\tMean value of old_dict is -0.640\n",
      "\tMean value of fitted new_dict is -0.753\n",
      "\tMean value of centered new_dict is -0.640\n",
      "\n",
      "group interior_size\n",
      "group stack\n",
      "\tMean value of old_dict is -1.406\n",
      "\tMean value of fitted new_dict is -1.406\n",
      "\tMean value of centered new_dict is -1.406\n",
      "\n",
      "group terminal_penalty\n",
      "\tMean value of old_dict is 0.025\n",
      "\tMean value of fitted new_dict is 0.138\n",
      "\tMean value of centered new_dict is 0.025\n",
      "\n"
     ]
    },
    {
     "data": {
      "text/html": [
       "Waiting for W&B process to finish... <strong style=\"color:green\">(success).</strong>"
      ],
      "text/plain": [
       "<IPython.core.display.HTML object>"
      ]
     },
     "metadata": {},
     "output_type": "display_data"
    },
    {
     "data": {
      "text/html": [
       "<style>\n",
       "    table.wandb td:nth-child(1) { padding: 0 10px; text-align: left ; width: auto;} td:nth-child(2) {text-align: left ; width: 100%}\n",
       "    .wandb-row { display: flex; flex-direction: row; flex-wrap: wrap; justify-content: flex-start; width: 100% }\n",
       "    .wandb-col { display: flex; flex-direction: column; flex-basis: 100%; flex: 1; padding: 10px; }\n",
       "    </style>\n",
       "<div class=\"wandb-row\"><div class=\"wandb-col\"><h3>Run history:</h3><br/><table class=\"wandb\"><tr><td>n_feat</td><td>▁</td></tr><tr><td>n_fixed_feat</td><td>▁</td></tr><tr><td>train_dG_mae</td><td>▁</td></tr><tr><td>train_dG_rsqr</td><td>▁</td></tr><tr><td>train_dH_mae</td><td>▁</td></tr><tr><td>train_dH_rsqr</td><td>▁</td></tr><tr><td>val_Tm_adjusted_mae-all</td><td>▁</td></tr><tr><td>val_Tm_adjusted_mae-arr</td><td>▁</td></tr><tr><td>val_Tm_adjusted_mae-lit_uv</td><td>▁</td></tr><tr><td>val_Tm_adjusted_mae-ov</td><td>▁</td></tr><tr><td>val_Tm_adjusted_rmse-all</td><td>▁</td></tr><tr><td>val_Tm_adjusted_rmse-arr</td><td>▁</td></tr><tr><td>val_Tm_adjusted_rmse-lit_uv</td><td>▁</td></tr><tr><td>val_Tm_adjusted_rmse-ov</td><td>▁</td></tr><tr><td>val_Tm_bias-all</td><td>▁</td></tr><tr><td>val_Tm_bias-arr</td><td>▁</td></tr><tr><td>val_Tm_bias-lit_uv</td><td>▁</td></tr><tr><td>val_Tm_bias-ov</td><td>▁</td></tr><tr><td>val_Tm_corr-all</td><td>▁</td></tr><tr><td>val_Tm_corr-arr</td><td>▁</td></tr><tr><td>val_Tm_corr-lit_uv</td><td>▁</td></tr><tr><td>val_Tm_corr-ov</td><td>▁</td></tr><tr><td>val_Tm_mae-all</td><td>▁</td></tr><tr><td>val_Tm_mae-arr</td><td>▁</td></tr><tr><td>val_Tm_mae-lit_uv</td><td>▁</td></tr><tr><td>val_Tm_mae-ov</td><td>▁</td></tr><tr><td>val_Tm_rmse-all</td><td>▁</td></tr><tr><td>val_Tm_rmse-arr</td><td>▁</td></tr><tr><td>val_Tm_rmse-lit_uv</td><td>▁</td></tr><tr><td>val_Tm_rmse-ov</td><td>▁</td></tr><tr><td>val_dG_adjusted_mae-arr</td><td>▁</td></tr><tr><td>val_dG_adjusted_rmse-arr</td><td>▁</td></tr><tr><td>val_dG_bias-arr</td><td>▁</td></tr><tr><td>val_dG_corr-arr</td><td>▁</td></tr><tr><td>val_dG_mae-arr</td><td>▁</td></tr><tr><td>val_dG_rmse-arr</td><td>▁</td></tr><tr><td>val_dH_adjusted_mae-arr</td><td>▁</td></tr><tr><td>val_dH_adjusted_rmse-arr</td><td>▁</td></tr><tr><td>val_dH_bias-arr</td><td>▁</td></tr><tr><td>val_dH_corr-arr</td><td>▁</td></tr><tr><td>val_dH_mae-arr</td><td>▁</td></tr><tr><td>val_dH_rmse-arr</td><td>▁</td></tr></table><br/></div><div class=\"wandb-col\"><h3>Run summary:</h3><br/><table class=\"wandb\"><tr><td>n_feat</td><td>178</td></tr><tr><td>n_fixed_feat</td><td>26</td></tr><tr><td>param_set_file</td><td>./models/eager-galax...</td></tr><tr><td>train_dG_mae</td><td>0.60927</td></tr><tr><td>train_dG_rsqr</td><td>0.63363</td></tr><tr><td>train_dH_mae</td><td>6.32331</td></tr><tr><td>train_dH_rsqr</td><td>0.42102</td></tr><tr><td>val_Tm_adjusted_mae-all</td><td>115.05793</td></tr><tr><td>val_Tm_adjusted_mae-arr</td><td>228.33175</td></tr><tr><td>val_Tm_adjusted_mae-lit_uv</td><td>2.29009</td></tr><tr><td>val_Tm_adjusted_mae-ov</td><td>1.80158</td></tr><tr><td>val_Tm_adjusted_rmse-all</td><td>859.19121</td></tr><tr><td>val_Tm_adjusted_rmse-arr</td><td>1269.76199</td></tr><tr><td>val_Tm_adjusted_rmse-lit_uv</td><td>2.80364</td></tr><tr><td>val_Tm_adjusted_rmse-ov</td><td>2.44282</td></tr><tr><td>val_Tm_bias-all</td><td>-23.90024</td></tr><tr><td>val_Tm_bias-arr</td><td>-58.56924</td></tr><tr><td>val_Tm_bias-lit_uv</td><td>6.68136</td></tr><tr><td>val_Tm_bias-ov</td><td>5.1326</td></tr><tr><td>val_Tm_corr-all</td><td>0.05762</td></tr><tr><td>val_Tm_corr-arr</td><td>0.0548</td></tr><tr><td>val_Tm_corr-lit_uv</td><td>0.97746</td></tr><tr><td>val_Tm_corr-ov</td><td>0.8469</td></tr><tr><td>val_Tm_mae-all</td><td>103.71483</td></tr><tr><td>val_Tm_mae-arr</td><td>220.47006</td></tr><tr><td>val_Tm_mae-lit_uv</td><td>6.68136</td></tr><tr><td>val_Tm_mae-ov</td><td>5.19334</td></tr><tr><td>val_Tm_rmse-all</td><td>859.52357</td></tr><tr><td>val_Tm_rmse-arr</td><td>1271.11206</td></tr><tr><td>val_Tm_rmse-lit_uv</td><td>7.24575</td></tr><tr><td>val_Tm_rmse-ov</td><td>5.68427</td></tr><tr><td>val_dG_adjusted_mae-arr</td><td>0.58596</td></tr><tr><td>val_dG_adjusted_rmse-arr</td><td>0.77311</td></tr><tr><td>val_dG_bias-arr</td><td>2.1522</td></tr><tr><td>val_dG_corr-arr</td><td>0.80568</td></tr><tr><td>val_dG_mae-arr</td><td>2.15461</td></tr><tr><td>val_dG_rmse-arr</td><td>2.28685</td></tr><tr><td>val_dH_adjusted_mae-arr</td><td>6.79324</td></tr><tr><td>val_dH_adjusted_rmse-arr</td><td>8.6877</td></tr><tr><td>val_dH_bias-arr</td><td>20.13193</td></tr><tr><td>val_dH_corr-arr</td><td>0.67836</td></tr><tr><td>val_dH_mae-arr</td><td>20.15391</td></tr><tr><td>val_dH_rmse-arr</td><td>21.92648</td></tr></table><br/></div></div>"
      ],
      "text/plain": [
       "<IPython.core.display.HTML object>"
      ]
     },
     "metadata": {},
     "output_type": "display_data"
    },
    {
     "data": {
      "text/html": [
       " View run <strong style=\"color:#cdcd00\">eager-galaxy-48</strong> at: <a href='https://wandb.ai/keyuxi/NN/runs/aysj9kqn' target=\"_blank\">https://wandb.ai/keyuxi/NN/runs/aysj9kqn</a><br/>Synced 6 W&B file(s), 0 media file(s), 0 artifact file(s) and 0 other file(s)"
      ],
      "text/plain": [
       "<IPython.core.display.HTML object>"
      ]
     },
     "metadata": {},
     "output_type": "display_data"
    },
    {
     "data": {
      "text/html": [
       "Find logs at: <code>./wandb/run-20231031_192005-aysj9kqn/logs</code>"
      ],
      "text/plain": [
       "<IPython.core.display.HTML object>"
      ]
     },
     "metadata": {},
     "output_type": "display_data"
    },
    {
     "data": {
      "text/html": [
       "Tracking run with wandb version 0.15.12"
      ],
      "text/plain": [
       "<IPython.core.display.HTML object>"
      ]
     },
     "metadata": {},
     "output_type": "display_data"
    },
    {
     "data": {
      "text/html": [
       "Run data is saved locally in <code>/Users/yuxi/workspace/nnn_paper/wandb/run-20231031_192800-kztu2eb8</code>"
      ],
      "text/plain": [
       "<IPython.core.display.HTML object>"
      ]
     },
     "metadata": {},
     "output_type": "display_data"
    },
    {
     "data": {
      "text/html": [
       "Syncing run <strong><a href='https://wandb.ai/keyuxi/NN/runs/kztu2eb8' target=\"_blank\">likely-haze-49</a></strong> to <a href='https://wandb.ai/keyuxi/NN' target=\"_blank\">Weights & Biases</a> (<a href='https://wandb.me/run' target=\"_blank\">docs</a>)<br/>"
      ],
      "text/plain": [
       "<IPython.core.display.HTML object>"
      ]
     },
     "metadata": {},
     "output_type": "display_data"
    },
    {
     "data": {
      "text/html": [
       " View project at <a href='https://wandb.ai/keyuxi/NN' target=\"_blank\">https://wandb.ai/keyuxi/NN</a>"
      ],
      "text/plain": [
       "<IPython.core.display.HTML object>"
      ]
     },
     "metadata": {},
     "output_type": "display_data"
    },
    {
     "data": {
      "text/html": [
       " View run at <a href='https://wandb.ai/keyuxi/NN/runs/kztu2eb8' target=\"_blank\">https://wandb.ai/keyuxi/NN/runs/kztu2eb8</a>"
      ],
      "text/plain": [
       "<IPython.core.display.HTML object>"
      ]
     },
     "metadata": {},
     "output_type": "display_data"
    },
    {
     "name": "stdout",
     "output_type": "stream",
     "text": [
      "feats (27732, 178) Index(['bulge_size#1', 'bulge_size#2', 'hairpin_loop_mid#A'], dtype='object')\n",
      "fixed_feature_names: ['bulge_size#1', 'bulge_size#2', 'hairpin_size#3', 'hairpin_size#4', 'hairpin_size#11', 'hairpin_size#14', 'hairpin_size#17', 'hairpin_size#20', 'interior_size#2', 'interior_size#4', 'stack#AATT', 'stack#ACGT', 'stack#AGCT', 'stack#ATAT', 'stack#CATG', 'stack#CCGG', 'stack#CGCG', 'stack#CTAG', 'stack#GATC', 'stack#GCGC', 'stack#GGCC', 'stack#GTAC', 'stack#TATA', 'stack#TCGA', 'stack#TGCA', 'stack#TTAA']\n",
      "                           dH\n",
      "bulge_size#1              0.0\n",
      "bulge_size#2              0.0\n",
      "bulge_size#3              0.0\n",
      "bulge_size#4              0.0\n",
      "bulge_size#5              0.0\n",
      "...                       ...\n",
      "hairpin_tetraloop#CCTTGG  0.0\n",
      "hairpin_tetraloop#GCTTGC  0.0\n",
      "hairpin_tetraloop#GCTTGT  0.0\n",
      "hairpin_tetraloop#TCTTGA  0.0\n",
      "hairpin_tetraloop#TCTTGG  0.0\n",
      "\n",
      "[352 rows x 1 columns]\n",
      "['bulge_size#1', 'bulge_size#2', 'hairpin_size#11', 'hairpin_size#14', 'hairpin_size#17', 'hairpin_size#20', 'hairpin_size#3', 'hairpin_size#4', 'interior_size#2', 'interior_size#4', 'stack#AATT', 'stack#ACGT', 'stack#AGCT', 'stack#ATAT', 'stack#CATG', 'stack#CCGG', 'stack#CGCG', 'stack#CTAG', 'stack#GATC', 'stack#GCGC', 'stack#GGCC', 'stack#GTAC', 'stack#TATA', 'stack#TCGA', 'stack#TGCA', 'stack#TTAA']\n",
      "                           dG\n",
      "bulge_size#1              4.0\n",
      "bulge_size#2              2.9\n",
      "bulge_size#3              3.1\n",
      "bulge_size#4              3.2\n",
      "bulge_size#5              3.3\n",
      "...                       ...\n",
      "hairpin_tetraloop#CCTTGG -0.8\n",
      "hairpin_tetraloop#GCTTGC -0.8\n",
      "hairpin_tetraloop#GCTTGT -0.5\n",
      "hairpin_tetraloop#TCTTGA -0.8\n",
      "hairpin_tetraloop#TCTTGG -0.5\n",
      "\n",
      "[352 rows x 1 columns]\n",
      "['bulge_size#1', 'bulge_size#2', 'hairpin_size#11', 'hairpin_size#14', 'hairpin_size#17', 'hairpin_size#20', 'hairpin_size#3', 'hairpin_size#4', 'interior_size#2', 'interior_size#4', 'stack#AATT', 'stack#ACGT', 'stack#AGCT', 'stack#ATAT', 'stack#CATG', 'stack#CCGG', 'stack#CGCG', 'stack#CTAG', 'stack#GATC', 'stack#GCGC', 'stack#GGCC', 'stack#GTAC', 'stack#TATA', 'stack#TCGA', 'stack#TGCA', 'stack#TTAA']\n",
      "Centering new parameters...\n",
      "group bulge_size\n",
      "group hairpin_mismatch\n",
      "\tMean value of old_dict is -3.684\n",
      "\tMean value of fitted new_dict is -11.873\n",
      "\tMean value of centered new_dict is -3.684\n",
      "\n",
      "group hairpin_size\n",
      "group interior_mismatch\n",
      "\tMean value of old_dict is -2.913\n",
      "\tMean value of fitted new_dict is -5.702\n",
      "\tMean value of centered new_dict is -2.913\n",
      "\n",
      "group interior_size\n",
      "group stack\n",
      "\tMean value of old_dict is -8.275\n",
      "\tMean value of fitted new_dict is -8.275\n",
      "\tMean value of centered new_dict is -8.275\n",
      "\n",
      "group terminal_penalty\n",
      "\tMean value of old_dict is 1.100\n",
      "\tMean value of fitted new_dict is -1.039\n",
      "\tMean value of centered new_dict is 1.100\n",
      "\n",
      "Centering new parameters...\n",
      "group bulge_size\n",
      "group hairpin_mismatch\n",
      "\tMean value of old_dict is -0.715\n",
      "\tMean value of fitted new_dict is -3.706\n",
      "\tMean value of centered new_dict is -0.715\n",
      "\n",
      "group hairpin_size\n",
      "group interior_mismatch\n",
      "\tMean value of old_dict is -0.640\n",
      "\tMean value of fitted new_dict is -0.764\n",
      "\tMean value of centered new_dict is -0.640\n",
      "\n",
      "group interior_size\n",
      "group stack\n",
      "\tMean value of old_dict is -1.406\n",
      "\tMean value of fitted new_dict is -1.406\n",
      "\tMean value of centered new_dict is -1.406\n",
      "\n",
      "group terminal_penalty\n",
      "\tMean value of old_dict is 0.025\n",
      "\tMean value of fitted new_dict is 0.139\n",
      "\tMean value of centered new_dict is 0.025\n",
      "\n"
     ]
    }
   ],
   "source": [
    "for ratio in myrange:\n",
    "    config.update(dict(use_train_set_ratio=ratio))\n",
    "    tnn.model_pipeline(config)"
   ]
  },
  {
   "cell_type": "markdown",
   "metadata": {
    "jp-MarkdownHeadingCollapsed": true
   },
   "source": [
    "## Tests"
   ]
  },
  {
   "cell_type": "code",
   "execution_count": 70,
   "metadata": {},
   "outputs": [],
   "source": [
    "mydata = tnn.MyData(config)\n",
    "mydata.load_everything()"
   ]
  },
  {
   "cell_type": "code",
   "execution_count": 71,
   "metadata": {},
   "outputs": [
    {
     "data": {
      "text/plain": [
       "'GATATAGCAAAATTCTAAGTTAATA'"
      ]
     },
     "execution_count": 71,
     "metadata": {},
     "output_type": "execute_result"
    }
   ],
   "source": [
    "mydata.prepare_val_df()['lit_uv'].RefSeq[0][0]"
   ]
  },
  {
   "cell_type": "code",
   "execution_count": 49,
   "metadata": {},
   "outputs": [
    {
     "data": {
      "text/plain": [
       "{'val_Tm_rmse-all': 0.3,\n",
       " 'val_Tm_rmse-arr': 0.2,\n",
       " 'val_dH_mae-arr': 0.1,\n",
       " 'val_dG_corr-arr': 0.4,\n",
       " 'val_Tm_rmse-ov': 0.5}"
      ]
     },
     "execution_count": 49,
     "metadata": {},
     "output_type": "execute_result"
    }
   ],
   "source": [
    "# FUNCTION TEST\n",
    "metric_dict = dict(\n",
    "    all=dict(\n",
    "        Tm=dict(rmse=.3),\n",
    "    ),\n",
    "    arr=dict(\n",
    "        Tm=dict(rmse=.2),\n",
    "        dH=dict(mae=.1),\n",
    "        dG=dict(corr=.4)\n",
    "    ),\n",
    "    ov=dict(\n",
    "        Tm=dict(rmse=.5)\n",
    "    )\n",
    ")\n",
    "tnn.flatten_metric_dict(metric_dict)"
   ]
  },
  {
   "cell_type": "code",
   "execution_count": 148,
   "metadata": {
    "collapsed": true,
    "jupyter": {
     "outputs_hidden": true
    }
   },
   "outputs": [
    {
     "name": "stdout",
     "output_type": "stream",
     "text": [
      "Must call `wandb.init()` first\n"
     ]
    },
    {
     "data": {
      "text/plain": [
       "{'all': {'Tm': defaultdict(None,\n",
       "              {'bias': 2.9661754466208308,\n",
       "               'corr': 0.793026549915973,\n",
       "               'rmse': 7.1620228136935244,\n",
       "               'adjusted_rmse': 6.518924298051803,\n",
       "               'mae': 5.892052892391525,\n",
       "               'adjusted_mae': 5.187633316054081})},\n",
       " 'arr': {'Tm': defaultdict(None,\n",
       "              {'bias': 2.1660371069307516,\n",
       "               'corr': 0.8959452233637897,\n",
       "               'rmse': 8.990712948240732,\n",
       "               'adjusted_rmse': 8.725892651704045,\n",
       "               'mae': 8.017791998472129,\n",
       "               'adjusted_mae': 7.956103122148103}),\n",
       "  'dH': defaultdict(None,\n",
       "              {'bias': -18.24327473438205,\n",
       "               'corr': 0.9221060003295893,\n",
       "               'rmse': 18.60773231164046,\n",
       "               'adjusted_rmse': 3.664782223751652,\n",
       "               'mae': 18.243274734382048,\n",
       "               'adjusted_mae': 2.9590951856279553}),\n",
       "  'dG': defaultdict(None,\n",
       "              {'bias': -0.7781412594804302,\n",
       "               'corr': 0.9623323684048821,\n",
       "               'rmse': 0.924993092599865,\n",
       "               'adjusted_rmse': 0.5001083899033004,\n",
       "               'mae': 0.7781412594804304,\n",
       "               'adjusted_mae': 0.454052465597778})},\n",
       " 'ov': {'Tm': defaultdict(None,\n",
       "              {'bias': 3.76631378631091,\n",
       "               'corr': 0.6315027440348886,\n",
       "               'rmse': 4.664356574069934,\n",
       "               'adjusted_rmse': 2.75156368509139,\n",
       "               'mae': 3.7663137863109215,\n",
       "               'adjusted_mae': 2.396829640820863})}}"
      ]
     },
     "execution_count": 148,
     "metadata": {},
     "output_type": "execute_result"
    }
   ],
   "source": [
    "json_file = './models/dna04.json'\n",
    "tnn.test(config, json_file=json_file, debug=True,\n",
    "         save_val_result_df=True, save_metric_json=True)"
   ]
  },
  {
   "cell_type": "code",
   "execution_count": 127,
   "metadata": {},
   "outputs": [],
   "source": [
    "val_kwargs = dict(\n",
    "    sodium = 'varied',\n",
    "    model_kwargs={'DNA_conc': val_df['DNA_conc'].values}\n",
    ")\n",
    "seq_list, struct_list, sodium, model_kwargs = modeling.get_model_prediction(\n",
    "                val_df,\n",
    "                model='nupack', \n",
    "                model_param_file=json_file,\n",
    "                **val_kwargs\n",
    "            )"
   ]
  },
  {
   "cell_type": "code",
   "execution_count": 126,
   "metadata": {
    "scrolled": true
   },
   "outputs": [
    {
     "data": {
      "text/html": [
       "<div>\n",
       "<style scoped>\n",
       "    .dataframe tbody tr th:only-of-type {\n",
       "        vertical-align: middle;\n",
       "    }\n",
       "\n",
       "    .dataframe tbody tr th {\n",
       "        vertical-align: top;\n",
       "    }\n",
       "\n",
       "    .dataframe thead th {\n",
       "        text-align: right;\n",
       "    }\n",
       "</style>\n",
       "<table border=\"1\" class=\"dataframe\">\n",
       "  <thead>\n",
       "    <tr style=\"text-align: right;\">\n",
       "      <th></th>\n",
       "      <th>dH</th>\n",
       "      <th>Tm</th>\n",
       "      <th>dG_37</th>\n",
       "    </tr>\n",
       "  </thead>\n",
       "  <tbody>\n",
       "    <tr>\n",
       "      <th>0</th>\n",
       "      <td>NaN</td>\n",
       "      <td>56.388872</td>\n",
       "      <td>NaN</td>\n",
       "    </tr>\n",
       "    <tr>\n",
       "      <th>1</th>\n",
       "      <td>NaN</td>\n",
       "      <td>60.447325</td>\n",
       "      <td>NaN</td>\n",
       "    </tr>\n",
       "    <tr>\n",
       "      <th>2</th>\n",
       "      <td>NaN</td>\n",
       "      <td>57.092821</td>\n",
       "      <td>NaN</td>\n",
       "    </tr>\n",
       "    <tr>\n",
       "      <th>3</th>\n",
       "      <td>NaN</td>\n",
       "      <td>56.638673</td>\n",
       "      <td>NaN</td>\n",
       "    </tr>\n",
       "    <tr>\n",
       "      <th>4</th>\n",
       "      <td>NaN</td>\n",
       "      <td>58.732291</td>\n",
       "      <td>NaN</td>\n",
       "    </tr>\n",
       "  </tbody>\n",
       "</table>\n",
       "</div>"
      ],
      "text/plain": [
       "    dH         Tm dG_37\n",
       "0  NaN  56.388872   NaN\n",
       "1  NaN  60.447325   NaN\n",
       "2  NaN  57.092821   NaN\n",
       "3  NaN  56.638673   NaN\n",
       "4  NaN  58.732291   NaN"
      ]
     },
     "execution_count": 126,
     "metadata": {},
     "output_type": "execute_result"
    }
   ],
   "source": [
    "modeling.run_nupack(seq_list, struct_list, sodium, json_file, model_kwargs)"
   ]
  },
  {
   "cell_type": "markdown",
   "metadata": {},
   "source": [
    "# Results"
   ]
  },
  {
   "cell_type": "code",
   "execution_count": 59,
   "metadata": {},
   "outputs": [],
   "source": [
    "import pandas as pd \n",
    "import wandb\n",
    "api = wandb.Api()\n",
    "\n",
    "# Project is specified by <entity/project-name>\n",
    "runs = api.runs(\"keyuxi/NN\")\n",
    "\n",
    "summary_list, config_list, name_list = [], [], []\n",
    "for run in runs: \n",
    "    # .summary contains the output keys/values for metrics like accuracy.\n",
    "    #  We call ._json_dict to omit large files \n",
    "    summary_list.append(run.summary._json_dict)\n",
    "\n",
    "    # .config contains the hyperparameters.\n",
    "    #  We remove special values that start with _.\n",
    "    config_list.append(\n",
    "        {k: v for k,v in run.config.items()\n",
    "          if not k.startswith('_')})\n",
    "\n",
    "    # .name is the human-readable name of the run.\n",
    "    name_list.append(run.name)\n",
    "\n",
    "runs_df = pd.DataFrame({\n",
    "    \"summary\": summary_list,\n",
    "    \"config\": config_list,\n",
    "    \"name\": name_list\n",
    "    })\n",
    "\n",
    "# runs_df.to_csv(\"project.csv\")"
   ]
  },
  {
   "cell_type": "code",
   "execution_count": 60,
   "metadata": {},
   "outputs": [
    {
     "data": {
      "text/html": [
       "<div>\n",
       "<style scoped>\n",
       "    .dataframe tbody tr th:only-of-type {\n",
       "        vertical-align: middle;\n",
       "    }\n",
       "\n",
       "    .dataframe tbody tr th {\n",
       "        vertical-align: top;\n",
       "    }\n",
       "\n",
       "    .dataframe thead th {\n",
       "        text-align: right;\n",
       "    }\n",
       "</style>\n",
       "<table border=\"1\" class=\"dataframe\">\n",
       "  <thead>\n",
       "    <tr style=\"text-align: right;\">\n",
       "      <th></th>\n",
       "      <th>summary</th>\n",
       "      <th>config</th>\n",
       "      <th>name</th>\n",
       "    </tr>\n",
       "  </thead>\n",
       "  <tbody>\n",
       "    <tr>\n",
       "      <th>0</th>\n",
       "      <td>{'val_dG_bias-arr': 2.7917988408617327, 'val_T...</td>\n",
       "      <td>{'symmetry': False, 'test_mode': 'val', 'fit_m...</td>\n",
       "      <td>chilling-mausoleum-46</td>\n",
       "    </tr>\n",
       "    <tr>\n",
       "      <th>1</th>\n",
       "      <td>{'val_Tm_mae-lit_uv': 6.661954159766046, 'val_...</td>\n",
       "      <td>{'symmetry': False, 'test_mode': 'val', 'fit_m...</td>\n",
       "      <td>ghostly-skeleton-45</td>\n",
       "    </tr>\n",
       "    <tr>\n",
       "      <th>2</th>\n",
       "      <td>{'val_Tm_mae-arr': 208.51530143276193, 'val_dH...</td>\n",
       "      <td>{'symmetry': False, 'test_mode': 'val', 'fit_m...</td>\n",
       "      <td>supernatural-warlock-44</td>\n",
       "    </tr>\n",
       "    <tr>\n",
       "      <th>3</th>\n",
       "      <td>{'_wandb': {'runtime': 463}, '_runtime': 464.9...</td>\n",
       "      <td>{'symmetry': False, 'test_mode': 'val', 'fit_m...</td>\n",
       "      <td>spooky-goblin-43</td>\n",
       "    </tr>\n",
       "    <tr>\n",
       "      <th>4</th>\n",
       "      <td>{'train_dH_mae': 6.245854998043675, 'train_dH_...</td>\n",
       "      <td>{'symmetry': False, 'test_mode': 'val', 'fit_m...</td>\n",
       "      <td>scary-treat-42</td>\n",
       "    </tr>\n",
       "    <tr>\n",
       "      <th>5</th>\n",
       "      <td>{'val_Tm_rmse-lit_uv': 7.225930631707623, 'val...</td>\n",
       "      <td>{'symmetry': False, 'test_mode': 'val', 'fit_m...</td>\n",
       "      <td>evil-sorcery-41</td>\n",
       "    </tr>\n",
       "    <tr>\n",
       "      <th>6</th>\n",
       "      <td>{'val_Tm_adjusted_rmse-lit_uv': 11.09348009030...</td>\n",
       "      <td>{'symmetry': False, 'test_mode': 'val', 'fit_m...</td>\n",
       "      <td>enchanted-vampire-40</td>\n",
       "    </tr>\n",
       "    <tr>\n",
       "      <th>7</th>\n",
       "      <td>{'n_fixed_feat': 0, 'train_dG_mae': 0.42332324...</td>\n",
       "      <td>{'symmetry': False, 'test_mode': 'val', 'fit_m...</td>\n",
       "      <td>moonlit-mausoleum-39</td>\n",
       "    </tr>\n",
       "    <tr>\n",
       "      <th>8</th>\n",
       "      <td>{'val_Tm_adjusted_mae-arr': 5.415205181640467,...</td>\n",
       "      <td>{'symmetry': False, 'test_mode': 'val', 'fit_m...</td>\n",
       "      <td>moonlit-orb-38</td>\n",
       "    </tr>\n",
       "    <tr>\n",
       "      <th>9</th>\n",
       "      <td>{'val_dH_mae-arr': 5.124491731488668, 'val_Tm_...</td>\n",
       "      <td>{'symmetry': False, 'test_mode': 'val', 'fit_m...</td>\n",
       "      <td>enchanted-whisper-37</td>\n",
       "    </tr>\n",
       "    <tr>\n",
       "      <th>10</th>\n",
       "      <td>{'val_dG_adjusted_rmse-arr': 0.538719547802726...</td>\n",
       "      <td>{'symmetry': False, 'test_mode': 'val', 'fit_m...</td>\n",
       "      <td>dire-mask-36</td>\n",
       "    </tr>\n",
       "    <tr>\n",
       "      <th>11</th>\n",
       "      <td>{'val_dH_mae-arr': 6.21932467160611, 'val_dG_b...</td>\n",
       "      <td>{'symmetry': False, 'test_mode': 'val', 'fit_m...</td>\n",
       "      <td>frightful-goosebump-35</td>\n",
       "    </tr>\n",
       "    <tr>\n",
       "      <th>12</th>\n",
       "      <td>{'val_Tm_rmse-ov': 237.75808830188967, 'val_dG...</td>\n",
       "      <td>{'symmetry': False, 'test_mode': 'val', 'fit_m...</td>\n",
       "      <td>unearthly-possession-34</td>\n",
       "    </tr>\n",
       "  </tbody>\n",
       "</table>\n",
       "</div>"
      ],
      "text/plain": [
       "                                              summary  \\\n",
       "0   {'val_dG_bias-arr': 2.7917988408617327, 'val_T...   \n",
       "1   {'val_Tm_mae-lit_uv': 6.661954159766046, 'val_...   \n",
       "2   {'val_Tm_mae-arr': 208.51530143276193, 'val_dH...   \n",
       "3   {'_wandb': {'runtime': 463}, '_runtime': 464.9...   \n",
       "4   {'train_dH_mae': 6.245854998043675, 'train_dH_...   \n",
       "5   {'val_Tm_rmse-lit_uv': 7.225930631707623, 'val...   \n",
       "6   {'val_Tm_adjusted_rmse-lit_uv': 11.09348009030...   \n",
       "7   {'n_fixed_feat': 0, 'train_dG_mae': 0.42332324...   \n",
       "8   {'val_Tm_adjusted_mae-arr': 5.415205181640467,...   \n",
       "9   {'val_dH_mae-arr': 5.124491731488668, 'val_Tm_...   \n",
       "10  {'val_dG_adjusted_rmse-arr': 0.538719547802726...   \n",
       "11  {'val_dH_mae-arr': 6.21932467160611, 'val_dG_b...   \n",
       "12  {'val_Tm_rmse-ov': 237.75808830188967, 'val_dG...   \n",
       "\n",
       "                                               config                     name  \n",
       "0   {'symmetry': False, 'test_mode': 'val', 'fit_m...    chilling-mausoleum-46  \n",
       "1   {'symmetry': False, 'test_mode': 'val', 'fit_m...      ghostly-skeleton-45  \n",
       "2   {'symmetry': False, 'test_mode': 'val', 'fit_m...  supernatural-warlock-44  \n",
       "3   {'symmetry': False, 'test_mode': 'val', 'fit_m...         spooky-goblin-43  \n",
       "4   {'symmetry': False, 'test_mode': 'val', 'fit_m...           scary-treat-42  \n",
       "5   {'symmetry': False, 'test_mode': 'val', 'fit_m...          evil-sorcery-41  \n",
       "6   {'symmetry': False, 'test_mode': 'val', 'fit_m...     enchanted-vampire-40  \n",
       "7   {'symmetry': False, 'test_mode': 'val', 'fit_m...     moonlit-mausoleum-39  \n",
       "8   {'symmetry': False, 'test_mode': 'val', 'fit_m...           moonlit-orb-38  \n",
       "9   {'symmetry': False, 'test_mode': 'val', 'fit_m...     enchanted-whisper-37  \n",
       "10  {'symmetry': False, 'test_mode': 'val', 'fit_m...             dire-mask-36  \n",
       "11  {'symmetry': False, 'test_mode': 'val', 'fit_m...   frightful-goosebump-35  \n",
       "12  {'symmetry': False, 'test_mode': 'val', 'fit_m...  unearthly-possession-34  "
      ]
     },
     "execution_count": 60,
     "metadata": {},
     "output_type": "execute_result"
    }
   ],
   "source": [
    "runs_df"
   ]
  },
  {
   "cell_type": "code",
   "execution_count": 61,
   "metadata": {},
   "outputs": [],
   "source": [
    "wandb_df = pd.read_csv('./data/wandb/wandb_export_2023-10-31T17_06_46.146-07_00.csv')"
   ]
  },
  {
   "cell_type": "code",
   "execution_count": 62,
   "metadata": {},
   "outputs": [
    {
     "data": {
      "text/plain": [
       "Index(['Name', 'Notes', 'feature_method', 'fixed_pclass', 'sep_base_stack',\n",
       "       'use_model_from', 'use_train_set_ratio', 'fit_intercept', 'fit_method',\n",
       "       'fix_some_coef', 'symmetry', 'test_mode', 'n_feat', 'n_fixed_feat',\n",
       "       'param_set_file', 'train_dG_mae', 'train_dG_rsqr', 'train_dH_mae',\n",
       "       'train_dH_rsqr', 'val_Tm_adjusted_mae-all', 'val_Tm_adjusted_mae-arr',\n",
       "       'val_Tm_adjusted_mae-lit_uv', 'val_Tm_adjusted_mae-ov',\n",
       "       'val_Tm_adjusted_rmse-all', 'val_Tm_adjusted_rmse-arr',\n",
       "       'val_Tm_adjusted_rmse-lit_uv', 'val_Tm_adjusted_rmse-ov',\n",
       "       'val_Tm_bias-all', 'val_Tm_bias-arr', 'val_Tm_bias-lit_uv',\n",
       "       'val_Tm_bias-ov', 'val_Tm_corr-all', 'val_Tm_corr-arr',\n",
       "       'val_Tm_corr-lit_uv', 'val_Tm_corr-ov', 'val_Tm_mae-all',\n",
       "       'val_Tm_mae-arr', 'val_Tm_mae-lit_uv', 'val_Tm_mae-ov',\n",
       "       'val_Tm_rmse-all', 'val_Tm_rmse-arr', 'val_Tm_rmse-lit_uv',\n",
       "       'val_Tm_rmse-ov', 'val_dG_adjusted_mae-arr', 'val_dG_adjusted_rmse-arr',\n",
       "       'val_dG_bias-arr', 'val_dG_corr-arr', 'val_dG_mae-arr',\n",
       "       'val_dG_rmse-arr', 'val_dH_adjusted_mae-arr',\n",
       "       'val_dH_adjusted_rmse-arr', 'val_dH_bias-arr', 'val_dH_corr-arr',\n",
       "       'val_dH_mae-arr', 'val_dH_rmse-arr', 'dG_intercept', 'dH_intercept'],\n",
       "      dtype='object')"
      ]
     },
     "execution_count": 62,
     "metadata": {},
     "output_type": "execute_result"
    }
   ],
   "source": [
    "wandb_df.columns"
   ]
  },
  {
   "cell_type": "code",
   "execution_count": 79,
   "metadata": {},
   "outputs": [
    {
     "data": {
      "text/html": [
       "<div>\n",
       "<style scoped>\n",
       "    .dataframe tbody tr th:only-of-type {\n",
       "        vertical-align: middle;\n",
       "    }\n",
       "\n",
       "    .dataframe tbody tr th {\n",
       "        vertical-align: top;\n",
       "    }\n",
       "\n",
       "    .dataframe thead th {\n",
       "        text-align: right;\n",
       "    }\n",
       "</style>\n",
       "<table border=\"1\" class=\"dataframe\">\n",
       "  <thead>\n",
       "    <tr style=\"text-align: right;\">\n",
       "      <th></th>\n",
       "      <th>Name</th>\n",
       "      <th>Notes</th>\n",
       "      <th>feature_method</th>\n",
       "      <th>fixed_pclass</th>\n",
       "      <th>sep_base_stack</th>\n",
       "      <th>use_model_from</th>\n",
       "      <th>use_train_set_ratio</th>\n",
       "      <th>fit_intercept</th>\n",
       "      <th>fit_method</th>\n",
       "      <th>fix_some_coef</th>\n",
       "      <th>...</th>\n",
       "      <th>val_dG_mae-arr</th>\n",
       "      <th>val_dG_rmse-arr</th>\n",
       "      <th>val_dH_adjusted_mae-arr</th>\n",
       "      <th>val_dH_adjusted_rmse-arr</th>\n",
       "      <th>val_dH_bias-arr</th>\n",
       "      <th>val_dH_corr-arr</th>\n",
       "      <th>val_dH_mae-arr</th>\n",
       "      <th>val_dH_rmse-arr</th>\n",
       "      <th>dG_intercept</th>\n",
       "      <th>dH_intercept</th>\n",
       "    </tr>\n",
       "  </thead>\n",
       "  <tbody>\n",
       "    <tr>\n",
       "      <th>0</th>\n",
       "      <td>chilling-mausoleum-46</td>\n",
       "      <td>-</td>\n",
       "      <td>get_nupack_feature_list</td>\n",
       "      <td>[\"hairpin_size\",\"interior_size\",\"bulge_size\",\"...</td>\n",
       "      <td>NaN</td>\n",
       "      <td>json</td>\n",
       "      <td>1.1</td>\n",
       "      <td>False</td>\n",
       "      <td>svd</td>\n",
       "      <td>True</td>\n",
       "      <td>...</td>\n",
       "      <td>2.791837</td>\n",
       "      <td>2.889194</td>\n",
       "      <td>6.360076</td>\n",
       "      <td>8.159551</td>\n",
       "      <td>18.652429</td>\n",
       "      <td>0.706253</td>\n",
       "      <td>18.669692</td>\n",
       "      <td>20.359061</td>\n",
       "      <td>NaN</td>\n",
       "      <td>NaN</td>\n",
       "    </tr>\n",
       "    <tr>\n",
       "      <th>1</th>\n",
       "      <td>ghostly-skeleton-45</td>\n",
       "      <td>-</td>\n",
       "      <td>get_nupack_feature_list</td>\n",
       "      <td>[\"hairpin_size\",\"interior_size\",\"bulge_size\",\"...</td>\n",
       "      <td>NaN</td>\n",
       "      <td>json</td>\n",
       "      <td>0.9</td>\n",
       "      <td>False</td>\n",
       "      <td>svd</td>\n",
       "      <td>True</td>\n",
       "      <td>...</td>\n",
       "      <td>2.694723</td>\n",
       "      <td>2.794994</td>\n",
       "      <td>6.356110</td>\n",
       "      <td>8.161822</td>\n",
       "      <td>18.479066</td>\n",
       "      <td>0.706509</td>\n",
       "      <td>18.502945</td>\n",
       "      <td>20.201268</td>\n",
       "      <td>NaN</td>\n",
       "      <td>NaN</td>\n",
       "    </tr>\n",
       "    <tr>\n",
       "      <th>2</th>\n",
       "      <td>supernatural-warlock-44</td>\n",
       "      <td>-</td>\n",
       "      <td>get_nupack_feature_list</td>\n",
       "      <td>[\"hairpin_size\",\"interior_size\",\"bulge_size\",\"...</td>\n",
       "      <td>NaN</td>\n",
       "      <td>json</td>\n",
       "      <td>0.7</td>\n",
       "      <td>False</td>\n",
       "      <td>svd</td>\n",
       "      <td>True</td>\n",
       "      <td>...</td>\n",
       "      <td>2.675603</td>\n",
       "      <td>2.778400</td>\n",
       "      <td>6.510224</td>\n",
       "      <td>8.354189</td>\n",
       "      <td>14.843033</td>\n",
       "      <td>0.695753</td>\n",
       "      <td>14.942734</td>\n",
       "      <td>17.032561</td>\n",
       "      <td>NaN</td>\n",
       "      <td>NaN</td>\n",
       "    </tr>\n",
       "    <tr>\n",
       "      <th>3</th>\n",
       "      <td>spooky-goblin-43</td>\n",
       "      <td>-</td>\n",
       "      <td>get_nupack_feature_list</td>\n",
       "      <td>[\"hairpin_size\",\"interior_size\",\"bulge_size\",\"...</td>\n",
       "      <td>NaN</td>\n",
       "      <td>json</td>\n",
       "      <td>0.5</td>\n",
       "      <td>False</td>\n",
       "      <td>svd</td>\n",
       "      <td>True</td>\n",
       "      <td>...</td>\n",
       "      <td>2.732862</td>\n",
       "      <td>2.833166</td>\n",
       "      <td>6.494628</td>\n",
       "      <td>8.325717</td>\n",
       "      <td>16.097329</td>\n",
       "      <td>0.695749</td>\n",
       "      <td>16.151114</td>\n",
       "      <td>18.122957</td>\n",
       "      <td>NaN</td>\n",
       "      <td>NaN</td>\n",
       "    </tr>\n",
       "    <tr>\n",
       "      <th>4</th>\n",
       "      <td>scary-treat-42</td>\n",
       "      <td>-</td>\n",
       "      <td>get_nupack_feature_list</td>\n",
       "      <td>[\"hairpin_size\",\"interior_size\",\"bulge_size\",\"...</td>\n",
       "      <td>NaN</td>\n",
       "      <td>json</td>\n",
       "      <td>0.3</td>\n",
       "      <td>False</td>\n",
       "      <td>svd</td>\n",
       "      <td>True</td>\n",
       "      <td>...</td>\n",
       "      <td>2.928712</td>\n",
       "      <td>3.027609</td>\n",
       "      <td>6.385246</td>\n",
       "      <td>8.217143</td>\n",
       "      <td>13.524066</td>\n",
       "      <td>0.706417</td>\n",
       "      <td>13.696656</td>\n",
       "      <td>15.824721</td>\n",
       "      <td>NaN</td>\n",
       "      <td>NaN</td>\n",
       "    </tr>\n",
       "    <tr>\n",
       "      <th>5</th>\n",
       "      <td>evil-sorcery-41</td>\n",
       "      <td>-</td>\n",
       "      <td>get_nupack_feature_list</td>\n",
       "      <td>[\"hairpin_size\",\"interior_size\",\"bulge_size\",\"...</td>\n",
       "      <td>NaN</td>\n",
       "      <td>json</td>\n",
       "      <td>0.1</td>\n",
       "      <td>False</td>\n",
       "      <td>svd</td>\n",
       "      <td>True</td>\n",
       "      <td>...</td>\n",
       "      <td>0.907161</td>\n",
       "      <td>1.113955</td>\n",
       "      <td>6.446095</td>\n",
       "      <td>8.218293</td>\n",
       "      <td>2.396291</td>\n",
       "      <td>0.707993</td>\n",
       "      <td>6.467395</td>\n",
       "      <td>8.560523</td>\n",
       "      <td>NaN</td>\n",
       "      <td>NaN</td>\n",
       "    </tr>\n",
       "  </tbody>\n",
       "</table>\n",
       "<p>6 rows × 57 columns</p>\n",
       "</div>"
      ],
      "text/plain": [
       "                      Name Notes           feature_method  \\\n",
       "0    chilling-mausoleum-46     -  get_nupack_feature_list   \n",
       "1      ghostly-skeleton-45     -  get_nupack_feature_list   \n",
       "2  supernatural-warlock-44     -  get_nupack_feature_list   \n",
       "3         spooky-goblin-43     -  get_nupack_feature_list   \n",
       "4           scary-treat-42     -  get_nupack_feature_list   \n",
       "5          evil-sorcery-41     -  get_nupack_feature_list   \n",
       "\n",
       "                                        fixed_pclass sep_base_stack  \\\n",
       "0  [\"hairpin_size\",\"interior_size\",\"bulge_size\",\"...            NaN   \n",
       "1  [\"hairpin_size\",\"interior_size\",\"bulge_size\",\"...            NaN   \n",
       "2  [\"hairpin_size\",\"interior_size\",\"bulge_size\",\"...            NaN   \n",
       "3  [\"hairpin_size\",\"interior_size\",\"bulge_size\",\"...            NaN   \n",
       "4  [\"hairpin_size\",\"interior_size\",\"bulge_size\",\"...            NaN   \n",
       "5  [\"hairpin_size\",\"interior_size\",\"bulge_size\",\"...            NaN   \n",
       "\n",
       "  use_model_from  use_train_set_ratio  fit_intercept fit_method  \\\n",
       "0           json                  1.1          False        svd   \n",
       "1           json                  0.9          False        svd   \n",
       "2           json                  0.7          False        svd   \n",
       "3           json                  0.5          False        svd   \n",
       "4           json                  0.3          False        svd   \n",
       "5           json                  0.1          False        svd   \n",
       "\n",
       "   fix_some_coef  ...  val_dG_mae-arr val_dG_rmse-arr  \\\n",
       "0           True  ...        2.791837        2.889194   \n",
       "1           True  ...        2.694723        2.794994   \n",
       "2           True  ...        2.675603        2.778400   \n",
       "3           True  ...        2.732862        2.833166   \n",
       "4           True  ...        2.928712        3.027609   \n",
       "5           True  ...        0.907161        1.113955   \n",
       "\n",
       "   val_dH_adjusted_mae-arr  val_dH_adjusted_rmse-arr val_dH_bias-arr  \\\n",
       "0                 6.360076                  8.159551       18.652429   \n",
       "1                 6.356110                  8.161822       18.479066   \n",
       "2                 6.510224                  8.354189       14.843033   \n",
       "3                 6.494628                  8.325717       16.097329   \n",
       "4                 6.385246                  8.217143       13.524066   \n",
       "5                 6.446095                  8.218293        2.396291   \n",
       "\n",
       "   val_dH_corr-arr  val_dH_mae-arr  val_dH_rmse-arr  dG_intercept  \\\n",
       "0         0.706253       18.669692        20.359061           NaN   \n",
       "1         0.706509       18.502945        20.201268           NaN   \n",
       "2         0.695753       14.942734        17.032561           NaN   \n",
       "3         0.695749       16.151114        18.122957           NaN   \n",
       "4         0.706417       13.696656        15.824721           NaN   \n",
       "5         0.707993        6.467395         8.560523           NaN   \n",
       "\n",
       "   dH_intercept  \n",
       "0           NaN  \n",
       "1           NaN  \n",
       "2           NaN  \n",
       "3           NaN  \n",
       "4           NaN  \n",
       "5           NaN  \n",
       "\n",
       "[6 rows x 57 columns]"
      ]
     },
     "execution_count": 79,
     "metadata": {},
     "output_type": "execute_result"
    }
   ],
   "source": [
    "wandb_df.query('use_model_from == \"json\"')"
   ]
  },
  {
   "cell_type": "code",
   "execution_count": null,
   "metadata": {},
   "outputs": [],
   "source": [
    "fig, ax = plt.subplots()\n",
    "sns.lineplot(data=wandb_df.query('use_model_from == \"json\" and use_train_set_ratio <= 1'), \n",
    "             x='use_train_set_ratio', y='val_dG_mae-arr',\n",
    "            ax=ax, marker='s')\n",
    "# ax.set_ylim(bottom=0, top=1)\n",
    "ax.set_ylim(bottom=0)\n",
    "plotting.beutify(ax)\n",
    "util.save_fig('./fig/Fig4/mae.pdf')"
   ]
  },
  {
   "cell_type": "code",
   "execution_count": null,
   "metadata": {},
   "outputs": [],
   "source": []
  }
 ],
 "metadata": {
  "kernelspec": {
   "display_name": "Python 3 (ipykernel)",
   "language": "python",
   "name": "python3"
  },
  "language_info": {
   "codemirror_mode": {
    "name": "ipython",
    "version": 3
   },
   "file_extension": ".py",
   "mimetype": "text/x-python",
   "name": "python",
   "nbconvert_exporter": "python",
   "pygments_lexer": "ipython3",
   "version": "3.8.18"
  }
 },
 "nbformat": 4,
 "nbformat_minor": 4
}
