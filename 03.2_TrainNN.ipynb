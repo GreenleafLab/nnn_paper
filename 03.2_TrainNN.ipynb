{
 "cells": [
  {
   "cell_type": "markdown",
   "metadata": {},
   "source": [
    "# Train NN"
   ]
  },
  {
   "cell_type": "markdown",
   "metadata": {},
   "source": [
    "This notebook is used for testing and running model fitting pipelines defined in `train_nn.py`.\n",
    "\n",
    "It's run in the `train_nn` conda environment instead of the usual `nnn` environment."
   ]
  },
  {
   "cell_type": "markdown",
   "metadata": {},
   "source": [
    "## Setup"
   ]
  },
  {
   "cell_type": "code",
   "execution_count": 1,
   "metadata": {},
   "outputs": [],
   "source": [
    "%load_ext autoreload\n",
    "%autoreload 2\n",
    "\n",
    "import numpy as np\n",
    "import pandas as pd\n",
    "import matplotlib.pyplot as plt\n",
    "import matplotlib\n",
    "from matplotlib.ticker import (MultipleLocator, FormatStrFormatter,\n",
    "                               AutoMinorLocator)\n",
    "import seaborn as sns\n",
    "import json, os, pickle\n",
    "from collections import defaultdict\n",
    "import nupack\n",
    "import sklearn\n",
    "from scipy import stats\n",
    "\n",
    "\n",
    "from tqdm import tqdm\n",
    "import itertools\n",
    "\n",
    "from nnn import util, fileio, mupack, plotting, modeling\n",
    "import nnn.motif_fit as mf\n",
    "import wandb\n",
    "\n",
    "# suppress warnings \n",
    "import warnings\n",
    "warnings.filterwarnings(\"ignore\")\n",
    "\n",
    "from nnn import train_nn as tnn"
   ]
  },
  {
   "cell_type": "markdown",
   "metadata": {},
   "source": [
    "## *dna24*"
   ]
  },
  {
   "cell_type": "markdown",
   "metadata": {},
   "source": [
    "Config for the 178 param model used to make *dna24*:"
   ]
  },
  {
   "cell_type": "code",
   "execution_count": 2,
   "metadata": {},
   "outputs": [],
   "source": [
    "\"\"\"\n",
    "Config for the 178 param model used to make *dna24*\n",
    "\"\"\"\n",
    "fixed_pclass = ['hairpin_size', 'interior_size', 'bulge_size', 'hairpin_triloop', 'hairpin_tetraloop', 'terminal_mismatch', 'stack']\n",
    "config = dict(\n",
    "    use_train_set_ratio = 1.,\n",
    "    secondary_struct = 'target', # target uses the designed structures, mfe uses the predicted mfe structures\n",
    "    fit_method = 'svd',\n",
    "    feature_method = 'get_nupack_feature_list',\n",
    "    fit_intercept=False, \n",
    "    symmetry=False,\n",
    "    fix_some_coef=True,\n",
    "    fixed_pclass = fixed_pclass,\n",
    "    test_mode = 'test', # {'val', 'test'}\n",
    "    use_model_from = 'json', # {'lr_dict', 'json'}\n",
    "    )"
   ]
  },
  {
   "cell_type": "markdown",
   "metadata": {},
   "source": [
    "Run model training only:"
   ]
  },
  {
   "cell_type": "code",
   "execution_count": 4,
   "metadata": {},
   "outputs": [
    {
     "name": "stderr",
     "output_type": "stream",
     "text": [
      "\u001b[34m\u001b[1mwandb\u001b[0m: Currently logged in as: \u001b[33mkeyuxi\u001b[0m. Use \u001b[1m`wandb login --relogin`\u001b[0m to force relogin\n"
     ]
    },
    {
     "data": {
      "text/html": [
       "wandb version 0.18.2 is available!  To upgrade, please run:\n",
       " $ pip install wandb --upgrade"
      ],
      "text/plain": [
       "<IPython.core.display.HTML object>"
      ]
     },
     "metadata": {},
     "output_type": "display_data"
    },
    {
     "data": {
      "text/html": [
       "Tracking run with wandb version 0.15.12"
      ],
      "text/plain": [
       "<IPython.core.display.HTML object>"
      ]
     },
     "metadata": {},
     "output_type": "display_data"
    },
    {
     "data": {
      "text/html": [
       "Run data is saved locally in <code>/Users/yuxi/workspace/nnn_paper/wandb/run-20240930_154355-lt9igbsd</code>"
      ],
      "text/plain": [
       "<IPython.core.display.HTML object>"
      ]
     },
     "metadata": {},
     "output_type": "display_data"
    },
    {
     "data": {
      "text/html": [
       "Syncing run <strong><a href='https://wandb.ai/keyuxi/nnn_paper/runs/lt9igbsd' target=\"_blank\">glorious-snowflake-1</a></strong> to <a href='https://wandb.ai/keyuxi/nnn_paper' target=\"_blank\">Weights & Biases</a> (<a href='https://wandb.me/run' target=\"_blank\">docs</a>)<br/>"
      ],
      "text/plain": [
       "<IPython.core.display.HTML object>"
      ]
     },
     "metadata": {},
     "output_type": "display_data"
    },
    {
     "data": {
      "text/html": [
       " View project at <a href='https://wandb.ai/keyuxi/nnn_paper' target=\"_blank\">https://wandb.ai/keyuxi/nnn_paper</a>"
      ],
      "text/plain": [
       "<IPython.core.display.HTML object>"
      ]
     },
     "metadata": {},
     "output_type": "display_data"
    },
    {
     "data": {
      "text/html": [
       " View run at <a href='https://wandb.ai/keyuxi/nnn_paper/runs/lt9igbsd' target=\"_blank\">https://wandb.ai/keyuxi/nnn_paper/runs/lt9igbsd</a>"
      ],
      "text/plain": [
       "<IPython.core.display.HTML object>"
      ]
     },
     "metadata": {},
     "output_type": "display_data"
    },
    {
     "name": "stdout",
     "output_type": "stream",
     "text": [
      "feats (30872, 185) Index(['bulge_size#1', 'bulge_size#2', 'hairpin_loop_mid#A'], dtype='object')\n",
      "fixed_feature_names: ['bulge_size#1', 'bulge_size#2', 'hairpin_size#3', 'hairpin_size#4', 'hairpin_size#7', 'hairpin_size#8', 'hairpin_size#9', 'hairpin_size#10', 'hairpin_size#11', 'hairpin_size#12', 'hairpin_size#13', 'hairpin_size#14', 'hairpin_size#17', 'hairpin_size#20', 'hairpin_size#23', 'interior_size#2', 'interior_size#4', 'stack#AATT', 'stack#ACGT', 'stack#AGCT', 'stack#ATAT', 'stack#CATG', 'stack#CCGG', 'stack#CGCG', 'stack#CTAG', 'stack#GATC', 'stack#GCGC', 'stack#GGCC', 'stack#GTAC', 'stack#TATA', 'stack#TCGA', 'stack#TGCA', 'stack#TTAA']\n",
      "rank 152\n",
      "shape of A_unknown (24689, 152)\n",
      "rank 152\n",
      "shape of A_unknown (24689, 152)\n",
      "\n",
      "Template file: ./models/dna04.json\n",
      "Centering new parameters...\n",
      "group bulge_size\n",
      "Nothing happened.\n",
      "\n",
      "group hairpin_mismatch\n",
      "\tMean value of old_dict is -3.684\n",
      "\tMean value of fitted new_dict is -13.355\n",
      "\tMean value of centered new_dict is -3.684\n",
      "\n",
      "group hairpin_size\n",
      "Nothing happened.\n",
      "\n",
      "group interior_mismatch\n",
      "\tMean value of old_dict is -2.913\n",
      "\tMean value of fitted new_dict is -5.340\n",
      "\tMean value of centered new_dict is -2.913\n",
      "\n",
      "group interior_size\n",
      "Nothing happened.\n",
      "\n",
      "group stack\n",
      "\tMean value of old_dict is -8.275\n",
      "\tMean value of fitted new_dict is -8.275\n",
      "\tMean value of centered new_dict is -8.275\n",
      "\n",
      "group terminal_penalty\n",
      "\tMean value of old_dict is 1.100\n",
      "\tMean value of fitted new_dict is -1.033\n",
      "\tMean value of centered new_dict is 1.100\n",
      "\n",
      "Centering new parameters...\n",
      "group bulge_size\n",
      "Nothing happened.\n",
      "\n",
      "group hairpin_mismatch\n",
      "\tMean value of old_dict is -0.715\n",
      "\tMean value of fitted new_dict is -3.964\n",
      "\tMean value of centered new_dict is -0.715\n",
      "\n",
      "group hairpin_size\n",
      "Nothing happened.\n",
      "\n",
      "group interior_mismatch\n",
      "\tMean value of old_dict is -0.640\n",
      "\tMean value of fitted new_dict is -0.701\n",
      "\tMean value of centered new_dict is -0.640\n",
      "\n",
      "group interior_size\n",
      "Nothing happened.\n",
      "\n",
      "group stack\n",
      "\tMean value of old_dict is -1.406\n",
      "\tMean value of fitted new_dict is -1.406\n",
      "\tMean value of centered new_dict is -1.406\n",
      "\n",
      "group terminal_penalty\n",
      "\tMean value of old_dict is 0.025\n",
      "\tMean value of fitted new_dict is 0.145\n",
      "\tMean value of centered new_dict is 0.025\n",
      "\n",
      "\n",
      "Centering dH of hairpin_triloop to ./models/dna04.json\n",
      "\tMean value of old_dict is -1.500\n",
      "\tMean value of fitted new_dict is 18.688\n",
      "\tMean value of centered new_dict is -1.500\n",
      "\n",
      "\n",
      "Centering dH of hairpin_tetraloop to ./models/dna04.json\n",
      "\tMean value of old_dict is -0.025\n",
      "\tMean value of fitted new_dict is 17.108\n",
      "\tMean value of centered new_dict is -0.025\n",
      "\n",
      "\n",
      "Centering dG of hairpin_triloop to ./models/dna04.json\n",
      "\tMean value of old_dict is -1.500\n",
      "\tMean value of fitted new_dict is 3.433\n",
      "\tMean value of centered new_dict is -1.500\n",
      "\n",
      "\n",
      "Centering dG of hairpin_tetraloop to ./models/dna04.json\n",
      "\tMean value of old_dict is -0.479\n",
      "\tMean value of fitted new_dict is 3.073\n",
      "\tMean value of centered new_dict is -0.479\n",
      "\n"
     ]
    },
    {
     "data": {
      "image/png": "[encoded data removed]",
      "text/plain": [
       "<Figure size 800x400 with 2 Axes>"
      ]
     },
     "metadata": {},
     "output_type": "display_data"
    }
   ],
   "source": [
    "lr_dict_1pass = tnn.train(config)\n",
    "dH_coef, dG_coef = lr_dict_1pass['dH'].coef_df, lr_dict_1pass['dG'].coef_df"
   ]
  },
  {
   "cell_type": "markdown",
   "metadata": {},
   "source": [
    "Run the entire model training and testing pipeline:"
   ]
  },
  {
   "cell_type": "code",
   "execution_count": 11,
   "metadata": {},
   "outputs": [
    {
     "data": {
      "text/plain": [
       "<wandb.sdk.lib.preinit.PreInitObject at 0x7f8581770040>"
      ]
     },
     "execution_count": 11,
     "metadata": {},
     "output_type": "execute_result"
    }
   ],
   "source": [
    "wandb.config"
   ]
  },
  {
   "cell_type": "code",
   "execution_count": 10,
   "metadata": {
    "scrolled": true
   },
   "outputs": [
    {
     "data": {
      "text/html": [
       "Finishing last run (ID:lt9igbsd) before initializing another..."
      ],
      "text/plain": [
       "<IPython.core.display.HTML object>"
      ]
     },
     "metadata": {},
     "output_type": "display_data"
    },
    {
     "data": {
      "text/html": [
       "Waiting for W&B process to finish... <strong style=\"color:green\">(success).</strong>"
      ],
      "text/plain": [
       "<IPython.core.display.HTML object>"
      ]
     },
     "metadata": {},
     "output_type": "display_data"
    },
    {
     "data": {
      "text/html": [
       "<style>\n",
       "    table.wandb td:nth-child(1) { padding: 0 10px; text-align: left ; width: auto;} td:nth-child(2) {text-align: left ; width: 100%}\n",
       "    .wandb-row { display: flex; flex-direction: row; flex-wrap: wrap; justify-content: flex-start; width: 100% }\n",
       "    .wandb-col { display: flex; flex-direction: column; flex-basis: 100%; flex: 1; padding: 10px; }\n",
       "    </style>\n",
       "<div class=\"wandb-row\"><div class=\"wandb-col\"><h3>Run history:</h3><br/><table class=\"wandb\"><tr><td>n_feat</td><td>▁</td></tr><tr><td>n_fixed_feat</td><td>▁</td></tr><tr><td>train_dG_mae</td><td>▁</td></tr><tr><td>train_dG_rsqr</td><td>▁</td></tr><tr><td>train_dH_mae</td><td>▁</td></tr><tr><td>train_dH_rsqr</td><td>▁</td></tr></table><br/></div><div class=\"wandb-col\"><h3>Run summary:</h3><br/><table class=\"wandb\"><tr><td>n_feat</td><td>185</td></tr><tr><td>n_fixed_feat</td><td>33</td></tr><tr><td>param_set_file</td><td>./models/glorious-sn...</td></tr><tr><td>train_dG_mae</td><td>0.60934</td></tr><tr><td>train_dG_rsqr</td><td>0.62676</td></tr><tr><td>train_dH_mae</td><td>5.7068</td></tr><tr><td>train_dH_rsqr</td><td>0.43779</td></tr></table><br/></div></div>"
      ],
      "text/plain": [
       "<IPython.core.display.HTML object>"
      ]
     },
     "metadata": {},
     "output_type": "display_data"
    },
    {
     "data": {
      "text/html": [
       " View run <strong style=\"color:#cdcd00\">glorious-snowflake-1</strong> at: <a href='https://wandb.ai/keyuxi/nnn_paper/runs/lt9igbsd' target=\"_blank\">https://wandb.ai/keyuxi/nnn_paper/runs/lt9igbsd</a><br/> View job at <a href='https://wandb.ai/keyuxi/nnn_paper/jobs/QXJ0aWZhY3RDb2xsZWN0aW9uOjQ2NDQ3NzkyOA==/version_details/v0' target=\"_blank\">https://wandb.ai/keyuxi/nnn_paper/jobs/QXJ0aWZhY3RDb2xsZWN0aW9uOjQ2NDQ3NzkyOA==/version_details/v0</a><br/>Synced 6 W&B file(s), 0 media file(s), 2 artifact file(s) and 0 other file(s)"
      ],
      "text/plain": [
       "<IPython.core.display.HTML object>"
      ]
     },
     "metadata": {},
     "output_type": "display_data"
    },
    {
     "data": {
      "text/html": [
       "Find logs at: <code>./wandb/run-20240930_154355-lt9igbsd/logs</code>"
      ],
      "text/plain": [
       "<IPython.core.display.HTML object>"
      ]
     },
     "metadata": {},
     "output_type": "display_data"
    },
    {
     "data": {
      "text/html": [
       "Successfully finished last run (ID:lt9igbsd). Initializing new run:<br/>"
      ],
      "text/plain": [
       "<IPython.core.display.HTML object>"
      ]
     },
     "metadata": {},
     "output_type": "display_data"
    },
    {
     "data": {
      "text/html": [
       "wandb version 0.18.2 is available!  To upgrade, please run:\n",
       " $ pip install wandb --upgrade"
      ],
      "text/plain": [
       "<IPython.core.display.HTML object>"
      ]
     },
     "metadata": {},
     "output_type": "display_data"
    },
    {
     "data": {
      "text/html": [
       "Tracking run with wandb version 0.15.12"
      ],
      "text/plain": [
       "<IPython.core.display.HTML object>"
      ]
     },
     "metadata": {},
     "output_type": "display_data"
    },
    {
     "data": {
      "text/html": [
       "Run data is saved locally in <code>/Users/yuxi/workspace/nnn_paper/wandb/run-20240930_155031-1pmo4zjj</code>"
      ],
      "text/plain": [
       "<IPython.core.display.HTML object>"
      ]
     },
     "metadata": {},
     "output_type": "display_data"
    },
    {
     "data": {
      "text/html": [
       "Syncing run <strong><a href='https://wandb.ai/keyuxi/NN/runs/1pmo4zjj' target=\"_blank\">true-smoke-147</a></strong> to <a href='https://wandb.ai/keyuxi/NN' target=\"_blank\">Weights & Biases</a> (<a href='https://wandb.me/run' target=\"_blank\">docs</a>)<br/>"
      ],
      "text/plain": [
       "<IPython.core.display.HTML object>"
      ]
     },
     "metadata": {},
     "output_type": "display_data"
    },
    {
     "data": {
      "text/html": [
       " View project at <a href='https://wandb.ai/keyuxi/NN' target=\"_blank\">https://wandb.ai/keyuxi/NN</a>"
      ],
      "text/plain": [
       "<IPython.core.display.HTML object>"
      ]
     },
     "metadata": {},
     "output_type": "display_data"
    },
    {
     "data": {
      "text/html": [
       " View run at <a href='https://wandb.ai/keyuxi/NN/runs/1pmo4zjj' target=\"_blank\">https://wandb.ai/keyuxi/NN/runs/1pmo4zjj</a>"
      ],
      "text/plain": [
       "<IPython.core.display.HTML object>"
      ]
     },
     "metadata": {},
     "output_type": "display_data"
    },
    {
     "data": {
      "text/html": [
       "Finishing last run (ID:1pmo4zjj) before initializing another..."
      ],
      "text/plain": [
       "<IPython.core.display.HTML object>"
      ]
     },
     "metadata": {},
     "output_type": "display_data"
    },
    {
     "data": {
      "text/html": [
       "Waiting for W&B process to finish... <strong style=\"color:green\">(success).</strong>"
      ],
      "text/plain": [
       "<IPython.core.display.HTML object>"
      ]
     },
     "metadata": {},
     "output_type": "display_data"
    },
    {
     "data": {
      "text/html": [
       " View run <strong style=\"color:#cdcd00\">true-smoke-147</strong> at: <a href='https://wandb.ai/keyuxi/NN/runs/1pmo4zjj' target=\"_blank\">https://wandb.ai/keyuxi/NN/runs/1pmo4zjj</a><br/> View job at <a href='https://wandb.ai/keyuxi/NN/jobs/QXJ0aWZhY3RDb2xsZWN0aW9uOjExMTcyMjg1NQ==/version_details/v9' target=\"_blank\">https://wandb.ai/keyuxi/NN/jobs/QXJ0aWZhY3RDb2xsZWN0aW9uOjExMTcyMjg1NQ==/version_details/v9</a><br/>Synced 5 W&B file(s), 0 media file(s), 2 artifact file(s) and 0 other file(s)"
      ],
      "text/plain": [
       "<IPython.core.display.HTML object>"
      ]
     },
     "metadata": {},
     "output_type": "display_data"
    },
    {
     "data": {
      "text/html": [
       "Find logs at: <code>./wandb/run-20240930_155031-1pmo4zjj/logs</code>"
      ],
      "text/plain": [
       "<IPython.core.display.HTML object>"
      ]
     },
     "metadata": {},
     "output_type": "display_data"
    },
    {
     "data": {
      "text/html": [
       "Successfully finished last run (ID:1pmo4zjj). Initializing new run:<br/>"
      ],
      "text/plain": [
       "<IPython.core.display.HTML object>"
      ]
     },
     "metadata": {},
     "output_type": "display_data"
    },
    {
     "data": {
      "text/html": [
       "wandb version 0.18.2 is available!  To upgrade, please run:\n",
       " $ pip install wandb --upgrade"
      ],
      "text/plain": [
       "<IPython.core.display.HTML object>"
      ]
     },
     "metadata": {},
     "output_type": "display_data"
    },
    {
     "data": {
      "text/html": [
       "Tracking run with wandb version 0.15.12"
      ],
      "text/plain": [
       "<IPython.core.display.HTML object>"
      ]
     },
     "metadata": {},
     "output_type": "display_data"
    },
    {
     "data": {
      "text/html": [
       "Run data is saved locally in <code>/Users/yuxi/workspace/nnn_paper/wandb/run-20240930_155039-k2r8zvpq</code>"
      ],
      "text/plain": [
       "<IPython.core.display.HTML object>"
      ]
     },
     "metadata": {},
     "output_type": "display_data"
    },
    {
     "data": {
      "text/html": [
       "Syncing run <strong><a href='https://wandb.ai/keyuxi/nnn_paper/runs/k2r8zvpq' target=\"_blank\">elated-frost-2</a></strong> to <a href='https://wandb.ai/keyuxi/nnn_paper' target=\"_blank\">Weights & Biases</a> (<a href='https://wandb.me/run' target=\"_blank\">docs</a>)<br/>"
      ],
      "text/plain": [
       "<IPython.core.display.HTML object>"
      ]
     },
     "metadata": {},
     "output_type": "display_data"
    },
    {
     "data": {
      "text/html": [
       " View project at <a href='https://wandb.ai/keyuxi/nnn_paper' target=\"_blank\">https://wandb.ai/keyuxi/nnn_paper</a>"
      ],
      "text/plain": [
       "<IPython.core.display.HTML object>"
      ]
     },
     "metadata": {},
     "output_type": "display_data"
    },
    {
     "data": {
      "text/html": [
       " View run at <a href='https://wandb.ai/keyuxi/nnn_paper/runs/k2r8zvpq' target=\"_blank\">https://wandb.ai/keyuxi/nnn_paper/runs/k2r8zvpq</a>"
      ],
      "text/plain": [
       "<IPython.core.display.HTML object>"
      ]
     },
     "metadata": {},
     "output_type": "display_data"
    },
    {
     "name": "stdout",
     "output_type": "stream",
     "text": [
      "feats (30872, 185) Index(['bulge_size#1', 'bulge_size#2', 'hairpin_loop_mid#A'], dtype='object')\n",
      "fixed_feature_names: ['bulge_size#1', 'bulge_size#2', 'hairpin_size#3', 'hairpin_size#4', 'hairpin_size#7', 'hairpin_size#8', 'hairpin_size#9', 'hairpin_size#10', 'hairpin_size#11', 'hairpin_size#12', 'hairpin_size#13', 'hairpin_size#14', 'hairpin_size#17', 'hairpin_size#20', 'hairpin_size#23', 'interior_size#2', 'interior_size#4', 'stack#AATT', 'stack#ACGT', 'stack#AGCT', 'stack#ATAT', 'stack#CATG', 'stack#CCGG', 'stack#CGCG', 'stack#CTAG', 'stack#GATC', 'stack#GCGC', 'stack#GGCC', 'stack#GTAC', 'stack#TATA', 'stack#TCGA', 'stack#TGCA', 'stack#TTAA']\n",
      "rank 152\n",
      "shape of A_unknown (24689, 152)\n",
      "rank 152\n",
      "shape of A_unknown (24689, 152)\n",
      "\n",
      "Template file: ./models/dna04.json\n",
      "Centering new parameters...\n",
      "group bulge_size\n",
      "Nothing happened.\n",
      "\n",
      "group hairpin_mismatch\n",
      "\tMean value of old_dict is -3.684\n",
      "\tMean value of fitted new_dict is -13.355\n",
      "\tMean value of centered new_dict is -3.684\n",
      "\n",
      "group hairpin_size\n",
      "Nothing happened.\n",
      "\n",
      "group interior_mismatch\n",
      "\tMean value of old_dict is -2.913\n",
      "\tMean value of fitted new_dict is -5.340\n",
      "\tMean value of centered new_dict is -2.913\n",
      "\n",
      "group interior_size\n",
      "Nothing happened.\n",
      "\n",
      "group stack\n",
      "\tMean value of old_dict is -8.275\n",
      "\tMean value of fitted new_dict is -8.275\n",
      "\tMean value of centered new_dict is -8.275\n",
      "\n",
      "group terminal_penalty\n",
      "\tMean value of old_dict is 1.100\n",
      "\tMean value of fitted new_dict is -1.033\n",
      "\tMean value of centered new_dict is 1.100\n",
      "\n",
      "Centering new parameters...\n",
      "group bulge_size\n",
      "Nothing happened.\n",
      "\n",
      "group hairpin_mismatch\n",
      "\tMean value of old_dict is -0.715\n",
      "\tMean value of fitted new_dict is -3.964\n",
      "\tMean value of centered new_dict is -0.715\n",
      "\n",
      "group hairpin_size\n",
      "Nothing happened.\n",
      "\n",
      "group interior_mismatch\n",
      "\tMean value of old_dict is -0.640\n",
      "\tMean value of fitted new_dict is -0.701\n",
      "\tMean value of centered new_dict is -0.640\n",
      "\n",
      "group interior_size\n",
      "Nothing happened.\n",
      "\n",
      "group stack\n",
      "\tMean value of old_dict is -1.406\n",
      "\tMean value of fitted new_dict is -1.406\n",
      "\tMean value of centered new_dict is -1.406\n",
      "\n",
      "group terminal_penalty\n",
      "\tMean value of old_dict is 0.025\n",
      "\tMean value of fitted new_dict is 0.145\n",
      "\tMean value of centered new_dict is 0.025\n",
      "\n",
      "\n",
      "Centering dH of hairpin_triloop to ./models/dna04.json\n",
      "\tMean value of old_dict is -1.500\n",
      "\tMean value of fitted new_dict is 18.688\n",
      "\tMean value of centered new_dict is -1.500\n",
      "\n",
      "\n",
      "Centering dH of hairpin_tetraloop to ./models/dna04.json\n",
      "\tMean value of old_dict is -0.025\n",
      "\tMean value of fitted new_dict is 17.108\n",
      "\tMean value of centered new_dict is -0.025\n",
      "\n",
      "\n",
      "Centering dG of hairpin_triloop to ./models/dna04.json\n",
      "\tMean value of old_dict is -1.500\n",
      "\tMean value of fitted new_dict is 3.433\n",
      "\tMean value of centered new_dict is -1.500\n",
      "\n",
      "\n",
      "Centering dG of hairpin_tetraloop to ./models/dna04.json\n",
      "\tMean value of old_dict is -0.479\n",
      "\tMean value of fitted new_dict is 3.073\n",
      "\tMean value of centered new_dict is -0.479\n",
      "\n"
     ]
    },
    {
     "name": "stderr",
     "output_type": "stream",
     "text": [
      "Traceback (most recent call last):\n",
      "  File \"/Users/yuxi/workspace/nnn_paper/nnn/train_nn.py\", line 24, in model_pipeline\n",
      "    test(config, json_file=json_file)\n",
      "  File \"/Users/yuxi/workspace/nnn_paper/nnn/train_nn.py\", line 283, in test\n",
      "    val_result_df_dict[dataset_name] = modeling.make_model_validation_df(\n",
      "  File \"/Users/yuxi/workspace/nnn_paper/nnn/modeling.py\", line 26, in make_model_validation_df\n",
      "    pred_df = get_model_prediction(df=val_data_df, **pred_kwargs)\n",
      "  File \"/Users/yuxi/workspace/nnn_paper/nnn/modeling.py\", line 83, in get_model_prediction\n",
      "    result_df = globals()[f'run_{model}'](seq_list, struct_list, sodium, model_param_file, model_kwargs)\n",
      "  File \"/Users/yuxi/workspace/nnn_paper/nnn/modeling.py\", line 199, in run_nupack\n",
      "    Tm = util.calculate_tm(seq, struct,\n",
      "  File \"/Users/yuxi/workspace/nnn_paper/nnn/util.py\", line 535, in calculate_tm\n",
      "    Q_K = calculate_distance_2_equilibrium(seq, DNA_conc, get_nupack_model(T), target_struct=target_struct)\n",
      "  File \"/Users/yuxi/workspace/nnn_paper/nnn/util.py\", line 525, in <lambda>\n",
      "    get_nupack_model = lambda T: nupack.Model(material=param_set, celsius=T, sodium=sodium)\n",
      "  File \"/Users/yuxi/opt/anaconda3/envs/nn_train/lib/python3.8/site-packages/nupack/rebind/render.py\", line 243, in wrap\n",
      "    return _old(*args, _fun_=_orig, **kwargs)\n",
      "  File \"/Users/yuxi/opt/anaconda3/envs/nn_train/lib/python3.8/site-packages/nupack/model.py\", line 154, in __init__\n",
      "    _fun_(self, Ensemble.get(ensemble), material, conditions, gu, return_type=cls)\n",
      "  File \"/Users/yuxi/opt/anaconda3/envs/nn_train/lib/python3.8/site-packages/nupack/rebind/render.py\", line 86, in __init__\n",
      "    self.move_from(_new(*args, return_type=return_type, signature=signature))\n",
      "KeyboardInterrupt\n"
     ]
    },
    {
     "ename": "KeyboardInterrupt",
     "evalue": "",
     "output_type": "error",
     "traceback": [
      "\u001b[0;31m---------------------------------------------------------------------------\u001b[0m",
      "\u001b[0;31mKeyboardInterrupt\u001b[0m                         Traceback (most recent call last)",
      "Cell \u001b[0;32mIn[10], line 1\u001b[0m\n\u001b[0;32m----> 1\u001b[0m \u001b[43mtnn\u001b[49m\u001b[38;5;241;43m.\u001b[39;49m\u001b[43mmodel_pipeline\u001b[49m\u001b[43m(\u001b[49m\u001b[43mconfig\u001b[49m\u001b[43m)\u001b[49m\n",
      "File \u001b[0;32m~/workspace/nnn_paper/nnn/train_nn.py:24\u001b[0m, in \u001b[0;36mmodel_pipeline\u001b[0;34m(hyperparameters, tags)\u001b[0m\n\u001b[1;32m     22\u001b[0m     \u001b[38;5;28;01melif\u001b[39;00m config[\u001b[38;5;124m'\u001b[39m\u001b[38;5;124muse_model_from\u001b[39m\u001b[38;5;124m'\u001b[39m] \u001b[38;5;241m==\u001b[39m \u001b[38;5;124m'\u001b[39m\u001b[38;5;124mjson\u001b[39m\u001b[38;5;124m'\u001b[39m:\n\u001b[1;32m     23\u001b[0m         json_file \u001b[38;5;241m=\u001b[39m \u001b[38;5;124m'\u001b[39m\u001b[38;5;124m./models/\u001b[39m\u001b[38;5;132;01m%s\u001b[39;00m\u001b[38;5;124m.json\u001b[39m\u001b[38;5;124m'\u001b[39m \u001b[38;5;241m%\u001b[39m wandb\u001b[38;5;241m.\u001b[39mrun\u001b[38;5;241m.\u001b[39mname\n\u001b[0;32m---> 24\u001b[0m         \u001b[43mtest\u001b[49m\u001b[43m(\u001b[49m\u001b[43mconfig\u001b[49m\u001b[43m,\u001b[49m\u001b[43m \u001b[49m\u001b[43mjson_file\u001b[49m\u001b[38;5;241;43m=\u001b[39;49m\u001b[43mjson_file\u001b[49m\u001b[43m)\u001b[49m\n\u001b[1;32m     27\u001b[0m \u001b[38;5;28;01mreturn\u001b[39;00m lr_dict\n",
      "File \u001b[0;32m~/workspace/nnn_paper/nnn/train_nn.py:283\u001b[0m, in \u001b[0;36mtest\u001b[0;34m(config, lr_dict, json_file, debug, log_wandb, save_val_result_df, save_metric_json)\u001b[0m\n\u001b[1;32m    280\u001b[0m             val_kwargs \u001b[38;5;241m=\u001b[39m \u001b[38;5;28mdict\u001b[39m()\n\u001b[1;32m    282\u001b[0m         \u001b[38;5;66;03m# Actually run\u001b[39;00m\n\u001b[0;32m--> 283\u001b[0m         val_result_df_dict[dataset_name] \u001b[38;5;241m=\u001b[39m \u001b[43mmodeling\u001b[49m\u001b[38;5;241;43m.\u001b[39;49m\u001b[43mmake_model_validation_df\u001b[49m\u001b[43m(\u001b[49m\n\u001b[1;32m    284\u001b[0m \u001b[43m            \u001b[49m\u001b[43mval_df\u001b[49m\u001b[43m,\u001b[49m\n\u001b[1;32m    285\u001b[0m \u001b[43m            \u001b[49m\u001b[43mmodel\u001b[49m\u001b[38;5;241;43m=\u001b[39;49m\u001b[38;5;124;43m'\u001b[39;49m\u001b[38;5;124;43mnupack\u001b[39;49m\u001b[38;5;124;43m'\u001b[39;49m\u001b[43m,\u001b[49m\u001b[43m \u001b[49m\n\u001b[1;32m    286\u001b[0m \u001b[43m            \u001b[49m\u001b[43mmodel_param_file\u001b[49m\u001b[38;5;241;43m=\u001b[39;49m\u001b[43mjson_file\u001b[49m\u001b[43m,\u001b[49m\n\u001b[1;32m    287\u001b[0m \u001b[43m            \u001b[49m\u001b[38;5;241;43m*\u001b[39;49m\u001b[38;5;241;43m*\u001b[39;49m\u001b[43mval_kwargs\u001b[49m\n\u001b[1;32m    288\u001b[0m \u001b[43m        \u001b[49m\u001b[43m)\u001b[49m\n\u001b[1;32m    290\u001b[0m val_result_df \u001b[38;5;241m=\u001b[39m pd\u001b[38;5;241m.\u001b[39mconcat(\n\u001b[1;32m    291\u001b[0m     val_result_df_dict,\n\u001b[1;32m    292\u001b[0m     axis\u001b[38;5;241m=\u001b[39m\u001b[38;5;241m0\u001b[39m,\n\u001b[1;32m    293\u001b[0m     join\u001b[38;5;241m=\u001b[39m\u001b[38;5;124m'\u001b[39m\u001b[38;5;124mouter\u001b[39m\u001b[38;5;124m'\u001b[39m,\n\u001b[1;32m    294\u001b[0m     keys\u001b[38;5;241m=\u001b[39mval_result_df_dict\u001b[38;5;241m.\u001b[39mkeys()\n\u001b[1;32m    295\u001b[0m )\n\u001b[1;32m    297\u001b[0m \u001b[38;5;66;03m### Evaluate val_result_df ###\u001b[39;00m\n",
      "File \u001b[0;32m~/workspace/nnn_paper/nnn/modeling.py:26\u001b[0m, in \u001b[0;36mmake_model_validation_df\u001b[0;34m(val_data_df, **pred_kwargs)\u001b[0m\n\u001b[1;32m     15\u001b[0m \u001b[38;5;28;01mdef\u001b[39;00m \u001b[38;5;21mmake_model_validation_df\u001b[39m(val_data_df, \u001b[38;5;241m*\u001b[39m\u001b[38;5;241m*\u001b[39mpred_kwargs):\n\u001b[1;32m     16\u001b[0m \u001b[38;5;250m    \u001b[39m\u001b[38;5;124;03m\"\"\"\u001b[39;00m\n\u001b[1;32m     17\u001b[0m \u001b[38;5;124;03m    Args:\u001b[39;00m\n\u001b[1;32m     18\u001b[0m \u001b[38;5;124;03m        val_data_df - dataframe. Uses column names\u001b[39;00m\n\u001b[0;32m   (...)\u001b[0m\n\u001b[1;32m     24\u001b[0m \u001b[38;5;124;03m            Only has Index, RefSeq, TargetStruct, actual and predicted values\u001b[39;00m\n\u001b[1;32m     25\u001b[0m \u001b[38;5;124;03m    \"\"\"\u001b[39;00m\n\u001b[0;32m---> 26\u001b[0m     pred_df \u001b[38;5;241m=\u001b[39m \u001b[43mget_model_prediction\u001b[49m\u001b[43m(\u001b[49m\u001b[43mdf\u001b[49m\u001b[38;5;241;43m=\u001b[39;49m\u001b[43mval_data_df\u001b[49m\u001b[43m,\u001b[49m\u001b[43m \u001b[49m\u001b[38;5;241;43m*\u001b[39;49m\u001b[38;5;241;43m*\u001b[39;49m\u001b[43mpred_kwargs\u001b[49m\u001b[43m)\u001b[49m\n\u001b[1;32m     28\u001b[0m     pred_columns \u001b[38;5;241m=\u001b[39m [c\u001b[38;5;241m+\u001b[39m\u001b[38;5;124m'\u001b[39m\u001b[38;5;124m_pred\u001b[39m\u001b[38;5;124m'\u001b[39m \u001b[38;5;28;01mfor\u001b[39;00m c \u001b[38;5;129;01min\u001b[39;00m pred_df\u001b[38;5;241m.\u001b[39mcolumns]\n\u001b[1;32m     29\u001b[0m     pred_df\u001b[38;5;241m.\u001b[39mcolumns \u001b[38;5;241m=\u001b[39m pred_columns\n",
      "File \u001b[0;32m~/workspace/nnn_paper/nnn/modeling.py:83\u001b[0m, in \u001b[0;36mget_model_prediction\u001b[0;34m(df, seq_list, struct_list, sodium, model, model_param_file, model_kwargs, append_df_suffix)\u001b[0m\n\u001b[1;32m     80\u001b[0m         \u001b[38;5;28;01massert\u001b[39;00m \u001b[38;5;28mlen\u001b[39m(seq_list) \u001b[38;5;241m==\u001b[39m struct_list\n\u001b[1;32m     82\u001b[0m     \u001b[38;5;66;03m# run model prediction\u001b[39;00m\n\u001b[0;32m---> 83\u001b[0m     result_df \u001b[38;5;241m=\u001b[39m \u001b[38;5;28;43mglobals\u001b[39;49m\u001b[43m(\u001b[49m\u001b[43m)\u001b[49m\u001b[43m[\u001b[49m\u001b[38;5;124;43mf\u001b[39;49m\u001b[38;5;124;43m'\u001b[39;49m\u001b[38;5;124;43mrun_\u001b[39;49m\u001b[38;5;132;43;01m{\u001b[39;49;00m\u001b[43mmodel\u001b[49m\u001b[38;5;132;43;01m}\u001b[39;49;00m\u001b[38;5;124;43m'\u001b[39;49m\u001b[43m]\u001b[49m\u001b[43m(\u001b[49m\u001b[43mseq_list\u001b[49m\u001b[43m,\u001b[49m\u001b[43m \u001b[49m\u001b[43mstruct_list\u001b[49m\u001b[43m,\u001b[49m\u001b[43m \u001b[49m\u001b[43msodium\u001b[49m\u001b[43m,\u001b[49m\u001b[43m \u001b[49m\u001b[43mmodel_param_file\u001b[49m\u001b[43m,\u001b[49m\u001b[43m \u001b[49m\u001b[43mmodel_kwargs\u001b[49m\u001b[43m)\u001b[49m\n\u001b[1;32m     85\u001b[0m \u001b[38;5;28;01melif\u001b[39;00m model \u001b[38;5;241m==\u001b[39m \u001b[38;5;124m'\u001b[39m\u001b[38;5;124munet\u001b[39m\u001b[38;5;124m'\u001b[39m:\n\u001b[1;32m     86\u001b[0m     \u001b[38;5;66;03m# TODO\u001b[39;00m\n\u001b[1;32m     87\u001b[0m     \u001b[38;5;28;01mreturn\u001b[39;00m result_df\n",
      "File \u001b[0;32m~/workspace/nnn_paper/nnn/modeling.py:199\u001b[0m, in \u001b[0;36mrun_nupack\u001b[0;34m(seq_list, struct_list, sodium, model_param_file, model_kwargs)\u001b[0m\n\u001b[1;32m    196\u001b[0m     \u001b[38;5;28;01melse\u001b[39;00m:\n\u001b[1;32m    197\u001b[0m         dna_conc \u001b[38;5;241m=\u001b[39m DNA_conc[i]\n\u001b[0;32m--> 199\u001b[0m     Tm \u001b[38;5;241m=\u001b[39m \u001b[43mutil\u001b[49m\u001b[38;5;241;43m.\u001b[39;49m\u001b[43mcalculate_tm\u001b[49m\u001b[43m(\u001b[49m\u001b[43mseq\u001b[49m\u001b[43m,\u001b[49m\u001b[43m \u001b[49m\u001b[43mstruct\u001b[49m\u001b[43m,\u001b[49m\n\u001b[1;32m    200\u001b[0m \u001b[43m         \u001b[49m\u001b[43msodium\u001b[49m\u001b[38;5;241;43m=\u001b[39;49m\u001b[38;5;241;43m1.0\u001b[39;49m\u001b[43m,\u001b[49m\u001b[43m \u001b[49m\u001b[43mDNA_conc\u001b[49m\u001b[38;5;241;43m=\u001b[39;49m\u001b[43mdna_conc\u001b[49m\u001b[43m,\u001b[49m\u001b[43m \u001b[49m\u001b[43mparam_set\u001b[49m\u001b[38;5;241;43m=\u001b[39;49m\u001b[43mmodel_param_file\u001b[49m\u001b[43m)\u001b[49m\n\u001b[1;32m    201\u001b[0m     row_result_dict \u001b[38;5;241m=\u001b[39m \u001b[38;5;28mdict\u001b[39m(Tm\u001b[38;5;241m=\u001b[39mutil\u001b[38;5;241m.\u001b[39mget_Na_adjusted_Tm(Tm, \u001b[38;5;28;01mNone\u001b[39;00m, util\u001b[38;5;241m.\u001b[39mget_GC_content(\u001b[38;5;124m'\u001b[39m\u001b[38;5;124m'\u001b[39m\u001b[38;5;241m.\u001b[39mjoin(seq)), Na\u001b[38;5;241m=\u001b[39mna))\n\u001b[1;32m    203\u001b[0m result_df\u001b[38;5;241m.\u001b[39miloc[i,:] \u001b[38;5;241m=\u001b[39m {k:v \u001b[38;5;28;01mfor\u001b[39;00m k,v \u001b[38;5;129;01min\u001b[39;00m row_result_dict\u001b[38;5;241m.\u001b[39mitems() \u001b[38;5;28;01mif\u001b[39;00m k \u001b[38;5;129;01min\u001b[39;00m PNAMES}\n",
      "File \u001b[0;32m~/workspace/nnn_paper/nnn/util.py:535\u001b[0m, in \u001b[0;36mcalculate_tm\u001b[0;34m(seq, target_struct, sodium, DNA_conc, param_set)\u001b[0m\n\u001b[1;32m    533\u001b[0m \u001b[38;5;28;01mwhile\u001b[39;00m \u001b[38;5;28;01mTrue\u001b[39;00m:\n\u001b[1;32m    534\u001b[0m     T \u001b[38;5;241m=\u001b[39m (lo \u001b[38;5;241m+\u001b[39m hi) \u001b[38;5;241m/\u001b[39m \u001b[38;5;241m2\u001b[39m\n\u001b[0;32m--> 535\u001b[0m     Q_K \u001b[38;5;241m=\u001b[39m calculate_distance_2_equilibrium(seq, DNA_conc, \u001b[43mget_nupack_model\u001b[49m\u001b[43m(\u001b[49m\u001b[43mT\u001b[49m\u001b[43m)\u001b[49m, target_struct\u001b[38;5;241m=\u001b[39mtarget_struct)\n\u001b[1;32m    537\u001b[0m     \u001b[38;5;28;01mif\u001b[39;00m \u001b[38;5;28mabs\u001b[39m(Q_K) \u001b[38;5;241m<\u001b[39m \u001b[38;5;241m1e-2\u001b[39m:\n\u001b[1;32m    538\u001b[0m         \u001b[38;5;28;01mreturn\u001b[39;00m T\n",
      "File \u001b[0;32m~/workspace/nnn_paper/nnn/util.py:525\u001b[0m, in \u001b[0;36mcalculate_tm.<locals>.<lambda>\u001b[0;34m(T)\u001b[0m\n\u001b[1;32m    522\u001b[0m \u001b[38;5;250m\u001b[39m\u001b[38;5;124;03m'''Simple Tm calculation using bisection to find where unpaired = paired population'''\u001b[39;00m\n\u001b[1;32m    524\u001b[0m lo, hi \u001b[38;5;241m=\u001b[39m \u001b[38;5;241m0\u001b[39m, \u001b[38;5;241m100\u001b[39m\n\u001b[0;32m--> 525\u001b[0m get_nupack_model \u001b[38;5;241m=\u001b[39m \u001b[38;5;28;01mlambda\u001b[39;00m T: \u001b[43mnupack\u001b[49m\u001b[38;5;241;43m.\u001b[39;49m\u001b[43mModel\u001b[49m\u001b[43m(\u001b[49m\u001b[43mmaterial\u001b[49m\u001b[38;5;241;43m=\u001b[39;49m\u001b[43mparam_set\u001b[49m\u001b[43m,\u001b[49m\u001b[43m \u001b[49m\u001b[43mcelsius\u001b[49m\u001b[38;5;241;43m=\u001b[39;49m\u001b[43mT\u001b[49m\u001b[43m,\u001b[49m\u001b[43m \u001b[49m\u001b[43msodium\u001b[49m\u001b[38;5;241;43m=\u001b[39;49m\u001b[43msodium\u001b[49m\u001b[43m)\u001b[49m\n\u001b[1;32m    527\u001b[0m \u001b[38;5;28;01mif\u001b[39;00m calculate_distance_2_equilibrium(seq, DNA_conc, get_nupack_model(lo), target_struct\u001b[38;5;241m=\u001b[39mtarget_struct) \u001b[38;5;241m<\u001b[39m \u001b[38;5;241m0\u001b[39m:\n\u001b[1;32m    528\u001b[0m     \u001b[38;5;28;01mreturn\u001b[39;00m lo\n",
      "File \u001b[0;32m~/opt/anaconda3/envs/nn_train/lib/python3.8/site-packages/nupack/rebind/render.py:243\u001b[0m, in \u001b[0;36mrender_function.<locals>.wrap\u001b[0;34m(_orig, _bind, _old, gil, signature, *args, **kwargs)\u001b[0m\n\u001b[1;32m    241\u001b[0m args \u001b[38;5;241m=\u001b[39m (a \u001b[38;5;28;01mif\u001b[39;00m t \u001b[38;5;129;01mis\u001b[39;00m \u001b[38;5;28;01mNone\u001b[39;00m \u001b[38;5;129;01mor\u001b[39;00m a \u001b[38;5;129;01mis\u001b[39;00m \u001b[38;5;28;01mNone\u001b[39;00m \u001b[38;5;28;01melse\u001b[39;00m make_callback(a, t) \u001b[38;5;28;01mfor\u001b[39;00m a, t \u001b[38;5;129;01min\u001b[39;00m \u001b[38;5;28mzip\u001b[39m(bound\u001b[38;5;241m.\u001b[39margs, types))\n\u001b[1;32m    242\u001b[0m kwargs \u001b[38;5;241m=\u001b[39m {k: (v \u001b[38;5;28;01mif\u001b[39;00m t \u001b[38;5;129;01mis\u001b[39;00m \u001b[38;5;28;01mNone\u001b[39;00m \u001b[38;5;129;01mor\u001b[39;00m v \u001b[38;5;129;01mis\u001b[39;00m \u001b[38;5;28;01mNone\u001b[39;00m \u001b[38;5;28;01melse\u001b[39;00m make_callback(v, t)) \u001b[38;5;28;01mfor\u001b[39;00m (k, v), t \u001b[38;5;129;01min\u001b[39;00m \u001b[38;5;28mzip\u001b[39m(bound\u001b[38;5;241m.\u001b[39mkwargs\u001b[38;5;241m.\u001b[39mitems(), types[\u001b[38;5;28mlen\u001b[39m(bound\u001b[38;5;241m.\u001b[39margs):])}\n\u001b[0;32m--> 243\u001b[0m \u001b[38;5;28;01mreturn\u001b[39;00m \u001b[43m_old\u001b[49m\u001b[43m(\u001b[49m\u001b[38;5;241;43m*\u001b[39;49m\u001b[43margs\u001b[49m\u001b[43m,\u001b[49m\u001b[43m \u001b[49m\u001b[43m_fun_\u001b[49m\u001b[38;5;241;43m=\u001b[39;49m\u001b[43m_orig\u001b[49m\u001b[43m,\u001b[49m\u001b[43m \u001b[49m\u001b[38;5;241;43m*\u001b[39;49m\u001b[38;5;241;43m*\u001b[39;49m\u001b[43mkwargs\u001b[49m\u001b[43m)\u001b[49m\n",
      "File \u001b[0;32m~/opt/anaconda3/envs/nn_train/lib/python3.8/site-packages/nupack/model.py:154\u001b[0m, in \u001b[0;36mModel.__init__\u001b[0;34m(self, ensemble, material, wobble, kelvin, celsius, sodium, magnesium, bits, _fun_)\u001b[0m\n\u001b[1;32m    151\u001b[0m \u001b[38;5;28mcls\u001b[39m \u001b[38;5;241m=\u001b[39m match(k \u001b[38;5;28;01mfor\u001b[39;00m k, v \u001b[38;5;129;01min\u001b[39;00m \u001b[38;5;28mself\u001b[39m\u001b[38;5;241m.\u001b[39m_metadata_\u001b[38;5;241m.\u001b[39mitems() \u001b[38;5;28;01mif\u001b[39;00m v\u001b[38;5;241m.\u001b[39mcast(\u001b[38;5;28mint\u001b[39m) \u001b[38;5;241m==\u001b[39m bits)\n\u001b[1;32m    152\u001b[0m gu \u001b[38;5;241m=\u001b[39m \u001b[38;5;241m2\u001b[39m \u001b[38;5;28;01mif\u001b[39;00m wobble \u001b[38;5;129;01mis\u001b[39;00m \u001b[38;5;28;01mNone\u001b[39;00m \u001b[38;5;28;01melse\u001b[39;00m \u001b[38;5;28mint\u001b[39m(\u001b[38;5;28mbool\u001b[39m(wobble))\n\u001b[0;32m--> 154\u001b[0m \u001b[43m_fun_\u001b[49m\u001b[43m(\u001b[49m\u001b[38;5;28;43mself\u001b[39;49m\u001b[43m,\u001b[49m\u001b[43m \u001b[49m\u001b[43mEnsemble\u001b[49m\u001b[38;5;241;43m.\u001b[39;49m\u001b[43mget\u001b[49m\u001b[43m(\u001b[49m\u001b[43mensemble\u001b[49m\u001b[43m)\u001b[49m\u001b[43m,\u001b[49m\u001b[43m \u001b[49m\u001b[43mmaterial\u001b[49m\u001b[43m,\u001b[49m\u001b[43m \u001b[49m\u001b[43mconditions\u001b[49m\u001b[43m,\u001b[49m\u001b[43m \u001b[49m\u001b[43mgu\u001b[49m\u001b[43m,\u001b[49m\u001b[43m \u001b[49m\u001b[43mreturn_type\u001b[49m\u001b[38;5;241;43m=\u001b[39;49m\u001b[38;5;28;43mcls\u001b[39;49m\u001b[43m)\u001b[49m\n",
      "File \u001b[0;32m~/opt/anaconda3/envs/nn_train/lib/python3.8/site-packages/nupack/rebind/render.py:86\u001b[0m, in \u001b[0;36mrender_init.<locals>.__init__\u001b[0;34m(self, _new, return_type, signature, *args)\u001b[0m\n\u001b[1;32m     85\u001b[0m \u001b[38;5;28;01mdef\u001b[39;00m \u001b[38;5;21m__init__\u001b[39m(\u001b[38;5;28mself\u001b[39m, \u001b[38;5;241m*\u001b[39margs, _new\u001b[38;5;241m=\u001b[39minit, return_type\u001b[38;5;241m=\u001b[39m\u001b[38;5;28;01mNone\u001b[39;00m, signature\u001b[38;5;241m=\u001b[39m\u001b[38;5;28;01mNone\u001b[39;00m):\n\u001b[0;32m---> 86\u001b[0m     \u001b[38;5;28mself\u001b[39m\u001b[38;5;241m.\u001b[39mmove_from(\u001b[43m_new\u001b[49m\u001b[43m(\u001b[49m\u001b[38;5;241;43m*\u001b[39;49m\u001b[43margs\u001b[49m\u001b[43m,\u001b[49m\u001b[43m \u001b[49m\u001b[43mreturn_type\u001b[49m\u001b[38;5;241;43m=\u001b[39;49m\u001b[43mreturn_type\u001b[49m\u001b[43m,\u001b[49m\u001b[43m \u001b[49m\u001b[43msignature\u001b[49m\u001b[38;5;241;43m=\u001b[39;49m\u001b[43msignature\u001b[49m\u001b[43m)\u001b[49m)\n",
      "\u001b[0;31mKeyboardInterrupt\u001b[0m: "
     ]
    },
    {
     "data": {
      "image/png": "[encoded data removed]",
      "text/plain": [
       "<Figure size 800x400 with 2 Axes>"
      ]
     },
     "metadata": {},
     "output_type": "display_data"
    }
   ],
   "source": [
    "tnn.model_pipeline(config)"
   ]
  },
  {
   "cell_type": "markdown",
   "metadata": {},
   "source": [
    "## Run models with different ratio of training data"
   ]
  },
  {
   "cell_type": "code",
   "execution_count": 6,
   "metadata": {
    "scrolled": true
   },
   "outputs": [
    {
     "data": {
      "text/plain": [
       "array([0.01      , 0.01668101, 0.02782559, 0.04641589, 0.07742637,\n",
       "       0.12915497, 0.21544347, 0.35938137, 0.59948425, 1.        ])"
      ]
     },
     "execution_count": 6,
     "metadata": {},
     "output_type": "execute_result"
    }
   ],
   "source": [
    "# Set the range of ratio of training data used here\n",
    "myrange = np.logspace(-2, 0,num=10)\n",
    "myrange"
   ]
  },
  {
   "cell_type": "code",
   "execution_count": 9,
   "metadata": {
    "scrolled": true
   },
   "outputs": [
    {
     "data": {
      "text/html": [
       "wandb version 0.16.0 is available!  To upgrade, please run:\n",
       " $ pip install wandb --upgrade"
      ],
      "text/plain": [
       "<IPython.core.display.HTML object>"
      ]
     },
     "metadata": {},
     "output_type": "display_data"
    },
    {
     "data": {
      "text/html": [
       "Tracking run with wandb version 0.15.12"
      ],
      "text/plain": [
       "<IPython.core.display.HTML object>"
      ]
     },
     "metadata": {},
     "output_type": "display_data"
    },
    {
     "data": {
      "text/html": [
       "Run data is saved locally in <code>/Users/yuxi/workspace/nnn_paper/wandb/run-20231202_124535-98qyivsu</code>"
      ],
      "text/plain": [
       "<IPython.core.display.HTML object>"
      ]
     },
     "metadata": {},
     "output_type": "display_data"
    },
    {
     "data": {
      "text/html": [
       "Syncing run <strong><a href='https://wandb.ai/keyuxi/NN/runs/98qyivsu' target=\"_blank\">soft-sun-87</a></strong> to <a href='https://wandb.ai/keyuxi/NN' target=\"_blank\">Weights & Biases</a> (<a href='https://wandb.me/run' target=\"_blank\">docs</a>)<br/>"
      ],
      "text/plain": [
       "<IPython.core.display.HTML object>"
      ]
     },
     "metadata": {},
     "output_type": "display_data"
    },
    {
     "data": {
      "text/html": [
       " View project at <a href='https://wandb.ai/keyuxi/NN' target=\"_blank\">https://wandb.ai/keyuxi/NN</a>"
      ],
      "text/plain": [
       "<IPython.core.display.HTML object>"
      ]
     },
     "metadata": {},
     "output_type": "display_data"
    },
    {
     "data": {
      "text/html": [
       " View run at <a href='https://wandb.ai/keyuxi/NN/runs/98qyivsu' target=\"_blank\">https://wandb.ai/keyuxi/NN/runs/98qyivsu</a>"
      ],
      "text/plain": [
       "<IPython.core.display.HTML object>"
      ]
     },
     "metadata": {},
     "output_type": "display_data"
    },
    {
     "name": "stdout",
     "output_type": "stream",
     "text": [
      "feats (27732, 178) Index(['bulge_size#1', 'bulge_size#2', 'hairpin_loop_mid#A'], dtype='object')\n",
      "fixed_feature_names: ['bulge_size#1', 'bulge_size#2', 'hairpin_size#3', 'hairpin_size#4', 'hairpin_size#11', 'hairpin_size#14', 'hairpin_size#17', 'hairpin_size#20', 'interior_size#2', 'interior_size#4', 'stack#AATT', 'stack#ACGT', 'stack#AGCT', 'stack#ATAT', 'stack#CATG', 'stack#CCGG', 'stack#CGCG', 'stack#CTAG', 'stack#GATC', 'stack#GCGC', 'stack#GGCC', 'stack#GTAC', 'stack#TATA', 'stack#TCGA', 'stack#TGCA', 'stack#TTAA']\n",
      "                           dH\n",
      "bulge_size#1              0.0\n",
      "bulge_size#2              0.0\n",
      "bulge_size#3              0.0\n",
      "bulge_size#4              0.0\n",
      "bulge_size#5              0.0\n",
      "...                       ...\n",
      "hairpin_tetraloop#CCTTGG  0.0\n",
      "hairpin_tetraloop#GCTTGC  0.0\n",
      "hairpin_tetraloop#GCTTGT  0.0\n",
      "hairpin_tetraloop#TCTTGA  0.0\n",
      "hairpin_tetraloop#TCTTGG  0.0\n",
      "\n",
      "[352 rows x 1 columns]\n",
      "['bulge_size#1', 'bulge_size#2', 'hairpin_size#11', 'hairpin_size#14', 'hairpin_size#17', 'hairpin_size#20', 'hairpin_size#3', 'hairpin_size#4', 'interior_size#2', 'interior_size#4', 'stack#AATT', 'stack#ACGT', 'stack#AGCT', 'stack#ATAT', 'stack#CATG', 'stack#CCGG', 'stack#CGCG', 'stack#CTAG', 'stack#GATC', 'stack#GCGC', 'stack#GGCC', 'stack#GTAC', 'stack#TATA', 'stack#TCGA', 'stack#TGCA', 'stack#TTAA']\n",
      "Warning: Rank of matrix A_unknown, 118, is smaller than the number of features 152!\n",
      "                           dG\n",
      "bulge_size#1              4.0\n",
      "bulge_size#2              2.9\n",
      "bulge_size#3              3.1\n",
      "bulge_size#4              3.2\n",
      "bulge_size#5              3.3\n",
      "...                       ...\n",
      "hairpin_tetraloop#CCTTGG -0.8\n",
      "hairpin_tetraloop#GCTTGC -0.8\n",
      "hairpin_tetraloop#GCTTGT -0.5\n",
      "hairpin_tetraloop#TCTTGA -0.8\n",
      "hairpin_tetraloop#TCTTGG -0.5\n",
      "\n",
      "[352 rows x 1 columns]\n",
      "['bulge_size#1', 'bulge_size#2', 'hairpin_size#11', 'hairpin_size#14', 'hairpin_size#17', 'hairpin_size#20', 'hairpin_size#3', 'hairpin_size#4', 'interior_size#2', 'interior_size#4', 'stack#AATT', 'stack#ACGT', 'stack#AGCT', 'stack#ATAT', 'stack#CATG', 'stack#CCGG', 'stack#CGCG', 'stack#CTAG', 'stack#GATC', 'stack#GCGC', 'stack#GGCC', 'stack#GTAC', 'stack#TATA', 'stack#TCGA', 'stack#TGCA', 'stack#TTAA']\n",
      "Warning: Rank of matrix A_unknown, 106, is smaller than the number of features 152!\n",
      "Centering new parameters...\n",
      "group bulge_size\n",
      "group hairpin_mismatch\n",
      "\tMean value of old_dict is -3.684\n",
      "\tMean value of fitted new_dict is 0.927\n",
      "\tMean value of centered new_dict is -3.684\n",
      "\n",
      "group hairpin_size\n",
      "group interior_mismatch\n",
      "\tMean value of old_dict is -2.913\n",
      "\tMean value of fitted new_dict is -2.392\n",
      "\tMean value of centered new_dict is -2.913\n",
      "\n",
      "group interior_size\n",
      "group stack\n",
      "\tMean value of old_dict is -8.275\n",
      "\tMean value of fitted new_dict is -8.275\n",
      "\tMean value of centered new_dict is -8.275\n",
      "\n",
      "group terminal_penalty\n",
      "\tMean value of old_dict is 1.100\n",
      "\tMean value of fitted new_dict is -0.084\n",
      "\tMean value of centered new_dict is 1.100\n",
      "\n",
      "Centering new parameters...\n",
      "group bulge_size\n",
      "group hairpin_mismatch\n",
      "\tMean value of old_dict is -0.715\n",
      "\tMean value of fitted new_dict is -0.039\n",
      "\tMean value of centered new_dict is -0.715\n",
      "\n",
      "group hairpin_size\n",
      "group interior_mismatch\n",
      "\tMean value of old_dict is -0.640\n",
      "\tMean value of fitted new_dict is -0.512\n",
      "\tMean value of centered new_dict is -0.640\n",
      "\n",
      "group interior_size\n",
      "group stack\n",
      "\tMean value of old_dict is -1.406\n",
      "\tMean value of fitted new_dict is -1.406\n",
      "\tMean value of centered new_dict is -1.406\n",
      "\n",
      "group terminal_penalty\n",
      "\tMean value of old_dict is 0.025\n",
      "\tMean value of fitted new_dict is 0.073\n",
      "\tMean value of centered new_dict is 0.025\n",
      "\n"
     ]
    },
    {
     "data": {
      "text/html": [
       "Waiting for W&B process to finish... <strong style=\"color:green\">(success).</strong>"
      ],
      "text/plain": [
       "<IPython.core.display.HTML object>"
      ]
     },
     "metadata": {},
     "output_type": "display_data"
    },
    {
     "data": {
      "text/html": [
       "<style>\n",
       "    table.wandb td:nth-child(1) { padding: 0 10px; text-align: left ; width: auto;} td:nth-child(2) {text-align: left ; width: 100%}\n",
       "    .wandb-row { display: flex; flex-direction: row; flex-wrap: wrap; justify-content: flex-start; width: 100% }\n",
       "    .wandb-col { display: flex; flex-direction: column; flex-basis: 100%; flex: 1; padding: 10px; }\n",
       "    </style>\n",
       "<div class=\"wandb-row\"><div class=\"wandb-col\"><h3>Run history:</h3><br/><table class=\"wandb\"><tr><td>n_feat</td><td>▁</td></tr><tr><td>n_fixed_feat</td><td>▁</td></tr><tr><td>train_dG_mae</td><td>▁</td></tr><tr><td>train_dG_rsqr</td><td>▁</td></tr><tr><td>train_dH_mae</td><td>▁</td></tr><tr><td>train_dH_rsqr</td><td>▁</td></tr><tr><td>val_Tm_adjusted_mae-all</td><td>▁</td></tr><tr><td>val_Tm_adjusted_mae-arr</td><td>▁</td></tr><tr><td>val_Tm_adjusted_mae-lit_uv</td><td>▁</td></tr><tr><td>val_Tm_adjusted_mae-ov</td><td>▁</td></tr><tr><td>val_Tm_adjusted_rmse-all</td><td>▁</td></tr><tr><td>val_Tm_adjusted_rmse-arr</td><td>▁</td></tr><tr><td>val_Tm_adjusted_rmse-lit_uv</td><td>▁</td></tr><tr><td>val_Tm_adjusted_rmse-ov</td><td>▁</td></tr><tr><td>val_Tm_bias-all</td><td>▁</td></tr><tr><td>val_Tm_bias-arr</td><td>▁</td></tr><tr><td>val_Tm_bias-lit_uv</td><td>▁</td></tr><tr><td>val_Tm_bias-ov</td><td>▁</td></tr><tr><td>val_Tm_corr-all</td><td>▁</td></tr><tr><td>val_Tm_corr-arr</td><td>▁</td></tr><tr><td>val_Tm_corr-lit_uv</td><td>▁</td></tr><tr><td>val_Tm_corr-ov</td><td>▁</td></tr><tr><td>val_Tm_mae-all</td><td>▁</td></tr><tr><td>val_Tm_mae-arr</td><td>▁</td></tr><tr><td>val_Tm_mae-lit_uv</td><td>▁</td></tr><tr><td>val_Tm_mae-ov</td><td>▁</td></tr><tr><td>val_Tm_rmse-all</td><td>▁</td></tr><tr><td>val_Tm_rmse-arr</td><td>▁</td></tr><tr><td>val_Tm_rmse-lit_uv</td><td>▁</td></tr><tr><td>val_Tm_rmse-ov</td><td>▁</td></tr><tr><td>val_dG_adjusted_mae-arr</td><td>▁</td></tr><tr><td>val_dG_adjusted_rmse-arr</td><td>▁</td></tr><tr><td>val_dG_bias-arr</td><td>▁</td></tr><tr><td>val_dG_corr-arr</td><td>▁</td></tr><tr><td>val_dG_mae-arr</td><td>▁</td></tr><tr><td>val_dG_rmse-arr</td><td>▁</td></tr><tr><td>val_dH_adjusted_mae-arr</td><td>▁</td></tr><tr><td>val_dH_adjusted_rmse-arr</td><td>▁</td></tr><tr><td>val_dH_bias-arr</td><td>▁</td></tr><tr><td>val_dH_corr-arr</td><td>▁</td></tr><tr><td>val_dH_mae-arr</td><td>▁</td></tr><tr><td>val_dH_rmse-arr</td><td>▁</td></tr></table><br/></div><div class=\"wandb-col\"><h3>Run summary:</h3><br/><table class=\"wandb\"><tr><td>n_feat</td><td>178</td></tr><tr><td>n_fixed_feat</td><td>26</td></tr><tr><td>param_set_file</td><td>./models/soft-sun-87...</td></tr><tr><td>train_dG_mae</td><td>0.53728</td></tr><tr><td>train_dG_rsqr</td><td>0.6701</td></tr><tr><td>train_dH_mae</td><td>3.99298</td></tr><tr><td>train_dH_rsqr</td><td>0.65522</td></tr><tr><td>val_Tm_adjusted_mae-all</td><td>17.57329</td></tr><tr><td>val_Tm_adjusted_mae-arr</td><td>27.07295</td></tr><tr><td>val_Tm_adjusted_mae-lit_uv</td><td>1.771</td></tr><tr><td>val_Tm_adjusted_mae-ov</td><td>6.06305</td></tr><tr><td>val_Tm_adjusted_rmse-all</td><td>32.43112</td></tr><tr><td>val_Tm_adjusted_rmse-arr</td><td>44.475</td></tr><tr><td>val_Tm_adjusted_rmse-lit_uv</td><td>2.24155</td></tr><tr><td>val_Tm_adjusted_rmse-ov</td><td>7.62737</td></tr><tr><td>val_Tm_bias-all</td><td>12.74044</td></tr><tr><td>val_Tm_bias-arr</td><td>21.98695</td></tr><tr><td>val_Tm_bias-lit_uv</td><td>6.90205</td></tr><tr><td>val_Tm_bias-ov</td><td>3.93939</td></tr><tr><td>val_Tm_corr-all</td><td>0.15973</td></tr><tr><td>val_Tm_corr-arr</td><td>0.16591</td></tr><tr><td>val_Tm_corr-lit_uv</td><td>0.98578</td></tr><tr><td>val_Tm_corr-ov</td><td>0.37089</td></tr><tr><td>val_Tm_mae-all</td><td>18.36993</td></tr><tr><td>val_Tm_mae-arr</td><td>31.11119</td></tr><tr><td>val_Tm_mae-lit_uv</td><td>6.90205</td></tr><tr><td>val_Tm_mae-ov</td><td>6.67158</td></tr><tr><td>val_Tm_rmse-all</td><td>34.84389</td></tr><tr><td>val_Tm_rmse-arr</td><td>49.61302</td></tr><tr><td>val_Tm_rmse-lit_uv</td><td>7.25692</td></tr><tr><td>val_Tm_rmse-ov</td><td>8.58461</td></tr><tr><td>val_dG_adjusted_mae-arr</td><td>0.90686</td></tr><tr><td>val_dG_adjusted_rmse-arr</td><td>1.2661</td></tr><tr><td>val_dG_bias-arr</td><td>-0.87765</td></tr><tr><td>val_dG_corr-arr</td><td>0.6276</td></tr><tr><td>val_dG_mae-arr</td><td>1.21375</td></tr><tr><td>val_dG_rmse-arr</td><td>1.54055</td></tr><tr><td>val_dH_adjusted_mae-arr</td><td>10.45547</td></tr><tr><td>val_dH_adjusted_rmse-arr</td><td>15.72871</td></tr><tr><td>val_dH_bias-arr</td><td>0.72176</td></tr><tr><td>val_dH_corr-arr</td><td>0.40826</td></tr><tr><td>val_dH_mae-arr</td><td>10.58504</td></tr><tr><td>val_dH_rmse-arr</td><td>15.74526</td></tr></table><br/></div></div>"
      ],
      "text/plain": [
       "<IPython.core.display.HTML object>"
      ]
     },
     "metadata": {},
     "output_type": "display_data"
    },
    {
     "data": {
      "text/html": [
       " View run <strong style=\"color:#cdcd00\">soft-sun-87</strong> at: <a href='https://wandb.ai/keyuxi/NN/runs/98qyivsu' target=\"_blank\">https://wandb.ai/keyuxi/NN/runs/98qyivsu</a><br/> View job at <a href='https://wandb.ai/keyuxi/NN/jobs/QXJ0aWZhY3RDb2xsZWN0aW9uOjExMTcyMjg1NQ==/version_details/v5' target=\"_blank\">https://wandb.ai/keyuxi/NN/jobs/QXJ0aWZhY3RDb2xsZWN0aW9uOjExMTcyMjg1NQ==/version_details/v5</a><br/>Synced 6 W&B file(s), 0 media file(s), 2 artifact file(s) and 0 other file(s)"
      ],
      "text/plain": [
       "<IPython.core.display.HTML object>"
      ]
     },
     "metadata": {},
     "output_type": "display_data"
    },
    {
     "data": {
      "text/html": [
       "Find logs at: <code>./wandb/run-20231202_124535-98qyivsu/logs</code>"
      ],
      "text/plain": [
       "<IPython.core.display.HTML object>"
      ]
     },
     "metadata": {},
     "output_type": "display_data"
    },
    {
     "data": {
      "text/html": [
       "wandb version 0.16.0 is available!  To upgrade, please run:\n",
       " $ pip install wandb --upgrade"
      ],
      "text/plain": [
       "<IPython.core.display.HTML object>"
      ]
     },
     "metadata": {},
     "output_type": "display_data"
    },
    {
     "data": {
      "text/html": [
       "Tracking run with wandb version 0.15.12"
      ],
      "text/plain": [
       "<IPython.core.display.HTML object>"
      ]
     },
     "metadata": {},
     "output_type": "display_data"
    },
    {
     "data": {
      "text/html": [
       "Run data is saved locally in <code>/Users/yuxi/workspace/nnn_paper/wandb/run-20231202_125435-kb2eewci</code>"
      ],
      "text/plain": [
       "<IPython.core.display.HTML object>"
      ]
     },
     "metadata": {},
     "output_type": "display_data"
    },
    {
     "data": {
      "text/html": [
       "Syncing run <strong><a href='https://wandb.ai/keyuxi/NN/runs/kb2eewci' target=\"_blank\">efficient-vortex-88</a></strong> to <a href='https://wandb.ai/keyuxi/NN' target=\"_blank\">Weights & Biases</a> (<a href='https://wandb.me/run' target=\"_blank\">docs</a>)<br/>"
      ],
      "text/plain": [
       "<IPython.core.display.HTML object>"
      ]
     },
     "metadata": {},
     "output_type": "display_data"
    },
    {
     "data": {
      "text/html": [
       " View project at <a href='https://wandb.ai/keyuxi/NN' target=\"_blank\">https://wandb.ai/keyuxi/NN</a>"
      ],
      "text/plain": [
       "<IPython.core.display.HTML object>"
      ]
     },
     "metadata": {},
     "output_type": "display_data"
    },
    {
     "data": {
      "text/html": [
       " View run at <a href='https://wandb.ai/keyuxi/NN/runs/kb2eewci' target=\"_blank\">https://wandb.ai/keyuxi/NN/runs/kb2eewci</a>"
      ],
      "text/plain": [
       "<IPython.core.display.HTML object>"
      ]
     },
     "metadata": {},
     "output_type": "display_data"
    },
    {
     "name": "stdout",
     "output_type": "stream",
     "text": [
      "feats (27732, 178) Index(['bulge_size#1', 'bulge_size#2', 'hairpin_loop_mid#A'], dtype='object')\n",
      "fixed_feature_names: ['bulge_size#1', 'bulge_size#2', 'hairpin_size#3', 'hairpin_size#4', 'hairpin_size#11', 'hairpin_size#14', 'hairpin_size#17', 'hairpin_size#20', 'interior_size#2', 'interior_size#4', 'stack#AATT', 'stack#ACGT', 'stack#AGCT', 'stack#ATAT', 'stack#CATG', 'stack#CCGG', 'stack#CGCG', 'stack#CTAG', 'stack#GATC', 'stack#GCGC', 'stack#GGCC', 'stack#GTAC', 'stack#TATA', 'stack#TCGA', 'stack#TGCA', 'stack#TTAA']\n",
      "                           dH\n",
      "bulge_size#1              0.0\n",
      "bulge_size#2              0.0\n",
      "bulge_size#3              0.0\n",
      "bulge_size#4              0.0\n",
      "bulge_size#5              0.0\n",
      "...                       ...\n",
      "hairpin_tetraloop#CCTTGG  0.0\n",
      "hairpin_tetraloop#GCTTGC  0.0\n",
      "hairpin_tetraloop#GCTTGT  0.0\n",
      "hairpin_tetraloop#TCTTGA  0.0\n",
      "hairpin_tetraloop#TCTTGG  0.0\n",
      "\n",
      "[352 rows x 1 columns]\n",
      "['bulge_size#1', 'bulge_size#2', 'hairpin_size#11', 'hairpin_size#14', 'hairpin_size#17', 'hairpin_size#20', 'hairpin_size#3', 'hairpin_size#4', 'interior_size#2', 'interior_size#4', 'stack#AATT', 'stack#ACGT', 'stack#AGCT', 'stack#ATAT', 'stack#CATG', 'stack#CCGG', 'stack#CGCG', 'stack#CTAG', 'stack#GATC', 'stack#GCGC', 'stack#GGCC', 'stack#GTAC', 'stack#TATA', 'stack#TCGA', 'stack#TGCA', 'stack#TTAA']\n",
      "Warning: Rank of matrix A_unknown, 130, is smaller than the number of features 152!\n",
      "                           dG\n",
      "bulge_size#1              4.0\n",
      "bulge_size#2              2.9\n",
      "bulge_size#3              3.1\n",
      "bulge_size#4              3.2\n",
      "bulge_size#5              3.3\n",
      "...                       ...\n",
      "hairpin_tetraloop#CCTTGG -0.8\n",
      "hairpin_tetraloop#GCTTGC -0.8\n",
      "hairpin_tetraloop#GCTTGT -0.5\n",
      "hairpin_tetraloop#TCTTGA -0.8\n",
      "hairpin_tetraloop#TCTTGG -0.5\n",
      "\n",
      "[352 rows x 1 columns]\n",
      "['bulge_size#1', 'bulge_size#2', 'hairpin_size#11', 'hairpin_size#14', 'hairpin_size#17', 'hairpin_size#20', 'hairpin_size#3', 'hairpin_size#4', 'interior_size#2', 'interior_size#4', 'stack#AATT', 'stack#ACGT', 'stack#AGCT', 'stack#ATAT', 'stack#CATG', 'stack#CCGG', 'stack#CGCG', 'stack#CTAG', 'stack#GATC', 'stack#GCGC', 'stack#GGCC', 'stack#GTAC', 'stack#TATA', 'stack#TCGA', 'stack#TGCA', 'stack#TTAA']\n",
      "Warning: Rank of matrix A_unknown, 134, is smaller than the number of features 152!\n",
      "Centering new parameters...\n",
      "group bulge_size\n",
      "group hairpin_mismatch\n",
      "\tMean value of old_dict is -3.684\n",
      "\tMean value of fitted new_dict is 0.760\n",
      "\tMean value of centered new_dict is -3.684\n",
      "\n",
      "group hairpin_size\n",
      "group interior_mismatch\n",
      "\tMean value of old_dict is -2.913\n",
      "\tMean value of fitted new_dict is -6.110\n",
      "\tMean value of centered new_dict is -2.913\n",
      "\n",
      "group interior_size\n",
      "group stack\n",
      "\tMean value of old_dict is -8.275\n",
      "\tMean value of fitted new_dict is -8.275\n",
      "\tMean value of centered new_dict is -8.275\n",
      "\n",
      "group terminal_penalty\n",
      "\tMean value of old_dict is 1.100\n",
      "\tMean value of fitted new_dict is -1.215\n",
      "\tMean value of centered new_dict is 1.100\n",
      "\n",
      "Centering new parameters...\n",
      "group bulge_size\n",
      "group hairpin_mismatch\n",
      "\tMean value of old_dict is -0.715\n",
      "\tMean value of fitted new_dict is -0.051\n",
      "\tMean value of centered new_dict is -0.715\n",
      "\n",
      "group hairpin_size\n",
      "group interior_mismatch\n",
      "\tMean value of old_dict is -0.640\n",
      "\tMean value of fitted new_dict is -0.950\n",
      "\tMean value of centered new_dict is -0.640\n",
      "\n",
      "group interior_size\n",
      "group stack\n",
      "\tMean value of old_dict is -1.406\n",
      "\tMean value of fitted new_dict is -1.406\n",
      "\tMean value of centered new_dict is -1.406\n",
      "\n",
      "group terminal_penalty\n",
      "\tMean value of old_dict is 0.025\n",
      "\tMean value of fitted new_dict is 0.235\n",
      "\tMean value of centered new_dict is 0.025\n",
      "\n"
     ]
    },
    {
     "data": {
      "text/html": [
       "Waiting for W&B process to finish... <strong style=\"color:green\">(success).</strong>"
      ],
      "text/plain": [
       "<IPython.core.display.HTML object>"
      ]
     },
     "metadata": {},
     "output_type": "display_data"
    },
    {
     "data": {
      "text/html": [
       "<style>\n",
       "    table.wandb td:nth-child(1) { padding: 0 10px; text-align: left ; width: auto;} td:nth-child(2) {text-align: left ; width: 100%}\n",
       "    .wandb-row { display: flex; flex-direction: row; flex-wrap: wrap; justify-content: flex-start; width: 100% }\n",
       "    .wandb-col { display: flex; flex-direction: column; flex-basis: 100%; flex: 1; padding: 10px; }\n",
       "    </style>\n",
       "<div class=\"wandb-row\"><div class=\"wandb-col\"><h3>Run history:</h3><br/><table class=\"wandb\"><tr><td>n_feat</td><td>▁</td></tr><tr><td>n_fixed_feat</td><td>▁</td></tr><tr><td>train_dG_mae</td><td>▁</td></tr><tr><td>train_dG_rsqr</td><td>▁</td></tr><tr><td>train_dH_mae</td><td>▁</td></tr><tr><td>train_dH_rsqr</td><td>▁</td></tr><tr><td>val_Tm_adjusted_mae-all</td><td>▁</td></tr><tr><td>val_Tm_adjusted_mae-arr</td><td>▁</td></tr><tr><td>val_Tm_adjusted_mae-lit_uv</td><td>▁</td></tr><tr><td>val_Tm_adjusted_mae-ov</td><td>▁</td></tr><tr><td>val_Tm_adjusted_rmse-all</td><td>▁</td></tr><tr><td>val_Tm_adjusted_rmse-arr</td><td>▁</td></tr><tr><td>val_Tm_adjusted_rmse-lit_uv</td><td>▁</td></tr><tr><td>val_Tm_adjusted_rmse-ov</td><td>▁</td></tr><tr><td>val_Tm_bias-all</td><td>▁</td></tr><tr><td>val_Tm_bias-arr</td><td>▁</td></tr><tr><td>val_Tm_bias-lit_uv</td><td>▁</td></tr><tr><td>val_Tm_bias-ov</td><td>▁</td></tr><tr><td>val_Tm_corr-all</td><td>▁</td></tr><tr><td>val_Tm_corr-arr</td><td>▁</td></tr><tr><td>val_Tm_corr-lit_uv</td><td>▁</td></tr><tr><td>val_Tm_corr-ov</td><td>▁</td></tr><tr><td>val_Tm_mae-all</td><td>▁</td></tr><tr><td>val_Tm_mae-arr</td><td>▁</td></tr><tr><td>val_Tm_mae-lit_uv</td><td>▁</td></tr><tr><td>val_Tm_mae-ov</td><td>▁</td></tr><tr><td>val_Tm_rmse-all</td><td>▁</td></tr><tr><td>val_Tm_rmse-arr</td><td>▁</td></tr><tr><td>val_Tm_rmse-lit_uv</td><td>▁</td></tr><tr><td>val_Tm_rmse-ov</td><td>▁</td></tr><tr><td>val_dG_adjusted_mae-arr</td><td>▁</td></tr><tr><td>val_dG_adjusted_rmse-arr</td><td>▁</td></tr><tr><td>val_dG_bias-arr</td><td>▁</td></tr><tr><td>val_dG_corr-arr</td><td>▁</td></tr><tr><td>val_dG_mae-arr</td><td>▁</td></tr><tr><td>val_dG_rmse-arr</td><td>▁</td></tr><tr><td>val_dH_adjusted_mae-arr</td><td>▁</td></tr><tr><td>val_dH_adjusted_rmse-arr</td><td>▁</td></tr><tr><td>val_dH_bias-arr</td><td>▁</td></tr><tr><td>val_dH_corr-arr</td><td>▁</td></tr><tr><td>val_dH_mae-arr</td><td>▁</td></tr><tr><td>val_dH_rmse-arr</td><td>▁</td></tr></table><br/></div><div class=\"wandb-col\"><h3>Run summary:</h3><br/><table class=\"wandb\"><tr><td>n_feat</td><td>178</td></tr><tr><td>n_fixed_feat</td><td>26</td></tr><tr><td>param_set_file</td><td>./models/efficient-v...</td></tr><tr><td>train_dG_mae</td><td>0.51297</td></tr><tr><td>train_dG_rsqr</td><td>0.72104</td></tr><tr><td>train_dH_mae</td><td>5.00271</td></tr><tr><td>train_dH_rsqr</td><td>0.62842</td></tr><tr><td>val_Tm_adjusted_mae-all</td><td>25.51554</td></tr><tr><td>val_Tm_adjusted_mae-arr</td><td>39.51638</td></tr><tr><td>val_Tm_adjusted_mae-lit_uv</td><td>2.21476</td></tr><tr><td>val_Tm_adjusted_mae-ov</td><td>3.82612</td></tr><tr><td>val_Tm_adjusted_rmse-all</td><td>44.86251</td></tr><tr><td>val_Tm_adjusted_rmse-arr</td><td>60.88451</td></tr><tr><td>val_Tm_adjusted_rmse-lit_uv</td><td>2.73256</td></tr><tr><td>val_Tm_adjusted_rmse-ov</td><td>4.81984</td></tr><tr><td>val_Tm_bias-all</td><td>19.08471</td></tr><tr><td>val_Tm_bias-arr</td><td>35.38288</td></tr><tr><td>val_Tm_bias-lit_uv</td><td>6.94159</td></tr><tr><td>val_Tm_bias-ov</td><td>4.01525</td></tr><tr><td>val_Tm_corr-all</td><td>0.08955</td></tr><tr><td>val_Tm_corr-arr</td><td>0.14999</td></tr><tr><td>val_Tm_corr-lit_uv</td><td>0.98069</td></tr><tr><td>val_Tm_corr-ov</td><td>0.5313</td></tr><tr><td>val_Tm_mae-all</td><td>24.11516</td></tr><tr><td>val_Tm_mae-arr</td><td>44.88723</td></tr><tr><td>val_Tm_mae-lit_uv</td><td>6.94159</td></tr><tr><td>val_Tm_mae-ov</td><td>5.12184</td></tr><tr><td>val_Tm_rmse-all</td><td>48.75317</td></tr><tr><td>val_Tm_rmse-arr</td><td>70.41926</td></tr><tr><td>val_Tm_rmse-lit_uv</td><td>7.46007</td></tr><tr><td>val_Tm_rmse-ov</td><td>6.27321</td></tr><tr><td>val_dG_adjusted_mae-arr</td><td>0.83281</td></tr><tr><td>val_dG_adjusted_rmse-arr</td><td>1.10149</td></tr><tr><td>val_dG_bias-arr</td><td>-0.96835</td></tr><tr><td>val_dG_corr-arr</td><td>0.64136</td></tr><tr><td>val_dG_mae-arr</td><td>1.2065</td></tr><tr><td>val_dG_rmse-arr</td><td>1.46663</td></tr><tr><td>val_dH_adjusted_mae-arr</td><td>8.45906</td></tr><tr><td>val_dH_adjusted_rmse-arr</td><td>11.06465</td></tr><tr><td>val_dH_bias-arr</td><td>5.29384</td></tr><tr><td>val_dH_corr-arr</td><td>0.60513</td></tr><tr><td>val_dH_mae-arr</td><td>9.65824</td></tr><tr><td>val_dH_rmse-arr</td><td>12.26585</td></tr></table><br/></div></div>"
      ],
      "text/plain": [
       "<IPython.core.display.HTML object>"
      ]
     },
     "metadata": {},
     "output_type": "display_data"
    },
    {
     "data": {
      "text/html": [
       " View run <strong style=\"color:#cdcd00\">efficient-vortex-88</strong> at: <a href='https://wandb.ai/keyuxi/NN/runs/kb2eewci' target=\"_blank\">https://wandb.ai/keyuxi/NN/runs/kb2eewci</a><br/> View job at <a href='https://wandb.ai/keyuxi/NN/jobs/QXJ0aWZhY3RDb2xsZWN0aW9uOjExMTcyMjg1NQ==/version_details/v5' target=\"_blank\">https://wandb.ai/keyuxi/NN/jobs/QXJ0aWZhY3RDb2xsZWN0aW9uOjExMTcyMjg1NQ==/version_details/v5</a><br/>Synced 6 W&B file(s), 0 media file(s), 0 artifact file(s) and 0 other file(s)"
      ],
      "text/plain": [
       "<IPython.core.display.HTML object>"
      ]
     },
     "metadata": {},
     "output_type": "display_data"
    },
    {
     "data": {
      "text/html": [
       "Find logs at: <code>./wandb/run-20231202_125435-kb2eewci/logs</code>"
      ],
      "text/plain": [
       "<IPython.core.display.HTML object>"
      ]
     },
     "metadata": {},
     "output_type": "display_data"
    },
    {
     "data": {
      "text/html": [
       "wandb version 0.16.0 is available!  To upgrade, please run:\n",
       " $ pip install wandb --upgrade"
      ],
      "text/plain": [
       "<IPython.core.display.HTML object>"
      ]
     },
     "metadata": {},
     "output_type": "display_data"
    },
    {
     "data": {
      "text/html": [
       "Tracking run with wandb version 0.15.12"
      ],
      "text/plain": [
       "<IPython.core.display.HTML object>"
      ]
     },
     "metadata": {},
     "output_type": "display_data"
    },
    {
     "data": {
      "text/html": [
       "Run data is saved locally in <code>/Users/yuxi/workspace/nnn_paper/wandb/run-20231202_130321-ambort9u</code>"
      ],
      "text/plain": [
       "<IPython.core.display.HTML object>"
      ]
     },
     "metadata": {},
     "output_type": "display_data"
    },
    {
     "data": {
      "text/html": [
       "Syncing run <strong><a href='https://wandb.ai/keyuxi/NN/runs/ambort9u' target=\"_blank\">vague-plasma-89</a></strong> to <a href='https://wandb.ai/keyuxi/NN' target=\"_blank\">Weights & Biases</a> (<a href='https://wandb.me/run' target=\"_blank\">docs</a>)<br/>"
      ],
      "text/plain": [
       "<IPython.core.display.HTML object>"
      ]
     },
     "metadata": {},
     "output_type": "display_data"
    },
    {
     "data": {
      "text/html": [
       " View project at <a href='https://wandb.ai/keyuxi/NN' target=\"_blank\">https://wandb.ai/keyuxi/NN</a>"
      ],
      "text/plain": [
       "<IPython.core.display.HTML object>"
      ]
     },
     "metadata": {},
     "output_type": "display_data"
    },
    {
     "data": {
      "text/html": [
       " View run at <a href='https://wandb.ai/keyuxi/NN/runs/ambort9u' target=\"_blank\">https://wandb.ai/keyuxi/NN/runs/ambort9u</a>"
      ],
      "text/plain": [
       "<IPython.core.display.HTML object>"
      ]
     },
     "metadata": {},
     "output_type": "display_data"
    },
    {
     "name": "stdout",
     "output_type": "stream",
     "text": [
      "feats (27732, 178) Index(['bulge_size#1', 'bulge_size#2', 'hairpin_loop_mid#A'], dtype='object')\n",
      "fixed_feature_names: ['bulge_size#1', 'bulge_size#2', 'hairpin_size#3', 'hairpin_size#4', 'hairpin_size#11', 'hairpin_size#14', 'hairpin_size#17', 'hairpin_size#20', 'interior_size#2', 'interior_size#4', 'stack#AATT', 'stack#ACGT', 'stack#AGCT', 'stack#ATAT', 'stack#CATG', 'stack#CCGG', 'stack#CGCG', 'stack#CTAG', 'stack#GATC', 'stack#GCGC', 'stack#GGCC', 'stack#GTAC', 'stack#TATA', 'stack#TCGA', 'stack#TGCA', 'stack#TTAA']\n",
      "                           dH\n",
      "bulge_size#1              0.0\n",
      "bulge_size#2              0.0\n",
      "bulge_size#3              0.0\n",
      "bulge_size#4              0.0\n",
      "bulge_size#5              0.0\n",
      "...                       ...\n",
      "hairpin_tetraloop#CCTTGG  0.0\n",
      "hairpin_tetraloop#GCTTGC  0.0\n",
      "hairpin_tetraloop#GCTTGT  0.0\n",
      "hairpin_tetraloop#TCTTGA  0.0\n",
      "hairpin_tetraloop#TCTTGG  0.0\n",
      "\n",
      "[352 rows x 1 columns]\n",
      "['bulge_size#1', 'bulge_size#2', 'hairpin_size#11', 'hairpin_size#14', 'hairpin_size#17', 'hairpin_size#20', 'hairpin_size#3', 'hairpin_size#4', 'interior_size#2', 'interior_size#4', 'stack#AATT', 'stack#ACGT', 'stack#AGCT', 'stack#ATAT', 'stack#CATG', 'stack#CCGG', 'stack#CGCG', 'stack#CTAG', 'stack#GATC', 'stack#GCGC', 'stack#GGCC', 'stack#GTAC', 'stack#TATA', 'stack#TCGA', 'stack#TGCA', 'stack#TTAA']\n",
      "Warning: Rank of matrix A_unknown, 149, is smaller than the number of features 152!\n",
      "                           dG\n",
      "bulge_size#1              4.0\n",
      "bulge_size#2              2.9\n",
      "bulge_size#3              3.1\n",
      "bulge_size#4              3.2\n",
      "bulge_size#5              3.3\n",
      "...                       ...\n",
      "hairpin_tetraloop#CCTTGG -0.8\n",
      "hairpin_tetraloop#GCTTGC -0.8\n",
      "hairpin_tetraloop#GCTTGT -0.5\n",
      "hairpin_tetraloop#TCTTGA -0.8\n",
      "hairpin_tetraloop#TCTTGG -0.5\n",
      "\n",
      "[352 rows x 1 columns]\n",
      "['bulge_size#1', 'bulge_size#2', 'hairpin_size#11', 'hairpin_size#14', 'hairpin_size#17', 'hairpin_size#20', 'hairpin_size#3', 'hairpin_size#4', 'interior_size#2', 'interior_size#4', 'stack#AATT', 'stack#ACGT', 'stack#AGCT', 'stack#ATAT', 'stack#CATG', 'stack#CCGG', 'stack#CGCG', 'stack#CTAG', 'stack#GATC', 'stack#GCGC', 'stack#GGCC', 'stack#GTAC', 'stack#TATA', 'stack#TCGA', 'stack#TGCA', 'stack#TTAA']\n",
      "Warning: Rank of matrix A_unknown, 138, is smaller than the number of features 152!\n",
      "Centering new parameters...\n",
      "group bulge_size\n",
      "group hairpin_mismatch\n",
      "\tMean value of old_dict is -3.684\n",
      "\tMean value of fitted new_dict is 1.627\n",
      "\tMean value of centered new_dict is -3.684\n",
      "\n",
      "group hairpin_size\n",
      "group interior_mismatch\n",
      "\tMean value of old_dict is -2.913\n",
      "\tMean value of fitted new_dict is -7.374\n",
      "\tMean value of centered new_dict is -2.913\n",
      "\n",
      "group interior_size\n",
      "group stack\n",
      "\tMean value of old_dict is -8.275\n",
      "\tMean value of fitted new_dict is -8.275\n",
      "\tMean value of centered new_dict is -8.275\n",
      "\n",
      "group terminal_penalty\n",
      "\tMean value of old_dict is 1.100\n",
      "\tMean value of fitted new_dict is -2.184\n",
      "\tMean value of centered new_dict is 1.100\n",
      "\n",
      "Centering new parameters...\n",
      "group bulge_size\n",
      "group hairpin_mismatch\n",
      "\tMean value of old_dict is -0.715\n",
      "\tMean value of fitted new_dict is -0.002\n",
      "\tMean value of centered new_dict is -0.715\n",
      "\n",
      "group hairpin_size\n",
      "group interior_mismatch\n",
      "\tMean value of old_dict is -0.640\n",
      "\tMean value of fitted new_dict is -1.066\n",
      "\tMean value of centered new_dict is -0.640\n",
      "\n",
      "group interior_size\n",
      "group stack\n",
      "\tMean value of old_dict is -1.406\n",
      "\tMean value of fitted new_dict is -1.406\n",
      "\tMean value of centered new_dict is -1.406\n",
      "\n",
      "group terminal_penalty\n",
      "\tMean value of old_dict is 0.025\n",
      "\tMean value of fitted new_dict is 0.139\n",
      "\tMean value of centered new_dict is 0.025\n",
      "\n"
     ]
    },
    {
     "data": {
      "text/html": [
       "Waiting for W&B process to finish... <strong style=\"color:green\">(success).</strong>"
      ],
      "text/plain": [
       "<IPython.core.display.HTML object>"
      ]
     },
     "metadata": {},
     "output_type": "display_data"
    },
    {
     "data": {
      "text/html": [
       "<style>\n",
       "    table.wandb td:nth-child(1) { padding: 0 10px; text-align: left ; width: auto;} td:nth-child(2) {text-align: left ; width: 100%}\n",
       "    .wandb-row { display: flex; flex-direction: row; flex-wrap: wrap; justify-content: flex-start; width: 100% }\n",
       "    .wandb-col { display: flex; flex-direction: column; flex-basis: 100%; flex: 1; padding: 10px; }\n",
       "    </style>\n",
       "<div class=\"wandb-row\"><div class=\"wandb-col\"><h3>Run history:</h3><br/><table class=\"wandb\"><tr><td>n_feat</td><td>▁</td></tr><tr><td>n_fixed_feat</td><td>▁</td></tr><tr><td>train_dG_mae</td><td>▁</td></tr><tr><td>train_dG_rsqr</td><td>▁</td></tr><tr><td>train_dH_mae</td><td>▁</td></tr><tr><td>train_dH_rsqr</td><td>▁</td></tr><tr><td>val_Tm_adjusted_mae-all</td><td>▁</td></tr><tr><td>val_Tm_adjusted_mae-arr</td><td>▁</td></tr><tr><td>val_Tm_adjusted_mae-lit_uv</td><td>▁</td></tr><tr><td>val_Tm_adjusted_mae-ov</td><td>▁</td></tr><tr><td>val_Tm_adjusted_rmse-all</td><td>▁</td></tr><tr><td>val_Tm_adjusted_rmse-arr</td><td>▁</td></tr><tr><td>val_Tm_adjusted_rmse-lit_uv</td><td>▁</td></tr><tr><td>val_Tm_adjusted_rmse-ov</td><td>▁</td></tr><tr><td>val_Tm_bias-all</td><td>▁</td></tr><tr><td>val_Tm_bias-arr</td><td>▁</td></tr><tr><td>val_Tm_bias-lit_uv</td><td>▁</td></tr><tr><td>val_Tm_bias-ov</td><td>▁</td></tr><tr><td>val_Tm_corr-all</td><td>▁</td></tr><tr><td>val_Tm_corr-arr</td><td>▁</td></tr><tr><td>val_Tm_corr-lit_uv</td><td>▁</td></tr><tr><td>val_Tm_corr-ov</td><td>▁</td></tr><tr><td>val_Tm_mae-all</td><td>▁</td></tr><tr><td>val_Tm_mae-arr</td><td>▁</td></tr><tr><td>val_Tm_mae-lit_uv</td><td>▁</td></tr><tr><td>val_Tm_mae-ov</td><td>▁</td></tr><tr><td>val_Tm_rmse-all</td><td>▁</td></tr><tr><td>val_Tm_rmse-arr</td><td>▁</td></tr><tr><td>val_Tm_rmse-lit_uv</td><td>▁</td></tr><tr><td>val_Tm_rmse-ov</td><td>▁</td></tr><tr><td>val_dG_adjusted_mae-arr</td><td>▁</td></tr><tr><td>val_dG_adjusted_rmse-arr</td><td>▁</td></tr><tr><td>val_dG_bias-arr</td><td>▁</td></tr><tr><td>val_dG_corr-arr</td><td>▁</td></tr><tr><td>val_dG_mae-arr</td><td>▁</td></tr><tr><td>val_dG_rmse-arr</td><td>▁</td></tr><tr><td>val_dH_adjusted_mae-arr</td><td>▁</td></tr><tr><td>val_dH_adjusted_rmse-arr</td><td>▁</td></tr><tr><td>val_dH_bias-arr</td><td>▁</td></tr><tr><td>val_dH_corr-arr</td><td>▁</td></tr><tr><td>val_dH_mae-arr</td><td>▁</td></tr><tr><td>val_dH_rmse-arr</td><td>▁</td></tr></table><br/></div><div class=\"wandb-col\"><h3>Run summary:</h3><br/><table class=\"wandb\"><tr><td>n_feat</td><td>178</td></tr><tr><td>n_fixed_feat</td><td>26</td></tr><tr><td>param_set_file</td><td>./models/vague-plasm...</td></tr><tr><td>train_dG_mae</td><td>0.58164</td></tr><tr><td>train_dG_rsqr</td><td>0.6573</td></tr><tr><td>train_dH_mae</td><td>5.68115</td></tr><tr><td>train_dH_rsqr</td><td>0.4848</td></tr><tr><td>val_Tm_adjusted_mae-all</td><td>29.61847</td></tr><tr><td>val_Tm_adjusted_mae-arr</td><td>49.74894</td></tr><tr><td>val_Tm_adjusted_mae-lit_uv</td><td>2.41035</td></tr><tr><td>val_Tm_adjusted_mae-ov</td><td>3.45002</td></tr><tr><td>val_Tm_adjusted_rmse-all</td><td>61.35697</td></tr><tr><td>val_Tm_adjusted_rmse-arr</td><td>87.62309</td></tr><tr><td>val_Tm_adjusted_rmse-lit_uv</td><td>2.99367</td></tr><tr><td>val_Tm_adjusted_rmse-ov</td><td>4.52749</td></tr><tr><td>val_Tm_bias-all</td><td>18.11417</td></tr><tr><td>val_Tm_bias-arr</td><td>34.6375</td></tr><tr><td>val_Tm_bias-lit_uv</td><td>6.92344</td></tr><tr><td>val_Tm_bias-ov</td><td>3.7556</td></tr><tr><td>val_Tm_corr-all</td><td>0.08383</td></tr><tr><td>val_Tm_corr-arr</td><td>0.12619</td></tr><tr><td>val_Tm_corr-lit_uv</td><td>0.97713</td></tr><tr><td>val_Tm_corr-ov</td><td>0.58566</td></tr><tr><td>val_Tm_mae-all</td><td>28.21475</td></tr><tr><td>val_Tm_mae-arr</td><td>55.66206</td></tr><tr><td>val_Tm_mae-lit_uv</td><td>6.92858</td></tr><tr><td>val_Tm_mae-ov</td><td>4.70147</td></tr><tr><td>val_Tm_rmse-all</td><td>63.975</td></tr><tr><td>val_Tm_rmse-arr</td><td>94.22082</td></tr><tr><td>val_Tm_rmse-lit_uv</td><td>7.54295</td></tr><tr><td>val_Tm_rmse-ov</td><td>5.88241</td></tr><tr><td>val_dG_adjusted_mae-arr</td><td>0.77942</td></tr><tr><td>val_dG_adjusted_rmse-arr</td><td>1.03189</td></tr><tr><td>val_dG_bias-arr</td><td>-0.92242</td></tr><tr><td>val_dG_corr-arr</td><td>0.71058</td></tr><tr><td>val_dG_mae-arr</td><td>1.14644</td></tr><tr><td>val_dG_rmse-arr</td><td>1.38407</td></tr><tr><td>val_dH_adjusted_mae-arr</td><td>7.823</td></tr><tr><td>val_dH_adjusted_rmse-arr</td><td>9.97299</td></tr><tr><td>val_dH_bias-arr</td><td>8.77898</td></tr><tr><td>val_dH_corr-arr</td><td>0.63506</td></tr><tr><td>val_dH_mae-arr</td><td>10.65668</td></tr><tr><td>val_dH_rmse-arr</td><td>13.2865</td></tr></table><br/></div></div>"
      ],
      "text/plain": [
       "<IPython.core.display.HTML object>"
      ]
     },
     "metadata": {},
     "output_type": "display_data"
    },
    {
     "data": {
      "text/html": [
       " View run <strong style=\"color:#cdcd00\">vague-plasma-89</strong> at: <a href='https://wandb.ai/keyuxi/NN/runs/ambort9u' target=\"_blank\">https://wandb.ai/keyuxi/NN/runs/ambort9u</a><br/> View job at <a href='https://wandb.ai/keyuxi/NN/jobs/QXJ0aWZhY3RDb2xsZWN0aW9uOjExMTcyMjg1NQ==/version_details/v5' target=\"_blank\">https://wandb.ai/keyuxi/NN/jobs/QXJ0aWZhY3RDb2xsZWN0aW9uOjExMTcyMjg1NQ==/version_details/v5</a><br/>Synced 6 W&B file(s), 0 media file(s), 0 artifact file(s) and 0 other file(s)"
      ],
      "text/plain": [
       "<IPython.core.display.HTML object>"
      ]
     },
     "metadata": {},
     "output_type": "display_data"
    },
    {
     "data": {
      "text/html": [
       "Find logs at: <code>./wandb/run-20231202_130321-ambort9u/logs</code>"
      ],
      "text/plain": [
       "<IPython.core.display.HTML object>"
      ]
     },
     "metadata": {},
     "output_type": "display_data"
    },
    {
     "data": {
      "text/html": [
       "wandb version 0.16.0 is available!  To upgrade, please run:\n",
       " $ pip install wandb --upgrade"
      ],
      "text/plain": [
       "<IPython.core.display.HTML object>"
      ]
     },
     "metadata": {},
     "output_type": "display_data"
    },
    {
     "data": {
      "text/html": [
       "Tracking run with wandb version 0.15.12"
      ],
      "text/plain": [
       "<IPython.core.display.HTML object>"
      ]
     },
     "metadata": {},
     "output_type": "display_data"
    },
    {
     "data": {
      "text/html": [
       "Run data is saved locally in <code>/Users/yuxi/workspace/nnn_paper/wandb/run-20231202_131204-qajcaia8</code>"
      ],
      "text/plain": [
       "<IPython.core.display.HTML object>"
      ]
     },
     "metadata": {},
     "output_type": "display_data"
    },
    {
     "data": {
      "text/html": [
       "Syncing run <strong><a href='https://wandb.ai/keyuxi/NN/runs/qajcaia8' target=\"_blank\">ruby-oath-90</a></strong> to <a href='https://wandb.ai/keyuxi/NN' target=\"_blank\">Weights & Biases</a> (<a href='https://wandb.me/run' target=\"_blank\">docs</a>)<br/>"
      ],
      "text/plain": [
       "<IPython.core.display.HTML object>"
      ]
     },
     "metadata": {},
     "output_type": "display_data"
    },
    {
     "data": {
      "text/html": [
       " View project at <a href='https://wandb.ai/keyuxi/NN' target=\"_blank\">https://wandb.ai/keyuxi/NN</a>"
      ],
      "text/plain": [
       "<IPython.core.display.HTML object>"
      ]
     },
     "metadata": {},
     "output_type": "display_data"
    },
    {
     "data": {
      "text/html": [
       " View run at <a href='https://wandb.ai/keyuxi/NN/runs/qajcaia8' target=\"_blank\">https://wandb.ai/keyuxi/NN/runs/qajcaia8</a>"
      ],
      "text/plain": [
       "<IPython.core.display.HTML object>"
      ]
     },
     "metadata": {},
     "output_type": "display_data"
    },
    {
     "name": "stdout",
     "output_type": "stream",
     "text": [
      "feats (27732, 178) Index(['bulge_size#1', 'bulge_size#2', 'hairpin_loop_mid#A'], dtype='object')\n",
      "fixed_feature_names: ['bulge_size#1', 'bulge_size#2', 'hairpin_size#3', 'hairpin_size#4', 'hairpin_size#11', 'hairpin_size#14', 'hairpin_size#17', 'hairpin_size#20', 'interior_size#2', 'interior_size#4', 'stack#AATT', 'stack#ACGT', 'stack#AGCT', 'stack#ATAT', 'stack#CATG', 'stack#CCGG', 'stack#CGCG', 'stack#CTAG', 'stack#GATC', 'stack#GCGC', 'stack#GGCC', 'stack#GTAC', 'stack#TATA', 'stack#TCGA', 'stack#TGCA', 'stack#TTAA']\n",
      "                           dH\n",
      "bulge_size#1              0.0\n",
      "bulge_size#2              0.0\n",
      "bulge_size#3              0.0\n",
      "bulge_size#4              0.0\n",
      "bulge_size#5              0.0\n",
      "...                       ...\n",
      "hairpin_tetraloop#CCTTGG  0.0\n",
      "hairpin_tetraloop#GCTTGC  0.0\n",
      "hairpin_tetraloop#GCTTGT  0.0\n",
      "hairpin_tetraloop#TCTTGA  0.0\n",
      "hairpin_tetraloop#TCTTGG  0.0\n",
      "\n",
      "[352 rows x 1 columns]\n",
      "['bulge_size#1', 'bulge_size#2', 'hairpin_size#11', 'hairpin_size#14', 'hairpin_size#17', 'hairpin_size#20', 'hairpin_size#3', 'hairpin_size#4', 'interior_size#2', 'interior_size#4', 'stack#AATT', 'stack#ACGT', 'stack#AGCT', 'stack#ATAT', 'stack#CATG', 'stack#CCGG', 'stack#CGCG', 'stack#CTAG', 'stack#GATC', 'stack#GCGC', 'stack#GGCC', 'stack#GTAC', 'stack#TATA', 'stack#TCGA', 'stack#TGCA', 'stack#TTAA']\n",
      "Warning: Rank of matrix A_unknown, 149, is smaller than the number of features 152!\n",
      "                           dG\n",
      "bulge_size#1              4.0\n",
      "bulge_size#2              2.9\n",
      "bulge_size#3              3.1\n",
      "bulge_size#4              3.2\n",
      "bulge_size#5              3.3\n",
      "...                       ...\n",
      "hairpin_tetraloop#CCTTGG -0.8\n",
      "hairpin_tetraloop#GCTTGC -0.8\n",
      "hairpin_tetraloop#GCTTGT -0.5\n",
      "hairpin_tetraloop#TCTTGA -0.8\n",
      "hairpin_tetraloop#TCTTGG -0.5\n",
      "\n",
      "[352 rows x 1 columns]\n",
      "['bulge_size#1', 'bulge_size#2', 'hairpin_size#11', 'hairpin_size#14', 'hairpin_size#17', 'hairpin_size#20', 'hairpin_size#3', 'hairpin_size#4', 'interior_size#2', 'interior_size#4', 'stack#AATT', 'stack#ACGT', 'stack#AGCT', 'stack#ATAT', 'stack#CATG', 'stack#CCGG', 'stack#CGCG', 'stack#CTAG', 'stack#GATC', 'stack#GCGC', 'stack#GGCC', 'stack#GTAC', 'stack#TATA', 'stack#TCGA', 'stack#TGCA', 'stack#TTAA']\n",
      "Warning: Rank of matrix A_unknown, 151, is smaller than the number of features 152!\n",
      "Centering new parameters...\n",
      "group bulge_size\n",
      "group hairpin_mismatch\n",
      "\tMean value of old_dict is -3.684\n",
      "\tMean value of fitted new_dict is 1.597\n",
      "\tMean value of centered new_dict is -3.684\n",
      "\n",
      "group hairpin_size\n",
      "group interior_mismatch\n",
      "\tMean value of old_dict is -2.913\n",
      "\tMean value of fitted new_dict is -5.392\n",
      "\tMean value of centered new_dict is -2.912\n",
      "\n",
      "group interior_size\n",
      "group stack\n",
      "\tMean value of old_dict is -8.275\n",
      "\tMean value of fitted new_dict is -8.275\n",
      "\tMean value of centered new_dict is -8.275\n",
      "\n",
      "group terminal_penalty\n",
      "\tMean value of old_dict is 1.100\n",
      "\tMean value of fitted new_dict is -1.365\n",
      "\tMean value of centered new_dict is 1.100\n",
      "\n",
      "Centering new parameters...\n",
      "group bulge_size\n",
      "group hairpin_mismatch\n",
      "\tMean value of old_dict is -0.715\n",
      "\tMean value of fitted new_dict is -3.112\n",
      "\tMean value of centered new_dict is -0.715\n",
      "\n",
      "group hairpin_size\n",
      "group interior_mismatch\n",
      "\tMean value of old_dict is -0.640\n",
      "\tMean value of fitted new_dict is -0.712\n",
      "\tMean value of centered new_dict is -0.640\n",
      "\n",
      "group interior_size\n",
      "group stack\n",
      "\tMean value of old_dict is -1.406\n",
      "\tMean value of fitted new_dict is -1.406\n",
      "\tMean value of centered new_dict is -1.406\n",
      "\n",
      "group terminal_penalty\n",
      "\tMean value of old_dict is 0.025\n",
      "\tMean value of fitted new_dict is 0.075\n",
      "\tMean value of centered new_dict is 0.025\n",
      "\n"
     ]
    },
    {
     "data": {
      "text/html": [
       "Waiting for W&B process to finish... <strong style=\"color:green\">(success).</strong>"
      ],
      "text/plain": [
       "<IPython.core.display.HTML object>"
      ]
     },
     "metadata": {},
     "output_type": "display_data"
    },
    {
     "data": {
      "text/html": [
       "<style>\n",
       "    table.wandb td:nth-child(1) { padding: 0 10px; text-align: left ; width: auto;} td:nth-child(2) {text-align: left ; width: 100%}\n",
       "    .wandb-row { display: flex; flex-direction: row; flex-wrap: wrap; justify-content: flex-start; width: 100% }\n",
       "    .wandb-col { display: flex; flex-direction: column; flex-basis: 100%; flex: 1; padding: 10px; }\n",
       "    </style>\n",
       "<div class=\"wandb-row\"><div class=\"wandb-col\"><h3>Run history:</h3><br/><table class=\"wandb\"><tr><td>n_feat</td><td>▁</td></tr><tr><td>n_fixed_feat</td><td>▁</td></tr><tr><td>train_dG_mae</td><td>▁</td></tr><tr><td>train_dG_rsqr</td><td>▁</td></tr><tr><td>train_dH_mae</td><td>▁</td></tr><tr><td>train_dH_rsqr</td><td>▁</td></tr><tr><td>val_Tm_adjusted_mae-all</td><td>▁</td></tr><tr><td>val_Tm_adjusted_mae-arr</td><td>▁</td></tr><tr><td>val_Tm_adjusted_mae-lit_uv</td><td>▁</td></tr><tr><td>val_Tm_adjusted_mae-ov</td><td>▁</td></tr><tr><td>val_Tm_adjusted_rmse-all</td><td>▁</td></tr><tr><td>val_Tm_adjusted_rmse-arr</td><td>▁</td></tr><tr><td>val_Tm_adjusted_rmse-lit_uv</td><td>▁</td></tr><tr><td>val_Tm_adjusted_rmse-ov</td><td>▁</td></tr><tr><td>val_Tm_bias-all</td><td>▁</td></tr><tr><td>val_Tm_bias-arr</td><td>▁</td></tr><tr><td>val_Tm_bias-lit_uv</td><td>▁</td></tr><tr><td>val_Tm_bias-ov</td><td>▁</td></tr><tr><td>val_Tm_corr-all</td><td>▁</td></tr><tr><td>val_Tm_corr-arr</td><td>▁</td></tr><tr><td>val_Tm_corr-lit_uv</td><td>▁</td></tr><tr><td>val_Tm_corr-ov</td><td>▁</td></tr><tr><td>val_Tm_mae-all</td><td>▁</td></tr><tr><td>val_Tm_mae-arr</td><td>▁</td></tr><tr><td>val_Tm_mae-lit_uv</td><td>▁</td></tr><tr><td>val_Tm_mae-ov</td><td>▁</td></tr><tr><td>val_Tm_rmse-all</td><td>▁</td></tr><tr><td>val_Tm_rmse-arr</td><td>▁</td></tr><tr><td>val_Tm_rmse-lit_uv</td><td>▁</td></tr><tr><td>val_Tm_rmse-ov</td><td>▁</td></tr><tr><td>val_dG_adjusted_mae-arr</td><td>▁</td></tr><tr><td>val_dG_adjusted_rmse-arr</td><td>▁</td></tr><tr><td>val_dG_bias-arr</td><td>▁</td></tr><tr><td>val_dG_corr-arr</td><td>▁</td></tr><tr><td>val_dG_mae-arr</td><td>▁</td></tr><tr><td>val_dG_rmse-arr</td><td>▁</td></tr><tr><td>val_dH_adjusted_mae-arr</td><td>▁</td></tr><tr><td>val_dH_adjusted_rmse-arr</td><td>▁</td></tr><tr><td>val_dH_bias-arr</td><td>▁</td></tr><tr><td>val_dH_corr-arr</td><td>▁</td></tr><tr><td>val_dH_mae-arr</td><td>▁</td></tr><tr><td>val_dH_rmse-arr</td><td>▁</td></tr></table><br/></div><div class=\"wandb-col\"><h3>Run summary:</h3><br/><table class=\"wandb\"><tr><td>n_feat</td><td>178</td></tr><tr><td>n_fixed_feat</td><td>26</td></tr><tr><td>param_set_file</td><td>./models/ruby-oath-9...</td></tr><tr><td>train_dG_mae</td><td>0.5936</td></tr><tr><td>train_dG_rsqr</td><td>0.62948</td></tr><tr><td>train_dH_mae</td><td>5.92639</td></tr><tr><td>train_dH_rsqr</td><td>0.45014</td></tr><tr><td>val_Tm_adjusted_mae-all</td><td>20.03418</td></tr><tr><td>val_Tm_adjusted_mae-arr</td><td>16.78739</td></tr><tr><td>val_Tm_adjusted_mae-lit_uv</td><td>2.28544</td></tr><tr><td>val_Tm_adjusted_mae-ov</td><td>2.0863</td></tr><tr><td>val_Tm_adjusted_rmse-all</td><td>26.76343</td></tr><tr><td>val_Tm_adjusted_rmse-arr</td><td>26.7711</td></tr><tr><td>val_Tm_adjusted_rmse-lit_uv</td><td>2.82208</td></tr><tr><td>val_Tm_adjusted_rmse-ov</td><td>2.67163</td></tr><tr><td>val_Tm_bias-all</td><td>-13.07373</td></tr><tr><td>val_Tm_bias-arr</td><td>-33.09966</td></tr><tr><td>val_Tm_bias-lit_uv</td><td>6.92196</td></tr><tr><td>val_Tm_bias-ov</td><td>5.1525</td></tr><tr><td>val_Tm_corr-all</td><td>0.6562</td></tr><tr><td>val_Tm_corr-arr</td><td>0.65295</td></tr><tr><td>val_Tm_corr-lit_uv</td><td>0.97953</td></tr><tr><td>val_Tm_corr-ov</td><td>0.80968</td></tr><tr><td>val_Tm_mae-all</td><td>18.9884</td></tr><tr><td>val_Tm_mae-arr</td><td>33.75058</td></tr><tr><td>val_Tm_mae-lit_uv</td><td>6.92315</td></tr><tr><td>val_Tm_mae-ov</td><td>5.21759</td></tr><tr><td>val_Tm_rmse-all</td><td>29.78596</td></tr><tr><td>val_Tm_rmse-arr</td><td>42.57087</td></tr><tr><td>val_Tm_rmse-lit_uv</td><td>7.47514</td></tr><tr><td>val_Tm_rmse-ov</td><td>5.80395</td></tr><tr><td>val_dG_adjusted_mae-arr</td><td>0.62564</td></tr><tr><td>val_dG_adjusted_rmse-arr</td><td>0.84211</td></tr><tr><td>val_dG_bias-arr</td><td>2.16941</td></tr><tr><td>val_dG_corr-arr</td><td>0.78059</td></tr><tr><td>val_dG_mae-arr</td><td>2.17547</td></tr><tr><td>val_dG_rmse-arr</td><td>2.32712</td></tr><tr><td>val_dH_adjusted_mae-arr</td><td>6.84006</td></tr><tr><td>val_dH_adjusted_rmse-arr</td><td>8.59049</td></tr><tr><td>val_dH_bias-arr</td><td>4.68728</td></tr><tr><td>val_dH_corr-arr</td><td>0.68113</td></tr><tr><td>val_dH_mae-arr</td><td>7.68641</td></tr><tr><td>val_dH_rmse-arr</td><td>9.78606</td></tr></table><br/></div></div>"
      ],
      "text/plain": [
       "<IPython.core.display.HTML object>"
      ]
     },
     "metadata": {},
     "output_type": "display_data"
    },
    {
     "data": {
      "text/html": [
       " View run <strong style=\"color:#cdcd00\">ruby-oath-90</strong> at: <a href='https://wandb.ai/keyuxi/NN/runs/qajcaia8' target=\"_blank\">https://wandb.ai/keyuxi/NN/runs/qajcaia8</a><br/> View job at <a href='https://wandb.ai/keyuxi/NN/jobs/QXJ0aWZhY3RDb2xsZWN0aW9uOjExMTcyMjg1NQ==/version_details/v5' target=\"_blank\">https://wandb.ai/keyuxi/NN/jobs/QXJ0aWZhY3RDb2xsZWN0aW9uOjExMTcyMjg1NQ==/version_details/v5</a><br/>Synced 6 W&B file(s), 0 media file(s), 0 artifact file(s) and 0 other file(s)"
      ],
      "text/plain": [
       "<IPython.core.display.HTML object>"
      ]
     },
     "metadata": {},
     "output_type": "display_data"
    },
    {
     "data": {
      "text/html": [
       "Find logs at: <code>./wandb/run-20231202_131204-qajcaia8/logs</code>"
      ],
      "text/plain": [
       "<IPython.core.display.HTML object>"
      ]
     },
     "metadata": {},
     "output_type": "display_data"
    },
    {
     "data": {
      "text/html": [
       "wandb version 0.16.0 is available!  To upgrade, please run:\n",
       " $ pip install wandb --upgrade"
      ],
      "text/plain": [
       "<IPython.core.display.HTML object>"
      ]
     },
     "metadata": {},
     "output_type": "display_data"
    },
    {
     "data": {
      "text/html": [
       "Tracking run with wandb version 0.15.12"
      ],
      "text/plain": [
       "<IPython.core.display.HTML object>"
      ]
     },
     "metadata": {},
     "output_type": "display_data"
    },
    {
     "data": {
      "text/html": [
       "Run data is saved locally in <code>/Users/yuxi/workspace/nnn_paper/wandb/run-20231202_132047-3rz0fuwk</code>"
      ],
      "text/plain": [
       "<IPython.core.display.HTML object>"
      ]
     },
     "metadata": {},
     "output_type": "display_data"
    },
    {
     "data": {
      "text/html": [
       "Syncing run <strong><a href='https://wandb.ai/keyuxi/NN/runs/3rz0fuwk' target=\"_blank\">ruby-shape-91</a></strong> to <a href='https://wandb.ai/keyuxi/NN' target=\"_blank\">Weights & Biases</a> (<a href='https://wandb.me/run' target=\"_blank\">docs</a>)<br/>"
      ],
      "text/plain": [
       "<IPython.core.display.HTML object>"
      ]
     },
     "metadata": {},
     "output_type": "display_data"
    },
    {
     "data": {
      "text/html": [
       " View project at <a href='https://wandb.ai/keyuxi/NN' target=\"_blank\">https://wandb.ai/keyuxi/NN</a>"
      ],
      "text/plain": [
       "<IPython.core.display.HTML object>"
      ]
     },
     "metadata": {},
     "output_type": "display_data"
    },
    {
     "data": {
      "text/html": [
       " View run at <a href='https://wandb.ai/keyuxi/NN/runs/3rz0fuwk' target=\"_blank\">https://wandb.ai/keyuxi/NN/runs/3rz0fuwk</a>"
      ],
      "text/plain": [
       "<IPython.core.display.HTML object>"
      ]
     },
     "metadata": {},
     "output_type": "display_data"
    },
    {
     "name": "stdout",
     "output_type": "stream",
     "text": [
      "feats (27732, 178) Index(['bulge_size#1', 'bulge_size#2', 'hairpin_loop_mid#A'], dtype='object')\n",
      "fixed_feature_names: ['bulge_size#1', 'bulge_size#2', 'hairpin_size#3', 'hairpin_size#4', 'hairpin_size#11', 'hairpin_size#14', 'hairpin_size#17', 'hairpin_size#20', 'interior_size#2', 'interior_size#4', 'stack#AATT', 'stack#ACGT', 'stack#AGCT', 'stack#ATAT', 'stack#CATG', 'stack#CCGG', 'stack#CGCG', 'stack#CTAG', 'stack#GATC', 'stack#GCGC', 'stack#GGCC', 'stack#GTAC', 'stack#TATA', 'stack#TCGA', 'stack#TGCA', 'stack#TTAA']\n",
      "                           dH\n",
      "bulge_size#1              0.0\n",
      "bulge_size#2              0.0\n",
      "bulge_size#3              0.0\n",
      "bulge_size#4              0.0\n",
      "bulge_size#5              0.0\n",
      "...                       ...\n",
      "hairpin_tetraloop#CCTTGG  0.0\n",
      "hairpin_tetraloop#GCTTGC  0.0\n",
      "hairpin_tetraloop#GCTTGT  0.0\n",
      "hairpin_tetraloop#TCTTGA  0.0\n",
      "hairpin_tetraloop#TCTTGG  0.0\n",
      "\n",
      "[352 rows x 1 columns]\n",
      "['bulge_size#1', 'bulge_size#2', 'hairpin_size#11', 'hairpin_size#14', 'hairpin_size#17', 'hairpin_size#20', 'hairpin_size#3', 'hairpin_size#4', 'interior_size#2', 'interior_size#4', 'stack#AATT', 'stack#ACGT', 'stack#AGCT', 'stack#ATAT', 'stack#CATG', 'stack#CCGG', 'stack#CGCG', 'stack#CTAG', 'stack#GATC', 'stack#GCGC', 'stack#GGCC', 'stack#GTAC', 'stack#TATA', 'stack#TCGA', 'stack#TGCA', 'stack#TTAA']\n",
      "                           dG\n",
      "bulge_size#1              4.0\n",
      "bulge_size#2              2.9\n",
      "bulge_size#3              3.1\n",
      "bulge_size#4              3.2\n",
      "bulge_size#5              3.3\n",
      "...                       ...\n",
      "hairpin_tetraloop#CCTTGG -0.8\n",
      "hairpin_tetraloop#GCTTGC -0.8\n",
      "hairpin_tetraloop#GCTTGT -0.5\n",
      "hairpin_tetraloop#TCTTGA -0.8\n",
      "hairpin_tetraloop#TCTTGG -0.5\n",
      "\n",
      "[352 rows x 1 columns]\n",
      "['bulge_size#1', 'bulge_size#2', 'hairpin_size#11', 'hairpin_size#14', 'hairpin_size#17', 'hairpin_size#20', 'hairpin_size#3', 'hairpin_size#4', 'interior_size#2', 'interior_size#4', 'stack#AATT', 'stack#ACGT', 'stack#AGCT', 'stack#ATAT', 'stack#CATG', 'stack#CCGG', 'stack#CGCG', 'stack#CTAG', 'stack#GATC', 'stack#GCGC', 'stack#GGCC', 'stack#GTAC', 'stack#TATA', 'stack#TCGA', 'stack#TGCA', 'stack#TTAA']\n",
      "Warning: Rank of matrix A_unknown, 151, is smaller than the number of features 152!\n",
      "Centering new parameters...\n",
      "group bulge_size\n",
      "group hairpin_mismatch\n",
      "\tMean value of old_dict is -3.684\n",
      "\tMean value of fitted new_dict is -16.136\n",
      "\tMean value of centered new_dict is -3.684\n",
      "\n",
      "group hairpin_size\n",
      "group interior_mismatch\n",
      "\tMean value of old_dict is -2.913\n",
      "\tMean value of fitted new_dict is -5.883\n",
      "\tMean value of centered new_dict is -2.912\n",
      "\n",
      "group interior_size\n",
      "group stack\n",
      "\tMean value of old_dict is -8.275\n",
      "\tMean value of fitted new_dict is -8.275\n",
      "\tMean value of centered new_dict is -8.275\n",
      "\n",
      "group terminal_penalty\n",
      "\tMean value of old_dict is 1.100\n",
      "\tMean value of fitted new_dict is -0.426\n",
      "\tMean value of centered new_dict is 1.100\n",
      "\n",
      "Centering new parameters...\n",
      "group bulge_size\n",
      "group hairpin_mismatch\n",
      "\tMean value of old_dict is -0.715\n",
      "\tMean value of fitted new_dict is -0.042\n",
      "\tMean value of centered new_dict is -0.715\n",
      "\n",
      "group hairpin_size\n",
      "group interior_mismatch\n",
      "\tMean value of old_dict is -0.640\n",
      "\tMean value of fitted new_dict is -0.707\n",
      "\tMean value of centered new_dict is -0.640\n",
      "\n",
      "group interior_size\n",
      "group stack\n",
      "\tMean value of old_dict is -1.406\n",
      "\tMean value of fitted new_dict is -1.406\n",
      "\tMean value of centered new_dict is -1.406\n",
      "\n",
      "group terminal_penalty\n",
      "\tMean value of old_dict is 0.025\n",
      "\tMean value of fitted new_dict is 0.253\n",
      "\tMean value of centered new_dict is 0.025\n",
      "\n"
     ]
    },
    {
     "data": {
      "text/html": [
       "Waiting for W&B process to finish... <strong style=\"color:green\">(success).</strong>"
      ],
      "text/plain": [
       "<IPython.core.display.HTML object>"
      ]
     },
     "metadata": {},
     "output_type": "display_data"
    },
    {
     "data": {
      "text/html": [
       "<style>\n",
       "    table.wandb td:nth-child(1) { padding: 0 10px; text-align: left ; width: auto;} td:nth-child(2) {text-align: left ; width: 100%}\n",
       "    .wandb-row { display: flex; flex-direction: row; flex-wrap: wrap; justify-content: flex-start; width: 100% }\n",
       "    .wandb-col { display: flex; flex-direction: column; flex-basis: 100%; flex: 1; padding: 10px; }\n",
       "    </style>\n",
       "<div class=\"wandb-row\"><div class=\"wandb-col\"><h3>Run history:</h3><br/><table class=\"wandb\"><tr><td>n_feat</td><td>▁</td></tr><tr><td>n_fixed_feat</td><td>▁</td></tr><tr><td>train_dG_mae</td><td>▁</td></tr><tr><td>train_dG_rsqr</td><td>▁</td></tr><tr><td>train_dH_mae</td><td>▁</td></tr><tr><td>train_dH_rsqr</td><td>▁</td></tr><tr><td>val_Tm_adjusted_mae-all</td><td>▁</td></tr><tr><td>val_Tm_adjusted_mae-arr</td><td>▁</td></tr><tr><td>val_Tm_adjusted_mae-lit_uv</td><td>▁</td></tr><tr><td>val_Tm_adjusted_mae-ov</td><td>▁</td></tr><tr><td>val_Tm_adjusted_rmse-all</td><td>▁</td></tr><tr><td>val_Tm_adjusted_rmse-arr</td><td>▁</td></tr><tr><td>val_Tm_adjusted_rmse-lit_uv</td><td>▁</td></tr><tr><td>val_Tm_adjusted_rmse-ov</td><td>▁</td></tr><tr><td>val_Tm_bias-all</td><td>▁</td></tr><tr><td>val_Tm_bias-arr</td><td>▁</td></tr><tr><td>val_Tm_bias-lit_uv</td><td>▁</td></tr><tr><td>val_Tm_bias-ov</td><td>▁</td></tr><tr><td>val_Tm_corr-all</td><td>▁</td></tr><tr><td>val_Tm_corr-arr</td><td>▁</td></tr><tr><td>val_Tm_corr-lit_uv</td><td>▁</td></tr><tr><td>val_Tm_corr-ov</td><td>▁</td></tr><tr><td>val_Tm_mae-all</td><td>▁</td></tr><tr><td>val_Tm_mae-arr</td><td>▁</td></tr><tr><td>val_Tm_mae-lit_uv</td><td>▁</td></tr><tr><td>val_Tm_mae-ov</td><td>▁</td></tr><tr><td>val_Tm_rmse-all</td><td>▁</td></tr><tr><td>val_Tm_rmse-arr</td><td>▁</td></tr><tr><td>val_Tm_rmse-lit_uv</td><td>▁</td></tr><tr><td>val_Tm_rmse-ov</td><td>▁</td></tr><tr><td>val_dG_adjusted_mae-arr</td><td>▁</td></tr><tr><td>val_dG_adjusted_rmse-arr</td><td>▁</td></tr><tr><td>val_dG_bias-arr</td><td>▁</td></tr><tr><td>val_dG_corr-arr</td><td>▁</td></tr><tr><td>val_dG_mae-arr</td><td>▁</td></tr><tr><td>val_dG_rmse-arr</td><td>▁</td></tr><tr><td>val_dH_adjusted_mae-arr</td><td>▁</td></tr><tr><td>val_dH_adjusted_rmse-arr</td><td>▁</td></tr><tr><td>val_dH_bias-arr</td><td>▁</td></tr><tr><td>val_dH_corr-arr</td><td>▁</td></tr><tr><td>val_dH_mae-arr</td><td>▁</td></tr><tr><td>val_dH_rmse-arr</td><td>▁</td></tr></table><br/></div><div class=\"wandb-col\"><h3>Run summary:</h3><br/><table class=\"wandb\"><tr><td>n_feat</td><td>178</td></tr><tr><td>n_fixed_feat</td><td>26</td></tr><tr><td>param_set_file</td><td>./models/ruby-shape-...</td></tr><tr><td>train_dG_mae</td><td>0.623</td></tr><tr><td>train_dG_rsqr</td><td>0.5917</td></tr><tr><td>train_dH_mae</td><td>5.84149</td></tr><tr><td>train_dH_rsqr</td><td>0.49831</td></tr><tr><td>val_Tm_adjusted_mae-all</td><td>47.36485</td></tr><tr><td>val_Tm_adjusted_mae-arr</td><td>104.82778</td></tr><tr><td>val_Tm_adjusted_mae-lit_uv</td><td>2.08145</td></tr><tr><td>val_Tm_adjusted_mae-ov</td><td>2.08979</td></tr><tr><td>val_Tm_adjusted_rmse-all</td><td>88.44467</td></tr><tr><td>val_Tm_adjusted_rmse-arr</td><td>133.39181</td></tr><tr><td>val_Tm_adjusted_rmse-lit_uv</td><td>2.58342</td></tr><tr><td>val_Tm_adjusted_rmse-ov</td><td>2.73233</td></tr><tr><td>val_Tm_bias-all</td><td>5.48556</td></tr><tr><td>val_Tm_bias-arr</td><td>6.40793</td></tr><tr><td>val_Tm_bias-lit_uv</td><td>6.90919</td></tr><tr><td>val_Tm_bias-ov</td><td>4.4937</td></tr><tr><td>val_Tm_corr-all</td><td>0.20742</td></tr><tr><td>val_Tm_corr-arr</td><td>0.21982</td></tr><tr><td>val_Tm_corr-lit_uv</td><td>0.98218</td></tr><tr><td>val_Tm_corr-ov</td><td>0.80406</td></tr><tr><td>val_Tm_mae-all</td><td>49.09728</td></tr><tr><td>val_Tm_mae-arr</td><td>105.54777</td></tr><tr><td>val_Tm_mae-lit_uv</td><td>6.90919</td></tr><tr><td>val_Tm_mae-ov</td><td>4.60544</td></tr><tr><td>val_Tm_rmse-all</td><td>88.61463</td></tr><tr><td>val_Tm_rmse-arr</td><td>133.54564</td></tr><tr><td>val_Tm_rmse-lit_uv</td><td>7.37638</td></tr><tr><td>val_Tm_rmse-ov</td><td>5.25918</td></tr><tr><td>val_dG_adjusted_mae-arr</td><td>0.62092</td></tr><tr><td>val_dG_adjusted_rmse-arr</td><td>0.81814</td></tr><tr><td>val_dG_bias-arr</td><td>-1.39269</td></tr><tr><td>val_dG_corr-arr</td><td>0.78176</td></tr><tr><td>val_dG_mae-arr</td><td>1.44351</td></tr><tr><td>val_dG_rmse-arr</td><td>1.61522</td></tr><tr><td>val_dH_adjusted_mae-arr</td><td>6.54269</td></tr><tr><td>val_dH_adjusted_rmse-arr</td><td>8.37318</td></tr><tr><td>val_dH_bias-arr</td><td>21.53976</td></tr><tr><td>val_dH_corr-arr</td><td>0.68968</td></tr><tr><td>val_dH_mae-arr</td><td>21.56348</td></tr><tr><td>val_dH_rmse-arr</td><td>23.10999</td></tr></table><br/></div></div>"
      ],
      "text/plain": [
       "<IPython.core.display.HTML object>"
      ]
     },
     "metadata": {},
     "output_type": "display_data"
    },
    {
     "data": {
      "text/html": [
       " View run <strong style=\"color:#cdcd00\">ruby-shape-91</strong> at: <a href='https://wandb.ai/keyuxi/NN/runs/3rz0fuwk' target=\"_blank\">https://wandb.ai/keyuxi/NN/runs/3rz0fuwk</a><br/> View job at <a href='https://wandb.ai/keyuxi/NN/jobs/QXJ0aWZhY3RDb2xsZWN0aW9uOjExMTcyMjg1NQ==/version_details/v5' target=\"_blank\">https://wandb.ai/keyuxi/NN/jobs/QXJ0aWZhY3RDb2xsZWN0aW9uOjExMTcyMjg1NQ==/version_details/v5</a><br/>Synced 6 W&B file(s), 0 media file(s), 0 artifact file(s) and 0 other file(s)"
      ],
      "text/plain": [
       "<IPython.core.display.HTML object>"
      ]
     },
     "metadata": {},
     "output_type": "display_data"
    },
    {
     "data": {
      "text/html": [
       "Find logs at: <code>./wandb/run-20231202_132047-3rz0fuwk/logs</code>"
      ],
      "text/plain": [
       "<IPython.core.display.HTML object>"
      ]
     },
     "metadata": {},
     "output_type": "display_data"
    },
    {
     "data": {
      "text/html": [
       "wandb version 0.16.0 is available!  To upgrade, please run:\n",
       " $ pip install wandb --upgrade"
      ],
      "text/plain": [
       "<IPython.core.display.HTML object>"
      ]
     },
     "metadata": {},
     "output_type": "display_data"
    },
    {
     "data": {
      "text/html": [
       "Tracking run with wandb version 0.15.12"
      ],
      "text/plain": [
       "<IPython.core.display.HTML object>"
      ]
     },
     "metadata": {},
     "output_type": "display_data"
    },
    {
     "data": {
      "text/html": [
       "Run data is saved locally in <code>/Users/yuxi/workspace/nnn_paper/wandb/run-20231202_132930-roj7xjia</code>"
      ],
      "text/plain": [
       "<IPython.core.display.HTML object>"
      ]
     },
     "metadata": {},
     "output_type": "display_data"
    },
    {
     "data": {
      "text/html": [
       "Syncing run <strong><a href='https://wandb.ai/keyuxi/NN/runs/roj7xjia' target=\"_blank\">fine-dream-92</a></strong> to <a href='https://wandb.ai/keyuxi/NN' target=\"_blank\">Weights & Biases</a> (<a href='https://wandb.me/run' target=\"_blank\">docs</a>)<br/>"
      ],
      "text/plain": [
       "<IPython.core.display.HTML object>"
      ]
     },
     "metadata": {},
     "output_type": "display_data"
    },
    {
     "data": {
      "text/html": [
       " View project at <a href='https://wandb.ai/keyuxi/NN' target=\"_blank\">https://wandb.ai/keyuxi/NN</a>"
      ],
      "text/plain": [
       "<IPython.core.display.HTML object>"
      ]
     },
     "metadata": {},
     "output_type": "display_data"
    },
    {
     "data": {
      "text/html": [
       " View run at <a href='https://wandb.ai/keyuxi/NN/runs/roj7xjia' target=\"_blank\">https://wandb.ai/keyuxi/NN/runs/roj7xjia</a>"
      ],
      "text/plain": [
       "<IPython.core.display.HTML object>"
      ]
     },
     "metadata": {},
     "output_type": "display_data"
    },
    {
     "name": "stdout",
     "output_type": "stream",
     "text": [
      "feats (27732, 178) Index(['bulge_size#1', 'bulge_size#2', 'hairpin_loop_mid#A'], dtype='object')\n",
      "fixed_feature_names: ['bulge_size#1', 'bulge_size#2', 'hairpin_size#3', 'hairpin_size#4', 'hairpin_size#11', 'hairpin_size#14', 'hairpin_size#17', 'hairpin_size#20', 'interior_size#2', 'interior_size#4', 'stack#AATT', 'stack#ACGT', 'stack#AGCT', 'stack#ATAT', 'stack#CATG', 'stack#CCGG', 'stack#CGCG', 'stack#CTAG', 'stack#GATC', 'stack#GCGC', 'stack#GGCC', 'stack#GTAC', 'stack#TATA', 'stack#TCGA', 'stack#TGCA', 'stack#TTAA']\n",
      "                           dH\n",
      "bulge_size#1              0.0\n",
      "bulge_size#2              0.0\n",
      "bulge_size#3              0.0\n",
      "bulge_size#4              0.0\n",
      "bulge_size#5              0.0\n",
      "...                       ...\n",
      "hairpin_tetraloop#CCTTGG  0.0\n",
      "hairpin_tetraloop#GCTTGC  0.0\n",
      "hairpin_tetraloop#GCTTGT  0.0\n",
      "hairpin_tetraloop#TCTTGA  0.0\n",
      "hairpin_tetraloop#TCTTGG  0.0\n",
      "\n",
      "[352 rows x 1 columns]\n",
      "['bulge_size#1', 'bulge_size#2', 'hairpin_size#11', 'hairpin_size#14', 'hairpin_size#17', 'hairpin_size#20', 'hairpin_size#3', 'hairpin_size#4', 'interior_size#2', 'interior_size#4', 'stack#AATT', 'stack#ACGT', 'stack#AGCT', 'stack#ATAT', 'stack#CATG', 'stack#CCGG', 'stack#CGCG', 'stack#CTAG', 'stack#GATC', 'stack#GCGC', 'stack#GGCC', 'stack#GTAC', 'stack#TATA', 'stack#TCGA', 'stack#TGCA', 'stack#TTAA']\n",
      "Warning: Rank of matrix A_unknown, 151, is smaller than the number of features 152!\n",
      "                           dG\n",
      "bulge_size#1              4.0\n",
      "bulge_size#2              2.9\n",
      "bulge_size#3              3.1\n",
      "bulge_size#4              3.2\n",
      "bulge_size#5              3.3\n",
      "...                       ...\n",
      "hairpin_tetraloop#CCTTGG -0.8\n",
      "hairpin_tetraloop#GCTTGC -0.8\n",
      "hairpin_tetraloop#GCTTGT -0.5\n",
      "hairpin_tetraloop#TCTTGA -0.8\n",
      "hairpin_tetraloop#TCTTGG -0.5\n",
      "\n",
      "[352 rows x 1 columns]\n",
      "['bulge_size#1', 'bulge_size#2', 'hairpin_size#11', 'hairpin_size#14', 'hairpin_size#17', 'hairpin_size#20', 'hairpin_size#3', 'hairpin_size#4', 'interior_size#2', 'interior_size#4', 'stack#AATT', 'stack#ACGT', 'stack#AGCT', 'stack#ATAT', 'stack#CATG', 'stack#CCGG', 'stack#CGCG', 'stack#CTAG', 'stack#GATC', 'stack#GCGC', 'stack#GGCC', 'stack#GTAC', 'stack#TATA', 'stack#TCGA', 'stack#TGCA', 'stack#TTAA']\n",
      "Warning: Rank of matrix A_unknown, 151, is smaller than the number of features 152!\n",
      "Centering new parameters...\n",
      "group bulge_size\n",
      "group hairpin_mismatch\n",
      "\tMean value of old_dict is -3.684\n",
      "\tMean value of fitted new_dict is 1.632\n",
      "\tMean value of centered new_dict is -3.684\n",
      "\n",
      "group hairpin_size\n",
      "group interior_mismatch\n",
      "\tMean value of old_dict is -2.913\n",
      "\tMean value of fitted new_dict is -5.909\n",
      "\tMean value of centered new_dict is -2.912\n",
      "\n",
      "group interior_size\n",
      "group stack\n",
      "\tMean value of old_dict is -8.275\n",
      "\tMean value of fitted new_dict is -8.275\n",
      "\tMean value of centered new_dict is -8.275\n",
      "\n",
      "group terminal_penalty\n",
      "\tMean value of old_dict is 1.100\n",
      "\tMean value of fitted new_dict is -1.226\n",
      "\tMean value of centered new_dict is 1.100\n",
      "\n",
      "Centering new parameters...\n",
      "group bulge_size\n",
      "group hairpin_mismatch\n",
      "\tMean value of old_dict is -0.715\n",
      "\tMean value of fitted new_dict is -0.006\n",
      "\tMean value of centered new_dict is -0.715\n",
      "\n",
      "group hairpin_size\n",
      "group interior_mismatch\n",
      "\tMean value of old_dict is -0.640\n",
      "\tMean value of fitted new_dict is -0.708\n",
      "\tMean value of centered new_dict is -0.640\n",
      "\n",
      "group interior_size\n",
      "group stack\n",
      "\tMean value of old_dict is -1.406\n",
      "\tMean value of fitted new_dict is -1.406\n",
      "\tMean value of centered new_dict is -1.406\n",
      "\n",
      "group terminal_penalty\n",
      "\tMean value of old_dict is 0.025\n",
      "\tMean value of fitted new_dict is 0.150\n",
      "\tMean value of centered new_dict is 0.025\n",
      "\n"
     ]
    },
    {
     "data": {
      "text/html": [
       "Waiting for W&B process to finish... <strong style=\"color:green\">(success).</strong>"
      ],
      "text/plain": [
       "<IPython.core.display.HTML object>"
      ]
     },
     "metadata": {},
     "output_type": "display_data"
    },
    {
     "data": {
      "text/html": [
       "<style>\n",
       "    table.wandb td:nth-child(1) { padding: 0 10px; text-align: left ; width: auto;} td:nth-child(2) {text-align: left ; width: 100%}\n",
       "    .wandb-row { display: flex; flex-direction: row; flex-wrap: wrap; justify-content: flex-start; width: 100% }\n",
       "    .wandb-col { display: flex; flex-direction: column; flex-basis: 100%; flex: 1; padding: 10px; }\n",
       "    </style>\n",
       "<div class=\"wandb-row\"><div class=\"wandb-col\"><h3>Run history:</h3><br/><table class=\"wandb\"><tr><td>n_feat</td><td>▁</td></tr><tr><td>n_fixed_feat</td><td>▁</td></tr><tr><td>train_dG_mae</td><td>▁</td></tr><tr><td>train_dG_rsqr</td><td>▁</td></tr><tr><td>train_dH_mae</td><td>▁</td></tr><tr><td>train_dH_rsqr</td><td>▁</td></tr><tr><td>val_Tm_adjusted_mae-all</td><td>▁</td></tr><tr><td>val_Tm_adjusted_mae-arr</td><td>▁</td></tr><tr><td>val_Tm_adjusted_mae-lit_uv</td><td>▁</td></tr><tr><td>val_Tm_adjusted_mae-ov</td><td>▁</td></tr><tr><td>val_Tm_adjusted_rmse-all</td><td>▁</td></tr><tr><td>val_Tm_adjusted_rmse-arr</td><td>▁</td></tr><tr><td>val_Tm_adjusted_rmse-lit_uv</td><td>▁</td></tr><tr><td>val_Tm_adjusted_rmse-ov</td><td>▁</td></tr><tr><td>val_Tm_bias-all</td><td>▁</td></tr><tr><td>val_Tm_bias-arr</td><td>▁</td></tr><tr><td>val_Tm_bias-lit_uv</td><td>▁</td></tr><tr><td>val_Tm_bias-ov</td><td>▁</td></tr><tr><td>val_Tm_corr-all</td><td>▁</td></tr><tr><td>val_Tm_corr-arr</td><td>▁</td></tr><tr><td>val_Tm_corr-lit_uv</td><td>▁</td></tr><tr><td>val_Tm_corr-ov</td><td>▁</td></tr><tr><td>val_Tm_mae-all</td><td>▁</td></tr><tr><td>val_Tm_mae-arr</td><td>▁</td></tr><tr><td>val_Tm_mae-lit_uv</td><td>▁</td></tr><tr><td>val_Tm_mae-ov</td><td>▁</td></tr><tr><td>val_Tm_rmse-all</td><td>▁</td></tr><tr><td>val_Tm_rmse-arr</td><td>▁</td></tr><tr><td>val_Tm_rmse-lit_uv</td><td>▁</td></tr><tr><td>val_Tm_rmse-ov</td><td>▁</td></tr><tr><td>val_dG_adjusted_mae-arr</td><td>▁</td></tr><tr><td>val_dG_adjusted_rmse-arr</td><td>▁</td></tr><tr><td>val_dG_bias-arr</td><td>▁</td></tr><tr><td>val_dG_corr-arr</td><td>▁</td></tr><tr><td>val_dG_mae-arr</td><td>▁</td></tr><tr><td>val_dG_rmse-arr</td><td>▁</td></tr><tr><td>val_dH_adjusted_mae-arr</td><td>▁</td></tr><tr><td>val_dH_adjusted_rmse-arr</td><td>▁</td></tr><tr><td>val_dH_bias-arr</td><td>▁</td></tr><tr><td>val_dH_corr-arr</td><td>▁</td></tr><tr><td>val_dH_mae-arr</td><td>▁</td></tr><tr><td>val_dH_rmse-arr</td><td>▁</td></tr></table><br/></div><div class=\"wandb-col\"><h3>Run summary:</h3><br/><table class=\"wandb\"><tr><td>n_feat</td><td>178</td></tr><tr><td>n_fixed_feat</td><td>26</td></tr><tr><td>param_set_file</td><td>./models/fine-dream-...</td></tr><tr><td>train_dG_mae</td><td>0.61028</td></tr><tr><td>train_dG_rsqr</td><td>0.60435</td></tr><tr><td>train_dH_mae</td><td>6.2497</td></tr><tr><td>train_dH_rsqr</td><td>0.43033</td></tr><tr><td>val_Tm_adjusted_mae-all</td><td>16.72361</td></tr><tr><td>val_Tm_adjusted_mae-arr</td><td>23.43088</td></tr><tr><td>val_Tm_adjusted_mae-lit_uv</td><td>2.17537</td></tr><tr><td>val_Tm_adjusted_mae-ov</td><td>1.73121</td></tr><tr><td>val_Tm_adjusted_rmse-all</td><td>25.68218</td></tr><tr><td>val_Tm_adjusted_rmse-arr</td><td>32.86392</td></tr><tr><td>val_Tm_adjusted_rmse-lit_uv</td><td>2.69207</td></tr><tr><td>val_Tm_adjusted_rmse-ov</td><td>2.27246</td></tr><tr><td>val_Tm_bias-all</td><td>16.37152</td></tr><tr><td>val_Tm_bias-arr</td><td>28.70206</td></tr><tr><td>val_Tm_bias-lit_uv</td><td>6.9312</td></tr><tr><td>val_Tm_bias-ov</td><td>4.81577</td></tr><tr><td>val_Tm_corr-all</td><td>0.31305</td></tr><tr><td>val_Tm_corr-arr</td><td>0.42264</td></tr><tr><td>val_Tm_corr-lit_uv</td><td>0.98122</td></tr><tr><td>val_Tm_corr-ov</td><td>0.86289</td></tr><tr><td>val_Tm_mae-all</td><td>17.47327</td></tr><tr><td>val_Tm_mae-arr</td><td>30.96747</td></tr><tr><td>val_Tm_mae-lit_uv</td><td>6.9312</td></tr><tr><td>val_Tm_mae-ov</td><td>4.85342</td></tr><tr><td>val_Tm_rmse-all</td><td>30.45655</td></tr><tr><td>val_Tm_rmse-arr</td><td>43.63308</td></tr><tr><td>val_Tm_rmse-lit_uv</td><td>7.43564</td></tr><tr><td>val_Tm_rmse-ov</td><td>5.32501</td></tr><tr><td>val_dG_adjusted_mae-arr</td><td>0.58773</td></tr><tr><td>val_dG_adjusted_rmse-arr</td><td>0.77332</td></tr><tr><td>val_dG_bias-arr</td><td>-0.93296</td></tr><tr><td>val_dG_corr-arr</td><td>0.8004</td></tr><tr><td>val_dG_mae-arr</td><td>1.01952</td></tr><tr><td>val_dG_rmse-arr</td><td>1.21179</td></tr><tr><td>val_dH_adjusted_mae-arr</td><td>6.55787</td></tr><tr><td>val_dH_adjusted_rmse-arr</td><td>8.38244</td></tr><tr><td>val_dH_bias-arr</td><td>5.11144</td></tr><tr><td>val_dH_corr-arr</td><td>0.69345</td></tr><tr><td>val_dH_mae-arr</td><td>7.62138</td></tr><tr><td>val_dH_rmse-arr</td><td>9.81795</td></tr></table><br/></div></div>"
      ],
      "text/plain": [
       "<IPython.core.display.HTML object>"
      ]
     },
     "metadata": {},
     "output_type": "display_data"
    },
    {
     "data": {
      "text/html": [
       " View run <strong style=\"color:#cdcd00\">fine-dream-92</strong> at: <a href='https://wandb.ai/keyuxi/NN/runs/roj7xjia' target=\"_blank\">https://wandb.ai/keyuxi/NN/runs/roj7xjia</a><br/> View job at <a href='https://wandb.ai/keyuxi/NN/jobs/QXJ0aWZhY3RDb2xsZWN0aW9uOjExMTcyMjg1NQ==/version_details/v5' target=\"_blank\">https://wandb.ai/keyuxi/NN/jobs/QXJ0aWZhY3RDb2xsZWN0aW9uOjExMTcyMjg1NQ==/version_details/v5</a><br/>Synced 6 W&B file(s), 0 media file(s), 0 artifact file(s) and 0 other file(s)"
      ],
      "text/plain": [
       "<IPython.core.display.HTML object>"
      ]
     },
     "metadata": {},
     "output_type": "display_data"
    },
    {
     "data": {
      "text/html": [
       "Find logs at: <code>./wandb/run-20231202_132930-roj7xjia/logs</code>"
      ],
      "text/plain": [
       "<IPython.core.display.HTML object>"
      ]
     },
     "metadata": {},
     "output_type": "display_data"
    },
    {
     "data": {
      "text/html": [
       "wandb version 0.16.0 is available!  To upgrade, please run:\n",
       " $ pip install wandb --upgrade"
      ],
      "text/plain": [
       "<IPython.core.display.HTML object>"
      ]
     },
     "metadata": {},
     "output_type": "display_data"
    },
    {
     "data": {
      "text/html": [
       "Tracking run with wandb version 0.15.12"
      ],
      "text/plain": [
       "<IPython.core.display.HTML object>"
      ]
     },
     "metadata": {},
     "output_type": "display_data"
    },
    {
     "data": {
      "text/html": [
       "Run data is saved locally in <code>/Users/yuxi/workspace/nnn_paper/wandb/run-20231202_133826-79emcnhe</code>"
      ],
      "text/plain": [
       "<IPython.core.display.HTML object>"
      ]
     },
     "metadata": {},
     "output_type": "display_data"
    },
    {
     "data": {
      "text/html": [
       "Syncing run <strong><a href='https://wandb.ai/keyuxi/NN/runs/79emcnhe' target=\"_blank\">giddy-monkey-93</a></strong> to <a href='https://wandb.ai/keyuxi/NN' target=\"_blank\">Weights & Biases</a> (<a href='https://wandb.me/run' target=\"_blank\">docs</a>)<br/>"
      ],
      "text/plain": [
       "<IPython.core.display.HTML object>"
      ]
     },
     "metadata": {},
     "output_type": "display_data"
    },
    {
     "data": {
      "text/html": [
       " View project at <a href='https://wandb.ai/keyuxi/NN' target=\"_blank\">https://wandb.ai/keyuxi/NN</a>"
      ],
      "text/plain": [
       "<IPython.core.display.HTML object>"
      ]
     },
     "metadata": {},
     "output_type": "display_data"
    },
    {
     "data": {
      "text/html": [
       " View run at <a href='https://wandb.ai/keyuxi/NN/runs/79emcnhe' target=\"_blank\">https://wandb.ai/keyuxi/NN/runs/79emcnhe</a>"
      ],
      "text/plain": [
       "<IPython.core.display.HTML object>"
      ]
     },
     "metadata": {},
     "output_type": "display_data"
    },
    {
     "name": "stdout",
     "output_type": "stream",
     "text": [
      "feats (27732, 178) Index(['bulge_size#1', 'bulge_size#2', 'hairpin_loop_mid#A'], dtype='object')\n",
      "fixed_feature_names: ['bulge_size#1', 'bulge_size#2', 'hairpin_size#3', 'hairpin_size#4', 'hairpin_size#11', 'hairpin_size#14', 'hairpin_size#17', 'hairpin_size#20', 'interior_size#2', 'interior_size#4', 'stack#AATT', 'stack#ACGT', 'stack#AGCT', 'stack#ATAT', 'stack#CATG', 'stack#CCGG', 'stack#CGCG', 'stack#CTAG', 'stack#GATC', 'stack#GCGC', 'stack#GGCC', 'stack#GTAC', 'stack#TATA', 'stack#TCGA', 'stack#TGCA', 'stack#TTAA']\n",
      "                           dH\n",
      "bulge_size#1              0.0\n",
      "bulge_size#2              0.0\n",
      "bulge_size#3              0.0\n",
      "bulge_size#4              0.0\n",
      "bulge_size#5              0.0\n",
      "...                       ...\n",
      "hairpin_tetraloop#CCTTGG  0.0\n",
      "hairpin_tetraloop#GCTTGC  0.0\n",
      "hairpin_tetraloop#GCTTGT  0.0\n",
      "hairpin_tetraloop#TCTTGA  0.0\n",
      "hairpin_tetraloop#TCTTGG  0.0\n",
      "\n",
      "[352 rows x 1 columns]\n",
      "['bulge_size#1', 'bulge_size#2', 'hairpin_size#11', 'hairpin_size#14', 'hairpin_size#17', 'hairpin_size#20', 'hairpin_size#3', 'hairpin_size#4', 'interior_size#2', 'interior_size#4', 'stack#AATT', 'stack#ACGT', 'stack#AGCT', 'stack#ATAT', 'stack#CATG', 'stack#CCGG', 'stack#CGCG', 'stack#CTAG', 'stack#GATC', 'stack#GCGC', 'stack#GGCC', 'stack#GTAC', 'stack#TATA', 'stack#TCGA', 'stack#TGCA', 'stack#TTAA']\n",
      "                           dG\n",
      "bulge_size#1              4.0\n",
      "bulge_size#2              2.9\n",
      "bulge_size#3              3.1\n",
      "bulge_size#4              3.2\n",
      "bulge_size#5              3.3\n",
      "...                       ...\n",
      "hairpin_tetraloop#CCTTGG -0.8\n",
      "hairpin_tetraloop#GCTTGC -0.8\n",
      "hairpin_tetraloop#GCTTGT -0.5\n",
      "hairpin_tetraloop#TCTTGA -0.8\n",
      "hairpin_tetraloop#TCTTGG -0.5\n",
      "\n",
      "[352 rows x 1 columns]\n",
      "['bulge_size#1', 'bulge_size#2', 'hairpin_size#11', 'hairpin_size#14', 'hairpin_size#17', 'hairpin_size#20', 'hairpin_size#3', 'hairpin_size#4', 'interior_size#2', 'interior_size#4', 'stack#AATT', 'stack#ACGT', 'stack#AGCT', 'stack#ATAT', 'stack#CATG', 'stack#CCGG', 'stack#CGCG', 'stack#CTAG', 'stack#GATC', 'stack#GCGC', 'stack#GGCC', 'stack#GTAC', 'stack#TATA', 'stack#TCGA', 'stack#TGCA', 'stack#TTAA']\n",
      "Warning: Rank of matrix A_unknown, 151, is smaller than the number of features 152!\n",
      "Centering new parameters...\n",
      "group bulge_size\n",
      "group hairpin_mismatch\n",
      "\tMean value of old_dict is -3.684\n",
      "\tMean value of fitted new_dict is -12.304\n",
      "\tMean value of centered new_dict is -3.684\n",
      "\n",
      "group hairpin_size\n",
      "group interior_mismatch\n",
      "\tMean value of old_dict is -2.913\n",
      "\tMean value of fitted new_dict is -5.285\n",
      "\tMean value of centered new_dict is -2.912\n",
      "\n",
      "group interior_size\n",
      "group stack\n",
      "\tMean value of old_dict is -8.275\n",
      "\tMean value of fitted new_dict is -8.275\n",
      "\tMean value of centered new_dict is -8.275\n",
      "\n",
      "group terminal_penalty\n",
      "\tMean value of old_dict is 1.100\n",
      "\tMean value of fitted new_dict is -0.598\n",
      "\tMean value of centered new_dict is 1.100\n",
      "\n",
      "Centering new parameters...\n",
      "group bulge_size\n",
      "group hairpin_mismatch\n",
      "\tMean value of old_dict is -0.715\n",
      "\tMean value of fitted new_dict is -0.003\n",
      "\tMean value of centered new_dict is -0.715\n",
      "\n",
      "group hairpin_size\n",
      "group interior_mismatch\n",
      "\tMean value of old_dict is -0.640\n",
      "\tMean value of fitted new_dict is -0.740\n",
      "\tMean value of centered new_dict is -0.640\n",
      "\n",
      "group interior_size\n",
      "group stack\n",
      "\tMean value of old_dict is -1.406\n",
      "\tMean value of fitted new_dict is -1.406\n",
      "\tMean value of centered new_dict is -1.406\n",
      "\n",
      "group terminal_penalty\n",
      "\tMean value of old_dict is 0.025\n",
      "\tMean value of fitted new_dict is 0.158\n",
      "\tMean value of centered new_dict is 0.025\n",
      "\n"
     ]
    },
    {
     "data": {
      "text/html": [
       "Waiting for W&B process to finish... <strong style=\"color:green\">(success).</strong>"
      ],
      "text/plain": [
       "<IPython.core.display.HTML object>"
      ]
     },
     "metadata": {},
     "output_type": "display_data"
    },
    {
     "data": {
      "text/html": [
       "<style>\n",
       "    table.wandb td:nth-child(1) { padding: 0 10px; text-align: left ; width: auto;} td:nth-child(2) {text-align: left ; width: 100%}\n",
       "    .wandb-row { display: flex; flex-direction: row; flex-wrap: wrap; justify-content: flex-start; width: 100% }\n",
       "    .wandb-col { display: flex; flex-direction: column; flex-basis: 100%; flex: 1; padding: 10px; }\n",
       "    </style>\n",
       "<div class=\"wandb-row\"><div class=\"wandb-col\"><h3>Run history:</h3><br/><table class=\"wandb\"><tr><td>n_feat</td><td>▁</td></tr><tr><td>n_fixed_feat</td><td>▁</td></tr><tr><td>train_dG_mae</td><td>▁</td></tr><tr><td>train_dG_rsqr</td><td>▁</td></tr><tr><td>train_dH_mae</td><td>▁</td></tr><tr><td>train_dH_rsqr</td><td>▁</td></tr><tr><td>val_Tm_adjusted_mae-all</td><td>▁</td></tr><tr><td>val_Tm_adjusted_mae-arr</td><td>▁</td></tr><tr><td>val_Tm_adjusted_mae-lit_uv</td><td>▁</td></tr><tr><td>val_Tm_adjusted_mae-ov</td><td>▁</td></tr><tr><td>val_Tm_adjusted_rmse-all</td><td>▁</td></tr><tr><td>val_Tm_adjusted_rmse-arr</td><td>▁</td></tr><tr><td>val_Tm_adjusted_rmse-lit_uv</td><td>▁</td></tr><tr><td>val_Tm_adjusted_rmse-ov</td><td>▁</td></tr><tr><td>val_Tm_bias-all</td><td>▁</td></tr><tr><td>val_Tm_bias-arr</td><td>▁</td></tr><tr><td>val_Tm_bias-lit_uv</td><td>▁</td></tr><tr><td>val_Tm_bias-ov</td><td>▁</td></tr><tr><td>val_Tm_corr-all</td><td>▁</td></tr><tr><td>val_Tm_corr-arr</td><td>▁</td></tr><tr><td>val_Tm_corr-lit_uv</td><td>▁</td></tr><tr><td>val_Tm_corr-ov</td><td>▁</td></tr><tr><td>val_Tm_mae-all</td><td>▁</td></tr><tr><td>val_Tm_mae-arr</td><td>▁</td></tr><tr><td>val_Tm_mae-lit_uv</td><td>▁</td></tr><tr><td>val_Tm_mae-ov</td><td>▁</td></tr><tr><td>val_Tm_rmse-all</td><td>▁</td></tr><tr><td>val_Tm_rmse-arr</td><td>▁</td></tr><tr><td>val_Tm_rmse-lit_uv</td><td>▁</td></tr><tr><td>val_Tm_rmse-ov</td><td>▁</td></tr><tr><td>val_dG_adjusted_mae-arr</td><td>▁</td></tr><tr><td>val_dG_adjusted_rmse-arr</td><td>▁</td></tr><tr><td>val_dG_bias-arr</td><td>▁</td></tr><tr><td>val_dG_corr-arr</td><td>▁</td></tr><tr><td>val_dG_mae-arr</td><td>▁</td></tr><tr><td>val_dG_rmse-arr</td><td>▁</td></tr><tr><td>val_dH_adjusted_mae-arr</td><td>▁</td></tr><tr><td>val_dH_adjusted_rmse-arr</td><td>▁</td></tr><tr><td>val_dH_bias-arr</td><td>▁</td></tr><tr><td>val_dH_corr-arr</td><td>▁</td></tr><tr><td>val_dH_mae-arr</td><td>▁</td></tr><tr><td>val_dH_rmse-arr</td><td>▁</td></tr></table><br/></div><div class=\"wandb-col\"><h3>Run summary:</h3><br/><table class=\"wandb\"><tr><td>n_feat</td><td>178</td></tr><tr><td>n_fixed_feat</td><td>26</td></tr><tr><td>param_set_file</td><td>./models/giddy-monke...</td></tr><tr><td>train_dG_mae</td><td>0.61478</td></tr><tr><td>train_dG_rsqr</td><td>0.61283</td></tr><tr><td>train_dH_mae</td><td>6.17829</td></tr><tr><td>train_dH_rsqr</td><td>0.44881</td></tr><tr><td>val_Tm_adjusted_mae-all</td><td>45.09545</td></tr><tr><td>val_Tm_adjusted_mae-arr</td><td>96.48488</td></tr><tr><td>val_Tm_adjusted_mae-lit_uv</td><td>2.11822</td></tr><tr><td>val_Tm_adjusted_mae-ov</td><td>1.81493</td></tr><tr><td>val_Tm_adjusted_rmse-all</td><td>87.49842</td></tr><tr><td>val_Tm_adjusted_rmse-arr</td><td>129.49198</td></tr><tr><td>val_Tm_adjusted_rmse-lit_uv</td><td>2.61291</td></tr><tr><td>val_Tm_adjusted_rmse-ov</td><td>2.36302</td></tr><tr><td>val_Tm_bias-all</td><td>2.13126</td></tr><tr><td>val_Tm_bias-arr</td><td>-1.41904</td></tr><tr><td>val_Tm_bias-lit_uv</td><td>6.91674</td></tr><tr><td>val_Tm_bias-ov</td><td>4.87704</td></tr><tr><td>val_Tm_corr-all</td><td>0.2654</td></tr><tr><td>val_Tm_corr-arr</td><td>0.27736</td></tr><tr><td>val_Tm_corr-lit_uv</td><td>0.98181</td></tr><tr><td>val_Tm_corr-ov</td><td>0.85228</td></tr><tr><td>val_Tm_mae-all</td><td>46.50572</td></tr><tr><td>val_Tm_mae-arr</td><td>95.91596</td></tr><tr><td>val_Tm_mae-lit_uv</td><td>6.91674</td></tr><tr><td>val_Tm_mae-ov</td><td>4.90621</td></tr><tr><td>val_Tm_rmse-all</td><td>87.52437</td></tr><tr><td>val_Tm_rmse-arr</td><td>129.49975</td></tr><tr><td>val_Tm_rmse-lit_uv</td><td>7.39382</td></tr><tr><td>val_Tm_rmse-ov</td><td>5.41935</td></tr><tr><td>val_dG_adjusted_mae-arr</td><td>0.57452</td></tr><tr><td>val_dG_adjusted_rmse-arr</td><td>0.76635</td></tr><tr><td>val_dG_bias-arr</td><td>-1.16149</td></tr><tr><td>val_dG_corr-arr</td><td>0.80434</td></tr><tr><td>val_dG_mae-arr</td><td>1.21921</td></tr><tr><td>val_dG_rmse-arr</td><td>1.39152</td></tr><tr><td>val_dH_adjusted_mae-arr</td><td>6.28291</td></tr><tr><td>val_dH_adjusted_rmse-arr</td><td>7.97455</td></tr><tr><td>val_dH_bias-arr</td><td>17.04904</td></tr><tr><td>val_dH_corr-arr</td><td>0.71042</td></tr><tr><td>val_dH_mae-arr</td><td>17.105</td></tr><tr><td>val_dH_rmse-arr</td><td>18.82188</td></tr></table><br/></div></div>"
      ],
      "text/plain": [
       "<IPython.core.display.HTML object>"
      ]
     },
     "metadata": {},
     "output_type": "display_data"
    },
    {
     "data": {
      "text/html": [
       " View run <strong style=\"color:#cdcd00\">giddy-monkey-93</strong> at: <a href='https://wandb.ai/keyuxi/NN/runs/79emcnhe' target=\"_blank\">https://wandb.ai/keyuxi/NN/runs/79emcnhe</a><br/> View job at <a href='https://wandb.ai/keyuxi/NN/jobs/QXJ0aWZhY3RDb2xsZWN0aW9uOjExMTcyMjg1NQ==/version_details/v5' target=\"_blank\">https://wandb.ai/keyuxi/NN/jobs/QXJ0aWZhY3RDb2xsZWN0aW9uOjExMTcyMjg1NQ==/version_details/v5</a><br/>Synced 6 W&B file(s), 0 media file(s), 0 artifact file(s) and 0 other file(s)"
      ],
      "text/plain": [
       "<IPython.core.display.HTML object>"
      ]
     },
     "metadata": {},
     "output_type": "display_data"
    },
    {
     "data": {
      "text/html": [
       "Find logs at: <code>./wandb/run-20231202_133826-79emcnhe/logs</code>"
      ],
      "text/plain": [
       "<IPython.core.display.HTML object>"
      ]
     },
     "metadata": {},
     "output_type": "display_data"
    },
    {
     "data": {
      "text/html": [
       "wandb version 0.16.0 is available!  To upgrade, please run:\n",
       " $ pip install wandb --upgrade"
      ],
      "text/plain": [
       "<IPython.core.display.HTML object>"
      ]
     },
     "metadata": {},
     "output_type": "display_data"
    },
    {
     "data": {
      "text/html": [
       "Tracking run with wandb version 0.15.12"
      ],
      "text/plain": [
       "<IPython.core.display.HTML object>"
      ]
     },
     "metadata": {},
     "output_type": "display_data"
    },
    {
     "data": {
      "text/html": [
       "Run data is saved locally in <code>/Users/yuxi/workspace/nnn_paper/wandb/run-20231202_134718-c7f40ctz</code>"
      ],
      "text/plain": [
       "<IPython.core.display.HTML object>"
      ]
     },
     "metadata": {},
     "output_type": "display_data"
    },
    {
     "data": {
      "text/html": [
       "Syncing run <strong><a href='https://wandb.ai/keyuxi/NN/runs/c7f40ctz' target=\"_blank\">glowing-capybara-114</a></strong> to <a href='https://wandb.ai/keyuxi/NN' target=\"_blank\">Weights & Biases</a> (<a href='https://wandb.me/run' target=\"_blank\">docs</a>)<br/>"
      ],
      "text/plain": [
       "<IPython.core.display.HTML object>"
      ]
     },
     "metadata": {},
     "output_type": "display_data"
    },
    {
     "data": {
      "text/html": [
       " View project at <a href='https://wandb.ai/keyuxi/NN' target=\"_blank\">https://wandb.ai/keyuxi/NN</a>"
      ],
      "text/plain": [
       "<IPython.core.display.HTML object>"
      ]
     },
     "metadata": {},
     "output_type": "display_data"
    },
    {
     "data": {
      "text/html": [
       " View run at <a href='https://wandb.ai/keyuxi/NN/runs/c7f40ctz' target=\"_blank\">https://wandb.ai/keyuxi/NN/runs/c7f40ctz</a>"
      ],
      "text/plain": [
       "<IPython.core.display.HTML object>"
      ]
     },
     "metadata": {},
     "output_type": "display_data"
    },
    {
     "name": "stdout",
     "output_type": "stream",
     "text": [
      "feats (27732, 178) Index(['bulge_size#1', 'bulge_size#2', 'hairpin_loop_mid#A'], dtype='object')\n",
      "fixed_feature_names: ['bulge_size#1', 'bulge_size#2', 'hairpin_size#3', 'hairpin_size#4', 'hairpin_size#11', 'hairpin_size#14', 'hairpin_size#17', 'hairpin_size#20', 'interior_size#2', 'interior_size#4', 'stack#AATT', 'stack#ACGT', 'stack#AGCT', 'stack#ATAT', 'stack#CATG', 'stack#CCGG', 'stack#CGCG', 'stack#CTAG', 'stack#GATC', 'stack#GCGC', 'stack#GGCC', 'stack#GTAC', 'stack#TATA', 'stack#TCGA', 'stack#TGCA', 'stack#TTAA']\n",
      "                           dH\n",
      "bulge_size#1              0.0\n",
      "bulge_size#2              0.0\n",
      "bulge_size#3              0.0\n",
      "bulge_size#4              0.0\n",
      "bulge_size#5              0.0\n",
      "...                       ...\n",
      "hairpin_tetraloop#CCTTGG  0.0\n",
      "hairpin_tetraloop#GCTTGC  0.0\n",
      "hairpin_tetraloop#GCTTGT  0.0\n",
      "hairpin_tetraloop#TCTTGA  0.0\n",
      "hairpin_tetraloop#TCTTGG  0.0\n",
      "\n",
      "[352 rows x 1 columns]\n",
      "['bulge_size#1', 'bulge_size#2', 'hairpin_size#11', 'hairpin_size#14', 'hairpin_size#17', 'hairpin_size#20', 'hairpin_size#3', 'hairpin_size#4', 'interior_size#2', 'interior_size#4', 'stack#AATT', 'stack#ACGT', 'stack#AGCT', 'stack#ATAT', 'stack#CATG', 'stack#CCGG', 'stack#CGCG', 'stack#CTAG', 'stack#GATC', 'stack#GCGC', 'stack#GGCC', 'stack#GTAC', 'stack#TATA', 'stack#TCGA', 'stack#TGCA', 'stack#TTAA']\n",
      "                           dG\n",
      "bulge_size#1              4.0\n",
      "bulge_size#2              2.9\n",
      "bulge_size#3              3.1\n",
      "bulge_size#4              3.2\n",
      "bulge_size#5              3.3\n",
      "...                       ...\n",
      "hairpin_tetraloop#CCTTGG -0.8\n",
      "hairpin_tetraloop#GCTTGC -0.8\n",
      "hairpin_tetraloop#GCTTGT -0.5\n",
      "hairpin_tetraloop#TCTTGA -0.8\n",
      "hairpin_tetraloop#TCTTGG -0.5\n",
      "\n",
      "[352 rows x 1 columns]\n",
      "['bulge_size#1', 'bulge_size#2', 'hairpin_size#11', 'hairpin_size#14', 'hairpin_size#17', 'hairpin_size#20', 'hairpin_size#3', 'hairpin_size#4', 'interior_size#2', 'interior_size#4', 'stack#AATT', 'stack#ACGT', 'stack#AGCT', 'stack#ATAT', 'stack#CATG', 'stack#CCGG', 'stack#CGCG', 'stack#CTAG', 'stack#GATC', 'stack#GCGC', 'stack#GGCC', 'stack#GTAC', 'stack#TATA', 'stack#TCGA', 'stack#TGCA', 'stack#TTAA']\n",
      "Centering new parameters...\n",
      "group bulge_size\n",
      "group hairpin_mismatch\n",
      "\tMean value of old_dict is -3.684\n",
      "\tMean value of fitted new_dict is -5.907\n",
      "\tMean value of centered new_dict is -3.684\n",
      "\n",
      "group hairpin_size\n",
      "group interior_mismatch\n",
      "\tMean value of old_dict is -2.913\n",
      "\tMean value of fitted new_dict is -5.344\n",
      "\tMean value of centered new_dict is -2.912\n",
      "\n",
      "group interior_size\n",
      "group stack\n",
      "\tMean value of old_dict is -8.275\n",
      "\tMean value of fitted new_dict is -8.275\n",
      "\tMean value of centered new_dict is -8.275\n",
      "\n",
      "group terminal_penalty\n",
      "\tMean value of old_dict is 1.100\n",
      "\tMean value of fitted new_dict is -0.796\n",
      "\tMean value of centered new_dict is 1.100\n",
      "\n",
      "Centering new parameters...\n",
      "group bulge_size\n",
      "group hairpin_mismatch\n",
      "\tMean value of old_dict is -0.715\n",
      "\tMean value of fitted new_dict is -4.193\n",
      "\tMean value of centered new_dict is -0.715\n",
      "\n",
      "group hairpin_size\n",
      "group interior_mismatch\n",
      "\tMean value of old_dict is -0.640\n",
      "\tMean value of fitted new_dict is -0.714\n",
      "\tMean value of centered new_dict is -0.640\n",
      "\n",
      "group interior_size\n",
      "group stack\n",
      "\tMean value of old_dict is -1.406\n",
      "\tMean value of fitted new_dict is -1.406\n",
      "\tMean value of centered new_dict is -1.406\n",
      "\n",
      "group terminal_penalty\n",
      "\tMean value of old_dict is 0.025\n",
      "\tMean value of fitted new_dict is 0.179\n",
      "\tMean value of centered new_dict is 0.025\n",
      "\n"
     ]
    },
    {
     "data": {
      "text/html": [
       "Waiting for W&B process to finish... <strong style=\"color:green\">(success).</strong>"
      ],
      "text/plain": [
       "<IPython.core.display.HTML object>"
      ]
     },
     "metadata": {},
     "output_type": "display_data"
    },
    {
     "data": {
      "text/html": [
       "<style>\n",
       "    table.wandb td:nth-child(1) { padding: 0 10px; text-align: left ; width: auto;} td:nth-child(2) {text-align: left ; width: 100%}\n",
       "    .wandb-row { display: flex; flex-direction: row; flex-wrap: wrap; justify-content: flex-start; width: 100% }\n",
       "    .wandb-col { display: flex; flex-direction: column; flex-basis: 100%; flex: 1; padding: 10px; }\n",
       "    </style>\n",
       "<div class=\"wandb-row\"><div class=\"wandb-col\"><h3>Run history:</h3><br/><table class=\"wandb\"><tr><td>n_feat</td><td>▁</td></tr><tr><td>n_fixed_feat</td><td>▁</td></tr><tr><td>train_dG_mae</td><td>▁</td></tr><tr><td>train_dG_rsqr</td><td>▁</td></tr><tr><td>train_dH_mae</td><td>▁</td></tr><tr><td>train_dH_rsqr</td><td>▁</td></tr><tr><td>val_Tm_adjusted_mae-all</td><td>▁</td></tr><tr><td>val_Tm_adjusted_mae-arr</td><td>▁</td></tr><tr><td>val_Tm_adjusted_mae-lit_uv</td><td>▁</td></tr><tr><td>val_Tm_adjusted_mae-ov</td><td>▁</td></tr><tr><td>val_Tm_adjusted_rmse-all</td><td>▁</td></tr><tr><td>val_Tm_adjusted_rmse-arr</td><td>▁</td></tr><tr><td>val_Tm_adjusted_rmse-lit_uv</td><td>▁</td></tr><tr><td>val_Tm_adjusted_rmse-ov</td><td>▁</td></tr><tr><td>val_Tm_bias-all</td><td>▁</td></tr><tr><td>val_Tm_bias-arr</td><td>▁</td></tr><tr><td>val_Tm_bias-lit_uv</td><td>▁</td></tr><tr><td>val_Tm_bias-ov</td><td>▁</td></tr><tr><td>val_Tm_corr-all</td><td>▁</td></tr><tr><td>val_Tm_corr-arr</td><td>▁</td></tr><tr><td>val_Tm_corr-lit_uv</td><td>▁</td></tr><tr><td>val_Tm_corr-ov</td><td>▁</td></tr><tr><td>val_Tm_mae-all</td><td>▁</td></tr><tr><td>val_Tm_mae-arr</td><td>▁</td></tr><tr><td>val_Tm_mae-lit_uv</td><td>▁</td></tr><tr><td>val_Tm_mae-ov</td><td>▁</td></tr><tr><td>val_Tm_rmse-all</td><td>▁</td></tr><tr><td>val_Tm_rmse-arr</td><td>▁</td></tr><tr><td>val_Tm_rmse-lit_uv</td><td>▁</td></tr><tr><td>val_Tm_rmse-ov</td><td>▁</td></tr><tr><td>val_dG_adjusted_mae-arr</td><td>▁</td></tr><tr><td>val_dG_adjusted_rmse-arr</td><td>▁</td></tr><tr><td>val_dG_bias-arr</td><td>▁</td></tr><tr><td>val_dG_corr-arr</td><td>▁</td></tr><tr><td>val_dG_mae-arr</td><td>▁</td></tr><tr><td>val_dG_rmse-arr</td><td>▁</td></tr><tr><td>val_dH_adjusted_mae-arr</td><td>▁</td></tr><tr><td>val_dH_adjusted_rmse-arr</td><td>▁</td></tr><tr><td>val_dH_bias-arr</td><td>▁</td></tr><tr><td>val_dH_corr-arr</td><td>▁</td></tr><tr><td>val_dH_mae-arr</td><td>▁</td></tr><tr><td>val_dH_rmse-arr</td><td>▁</td></tr></table><br/></div><div class=\"wandb-col\"><h3>Run summary:</h3><br/><table class=\"wandb\"><tr><td>n_feat</td><td>178</td></tr><tr><td>n_fixed_feat</td><td>26</td></tr><tr><td>param_set_file</td><td>./models/glowing-cap...</td></tr><tr><td>train_dG_mae</td><td>0.62435</td></tr><tr><td>train_dG_rsqr</td><td>0.60464</td></tr><tr><td>train_dH_mae</td><td>6.39664</td></tr><tr><td>train_dH_rsqr</td><td>0.41905</td></tr><tr><td>val_Tm_adjusted_mae-all</td><td>42.20823</td></tr><tr><td>val_Tm_adjusted_mae-arr</td><td>46.9475</td></tr><tr><td>val_Tm_adjusted_mae-lit_uv</td><td>2.12597</td></tr><tr><td>val_Tm_adjusted_mae-ov</td><td>1.73118</td></tr><tr><td>val_Tm_adjusted_rmse-all</td><td>58.78882</td></tr><tr><td>val_Tm_adjusted_rmse-arr</td><td>62.10235</td></tr><tr><td>val_Tm_adjusted_rmse-lit_uv</td><td>2.62855</td></tr><tr><td>val_Tm_adjusted_rmse-ov</td><td>2.25631</td></tr><tr><td>val_Tm_bias-all</td><td>-33.44246</td></tr><tr><td>val_Tm_bias-arr</td><td>-75.44642</td></tr><tr><td>val_Tm_bias-lit_uv</td><td>6.91515</td></tr><tr><td>val_Tm_bias-ov</td><td>4.68249</td></tr><tr><td>val_Tm_corr-all</td><td>0.57284</td></tr><tr><td>val_Tm_corr-arr</td><td>0.57201</td></tr><tr><td>val_Tm_corr-lit_uv</td><td>0.98192</td></tr><tr><td>val_Tm_corr-ov</td><td>0.86401</td></tr><tr><td>val_Tm_mae-all</td><td>39.06107</td></tr><tr><td>val_Tm_mae-arr</td><td>76.38319</td></tr><tr><td>val_Tm_mae-lit_uv</td><td>6.91515</td></tr><tr><td>val_Tm_mae-ov</td><td>4.7201</td></tr><tr><td>val_Tm_rmse-all</td><td>67.63522</td></tr><tr><td>val_Tm_rmse-arr</td><td>97.71829</td></tr><tr><td>val_Tm_rmse-lit_uv</td><td>7.39787</td></tr><tr><td>val_Tm_rmse-ov</td><td>5.19775</td></tr><tr><td>val_dG_adjusted_mae-arr</td><td>0.56553</td></tr><tr><td>val_dG_adjusted_rmse-arr</td><td>0.75418</td></tr><tr><td>val_dG_bias-arr</td><td>3.10385</td></tr><tr><td>val_dG_corr-arr</td><td>0.81181</td></tr><tr><td>val_dG_mae-arr</td><td>3.10403</td></tr><tr><td>val_dG_rmse-arr</td><td>3.19417</td></tr><tr><td>val_dH_adjusted_mae-arr</td><td>6.32659</td></tr><tr><td>val_dH_adjusted_rmse-arr</td><td>8.09115</td></tr><tr><td>val_dH_bias-arr</td><td>11.77707</td></tr><tr><td>val_dH_corr-arr</td><td>0.70588</td></tr><tr><td>val_dH_mae-arr</td><td>12.13929</td></tr><tr><td>val_dH_rmse-arr</td><td>14.28867</td></tr></table><br/></div></div>"
      ],
      "text/plain": [
       "<IPython.core.display.HTML object>"
      ]
     },
     "metadata": {},
     "output_type": "display_data"
    },
    {
     "data": {
      "text/html": [
       " View run <strong style=\"color:#cdcd00\">glowing-capybara-114</strong> at: <a href='https://wandb.ai/keyuxi/NN/runs/c7f40ctz' target=\"_blank\">https://wandb.ai/keyuxi/NN/runs/c7f40ctz</a><br/> View job at <a href='https://wandb.ai/keyuxi/NN/jobs/QXJ0aWZhY3RDb2xsZWN0aW9uOjExMTcyMjg1NQ==/version_details/v5' target=\"_blank\">https://wandb.ai/keyuxi/NN/jobs/QXJ0aWZhY3RDb2xsZWN0aW9uOjExMTcyMjg1NQ==/version_details/v5</a><br/>Synced 6 W&B file(s), 0 media file(s), 0 artifact file(s) and 0 other file(s)"
      ],
      "text/plain": [
       "<IPython.core.display.HTML object>"
      ]
     },
     "metadata": {},
     "output_type": "display_data"
    },
    {
     "data": {
      "text/html": [
       "Find logs at: <code>./wandb/run-20231202_134718-c7f40ctz/logs</code>"
      ],
      "text/plain": [
       "<IPython.core.display.HTML object>"
      ]
     },
     "metadata": {},
     "output_type": "display_data"
    },
    {
     "data": {
      "text/html": [
       "wandb version 0.16.0 is available!  To upgrade, please run:\n",
       " $ pip install wandb --upgrade"
      ],
      "text/plain": [
       "<IPython.core.display.HTML object>"
      ]
     },
     "metadata": {},
     "output_type": "display_data"
    },
    {
     "data": {
      "text/html": [
       "Tracking run with wandb version 0.15.12"
      ],
      "text/plain": [
       "<IPython.core.display.HTML object>"
      ]
     },
     "metadata": {},
     "output_type": "display_data"
    },
    {
     "data": {
      "text/html": [
       "Run data is saved locally in <code>/Users/yuxi/workspace/nnn_paper/wandb/run-20231202_135603-lru8kx01</code>"
      ],
      "text/plain": [
       "<IPython.core.display.HTML object>"
      ]
     },
     "metadata": {},
     "output_type": "display_data"
    },
    {
     "data": {
      "text/html": [
       "Syncing run <strong><a href='https://wandb.ai/keyuxi/NN/runs/lru8kx01' target=\"_blank\">smooth-cloud-115</a></strong> to <a href='https://wandb.ai/keyuxi/NN' target=\"_blank\">Weights & Biases</a> (<a href='https://wandb.me/run' target=\"_blank\">docs</a>)<br/>"
      ],
      "text/plain": [
       "<IPython.core.display.HTML object>"
      ]
     },
     "metadata": {},
     "output_type": "display_data"
    },
    {
     "data": {
      "text/html": [
       " View project at <a href='https://wandb.ai/keyuxi/NN' target=\"_blank\">https://wandb.ai/keyuxi/NN</a>"
      ],
      "text/plain": [
       "<IPython.core.display.HTML object>"
      ]
     },
     "metadata": {},
     "output_type": "display_data"
    },
    {
     "data": {
      "text/html": [
       " View run at <a href='https://wandb.ai/keyuxi/NN/runs/lru8kx01' target=\"_blank\">https://wandb.ai/keyuxi/NN/runs/lru8kx01</a>"
      ],
      "text/plain": [
       "<IPython.core.display.HTML object>"
      ]
     },
     "metadata": {},
     "output_type": "display_data"
    },
    {
     "name": "stdout",
     "output_type": "stream",
     "text": [
      "feats (27732, 178) Index(['bulge_size#1', 'bulge_size#2', 'hairpin_loop_mid#A'], dtype='object')\n",
      "fixed_feature_names: ['bulge_size#1', 'bulge_size#2', 'hairpin_size#3', 'hairpin_size#4', 'hairpin_size#11', 'hairpin_size#14', 'hairpin_size#17', 'hairpin_size#20', 'interior_size#2', 'interior_size#4', 'stack#AATT', 'stack#ACGT', 'stack#AGCT', 'stack#ATAT', 'stack#CATG', 'stack#CCGG', 'stack#CGCG', 'stack#CTAG', 'stack#GATC', 'stack#GCGC', 'stack#GGCC', 'stack#GTAC', 'stack#TATA', 'stack#TCGA', 'stack#TGCA', 'stack#TTAA']\n",
      "                           dH\n",
      "bulge_size#1              0.0\n",
      "bulge_size#2              0.0\n",
      "bulge_size#3              0.0\n",
      "bulge_size#4              0.0\n",
      "bulge_size#5              0.0\n",
      "...                       ...\n",
      "hairpin_tetraloop#CCTTGG  0.0\n",
      "hairpin_tetraloop#GCTTGC  0.0\n",
      "hairpin_tetraloop#GCTTGT  0.0\n",
      "hairpin_tetraloop#TCTTGA  0.0\n",
      "hairpin_tetraloop#TCTTGG  0.0\n",
      "\n",
      "[352 rows x 1 columns]\n",
      "['bulge_size#1', 'bulge_size#2', 'hairpin_size#11', 'hairpin_size#14', 'hairpin_size#17', 'hairpin_size#20', 'hairpin_size#3', 'hairpin_size#4', 'interior_size#2', 'interior_size#4', 'stack#AATT', 'stack#ACGT', 'stack#AGCT', 'stack#ATAT', 'stack#CATG', 'stack#CCGG', 'stack#CGCG', 'stack#CTAG', 'stack#GATC', 'stack#GCGC', 'stack#GGCC', 'stack#GTAC', 'stack#TATA', 'stack#TCGA', 'stack#TGCA', 'stack#TTAA']\n",
      "                           dG\n",
      "bulge_size#1              4.0\n",
      "bulge_size#2              2.9\n",
      "bulge_size#3              3.1\n",
      "bulge_size#4              3.2\n",
      "bulge_size#5              3.3\n",
      "...                       ...\n",
      "hairpin_tetraloop#CCTTGG -0.8\n",
      "hairpin_tetraloop#GCTTGC -0.8\n",
      "hairpin_tetraloop#GCTTGT -0.5\n",
      "hairpin_tetraloop#TCTTGA -0.8\n",
      "hairpin_tetraloop#TCTTGG -0.5\n",
      "\n",
      "[352 rows x 1 columns]\n",
      "['bulge_size#1', 'bulge_size#2', 'hairpin_size#11', 'hairpin_size#14', 'hairpin_size#17', 'hairpin_size#20', 'hairpin_size#3', 'hairpin_size#4', 'interior_size#2', 'interior_size#4', 'stack#AATT', 'stack#ACGT', 'stack#AGCT', 'stack#ATAT', 'stack#CATG', 'stack#CCGG', 'stack#CGCG', 'stack#CTAG', 'stack#GATC', 'stack#GCGC', 'stack#GGCC', 'stack#GTAC', 'stack#TATA', 'stack#TCGA', 'stack#TGCA', 'stack#TTAA']\n",
      "Centering new parameters...\n",
      "group bulge_size\n",
      "group hairpin_mismatch\n",
      "\tMean value of old_dict is -3.684\n",
      "\tMean value of fitted new_dict is -11.518\n",
      "\tMean value of centered new_dict is -3.684\n",
      "\n",
      "group hairpin_size\n",
      "group interior_mismatch\n",
      "\tMean value of old_dict is -2.913\n",
      "\tMean value of fitted new_dict is -5.289\n",
      "\tMean value of centered new_dict is -2.913\n",
      "\n",
      "group interior_size\n",
      "group stack\n",
      "\tMean value of old_dict is -8.275\n",
      "\tMean value of fitted new_dict is -8.275\n",
      "\tMean value of centered new_dict is -8.275\n",
      "\n",
      "group terminal_penalty\n",
      "\tMean value of old_dict is 1.100\n",
      "\tMean value of fitted new_dict is -0.825\n",
      "\tMean value of centered new_dict is 1.100\n",
      "\n",
      "Centering new parameters...\n",
      "group bulge_size\n",
      "group hairpin_mismatch\n",
      "\tMean value of old_dict is -0.715\n",
      "\tMean value of fitted new_dict is -4.157\n",
      "\tMean value of centered new_dict is -0.715\n",
      "\n",
      "group hairpin_size\n",
      "group interior_mismatch\n",
      "\tMean value of old_dict is -0.640\n",
      "\tMean value of fitted new_dict is -0.708\n",
      "\tMean value of centered new_dict is -0.640\n",
      "\n",
      "group interior_size\n",
      "group stack\n",
      "\tMean value of old_dict is -1.406\n",
      "\tMean value of fitted new_dict is -1.406\n",
      "\tMean value of centered new_dict is -1.406\n",
      "\n",
      "group terminal_penalty\n",
      "\tMean value of old_dict is 0.025\n",
      "\tMean value of fitted new_dict is 0.176\n",
      "\tMean value of centered new_dict is 0.025\n",
      "\n"
     ]
    },
    {
     "data": {
      "text/html": [
       "Waiting for W&B process to finish... <strong style=\"color:green\">(success).</strong>"
      ],
      "text/plain": [
       "<IPython.core.display.HTML object>"
      ]
     },
     "metadata": {},
     "output_type": "display_data"
    },
    {
     "data": {
      "text/html": [
       "<style>\n",
       "    table.wandb td:nth-child(1) { padding: 0 10px; text-align: left ; width: auto;} td:nth-child(2) {text-align: left ; width: 100%}\n",
       "    .wandb-row { display: flex; flex-direction: row; flex-wrap: wrap; justify-content: flex-start; width: 100% }\n",
       "    .wandb-col { display: flex; flex-direction: column; flex-basis: 100%; flex: 1; padding: 10px; }\n",
       "    </style>\n",
       "<div class=\"wandb-row\"><div class=\"wandb-col\"><h3>Run history:</h3><br/><table class=\"wandb\"><tr><td>n_feat</td><td>▁</td></tr><tr><td>n_fixed_feat</td><td>▁</td></tr><tr><td>train_dG_mae</td><td>▁</td></tr><tr><td>train_dG_rsqr</td><td>▁</td></tr><tr><td>train_dH_mae</td><td>▁</td></tr><tr><td>train_dH_rsqr</td><td>▁</td></tr><tr><td>val_Tm_adjusted_mae-all</td><td>▁</td></tr><tr><td>val_Tm_adjusted_mae-arr</td><td>▁</td></tr><tr><td>val_Tm_adjusted_mae-lit_uv</td><td>▁</td></tr><tr><td>val_Tm_adjusted_mae-ov</td><td>▁</td></tr><tr><td>val_Tm_adjusted_rmse-all</td><td>▁</td></tr><tr><td>val_Tm_adjusted_rmse-arr</td><td>▁</td></tr><tr><td>val_Tm_adjusted_rmse-lit_uv</td><td>▁</td></tr><tr><td>val_Tm_adjusted_rmse-ov</td><td>▁</td></tr><tr><td>val_Tm_bias-all</td><td>▁</td></tr><tr><td>val_Tm_bias-arr</td><td>▁</td></tr><tr><td>val_Tm_bias-lit_uv</td><td>▁</td></tr><tr><td>val_Tm_bias-ov</td><td>▁</td></tr><tr><td>val_Tm_corr-all</td><td>▁</td></tr><tr><td>val_Tm_corr-arr</td><td>▁</td></tr><tr><td>val_Tm_corr-lit_uv</td><td>▁</td></tr><tr><td>val_Tm_corr-ov</td><td>▁</td></tr><tr><td>val_Tm_mae-all</td><td>▁</td></tr><tr><td>val_Tm_mae-arr</td><td>▁</td></tr><tr><td>val_Tm_mae-lit_uv</td><td>▁</td></tr><tr><td>val_Tm_mae-ov</td><td>▁</td></tr><tr><td>val_Tm_rmse-all</td><td>▁</td></tr><tr><td>val_Tm_rmse-arr</td><td>▁</td></tr><tr><td>val_Tm_rmse-lit_uv</td><td>▁</td></tr><tr><td>val_Tm_rmse-ov</td><td>▁</td></tr><tr><td>val_dG_adjusted_mae-arr</td><td>▁</td></tr><tr><td>val_dG_adjusted_rmse-arr</td><td>▁</td></tr><tr><td>val_dG_bias-arr</td><td>▁</td></tr><tr><td>val_dG_corr-arr</td><td>▁</td></tr><tr><td>val_dG_mae-arr</td><td>▁</td></tr><tr><td>val_dG_rmse-arr</td><td>▁</td></tr><tr><td>val_dH_adjusted_mae-arr</td><td>▁</td></tr><tr><td>val_dH_adjusted_rmse-arr</td><td>▁</td></tr><tr><td>val_dH_bias-arr</td><td>▁</td></tr><tr><td>val_dH_corr-arr</td><td>▁</td></tr><tr><td>val_dH_mae-arr</td><td>▁</td></tr><tr><td>val_dH_rmse-arr</td><td>▁</td></tr></table><br/></div><div class=\"wandb-col\"><h3>Run summary:</h3><br/><table class=\"wandb\"><tr><td>n_feat</td><td>178</td></tr><tr><td>n_fixed_feat</td><td>26</td></tr><tr><td>param_set_file</td><td>./models/smooth-clou...</td></tr><tr><td>train_dG_mae</td><td>0.61903</td></tr><tr><td>train_dG_rsqr</td><td>0.61976</td></tr><tr><td>train_dH_mae</td><td>6.32634</td></tr><tr><td>train_dH_rsqr</td><td>0.42596</td></tr><tr><td>val_Tm_adjusted_mae-all</td><td>46.31002</td></tr><tr><td>val_Tm_adjusted_mae-arr</td><td>63.07217</td></tr><tr><td>val_Tm_adjusted_mae-lit_uv</td><td>2.11705</td></tr><tr><td>val_Tm_adjusted_mae-ov</td><td>1.79312</td></tr><tr><td>val_Tm_adjusted_rmse-all</td><td>77.57277</td></tr><tr><td>val_Tm_adjusted_rmse-arr</td><td>103.67653</td></tr><tr><td>val_Tm_adjusted_rmse-lit_uv</td><td>2.61598</td></tr><tr><td>val_Tm_adjusted_rmse-ov</td><td>2.31434</td></tr><tr><td>val_Tm_bias-all</td><td>-27.60997</td></tr><tr><td>val_Tm_bias-arr</td><td>-71.11577</td></tr><tr><td>val_Tm_bias-lit_uv</td><td>6.92076</td></tr><tr><td>val_Tm_bias-ov</td><td>4.67132</td></tr><tr><td>val_Tm_corr-all</td><td>0.38068</td></tr><tr><td>val_Tm_corr-arr</td><td>0.34975</td></tr><tr><td>val_Tm_corr-lit_uv</td><td>0.98194</td></tr><tr><td>val_Tm_corr-ov</td><td>0.85575</td></tr><tr><td>val_Tm_mae-all</td><td>40.25737</td></tr><tr><td>val_Tm_mae-arr</td><td>87.45695</td></tr><tr><td>val_Tm_mae-lit_uv</td><td>6.92076</td></tr><tr><td>val_Tm_mae-ov</td><td>4.71807</td></tr><tr><td>val_Tm_rmse-all</td><td>82.33981</td></tr><tr><td>val_Tm_rmse-arr</td><td>125.72301</td></tr><tr><td>val_Tm_rmse-lit_uv</td><td>7.39867</td></tr><tr><td>val_Tm_rmse-ov</td><td>5.21319</td></tr><tr><td>val_dG_adjusted_mae-arr</td><td>0.56393</td></tr><tr><td>val_dG_adjusted_rmse-arr</td><td>0.75065</td></tr><tr><td>val_dG_bias-arr</td><td>2.88816</td></tr><tr><td>val_dG_corr-arr</td><td>0.80779</td></tr><tr><td>val_dG_mae-arr</td><td>2.88864</td></tr><tr><td>val_dG_rmse-arr</td><td>2.98412</td></tr><tr><td>val_dH_adjusted_mae-arr</td><td>6.27711</td></tr><tr><td>val_dH_adjusted_rmse-arr</td><td>7.99594</td></tr><tr><td>val_dH_bias-arr</td><td>17.08792</td></tr><tr><td>val_dH_corr-arr</td><td>0.71185</td></tr><tr><td>val_dH_mae-arr</td><td>17.13718</td></tr><tr><td>val_dH_rmse-arr</td><td>18.86617</td></tr></table><br/></div></div>"
      ],
      "text/plain": [
       "<IPython.core.display.HTML object>"
      ]
     },
     "metadata": {},
     "output_type": "display_data"
    },
    {
     "data": {
      "text/html": [
       " View run <strong style=\"color:#cdcd00\">smooth-cloud-115</strong> at: <a href='https://wandb.ai/keyuxi/NN/runs/lru8kx01' target=\"_blank\">https://wandb.ai/keyuxi/NN/runs/lru8kx01</a><br/> View job at <a href='https://wandb.ai/keyuxi/NN/jobs/QXJ0aWZhY3RDb2xsZWN0aW9uOjExMTcyMjg1NQ==/version_details/v5' target=\"_blank\">https://wandb.ai/keyuxi/NN/jobs/QXJ0aWZhY3RDb2xsZWN0aW9uOjExMTcyMjg1NQ==/version_details/v5</a><br/>Synced 6 W&B file(s), 0 media file(s), 0 artifact file(s) and 0 other file(s)"
      ],
      "text/plain": [
       "<IPython.core.display.HTML object>"
      ]
     },
     "metadata": {},
     "output_type": "display_data"
    },
    {
     "data": {
      "text/html": [
       "Find logs at: <code>./wandb/run-20231202_135603-lru8kx01/logs</code>"
      ],
      "text/plain": [
       "<IPython.core.display.HTML object>"
      ]
     },
     "metadata": {},
     "output_type": "display_data"
    },
    {
     "data": {
      "text/html": [
       "wandb version 0.16.0 is available!  To upgrade, please run:\n",
       " $ pip install wandb --upgrade"
      ],
      "text/plain": [
       "<IPython.core.display.HTML object>"
      ]
     },
     "metadata": {},
     "output_type": "display_data"
    },
    {
     "data": {
      "text/html": [
       "Tracking run with wandb version 0.15.12"
      ],
      "text/plain": [
       "<IPython.core.display.HTML object>"
      ]
     },
     "metadata": {},
     "output_type": "display_data"
    },
    {
     "data": {
      "text/html": [
       "Run data is saved locally in <code>/Users/yuxi/workspace/nnn_paper/wandb/run-20231202_140446-gt93mvx9</code>"
      ],
      "text/plain": [
       "<IPython.core.display.HTML object>"
      ]
     },
     "metadata": {},
     "output_type": "display_data"
    },
    {
     "data": {
      "text/html": [
       "Syncing run <strong><a href='https://wandb.ai/keyuxi/NN/runs/gt93mvx9' target=\"_blank\">swift-lake-118</a></strong> to <a href='https://wandb.ai/keyuxi/NN' target=\"_blank\">Weights & Biases</a> (<a href='https://wandb.me/run' target=\"_blank\">docs</a>)<br/>"
      ],
      "text/plain": [
       "<IPython.core.display.HTML object>"
      ]
     },
     "metadata": {},
     "output_type": "display_data"
    },
    {
     "data": {
      "text/html": [
       " View project at <a href='https://wandb.ai/keyuxi/NN' target=\"_blank\">https://wandb.ai/keyuxi/NN</a>"
      ],
      "text/plain": [
       "<IPython.core.display.HTML object>"
      ]
     },
     "metadata": {},
     "output_type": "display_data"
    },
    {
     "data": {
      "text/html": [
       " View run at <a href='https://wandb.ai/keyuxi/NN/runs/gt93mvx9' target=\"_blank\">https://wandb.ai/keyuxi/NN/runs/gt93mvx9</a>"
      ],
      "text/plain": [
       "<IPython.core.display.HTML object>"
      ]
     },
     "metadata": {},
     "output_type": "display_data"
    },
    {
     "name": "stdout",
     "output_type": "stream",
     "text": [
      "feats (27732, 178) Index(['bulge_size#1', 'bulge_size#2', 'hairpin_loop_mid#A'], dtype='object')\n",
      "fixed_feature_names: ['bulge_size#1', 'bulge_size#2', 'hairpin_size#3', 'hairpin_size#4', 'hairpin_size#11', 'hairpin_size#14', 'hairpin_size#17', 'hairpin_size#20', 'interior_size#2', 'interior_size#4', 'stack#AATT', 'stack#ACGT', 'stack#AGCT', 'stack#ATAT', 'stack#CATG', 'stack#CCGG', 'stack#CGCG', 'stack#CTAG', 'stack#GATC', 'stack#GCGC', 'stack#GGCC', 'stack#GTAC', 'stack#TATA', 'stack#TCGA', 'stack#TGCA', 'stack#TTAA']\n",
      "                           dH\n",
      "bulge_size#1              0.0\n",
      "bulge_size#2              0.0\n",
      "bulge_size#3              0.0\n",
      "bulge_size#4              0.0\n",
      "bulge_size#5              0.0\n",
      "...                       ...\n",
      "hairpin_tetraloop#CCTTGG  0.0\n",
      "hairpin_tetraloop#GCTTGC  0.0\n",
      "hairpin_tetraloop#GCTTGT  0.0\n",
      "hairpin_tetraloop#TCTTGA  0.0\n",
      "hairpin_tetraloop#TCTTGG  0.0\n",
      "\n",
      "[352 rows x 1 columns]\n",
      "['bulge_size#1', 'bulge_size#2', 'hairpin_size#11', 'hairpin_size#14', 'hairpin_size#17', 'hairpin_size#20', 'hairpin_size#3', 'hairpin_size#4', 'interior_size#2', 'interior_size#4', 'stack#AATT', 'stack#ACGT', 'stack#AGCT', 'stack#ATAT', 'stack#CATG', 'stack#CCGG', 'stack#CGCG', 'stack#CTAG', 'stack#GATC', 'stack#GCGC', 'stack#GGCC', 'stack#GTAC', 'stack#TATA', 'stack#TCGA', 'stack#TGCA', 'stack#TTAA']\n",
      "                           dG\n",
      "bulge_size#1              4.0\n",
      "bulge_size#2              2.9\n",
      "bulge_size#3              3.1\n",
      "bulge_size#4              3.2\n",
      "bulge_size#5              3.3\n",
      "...                       ...\n",
      "hairpin_tetraloop#CCTTGG -0.8\n",
      "hairpin_tetraloop#GCTTGC -0.8\n",
      "hairpin_tetraloop#GCTTGT -0.5\n",
      "hairpin_tetraloop#TCTTGA -0.8\n",
      "hairpin_tetraloop#TCTTGG -0.5\n",
      "\n",
      "[352 rows x 1 columns]\n",
      "['bulge_size#1', 'bulge_size#2', 'hairpin_size#11', 'hairpin_size#14', 'hairpin_size#17', 'hairpin_size#20', 'hairpin_size#3', 'hairpin_size#4', 'interior_size#2', 'interior_size#4', 'stack#AATT', 'stack#ACGT', 'stack#AGCT', 'stack#ATAT', 'stack#CATG', 'stack#CCGG', 'stack#CGCG', 'stack#CTAG', 'stack#GATC', 'stack#GCGC', 'stack#GGCC', 'stack#GTAC', 'stack#TATA', 'stack#TCGA', 'stack#TGCA', 'stack#TTAA']\n",
      "Centering new parameters...\n",
      "group bulge_size\n",
      "group hairpin_mismatch\n",
      "\tMean value of old_dict is -3.684\n",
      "\tMean value of fitted new_dict is -12.986\n",
      "\tMean value of centered new_dict is -3.684\n",
      "\n",
      "group hairpin_size\n",
      "group interior_mismatch\n",
      "\tMean value of old_dict is -2.913\n",
      "\tMean value of fitted new_dict is -5.266\n",
      "\tMean value of centered new_dict is -2.913\n",
      "\n",
      "group interior_size\n",
      "group stack\n",
      "\tMean value of old_dict is -8.275\n",
      "\tMean value of fitted new_dict is -8.275\n",
      "\tMean value of centered new_dict is -8.275\n",
      "\n",
      "group terminal_penalty\n",
      "\tMean value of old_dict is 1.100\n",
      "\tMean value of fitted new_dict is -0.687\n",
      "\tMean value of centered new_dict is 1.100\n",
      "\n",
      "Centering new parameters...\n",
      "group bulge_size\n",
      "group hairpin_mismatch\n",
      "\tMean value of old_dict is -0.715\n",
      "\tMean value of fitted new_dict is -4.034\n",
      "\tMean value of centered new_dict is -0.715\n",
      "\n",
      "group hairpin_size\n",
      "group interior_mismatch\n",
      "\tMean value of old_dict is -0.640\n",
      "\tMean value of fitted new_dict is -0.724\n",
      "\tMean value of centered new_dict is -0.640\n",
      "\n",
      "group interior_size\n",
      "group stack\n",
      "\tMean value of old_dict is -1.406\n",
      "\tMean value of fitted new_dict is -1.406\n",
      "\tMean value of centered new_dict is -1.406\n",
      "\n",
      "group terminal_penalty\n",
      "\tMean value of old_dict is 0.025\n",
      "\tMean value of fitted new_dict is 0.170\n",
      "\tMean value of centered new_dict is 0.025\n",
      "\n"
     ]
    },
    {
     "data": {
      "text/html": [
       "Waiting for W&B process to finish... <strong style=\"color:green\">(success).</strong>"
      ],
      "text/plain": [
       "<IPython.core.display.HTML object>"
      ]
     },
     "metadata": {},
     "output_type": "display_data"
    },
    {
     "data": {
      "text/html": [
       "<style>\n",
       "    table.wandb td:nth-child(1) { padding: 0 10px; text-align: left ; width: auto;} td:nth-child(2) {text-align: left ; width: 100%}\n",
       "    .wandb-row { display: flex; flex-direction: row; flex-wrap: wrap; justify-content: flex-start; width: 100% }\n",
       "    .wandb-col { display: flex; flex-direction: column; flex-basis: 100%; flex: 1; padding: 10px; }\n",
       "    </style>\n",
       "<div class=\"wandb-row\"><div class=\"wandb-col\"><h3>Run history:</h3><br/><table class=\"wandb\"><tr><td>n_feat</td><td>▁</td></tr><tr><td>n_fixed_feat</td><td>▁</td></tr><tr><td>train_dG_mae</td><td>▁</td></tr><tr><td>train_dG_rsqr</td><td>▁</td></tr><tr><td>train_dH_mae</td><td>▁</td></tr><tr><td>train_dH_rsqr</td><td>▁</td></tr><tr><td>val_Tm_adjusted_mae-all</td><td>▁</td></tr><tr><td>val_Tm_adjusted_mae-arr</td><td>▁</td></tr><tr><td>val_Tm_adjusted_mae-lit_uv</td><td>▁</td></tr><tr><td>val_Tm_adjusted_mae-ov</td><td>▁</td></tr><tr><td>val_Tm_adjusted_rmse-all</td><td>▁</td></tr><tr><td>val_Tm_adjusted_rmse-arr</td><td>▁</td></tr><tr><td>val_Tm_adjusted_rmse-lit_uv</td><td>▁</td></tr><tr><td>val_Tm_adjusted_rmse-ov</td><td>▁</td></tr><tr><td>val_Tm_bias-all</td><td>▁</td></tr><tr><td>val_Tm_bias-arr</td><td>▁</td></tr><tr><td>val_Tm_bias-lit_uv</td><td>▁</td></tr><tr><td>val_Tm_bias-ov</td><td>▁</td></tr><tr><td>val_Tm_corr-all</td><td>▁</td></tr><tr><td>val_Tm_corr-arr</td><td>▁</td></tr><tr><td>val_Tm_corr-lit_uv</td><td>▁</td></tr><tr><td>val_Tm_corr-ov</td><td>▁</td></tr><tr><td>val_Tm_mae-all</td><td>▁</td></tr><tr><td>val_Tm_mae-arr</td><td>▁</td></tr><tr><td>val_Tm_mae-lit_uv</td><td>▁</td></tr><tr><td>val_Tm_mae-ov</td><td>▁</td></tr><tr><td>val_Tm_rmse-all</td><td>▁</td></tr><tr><td>val_Tm_rmse-arr</td><td>▁</td></tr><tr><td>val_Tm_rmse-lit_uv</td><td>▁</td></tr><tr><td>val_Tm_rmse-ov</td><td>▁</td></tr><tr><td>val_dG_adjusted_mae-arr</td><td>▁</td></tr><tr><td>val_dG_adjusted_rmse-arr</td><td>▁</td></tr><tr><td>val_dG_bias-arr</td><td>▁</td></tr><tr><td>val_dG_corr-arr</td><td>▁</td></tr><tr><td>val_dG_mae-arr</td><td>▁</td></tr><tr><td>val_dG_rmse-arr</td><td>▁</td></tr><tr><td>val_dH_adjusted_mae-arr</td><td>▁</td></tr><tr><td>val_dH_adjusted_rmse-arr</td><td>▁</td></tr><tr><td>val_dH_bias-arr</td><td>▁</td></tr><tr><td>val_dH_corr-arr</td><td>▁</td></tr><tr><td>val_dH_mae-arr</td><td>▁</td></tr><tr><td>val_dH_rmse-arr</td><td>▁</td></tr></table><br/></div><div class=\"wandb-col\"><h3>Run summary:</h3><br/><table class=\"wandb\"><tr><td>n_feat</td><td>178</td></tr><tr><td>n_fixed_feat</td><td>26</td></tr><tr><td>param_set_file</td><td>./models/swift-lake-...</td></tr><tr><td>train_dG_mae</td><td>0.62251</td></tr><tr><td>train_dG_rsqr</td><td>0.61267</td></tr><tr><td>train_dH_mae</td><td>6.36952</td></tr><tr><td>train_dH_rsqr</td><td>0.42186</td></tr><tr><td>val_Tm_adjusted_mae-all</td><td>41.73711</td></tr><tr><td>val_Tm_adjusted_mae-arr</td><td>60.36296</td></tr><tr><td>val_Tm_adjusted_mae-lit_uv</td><td>2.11421</td></tr><tr><td>val_Tm_adjusted_mae-ov</td><td>1.76578</td></tr><tr><td>val_Tm_adjusted_rmse-all</td><td>72.18559</td></tr><tr><td>val_Tm_adjusted_rmse-arr</td><td>104.05513</td></tr><tr><td>val_Tm_adjusted_rmse-lit_uv</td><td>2.61512</td></tr><tr><td>val_Tm_adjusted_rmse-ov</td><td>2.29492</td></tr><tr><td>val_Tm_bias-all</td><td>-16.83271</td></tr><tr><td>val_Tm_bias-arr</td><td>-46.75773</td></tr><tr><td>val_Tm_bias-lit_uv</td><td>6.91914</td></tr><tr><td>val_Tm_bias-ov</td><td>4.66014</td></tr><tr><td>val_Tm_corr-all</td><td>0.33816</td></tr><tr><td>val_Tm_corr-arr</td><td>0.30792</td></tr><tr><td>val_Tm_corr-lit_uv</td><td>0.98196</td></tr><tr><td>val_Tm_corr-ov</td><td>0.85889</td></tr><tr><td>val_Tm_mae-all</td><td>37.22837</td></tr><tr><td>val_Tm_mae-arr</td><td>81.64919</td></tr><tr><td>val_Tm_mae-lit_uv</td><td>6.91914</td></tr><tr><td>val_Tm_mae-ov</td><td>4.704</td></tr><tr><td>val_Tm_rmse-all</td><td>74.12219</td></tr><tr><td>val_Tm_rmse-arr</td><td>114.07785</td></tr><tr><td>val_Tm_rmse-lit_uv</td><td>7.39685</td></tr><tr><td>val_Tm_rmse-ov</td><td>5.19457</td></tr><tr><td>val_dG_adjusted_mae-arr</td><td>0.56022</td></tr><tr><td>val_dG_adjusted_rmse-arr</td><td>0.7493</td></tr><tr><td>val_dG_bias-arr</td><td>2.76177</td></tr><tr><td>val_dG_corr-arr</td><td>0.809</td></tr><tr><td>val_dG_mae-arr</td><td>2.76234</td></tr><tr><td>val_dG_rmse-arr</td><td>2.86161</td></tr><tr><td>val_dH_adjusted_mae-arr</td><td>6.27013</td></tr><tr><td>val_dH_adjusted_rmse-arr</td><td>7.97789</td></tr><tr><td>val_dH_bias-arr</td><td>18.42177</td></tr><tr><td>val_dH_corr-arr</td><td>0.7107</td></tr><tr><td>val_dH_mae-arr</td><td>18.44259</td></tr><tr><td>val_dH_rmse-arr</td><td>20.07507</td></tr></table><br/></div></div>"
      ],
      "text/plain": [
       "<IPython.core.display.HTML object>"
      ]
     },
     "metadata": {},
     "output_type": "display_data"
    },
    {
     "data": {
      "text/html": [
       " View run <strong style=\"color:#cdcd00\">swift-lake-118</strong> at: <a href='https://wandb.ai/keyuxi/NN/runs/gt93mvx9' target=\"_blank\">https://wandb.ai/keyuxi/NN/runs/gt93mvx9</a><br/> View job at <a href='https://wandb.ai/keyuxi/NN/jobs/QXJ0aWZhY3RDb2xsZWN0aW9uOjExMTcyMjg1NQ==/version_details/v5' target=\"_blank\">https://wandb.ai/keyuxi/NN/jobs/QXJ0aWZhY3RDb2xsZWN0aW9uOjExMTcyMjg1NQ==/version_details/v5</a><br/>Synced 6 W&B file(s), 0 media file(s), 0 artifact file(s) and 0 other file(s)"
      ],
      "text/plain": [
       "<IPython.core.display.HTML object>"
      ]
     },
     "metadata": {},
     "output_type": "display_data"
    },
    {
     "data": {
      "text/html": [
       "Find logs at: <code>./wandb/run-20231202_140446-gt93mvx9/logs</code>"
      ],
      "text/plain": [
       "<IPython.core.display.HTML object>"
      ]
     },
     "metadata": {},
     "output_type": "display_data"
    },
    {
     "data": {
      "image/png": "[encoded data removed]",
      "text/plain": [
       "<Figure size 800x400 with 2 Axes>"
      ]
     },
     "metadata": {},
     "output_type": "display_data"
    },
    {
     "data": {
      "image/png": "[encoded data removed]",
      "text/plain": [
       "<Figure size 800x400 with 2 Axes>"
      ]
     },
     "metadata": {},
     "output_type": "display_data"
    },
    {
     "data": {
      "image/png": "[encoded data removed]",
      "text/plain": [
       "<Figure size 800x400 with 2 Axes>"
      ]
     },
     "metadata": {},
     "output_type": "display_data"
    },
    {
     "data": {
      "image/png": "[encoded data removed]",
      "text/plain": [
       "<Figure size 800x400 with 2 Axes>"
      ]
     },
     "metadata": {},
     "output_type": "display_data"
    },
    {
     "data": {
      "image/png": "[encoded data removed]",
      "text/plain": [
       "<Figure size 800x400 with 2 Axes>"
      ]
     },
     "metadata": {},
     "output_type": "display_data"
    },
    {
     "data": {
      "image/png": "[encoded data removed]",
      "text/plain": [
       "<Figure size 800x400 with 2 Axes>"
      ]
     },
     "metadata": {},
     "output_type": "display_data"
    },
    {
     "data": {
      "image/png": "[encoded data removed]",
      "text/plain": [
       "<Figure size 800x400 with 2 Axes>"
      ]
     },
     "metadata": {},
     "output_type": "display_data"
    },
    {
     "data": {
      "image/png": "[encoded data removed]",
      "text/plain": [
       "<Figure size 800x400 with 2 Axes>"
      ]
     },
     "metadata": {},
     "output_type": "display_data"
    },
    {
     "data": {
      "image/png": "[encoded data removed]",
      "text/plain": [
       "<Figure size 800x400 with 2 Axes>"
      ]
     },
     "metadata": {},
     "output_type": "display_data"
    },
    {
     "data": {
      "image/png": "[encoded data removed]",
      "text/plain": [
       "<Figure size 800x400 with 2 Axes>"
      ]
     },
     "metadata": {},
     "output_type": "display_data"
    }
   ],
   "source": [
    "for ratio in myrange:\n",
    "    config.update(dict(use_train_set_ratio=ratio))\n",
    "    tnn.model_pipeline(config)"
   ]
  },
  {
   "cell_type": "markdown",
   "metadata": {},
   "source": [
    "## Run model test only"
   ]
  },
  {
   "cell_type": "code",
   "execution_count": 2,
   "metadata": {},
   "outputs": [],
   "source": [
    "config = dict(\n",
    "    use_model_from='json',\n",
    "    test_mode='val',\n",
    ")\n",
    "val_result_df = tnn.test(\n",
    "    config,\n",
    "    json_file='./models/dna-nnn-swift-lake-118-adj.json',\n",
    "    debug=False,\n",
    "    log_wandb=False,\n",
    "    save_val_result_df=True\n",
    ")"
   ]
  },
  {
   "cell_type": "code",
   "execution_count": 3,
   "metadata": {},
   "outputs": [],
   "source": [
    "val_result_df.to_csv('./models/swift-lake-118-ddX_val_result_df.csv')"
   ]
  },
  {
   "cell_type": "code",
   "execution_count": null,
   "metadata": {},
   "outputs": [],
   "source": []
  }
 ],
 "metadata": {
  "kernelspec": {
   "display_name": "Python 3 (ipykernel)",
   "language": "python",
   "name": "python3"
  },
  "language_info": {
   "codemirror_mode": {
    "name": "ipython",
    "version": 3
   },
   "file_extension": ".py",
   "mimetype": "text/x-python",
   "name": "python",
   "nbconvert_exporter": "python",
   "pygments_lexer": "ipython3",
   "version": "3.8.18"
  }
 },
 "nbformat": 4,
 "nbformat_minor": 4
}
